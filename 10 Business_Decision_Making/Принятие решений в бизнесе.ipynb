{
 "cells": [
  {
   "cell_type": "markdown",
   "metadata": {},
   "source": [
    "  <div class=\"alert alert-info\">\n",
    "  Привет, Владимир! Меня зовут Светлана Чих и я буду проверять твой проект. Моя основная цель — не указать на совершенные тобою ошибки, а поделиться своим опытом и помочь тебе. Предлагаю общаться на «ты». Но если это не удобно - дай знать, и мы перейдем на «вы».\n",
    "\n",
    "  <div class=\"alert alert-success\">\n",
    "  <b>👍 Успех:</b> Зелёным цветом отмечены удачные и элегантные решения, на которые можно опираться в будущих проектах.\n",
    "  </div>\n",
    "  <div class=\"alert alert-warning\">\n",
    "  <b>🤔 Рекомендация:</b> Жёлтым цветом выделено то, что в следующий раз можно сделать по-другому. Ты можешь учесть эти комментарии при выполнении будущих заданий или доработать проект сейчас (однако это не обязательно).\n",
    "  </div>\n",
    "  <div class=\"alert alert-danger\">\n",
    "  <b>😔 Необходимо исправить:</b> Красным цветом выделены комментарии, без исправления которых, я не смогу принять проект :(\n",
    "  </div>\n",
    "  <div class=\"alert alert-info\">\n",
    "  <b>👂 Совет:</b> Какие-то дополнительные материалы\n",
    "  </div>\n",
    "  Давай работать над проектом в диалоге: если ты что-то меняешь в проекте по моим рекомендациям — пиши об этом.\n",
    "  Мне будет легче отследить изменения, если ты выделишь свои комментарии:\n",
    "  <div class=\"alert alert-info\"> <b>🎓 Комментарий студента:</b> Например, вот так.</div>\n",
    "  Пожалуйста, не перемещай, не изменяй и не удаляй мои комментарии. Всё это поможет выполнить повторную проверку твоего проекта быстрее.\n",
    "   </div>"
   ]
  },
  {
   "cell_type": "markdown",
   "metadata": {},
   "source": [
    "# Задачи исследования"
   ]
  },
  {
   "cell_type": "markdown",
   "metadata": {},
   "source": [
    "## Часть 1. Приоритезация гипотез\n",
    "\n",
    "В файле hypothesis.csv 9 гипотез по увеличению выручки интернет-магазина с указанными параметрами Reach, Impact, Confidence, Effort.\n",
    "\n",
    "### Задача\n",
    "\n",
    "- Примените фреймворк ICE для приоритизации гипотез. Отсортируйте их по убыванию приоритета\n",
    "- Примените фреймворк RICE для приоритизации гипотез. Отсортируйте их по убыванию приоритета\n",
    "- Укажите, как изменилась приоритизация гипотез при применении RICE вместо ICE. Объясните, почему так произошло\n",
    "\n",
    "\n",
    "## Часть 2. Анализ A/B-теста\n",
    "\n",
    "Вы провели A/B-тест и получили результаты, которые описаны в файлах orders.csv и visitors.csv.\n",
    "\n",
    "### Проанализируйте A/B-тест:\n",
    "\n",
    "1. Постройте график кумулятивной выручки по группам. Сделайте выводы и предположения\n",
    "2. Постройте график кумулятивного среднего чека по группам. Сделайте выводы и предположения\n",
    "3. Постройте график относительного изменения кумулятивного среднего чека группы B к группе A. Сделайте выводы и предположения\n",
    "4. Постройте график кумулятивной конверсии по группам. Сделайте выводы и предположения\n",
    "5. Постройте график относительного изменения кумулятивной конверсии группы B к группе A. Сделайте выводы и предположения\n",
    "6. Постройте точечный график количества заказов по пользователям. Сделайте выводы и предположения\n",
    "7. Посчитайте 95-й и 99-й перцентили количества заказов на пользователя. Выберите границу для определения аномальных пользователей\n",
    "8. Постройте точечный график стоимостей заказов. Сделайте выводы и предположения\n",
    "9. Посчитайте 95-й и 99-й перцентили стоимости заказов. Выберите границу для определения аномальных заказов\n",
    "10. Посчитайте статистическую значимость различий в конверсии между группами по «сырым» данным. Сделайте выводы и предположения]\n",
    "11. Посчитайте статистическую значимость различий в среднем чеке заказа между группами по «сырым» данным. Сделайте выводы и предположения\n",
    "12. Посчитайте статистическую значимость различий в конверсии между группами по «очищенным» данным. Сделайте выводы и предположения\n",
    "13. Посчитайте статистическую значимость различий в среднем чеке заказа между группами по «очищенным» данным. Сделайте выводы и предположения\n",
    "14. Примите решение по результатам теста и объясните его\n",
    "\n",
    ">Варианты решений:\n",
    "- Остановить тест, зафиксировать победу одной из групп\n",
    "- Остановить тест, зафиксировать отсутствие различий между группами\n",
    "- Продолжить тест"
   ]
  },
  {
   "cell_type": "markdown",
   "metadata": {},
   "source": [
    "### Импортируем библиотеки"
   ]
  },
  {
   "cell_type": "code",
   "execution_count": 1,
   "metadata": {},
   "outputs": [],
   "source": [
    "import pandas as pd\n",
    "import matplotlib.pyplot as plt\n",
    "import scipy.stats as stats\n",
    "from scipy import stats as st\n",
    "import math\n",
    "import numpy as np\n",
    "import seaborn as sns\n",
    "sns.set(rc={'figure.figsize':(10, 8)})"
   ]
  },
  {
   "cell_type": "markdown",
   "metadata": {},
   "source": [
    "<div class=\"alert alert-success\">\n",
    "<b>👍 Успех:</b> Импортированы нужные библиотеки!\n",
    "</div>"
   ]
  },
  {
   "cell_type": "code",
   "execution_count": 2,
   "metadata": {},
   "outputs": [],
   "source": [
    "pd.set_option('display.max_columns', None)\n",
    "pd.options.display.float_format = '{:,.2f}'.format"
   ]
  },
  {
   "cell_type": "code",
   "execution_count": 3,
   "metadata": {},
   "outputs": [],
   "source": [
    "hypothesis = pd.read_csv('/datasets/hypothesis.csv')\n",
    "orders = pd.read_csv('/datasets/orders.csv')\n",
    "visitors = pd.read_csv('/datasets/visitors.csv')"
   ]
  },
  {
   "cell_type": "code",
   "execution_count": 4,
   "metadata": {},
   "outputs": [],
   "source": [
    "# Ознакомимся с данными. Определяем функцию, которая сделает всё автоматически.\n",
    "def explore_dataframe(df, name=\"DataFrame\"):\n",
    "    print(f\"\\n=== Анализ: {name} ===\\n\")\n",
    "    \n",
    "    print(\"📋 Информация о датафрейме:\\n\")\n",
    "    print(df.info())\n",
    "    \n",
    "    print(\"\\n🔍 Первые 5 строк:\\n\")\n",
    "    print(df.head())\n",
    "    \n",
    "    print(\"\\n🧼 Кол-во пропущенных значений в каждом столбце:\\n\")\n",
    "    print(df.isna().sum())\n",
    "    \n",
    "    print(\"\\n📎 Кол-во дубликатов:\\n\")\n",
    "    print(df.duplicated().sum())"
   ]
  },
  {
   "cell_type": "code",
   "execution_count": 5,
   "metadata": {},
   "outputs": [
    {
     "name": "stdout",
     "output_type": "stream",
     "text": [
      "\n",
      "=== Анализ: DataFrame ===\n",
      "\n",
      "📋 Информация о датафрейме:\n",
      "\n",
      "<class 'pandas.core.frame.DataFrame'>\n",
      "RangeIndex: 1197 entries, 0 to 1196\n",
      "Data columns (total 5 columns):\n",
      " #   Column         Non-Null Count  Dtype \n",
      "---  ------         --------------  ----- \n",
      " 0   transactionId  1197 non-null   int64 \n",
      " 1   visitorId      1197 non-null   int64 \n",
      " 2   date           1197 non-null   object\n",
      " 3   revenue        1197 non-null   int64 \n",
      " 4   group          1197 non-null   object\n",
      "dtypes: int64(3), object(2)\n",
      "memory usage: 46.9+ KB\n",
      "None\n",
      "\n",
      "🔍 Первые 5 строк:\n",
      "\n",
      "   transactionId   visitorId        date  revenue group\n",
      "0     3667963787  3312258926  2019-08-15     1650     B\n",
      "1     2804400009  3642806036  2019-08-15      730     B\n",
      "2     2961555356  4069496402  2019-08-15      400     A\n",
      "3     3797467345  1196621759  2019-08-15     9759     B\n",
      "4     2282983706  2322279887  2019-08-15     2308     B\n",
      "\n",
      "🧼 Кол-во пропущенных значений в каждом столбце:\n",
      "\n",
      "transactionId    0\n",
      "visitorId        0\n",
      "date             0\n",
      "revenue          0\n",
      "group            0\n",
      "dtype: int64\n",
      "\n",
      "📎 Кол-во дубликатов:\n",
      "\n",
      "0\n"
     ]
    }
   ],
   "source": [
    "explore_dataframe(orders)"
   ]
  },
  {
   "cell_type": "code",
   "execution_count": 6,
   "metadata": {},
   "outputs": [
    {
     "name": "stdout",
     "output_type": "stream",
     "text": [
      "\n",
      "=== Анализ: DataFrame ===\n",
      "\n",
      "📋 Информация о датафрейме:\n",
      "\n",
      "<class 'pandas.core.frame.DataFrame'>\n",
      "RangeIndex: 62 entries, 0 to 61\n",
      "Data columns (total 3 columns):\n",
      " #   Column    Non-Null Count  Dtype \n",
      "---  ------    --------------  ----- \n",
      " 0   date      62 non-null     object\n",
      " 1   group     62 non-null     object\n",
      " 2   visitors  62 non-null     int64 \n",
      "dtypes: int64(1), object(2)\n",
      "memory usage: 1.6+ KB\n",
      "None\n",
      "\n",
      "🔍 Первые 5 строк:\n",
      "\n",
      "         date group  visitors\n",
      "0  2019-08-01     A       719\n",
      "1  2019-08-02     A       619\n",
      "2  2019-08-03     A       507\n",
      "3  2019-08-04     A       717\n",
      "4  2019-08-05     A       756\n",
      "\n",
      "🧼 Кол-во пропущенных значений в каждом столбце:\n",
      "\n",
      "date        0\n",
      "group       0\n",
      "visitors    0\n",
      "dtype: int64\n",
      "\n",
      "📎 Кол-во дубликатов:\n",
      "\n",
      "0\n"
     ]
    }
   ],
   "source": [
    "explore_dataframe(visitors)"
   ]
  },
  {
   "cell_type": "code",
   "execution_count": 7,
   "metadata": {},
   "outputs": [],
   "source": [
    "# Конвертируем даты в datetime \n",
    "\n",
    "orders['date'] = pd.to_datetime(orders['date'])\n",
    "visitors['date'] = pd.to_datetime(visitors['date'])"
   ]
  },
  {
   "cell_type": "markdown",
   "metadata": {},
   "source": [
    "<div class=\"alert alert-success\">\n",
    "<b>👍 Успех:</b> Датасеты загружены и просмотрены! Изменены типы данных\n",
    "</div>"
   ]
  },
  {
   "cell_type": "markdown",
   "metadata": {},
   "source": [
    "### Примените фреймворк ICE для приоритизации гипотез. Отсортируйте их по убыванию приоритета"
   ]
  },
  {
   "cell_type": "code",
   "execution_count": 8,
   "metadata": {},
   "outputs": [],
   "source": [
    "# Применяем ICE\n",
    "hypothesis['ICE'] = hypothesis['Impact'] * hypothesis['Confidence'] / hypothesis['Efforts']"
   ]
  },
  {
   "cell_type": "code",
   "execution_count": 9,
   "metadata": {},
   "outputs": [
    {
     "data": {
      "text/html": [
       "<div>\n",
       "<style scoped>\n",
       "    .dataframe tbody tr th:only-of-type {\n",
       "        vertical-align: middle;\n",
       "    }\n",
       "\n",
       "    .dataframe tbody tr th {\n",
       "        vertical-align: top;\n",
       "    }\n",
       "\n",
       "    .dataframe thead th {\n",
       "        text-align: right;\n",
       "    }\n",
       "</style>\n",
       "<table border=\"1\" class=\"dataframe\">\n",
       "  <thead>\n",
       "    <tr style=\"text-align: right;\">\n",
       "      <th></th>\n",
       "      <th>Hypothesis</th>\n",
       "      <th>Reach</th>\n",
       "      <th>Impact</th>\n",
       "      <th>Confidence</th>\n",
       "      <th>Efforts</th>\n",
       "      <th>ICE</th>\n",
       "    </tr>\n",
       "  </thead>\n",
       "  <tbody>\n",
       "    <tr>\n",
       "      <th>8</th>\n",
       "      <td>Запустить акцию, дающую скидку на товар в день...</td>\n",
       "      <td>1</td>\n",
       "      <td>9</td>\n",
       "      <td>9</td>\n",
       "      <td>5</td>\n",
       "      <td>16.20</td>\n",
       "    </tr>\n",
       "    <tr>\n",
       "      <th>0</th>\n",
       "      <td>Добавить два новых канала привлечения трафика,...</td>\n",
       "      <td>3</td>\n",
       "      <td>10</td>\n",
       "      <td>8</td>\n",
       "      <td>6</td>\n",
       "      <td>13.33</td>\n",
       "    </tr>\n",
       "    <tr>\n",
       "      <th>7</th>\n",
       "      <td>Добавить форму подписки на все основные страни...</td>\n",
       "      <td>10</td>\n",
       "      <td>7</td>\n",
       "      <td>8</td>\n",
       "      <td>5</td>\n",
       "      <td>11.20</td>\n",
       "    </tr>\n",
       "    <tr>\n",
       "      <th>6</th>\n",
       "      <td>Показать на главной странице баннеры с актуаль...</td>\n",
       "      <td>5</td>\n",
       "      <td>3</td>\n",
       "      <td>8</td>\n",
       "      <td>3</td>\n",
       "      <td>8.00</td>\n",
       "    </tr>\n",
       "    <tr>\n",
       "      <th>2</th>\n",
       "      <td>Добавить блоки рекомендаций товаров на сайт ин...</td>\n",
       "      <td>8</td>\n",
       "      <td>3</td>\n",
       "      <td>7</td>\n",
       "      <td>3</td>\n",
       "      <td>7.00</td>\n",
       "    </tr>\n",
       "  </tbody>\n",
       "</table>\n",
       "</div>"
      ],
      "text/plain": [
       "                                          Hypothesis  Reach  Impact  \\\n",
       "8  Запустить акцию, дающую скидку на товар в день...      1       9   \n",
       "0  Добавить два новых канала привлечения трафика,...      3      10   \n",
       "7  Добавить форму подписки на все основные страни...     10       7   \n",
       "6  Показать на главной странице баннеры с актуаль...      5       3   \n",
       "2  Добавить блоки рекомендаций товаров на сайт ин...      8       3   \n",
       "\n",
       "   Confidence  Efforts   ICE  \n",
       "8           9        5 16.20  \n",
       "0           8        6 13.33  \n",
       "7           8        5 11.20  \n",
       "6           8        3  8.00  \n",
       "2           7        3  7.00  "
      ]
     },
     "execution_count": 9,
     "metadata": {},
     "output_type": "execute_result"
    }
   ],
   "source": [
    "hypothesis.sort_values('ICE', ascending=False).head()"
   ]
  },
  {
   "cell_type": "markdown",
   "metadata": {},
   "source": [
    "<div class=\"alert alert-warning\">\n",
    "<b>🤔 Рекомендация:</b> Для того, что бы полностью выводить гипотезы рекомендую использовать настройку pd.options.display.max_colwidth = 100, где 100 - количество символов. Кстати, pandas имеет много настроек - https://pandas.pydata.org/docs/user_guide/options.html. В сети есть публикации по этому поводу, например, https://towardsdatascience.com/8-commonly-used-pandas-display-options-you-should-know-a832365efa95. Лучше все же использовать дополнительные настройки тогда, когда в этом есть прямая необходимость, как в нашем проекте.\n",
    "</div>"
   ]
  },
  {
   "cell_type": "code",
   "execution_count": 10,
   "metadata": {
    "scrolled": false
   },
   "outputs": [
    {
     "data": {
      "image/png": "[encoded data removed]",
      "text/plain": [
       "<Figure size 720x576 with 1 Axes>"
      ]
     },
     "metadata": {},
     "output_type": "display_data"
    }
   ],
   "source": [
    "# Визуализируем \n",
    "\n",
    "ax = hypothesis[['Hypothesis', 'ICE']].set_index('Hypothesis').sort_values('ICE', ascending=True).plot(kind='barh')\n",
    "ax.set_xlabel('Приоритет')\n",
    "ax.set_ylabel('Гипотеза')\n",
    "ax.set_title('ICE')\n",
    "plt.show()"
   ]
  },
  {
   "cell_type": "markdown",
   "metadata": {},
   "source": [
    "### Примените фреймворк RICE для приоритизации гипотез. Отсортируйте их по убыванию приоритета"
   ]
  },
  {
   "cell_type": "code",
   "execution_count": 11,
   "metadata": {},
   "outputs": [],
   "source": [
    "# Применяем\n",
    "\n",
    "hypothesis['RICE'] = hypothesis['Reach'] * hypothesis['Impact'] * hypothesis['Confidence'] / hypothesis['Efforts']"
   ]
  },
  {
   "cell_type": "code",
   "execution_count": 12,
   "metadata": {},
   "outputs": [
    {
     "data": {
      "text/html": [
       "<div>\n",
       "<style scoped>\n",
       "    .dataframe tbody tr th:only-of-type {\n",
       "        vertical-align: middle;\n",
       "    }\n",
       "\n",
       "    .dataframe tbody tr th {\n",
       "        vertical-align: top;\n",
       "    }\n",
       "\n",
       "    .dataframe thead th {\n",
       "        text-align: right;\n",
       "    }\n",
       "</style>\n",
       "<table border=\"1\" class=\"dataframe\">\n",
       "  <thead>\n",
       "    <tr style=\"text-align: right;\">\n",
       "      <th></th>\n",
       "      <th>Hypothesis</th>\n",
       "      <th>Reach</th>\n",
       "      <th>Impact</th>\n",
       "      <th>Confidence</th>\n",
       "      <th>Efforts</th>\n",
       "      <th>ICE</th>\n",
       "      <th>RICE</th>\n",
       "    </tr>\n",
       "  </thead>\n",
       "  <tbody>\n",
       "    <tr>\n",
       "      <th>7</th>\n",
       "      <td>Добавить форму подписки на все основные страни...</td>\n",
       "      <td>10</td>\n",
       "      <td>7</td>\n",
       "      <td>8</td>\n",
       "      <td>5</td>\n",
       "      <td>11.20</td>\n",
       "      <td>112.00</td>\n",
       "    </tr>\n",
       "    <tr>\n",
       "      <th>2</th>\n",
       "      <td>Добавить блоки рекомендаций товаров на сайт ин...</td>\n",
       "      <td>8</td>\n",
       "      <td>3</td>\n",
       "      <td>7</td>\n",
       "      <td>3</td>\n",
       "      <td>7.00</td>\n",
       "      <td>56.00</td>\n",
       "    </tr>\n",
       "    <tr>\n",
       "      <th>0</th>\n",
       "      <td>Добавить два новых канала привлечения трафика,...</td>\n",
       "      <td>3</td>\n",
       "      <td>10</td>\n",
       "      <td>8</td>\n",
       "      <td>6</td>\n",
       "      <td>13.33</td>\n",
       "      <td>40.00</td>\n",
       "    </tr>\n",
       "    <tr>\n",
       "      <th>6</th>\n",
       "      <td>Показать на главной странице баннеры с актуаль...</td>\n",
       "      <td>5</td>\n",
       "      <td>3</td>\n",
       "      <td>8</td>\n",
       "      <td>3</td>\n",
       "      <td>8.00</td>\n",
       "      <td>40.00</td>\n",
       "    </tr>\n",
       "    <tr>\n",
       "      <th>8</th>\n",
       "      <td>Запустить акцию, дающую скидку на товар в день...</td>\n",
       "      <td>1</td>\n",
       "      <td>9</td>\n",
       "      <td>9</td>\n",
       "      <td>5</td>\n",
       "      <td>16.20</td>\n",
       "      <td>16.20</td>\n",
       "    </tr>\n",
       "  </tbody>\n",
       "</table>\n",
       "</div>"
      ],
      "text/plain": [
       "                                          Hypothesis  Reach  Impact  \\\n",
       "7  Добавить форму подписки на все основные страни...     10       7   \n",
       "2  Добавить блоки рекомендаций товаров на сайт ин...      8       3   \n",
       "0  Добавить два новых канала привлечения трафика,...      3      10   \n",
       "6  Показать на главной странице баннеры с актуаль...      5       3   \n",
       "8  Запустить акцию, дающую скидку на товар в день...      1       9   \n",
       "\n",
       "   Confidence  Efforts   ICE   RICE  \n",
       "7           8        5 11.20 112.00  \n",
       "2           7        3  7.00  56.00  \n",
       "0           8        6 13.33  40.00  \n",
       "6           8        3  8.00  40.00  \n",
       "8           9        5 16.20  16.20  "
      ]
     },
     "execution_count": 12,
     "metadata": {},
     "output_type": "execute_result"
    }
   ],
   "source": [
    "# Изучаем \n",
    "\n",
    "hypothesis.sort_values('RICE', ascending=False).head()"
   ]
  },
  {
   "cell_type": "code",
   "execution_count": 13,
   "metadata": {},
   "outputs": [
    {
     "data": {
      "image/png": "[encoded data removed]",
      "text/plain": [
       "<Figure size 720x576 with 1 Axes>"
      ]
     },
     "metadata": {},
     "output_type": "display_data"
    }
   ],
   "source": [
    "# Визуализируем\n",
    "\n",
    "ax = hypothesis[['Hypothesis', 'RICE']].set_index('Hypothesis').sort_values('RICE', ascending=True).plot(kind='barh')\n",
    "ax.set_xlabel('Приоритет')\n",
    "ax.set_ylabel('Гипотеза')\n",
    "ax.set_title('RICE')\n",
    "plt.show()"
   ]
  },
  {
   "cell_type": "markdown",
   "metadata": {},
   "source": [
    "### Укажите, как изменилась приоритизация гипотез при применении RICE вместо ICE. Объясните, почему так произошло"
   ]
  },
  {
   "cell_type": "markdown",
   "metadata": {},
   "source": [
    " <div class=\"alert alert-info\"> <b>🎓 Комментарий студента:</b> Здесь переписал вывод.</div>\n",
    "При применении фреймворка RICE по сравнению с ICE приоритизация гипотез изменилась.  \n",
    "Топ-3 гипотез по ICE:\n",
    "1. Запустить акцию, дающую скидку на товар в день рождения\n",
    "2. Добавить два новых канала привлечения трафика\n",
    "3. Добавить форму подписки на все основные страницы\n",
    "\n",
    "Топ-3 гипотез по RICE:\n",
    "1. Добавить форму подписки на все основные страницы\n",
    "2. Изменить категорию товаров, в которой чаще всего пропадают товары\n",
    "3. Добавить блоки рекомендаций товаров на сайт\n",
    "\n",
    "Это произошло потому, что фреймворк RICE учитывает параметр Reach — охват. Гипотезы, которые затрагивают большее количество пользователей, получили более высокий приоритет.  \n",
    "Гипотеза о форме подписки оказалась выше в RICE, потому что она влияет на всех пользователей, а не только на ограниченную аудиторию."
   ]
  },
  {
   "cell_type": "markdown",
   "metadata": {},
   "source": [
    "<div class=\"alert alert-success\">\n",
    "<b>👍 Успех:</b> Отлично получилось!\n",
    "</div>"
   ]
  },
  {
   "cell_type": "markdown",
   "metadata": {},
   "source": [
    "<div class=\"alert alert-danger\">\n",
    "<s><b>😔 Необходимо исправить:</b> Здесь нужно описать как поменялась приоритизация, какие гипотезы остались в топе, а какие нет</s>\n",
    "</div>"
   ]
  },
  {
   "cell_type": "markdown",
   "metadata": {},
   "source": [
    "# Часть 2. Анализ A/B-теста"
   ]
  },
  {
   "cell_type": "code",
   "execution_count": 14,
   "metadata": {},
   "outputs": [
    {
     "data": {
      "text/html": [
       "<div>\n",
       "<style scoped>\n",
       "    .dataframe tbody tr th:only-of-type {\n",
       "        vertical-align: middle;\n",
       "    }\n",
       "\n",
       "    .dataframe tbody tr th {\n",
       "        vertical-align: top;\n",
       "    }\n",
       "\n",
       "    .dataframe thead th {\n",
       "        text-align: right;\n",
       "    }\n",
       "</style>\n",
       "<table border=\"1\" class=\"dataframe\">\n",
       "  <thead>\n",
       "    <tr style=\"text-align: right;\">\n",
       "      <th></th>\n",
       "      <th>transactionId</th>\n",
       "      <th>visitorId</th>\n",
       "      <th>date</th>\n",
       "      <th>revenue</th>\n",
       "      <th>group</th>\n",
       "    </tr>\n",
       "  </thead>\n",
       "  <tbody>\n",
       "    <tr>\n",
       "      <th>0</th>\n",
       "      <td>3667963787</td>\n",
       "      <td>3312258926</td>\n",
       "      <td>2019-08-15</td>\n",
       "      <td>1650</td>\n",
       "      <td>B</td>\n",
       "    </tr>\n",
       "    <tr>\n",
       "      <th>1</th>\n",
       "      <td>2804400009</td>\n",
       "      <td>3642806036</td>\n",
       "      <td>2019-08-15</td>\n",
       "      <td>730</td>\n",
       "      <td>B</td>\n",
       "    </tr>\n",
       "    <tr>\n",
       "      <th>2</th>\n",
       "      <td>2961555356</td>\n",
       "      <td>4069496402</td>\n",
       "      <td>2019-08-15</td>\n",
       "      <td>400</td>\n",
       "      <td>A</td>\n",
       "    </tr>\n",
       "    <tr>\n",
       "      <th>3</th>\n",
       "      <td>3797467345</td>\n",
       "      <td>1196621759</td>\n",
       "      <td>2019-08-15</td>\n",
       "      <td>9759</td>\n",
       "      <td>B</td>\n",
       "    </tr>\n",
       "    <tr>\n",
       "      <th>4</th>\n",
       "      <td>2282983706</td>\n",
       "      <td>2322279887</td>\n",
       "      <td>2019-08-15</td>\n",
       "      <td>2308</td>\n",
       "      <td>B</td>\n",
       "    </tr>\n",
       "  </tbody>\n",
       "</table>\n",
       "</div>"
      ],
      "text/plain": [
       "   transactionId   visitorId       date  revenue group\n",
       "0     3667963787  3312258926 2019-08-15     1650     B\n",
       "1     2804400009  3642806036 2019-08-15      730     B\n",
       "2     2961555356  4069496402 2019-08-15      400     A\n",
       "3     3797467345  1196621759 2019-08-15     9759     B\n",
       "4     2282983706  2322279887 2019-08-15     2308     B"
      ]
     },
     "execution_count": 14,
     "metadata": {},
     "output_type": "execute_result"
    }
   ],
   "source": [
    "# Для наглядности, выведем первые 5 строк\n",
    "orders.head()"
   ]
  },
  {
   "cell_type": "code",
   "execution_count": 15,
   "metadata": {},
   "outputs": [
    {
     "data": {
      "text/html": [
       "<div>\n",
       "<style scoped>\n",
       "    .dataframe tbody tr th:only-of-type {\n",
       "        vertical-align: middle;\n",
       "    }\n",
       "\n",
       "    .dataframe tbody tr th {\n",
       "        vertical-align: top;\n",
       "    }\n",
       "\n",
       "    .dataframe thead th {\n",
       "        text-align: right;\n",
       "    }\n",
       "</style>\n",
       "<table border=\"1\" class=\"dataframe\">\n",
       "  <thead>\n",
       "    <tr style=\"text-align: right;\">\n",
       "      <th></th>\n",
       "      <th>date</th>\n",
       "      <th>group</th>\n",
       "      <th>visitors</th>\n",
       "    </tr>\n",
       "  </thead>\n",
       "  <tbody>\n",
       "    <tr>\n",
       "      <th>0</th>\n",
       "      <td>2019-08-01</td>\n",
       "      <td>A</td>\n",
       "      <td>719</td>\n",
       "    </tr>\n",
       "    <tr>\n",
       "      <th>1</th>\n",
       "      <td>2019-08-02</td>\n",
       "      <td>A</td>\n",
       "      <td>619</td>\n",
       "    </tr>\n",
       "    <tr>\n",
       "      <th>2</th>\n",
       "      <td>2019-08-03</td>\n",
       "      <td>A</td>\n",
       "      <td>507</td>\n",
       "    </tr>\n",
       "    <tr>\n",
       "      <th>3</th>\n",
       "      <td>2019-08-04</td>\n",
       "      <td>A</td>\n",
       "      <td>717</td>\n",
       "    </tr>\n",
       "    <tr>\n",
       "      <th>4</th>\n",
       "      <td>2019-08-05</td>\n",
       "      <td>A</td>\n",
       "      <td>756</td>\n",
       "    </tr>\n",
       "  </tbody>\n",
       "</table>\n",
       "</div>"
      ],
      "text/plain": [
       "        date group  visitors\n",
       "0 2019-08-01     A       719\n",
       "1 2019-08-02     A       619\n",
       "2 2019-08-03     A       507\n",
       "3 2019-08-04     A       717\n",
       "4 2019-08-05     A       756"
      ]
     },
     "execution_count": 15,
     "metadata": {},
     "output_type": "execute_result"
    }
   ],
   "source": [
    "visitors.head()"
   ]
  },
  {
   "cell_type": "code",
   "execution_count": 16,
   "metadata": {},
   "outputs": [],
   "source": [
    "# Переименуем колонки для удобства\n",
    "orders.rename(columns={'transactionId':'transaction_id', 'visitorId':'visitor_id'}, inplace=True)"
   ]
  },
  {
   "cell_type": "code",
   "execution_count": 17,
   "metadata": {},
   "outputs": [],
   "source": [
    "# Группировка заказов по дате и группе\n",
    "# Считаем уникальные заказы (transaction_id), уникальных покупателей (visitor_id) и суммарную выручку\n",
    "# Затем переименовываем столбцы для удобства\n",
    "\n",
    "orders_grouped = (orders.groupby(['date','group'], as_index=False)\n",
    "                        .agg({'transaction_id':'nunique','visitor_id':'nunique','revenue':'sum'})\n",
    "                        .rename(columns={'transaction_id':'orders','visitor_id':'buyers'}))\n",
    "\n",
    "# Создаем копию группы для последующей группировки\n",
    "orders_grouped['group_copy'] = orders_grouped['group']\n",
    "\n",
    "# Устанавливаем мультииндекс для сортировки и кумулятивных расчётов\n",
    "orders_grouped = orders_grouped.set_index(['date','group'])\n",
    "\n",
    "# Сортируем по дате и группе, затем считаем кумулятивные суммы метрик по каждой группе\n",
    "orders_cumsum = (orders_grouped\n",
    "                 .sort_values(['date','group'])\n",
    "                 .groupby('group_copy')\n",
    "                 .cumsum()\n",
    "                 .reset_index())"
   ]
  },
  {
   "cell_type": "code",
   "execution_count": 18,
   "metadata": {},
   "outputs": [],
   "source": [
    "# посчитаем сумму визитов по дням в каждой группе\n",
    "visitors_cumsum = visitors.groupby(['date','group'], as_index=False).agg({'visitors':'sum'}).sort_values(['date','group'])\n",
    "# скопируем group чтобы провести по ней кумулятивную сумму\n",
    "visitors_cumsum['group_copy'] = visitors_cumsum['group']\n",
    "visitors_cumsum = visitors_cumsum.set_index(['date','group']).groupby('group_copy').cumsum().reset_index()    "
   ]
  },
  {
   "cell_type": "code",
   "execution_count": 19,
   "metadata": {},
   "outputs": [],
   "source": [
    "# Объединяем\n",
    "cummulative = orders_cumsum.join(visitors_cumsum[['visitors']])"
   ]
  },
  {
   "cell_type": "code",
   "execution_count": 20,
   "metadata": {},
   "outputs": [],
   "source": [
    "# Рассчитаем конверсию и средний чек\n",
    "cummulative['average_check'] = cummulative['revenue'] / cummulative['orders']\n",
    "cummulative['conversion'] = cummulative['orders'] / cummulative['visitors']"
   ]
  },
  {
   "cell_type": "code",
   "execution_count": 21,
   "metadata": {},
   "outputs": [
    {
     "data": {
      "text/html": [
       "<div>\n",
       "<style scoped>\n",
       "    .dataframe tbody tr th:only-of-type {\n",
       "        vertical-align: middle;\n",
       "    }\n",
       "\n",
       "    .dataframe tbody tr th {\n",
       "        vertical-align: top;\n",
       "    }\n",
       "\n",
       "    .dataframe thead th {\n",
       "        text-align: right;\n",
       "    }\n",
       "</style>\n",
       "<table border=\"1\" class=\"dataframe\">\n",
       "  <thead>\n",
       "    <tr style=\"text-align: right;\">\n",
       "      <th></th>\n",
       "      <th>date</th>\n",
       "      <th>group</th>\n",
       "      <th>orders</th>\n",
       "      <th>buyers</th>\n",
       "      <th>revenue</th>\n",
       "      <th>visitors</th>\n",
       "      <th>average_check</th>\n",
       "      <th>conversion</th>\n",
       "    </tr>\n",
       "  </thead>\n",
       "  <tbody>\n",
       "    <tr>\n",
       "      <th>0</th>\n",
       "      <td>2019-08-01</td>\n",
       "      <td>A</td>\n",
       "      <td>24</td>\n",
       "      <td>20</td>\n",
       "      <td>148579</td>\n",
       "      <td>719</td>\n",
       "      <td>6,190.79</td>\n",
       "      <td>0.03</td>\n",
       "    </tr>\n",
       "    <tr>\n",
       "      <th>1</th>\n",
       "      <td>2019-08-01</td>\n",
       "      <td>B</td>\n",
       "      <td>21</td>\n",
       "      <td>20</td>\n",
       "      <td>101217</td>\n",
       "      <td>713</td>\n",
       "      <td>4,819.86</td>\n",
       "      <td>0.03</td>\n",
       "    </tr>\n",
       "    <tr>\n",
       "      <th>2</th>\n",
       "      <td>2019-08-02</td>\n",
       "      <td>A</td>\n",
       "      <td>44</td>\n",
       "      <td>39</td>\n",
       "      <td>242401</td>\n",
       "      <td>1338</td>\n",
       "      <td>5,509.11</td>\n",
       "      <td>0.03</td>\n",
       "    </tr>\n",
       "    <tr>\n",
       "      <th>3</th>\n",
       "      <td>2019-08-02</td>\n",
       "      <td>B</td>\n",
       "      <td>45</td>\n",
       "      <td>43</td>\n",
       "      <td>266748</td>\n",
       "      <td>1294</td>\n",
       "      <td>5,927.73</td>\n",
       "      <td>0.03</td>\n",
       "    </tr>\n",
       "    <tr>\n",
       "      <th>4</th>\n",
       "      <td>2019-08-03</td>\n",
       "      <td>A</td>\n",
       "      <td>68</td>\n",
       "      <td>63</td>\n",
       "      <td>354874</td>\n",
       "      <td>1845</td>\n",
       "      <td>5,218.74</td>\n",
       "      <td>0.04</td>\n",
       "    </tr>\n",
       "  </tbody>\n",
       "</table>\n",
       "</div>"
      ],
      "text/plain": [
       "        date group  orders  buyers  revenue  visitors  average_check  \\\n",
       "0 2019-08-01     A      24      20   148579       719       6,190.79   \n",
       "1 2019-08-01     B      21      20   101217       713       4,819.86   \n",
       "2 2019-08-02     A      44      39   242401      1338       5,509.11   \n",
       "3 2019-08-02     B      45      43   266748      1294       5,927.73   \n",
       "4 2019-08-03     A      68      63   354874      1845       5,218.74   \n",
       "\n",
       "   conversion  \n",
       "0        0.03  \n",
       "1        0.03  \n",
       "2        0.03  \n",
       "3        0.03  \n",
       "4        0.04  "
      ]
     },
     "execution_count": 21,
     "metadata": {},
     "output_type": "execute_result"
    }
   ],
   "source": [
    "cummulative.head()"
   ]
  },
  {
   "cell_type": "markdown",
   "metadata": {},
   "source": [
    "### 1. Постройте график кумулятивной выручки по группам. Сделайте выводы и предположения"
   ]
  },
  {
   "cell_type": "code",
   "execution_count": 22,
   "metadata": {},
   "outputs": [
    {
     "data": {
      "image/png": "[encoded data removed]",
      "text/plain": [
       "<Figure size 720x576 with 1 Axes>"
      ]
     },
     "metadata": {},
     "output_type": "display_data"
    }
   ],
   "source": [
    "# Визуализируем\n",
    "cummulativeA = cummulative[cummulative['group']=='A'][['date', 'revenue']]\n",
    "cummulativeB = cummulative[cummulative['group']=='B'][['date', 'revenue']]\n",
    "plt.plot(cummulativeA.iloc[:,0].to_frame(), cummulativeA.iloc[:,1].to_frame(), label='Группа A' )\n",
    "plt.plot(cummulativeB.iloc[:,0].to_frame(), cummulativeB.iloc[:,1].to_frame(), label='Группа B')\n",
    "plt.title('График кумулятивной выручки по группам')\n",
    "plt.ylabel(\"Выручка\")\n",
    "plt.xticks(rotation=45)\n",
    "plt.legend()\n",
    "plt.show()"
   ]
  },
  {
   "cell_type": "markdown",
   "metadata": {},
   "source": [
    "У \"B\" резкий рост, похожий на выброс. \"А\" растет линейно."
   ]
  },
  {
   "cell_type": "markdown",
   "metadata": {},
   "source": [
    "<div class=\"alert alert-success\">\n",
    "<b>👍 Успех:</b> Все верно!\n",
    "</div>"
   ]
  },
  {
   "cell_type": "markdown",
   "metadata": {},
   "source": [
    "### 2. Постройте график кумулятивного среднего чека по группам. Сделайте выводы и предположения"
   ]
  },
  {
   "cell_type": "code",
   "execution_count": 23,
   "metadata": {},
   "outputs": [
    {
     "data": {
      "image/png": "[encoded data removed]",
      "text/plain": [
       "<Figure size 720x576 with 1 Axes>"
      ]
     },
     "metadata": {},
     "output_type": "display_data"
    }
   ],
   "source": [
    "# Визуализируем\n",
    "cummulativeA = cummulative[cummulative['group']=='A'][['date', 'average_check']]\n",
    "cummulativeB = cummulative[cummulative['group']=='B'][['date', 'average_check']]\n",
    "plt.plot(cummulativeA.iloc[:,0].to_frame(), cummulativeA.iloc[:,1].to_frame(), label='Группа A' )\n",
    "plt.plot(cummulativeB.iloc[:,0].to_frame(), cummulativeB.iloc[:,1].to_frame(), label='Группа B')\n",
    "plt.title('График кумулятивного среднего чека по группам')\n",
    "plt.ylabel(\"Выручка\")\n",
    "plt.xticks(rotation=45)\n",
    "plt.legend()\n",
    "plt.show()"
   ]
  },
  {
   "cell_type": "markdown",
   "metadata": {},
   "source": [
    "Тоже самое с \"B\", сначала показывает резкий рост, затем делает отскок. Оба графика демонстрируют похожее поведение"
   ]
  },
  {
   "cell_type": "markdown",
   "metadata": {},
   "source": [
    "<div class=\"alert alert-success\">\n",
    "<b>👍 Успех:</b> Все верно! Группа В нестабильна. Возможно, в данную группу в середине теста попали крупные заказы. Необходимо будет учесть этот факт при принятии решения о результатах A/B-теста\n",
    "</div>"
   ]
  },
  {
   "cell_type": "markdown",
   "metadata": {},
   "source": [
    "### 3. Постройте график относительного изменения кумулятивного среднего чека группы B к группе A. Сделайте выводы и предположения"
   ]
  },
  {
   "cell_type": "code",
   "execution_count": 24,
   "metadata": {},
   "outputs": [
    {
     "data": {
      "image/png": "[encoded data removed]",
      "text/plain": [
       "<Figure size 720x576 with 1 Axes>"
      ]
     },
     "metadata": {},
     "output_type": "display_data"
    }
   ],
   "source": [
    "# Визуализируем\n",
    "temp = (cummulativeA[['date', 'average_check']].merge(cummulativeB[['date', 'average_check']], \n",
    "                                            left_on='date', right_on='date', how='left', suffixes=['_A', '_B']))\n",
    "plt.plot(temp['date'], temp['average_check_B'] / temp['average_check_A']-1)\n",
    "plt.title('График относительного изменения кумулятивного среднего чека группы B к группе A')\n",
    "plt.axhline(y=0, color='red', linestyle='-')\n",
    "plt.xticks(rotation=45)\n",
    "plt.show()"
   ]
  },
  {
   "cell_type": "markdown",
   "metadata": {},
   "source": [
    "Стоит отметить, что все три графика демонстрируют одну картину. Резкий скачек и спад. Это может говорить о выбросах"
   ]
  },
  {
   "cell_type": "markdown",
   "metadata": {},
   "source": [
    "<div class=\"alert alert-success\">\n",
    "<b>👍 Успех:</b> Все верно!\n",
    "</div>"
   ]
  },
  {
   "cell_type": "markdown",
   "metadata": {},
   "source": [
    "### 4. Постройте график кумулятивной конверсии по группам. Сделайте выводы и предположения"
   ]
  },
  {
   "cell_type": "code",
   "execution_count": 25,
   "metadata": {},
   "outputs": [
    {
     "data": {
      "image/png": "[encoded data removed]",
      "text/plain": [
       "<Figure size 720x576 with 1 Axes>"
      ]
     },
     "metadata": {},
     "output_type": "display_data"
    }
   ],
   "source": [
    "# Визуалилзируем\n",
    "cummulativeA = cummulative[cummulative['group']=='A'][['date', 'conversion']]\n",
    "cummulativeB = cummulative[cummulative['group']=='B'][['date', 'conversion']]\n",
    "plt.plot(cummulativeA.iloc[:,0].to_frame(), cummulativeA.iloc[:,1].to_frame(), label='A' )\n",
    "plt.plot(cummulativeB.iloc[:,0].to_frame(), cummulativeB.iloc[:,1].to_frame(), label='B')\n",
    "plt.title('График кумулятивной конверсии по группам')\n",
    "plt.ylabel(\"Выручка\")\n",
    "plt.xticks(rotation=45)\n",
    "plt.legend()\n",
    "plt.show()"
   ]
  },
  {
   "cell_type": "markdown",
   "metadata": {},
   "source": [
    "После пика у обоих групп \"А\"-конверсия находится в районе 0,029 и до 0,031. \"В\"-конверсия от 0,037 и до 0,033. Конверсия у \"B\"пока выглядит лучше."
   ]
  },
  {
   "cell_type": "markdown",
   "metadata": {},
   "source": [
    "<div class=\"alert alert-success\">\n",
    "<b>👍 Успех:</b> Все верно!\n",
    "</div>"
   ]
  },
  {
   "cell_type": "markdown",
   "metadata": {},
   "source": [
    "### 5. Постройте график относительного изменения кумулятивной конверсии группы B к группе A. Сделайте выводы и предположения"
   ]
  },
  {
   "cell_type": "code",
   "execution_count": 26,
   "metadata": {},
   "outputs": [
    {
     "data": {
      "image/png": "[encoded data removed]",
      "text/plain": [
       "<Figure size 720x576 with 1 Axes>"
      ]
     },
     "metadata": {},
     "output_type": "display_data"
    }
   ],
   "source": [
    "# Визуализируем\n",
    "temp = (cummulativeA[['date', 'conversion']].merge(cummulativeB[['date', 'conversion']], \n",
    "                                            left_on='date', right_on='date', how='left', suffixes=['_A', '_B']))\n",
    "plt.plot(temp['date'], temp['conversion_B'] / temp['conversion_A']-1)\n",
    "plt.title('График относительного изменения кумулятивной конверсии группы B к группе A')\n",
    "plt.axhline(y=0, color='red', linestyle='-')\n",
    "plt.xticks(rotation=45)\n",
    "plt.show()"
   ]
  },
  {
   "cell_type": "markdown",
   "metadata": {},
   "source": [
    "B-конверсия прилично лучше, но количество дней теста небольшое."
   ]
  },
  {
   "cell_type": "markdown",
   "metadata": {},
   "source": [
    "<div class=\"alert alert-success\">\n",
    "<b>👍 Успех:</b> Все верно!\n",
    "</div>"
   ]
  },
  {
   "cell_type": "markdown",
   "metadata": {},
   "source": [
    "### 6. Постройте точечный график количества заказов по пользователям. Сделайте выводы и предположения"
   ]
  },
  {
   "cell_type": "code",
   "execution_count": 27,
   "metadata": {},
   "outputs": [],
   "source": [
    "# Группируем закази по пользователям\n",
    "orders_per_user = orders.groupby('visitor_id', as_index=False).agg({'transaction_id':'nunique'})\\\n",
    "                         .rename(columns={'transaction_id':'orders'})"
   ]
  },
  {
   "cell_type": "code",
   "execution_count": 28,
   "metadata": {},
   "outputs": [
    {
     "data": {
      "text/html": [
       "<div>\n",
       "<style scoped>\n",
       "    .dataframe tbody tr th:only-of-type {\n",
       "        vertical-align: middle;\n",
       "    }\n",
       "\n",
       "    .dataframe tbody tr th {\n",
       "        vertical-align: top;\n",
       "    }\n",
       "\n",
       "    .dataframe thead th {\n",
       "        text-align: right;\n",
       "    }\n",
       "</style>\n",
       "<table border=\"1\" class=\"dataframe\">\n",
       "  <thead>\n",
       "    <tr style=\"text-align: right;\">\n",
       "      <th></th>\n",
       "      <th>visitor_id</th>\n",
       "      <th>orders</th>\n",
       "    </tr>\n",
       "  </thead>\n",
       "  <tbody>\n",
       "    <tr>\n",
       "      <th>0</th>\n",
       "      <td>5114589</td>\n",
       "      <td>1</td>\n",
       "    </tr>\n",
       "    <tr>\n",
       "      <th>1</th>\n",
       "      <td>6958315</td>\n",
       "      <td>1</td>\n",
       "    </tr>\n",
       "    <tr>\n",
       "      <th>2</th>\n",
       "      <td>8300375</td>\n",
       "      <td>2</td>\n",
       "    </tr>\n",
       "    <tr>\n",
       "      <th>3</th>\n",
       "      <td>11685486</td>\n",
       "      <td>1</td>\n",
       "    </tr>\n",
       "    <tr>\n",
       "      <th>4</th>\n",
       "      <td>39475350</td>\n",
       "      <td>1</td>\n",
       "    </tr>\n",
       "  </tbody>\n",
       "</table>\n",
       "</div>"
      ],
      "text/plain": [
       "   visitor_id  orders\n",
       "0     5114589       1\n",
       "1     6958315       1\n",
       "2     8300375       2\n",
       "3    11685486       1\n",
       "4    39475350       1"
      ]
     },
     "execution_count": 28,
     "metadata": {},
     "output_type": "execute_result"
    }
   ],
   "source": [
    "# Проверяем\n",
    "orders_per_user.head()"
   ]
  },
  {
   "cell_type": "code",
   "execution_count": 29,
   "metadata": {},
   "outputs": [
    {
     "data": {
      "image/png": "[encoded data removed]",
      "text/plain": [
       "<Figure size 720x576 with 1 Axes>"
      ]
     },
     "metadata": {},
     "output_type": "display_data"
    }
   ],
   "source": [
    "# Визуализируем\n",
    "x_values = pd.Series(range(0,len(orders_per_user['orders'])))\n",
    "plt.scatter(x_values, orders_per_user['orders'], color='red')\n",
    "plt.show()"
   ]
  },
  {
   "cell_type": "markdown",
   "metadata": {},
   "source": [
    "В основном покупку совершают 1 раз, но также встречаются клиенты, которые совершают гораздо больше покупок, в то время как заказы более более 5 раз выглядят как выбросы."
   ]
  },
  {
   "cell_type": "markdown",
   "metadata": {},
   "source": [
    "<div class=\"alert alert-success\">\n",
    "<b>👍 Успех:</b> Все верно!\n",
    "</div>"
   ]
  },
  {
   "cell_type": "markdown",
   "metadata": {},
   "source": [
    "### 7. Посчитайте 95-й и 99-й перцентили количества заказов на пользователя. Выберите границу для определения аномальных пользователей"
   ]
  },
  {
   "cell_type": "code",
   "execution_count": 30,
   "metadata": {},
   "outputs": [
    {
     "name": "stdout",
     "output_type": "stream",
     "text": [
      "90 перцентиль: 1.00\n",
      "95 перцентиль: 2.00\n",
      "99 перцентиль: 4.00\n"
     ]
    }
   ],
   "source": [
    "# Считаем перцентили \n",
    "\n",
    "print('90 перцентиль: %.2f' % (np.percentile(orders_per_user['orders'], [90])))\n",
    "print('95 перцентиль: %.2f' % (np.percentile(orders_per_user['orders'], [95])))\n",
    "print('99 перцентиль: %.2f' % (np.percentile(orders_per_user['orders'], [99])))"
   ]
  },
  {
   "cell_type": "code",
   "execution_count": 31,
   "metadata": {},
   "outputs": [
    {
     "data": {
      "text/plain": [
       "11"
      ]
     },
     "execution_count": 31,
     "metadata": {},
     "output_type": "execute_result"
    }
   ],
   "source": [
    "orders_per_user['orders'].max()"
   ]
  },
  {
   "cell_type": "code",
   "execution_count": 32,
   "metadata": {},
   "outputs": [
    {
     "data": {
      "text/plain": [
       "10"
      ]
     },
     "execution_count": 32,
     "metadata": {},
     "output_type": "execute_result"
    }
   ],
   "source": [
    "np.ptp(orders_per_user['orders'], axis=0)"
   ]
  },
  {
   "cell_type": "markdown",
   "metadata": {},
   "source": [
    "Все, что за 99 перцентилем — аномально."
   ]
  },
  {
   "cell_type": "code",
   "execution_count": 33,
   "metadata": {},
   "outputs": [],
   "source": [
    "outlaws_1p = orders_per_user[orders_per_user['orders'] >= 4]['visitor_id'].to_list()"
   ]
  },
  {
   "cell_type": "markdown",
   "metadata": {},
   "source": [
    " <div class=\"alert alert-success\">\n",
    "<b>👍 Успех:</b> Все верно!\n",
    "</div>"
   ]
  },
  {
   "cell_type": "markdown",
   "metadata": {},
   "source": [
    "### 8. Постройте точечный график стоимостей заказов. Сделайте выводы и предположения"
   ]
  },
  {
   "cell_type": "code",
   "execution_count": 34,
   "metadata": {},
   "outputs": [
    {
     "data": {
      "image/png": "[encoded data removed]",
      "text/plain": [
       "<Figure size 720x576 with 1 Axes>"
      ]
     },
     "metadata": {},
     "output_type": "display_data"
    }
   ],
   "source": [
    "x_values = pd.Series(range(0,len(orders['revenue'])))\n",
    "plt.scatter(x_values, orders['revenue'], color='red')\n",
    "plt.show()"
   ]
  },
  {
   "cell_type": "markdown",
   "metadata": {},
   "source": [
    "Видны 2 отчетливых выброса, которые и вызывали искажения на графиках выше"
   ]
  },
  {
   "cell_type": "markdown",
   "metadata": {},
   "source": [
    "<div class=\"alert alert-danger\">\n",
    "<s><b>😔 Необходимо исправить:</b> Здесь нужно построить еще один график, без дорогих заказов, что бы подробно рассмотреть основную массу заказов</s>\n",
    "</div>"
   ]
  },
  {
   "cell_type": "code",
   "execution_count": 35,
   "metadata": {},
   "outputs": [
    {
     "data": {
      "image/png": "[encoded data removed]",
      "text/plain": [
       "<Figure size 720x360 with 1 Axes>"
      ]
     },
     "metadata": {},
     "output_type": "display_data"
    }
   ],
   "source": [
    "# Удалим дорогие заказы по 95-му перцентилю\n",
    "revenue_threshold = np.percentile(orders['revenue'], 95)\n",
    "filtered_orders = orders[orders['revenue'] <= revenue_threshold]\n",
    "\n",
    "# Строим график для основной массы заказов\n",
    "x_values_filtered = pd.Series(range(0, len(filtered_orders)))\n",
    "plt.figure(figsize=(10, 5))\n",
    "plt.scatter(x_values_filtered, filtered_orders['revenue'], alpha=0.6)\n",
    "plt.title('Распределение стоимости заказов без выбросов (до 95 перцентиля)')\n",
    "plt.xlabel('Индекс заказа')\n",
    "plt.ylabel('Стоимость заказа')\n",
    "plt.grid(True)\n",
    "\n",
    "plt.show()"
   ]
  },
  {
   "cell_type": "markdown",
   "metadata": {},
   "source": [
    " <div class=\"alert alert-info\"> <b>🎓 Комментарий студента:</b> График построен.</div>\n",
    "На этом графике отображены только заказы с выручкой ниже 95-го перцентиля. Это позволило исключить аномально дорогие заказы и лучше рассмотреть основную массу данных. Как можно видеть - основная масса заказов находится в районе до 15 000, остальные реже."
   ]
  },
  {
   "cell_type": "markdown",
   "metadata": {},
   "source": [
    "<div class=\"alert alert-success\">\n",
    "<b>👍 Успех:</b> Теперь все заказы хорошо видно!\n",
    "</div>"
   ]
  },
  {
   "cell_type": "markdown",
   "metadata": {},
   "source": [
    "### 9. Посчитайте 95-й и 99-й перцентили стоимости заказов. Выберите границу для определения аномальных заказов"
   ]
  },
  {
   "cell_type": "code",
   "execution_count": 36,
   "metadata": {},
   "outputs": [
    {
     "name": "stdout",
     "output_type": "stream",
     "text": [
      "90 перцентиль: 18168.00\n",
      "95 перцентиль: 28000.00\n",
      "99 перцентиль: 58233.20\n"
     ]
    }
   ],
   "source": [
    "# Считаем перцентили\n",
    "print('90 перцентиль: %.2f' % (np.percentile(orders['revenue'], [90])))\n",
    "print('95 перцентиль: %.2f' % (np.percentile(orders['revenue'], [95])))\n",
    "print('99 перцентиль: %.2f' % (np.percentile(orders['revenue'], [99])))"
   ]
  },
  {
   "cell_type": "code",
   "execution_count": 37,
   "metadata": {},
   "outputs": [
    {
     "data": {
      "text/plain": [
       "1294500"
      ]
     },
     "execution_count": 37,
     "metadata": {},
     "output_type": "execute_result"
    }
   ],
   "source": [
    "orders['revenue'].max()"
   ]
  },
  {
   "cell_type": "code",
   "execution_count": 38,
   "metadata": {},
   "outputs": [
    {
     "data": {
      "text/plain": [
       "1294450"
      ]
     },
     "execution_count": 38,
     "metadata": {},
     "output_type": "execute_result"
    }
   ],
   "source": [
    "np.ptp(orders['revenue'], axis=0)"
   ]
  },
  {
   "cell_type": "markdown",
   "metadata": {},
   "source": [
    "Все, что за 99 перцентилем — аномально."
   ]
  },
  {
   "cell_type": "markdown",
   "metadata": {},
   "source": [
    "<div class=\"alert alert-success\">\n",
    "<b>👍 Успех:</b> Все верно!\n",
    "</div>"
   ]
  },
  {
   "cell_type": "markdown",
   "metadata": {},
   "source": [
    "### 10. Посчитайте статистическую значимость различий в конверсии между группами по «сырым» данным. Сделайте выводы и предположения"
   ]
  },
  {
   "cell_type": "code",
   "execution_count": 39,
   "metadata": {},
   "outputs": [],
   "source": [
    "conversion = (orders.groupby('group').agg({'transaction_id':'count'}).rename(columns={'transaction_id':'orders'}))\\\n",
    "                                     .join((visitors.groupby('group').agg({'visitors':'sum'}))).reset_index()\n",
    "conversion['conversion'] = conversion['orders'] / conversion['visitors']"
   ]
  },
  {
   "cell_type": "code",
   "execution_count": 40,
   "metadata": {},
   "outputs": [
    {
     "data": {
      "text/html": [
       "<div>\n",
       "<style scoped>\n",
       "    .dataframe tbody tr th:only-of-type {\n",
       "        vertical-align: middle;\n",
       "    }\n",
       "\n",
       "    .dataframe tbody tr th {\n",
       "        vertical-align: top;\n",
       "    }\n",
       "\n",
       "    .dataframe thead th {\n",
       "        text-align: right;\n",
       "    }\n",
       "</style>\n",
       "<table border=\"1\" class=\"dataframe\">\n",
       "  <thead>\n",
       "    <tr style=\"text-align: right;\">\n",
       "      <th></th>\n",
       "      <th>group</th>\n",
       "      <th>orders</th>\n",
       "      <th>visitors</th>\n",
       "      <th>conversion</th>\n",
       "    </tr>\n",
       "  </thead>\n",
       "  <tbody>\n",
       "    <tr>\n",
       "      <th>0</th>\n",
       "      <td>A</td>\n",
       "      <td>557</td>\n",
       "      <td>18736</td>\n",
       "      <td>0.03</td>\n",
       "    </tr>\n",
       "    <tr>\n",
       "      <th>1</th>\n",
       "      <td>B</td>\n",
       "      <td>640</td>\n",
       "      <td>18916</td>\n",
       "      <td>0.03</td>\n",
       "    </tr>\n",
       "  </tbody>\n",
       "</table>\n",
       "</div>"
      ],
      "text/plain": [
       "  group  orders  visitors  conversion\n",
       "0     A     557     18736        0.03\n",
       "1     B     640     18916        0.03"
      ]
     },
     "metadata": {},
     "output_type": "display_data"
    }
   ],
   "source": [
    "display(conversion)"
   ]
  },
  {
   "cell_type": "code",
   "execution_count": 41,
   "metadata": {},
   "outputs": [
    {
     "name": "stdout",
     "output_type": "stream",
     "text": [
      "p-значение:  0.02320723394441848\n",
      "Отвергаем нулевую гипотезу\n"
     ]
    }
   ],
   "source": [
    "# Воспользуемся Z-критерием для разности двух долей.\n",
    "# H0: Конверсия в группе A РАВНА конверсии в группе B\n",
    "# H1: Конверсия в группе A НЕ РАВНА конверсии в группе B\n",
    "\n",
    "alpha=0.05\n",
    "purchases = np.array(conversion['orders'])\n",
    "leads = np.array(conversion['visitors'])\n",
    "\n",
    "p1 = purchases[0] / leads[0]\n",
    "p2 = purchases[1] / leads[1]\n",
    "\n",
    "combined = (purchases[0] + purchases[1]) / (leads[0] + leads[1])\n",
    "difference = p1-p2\n",
    "\n",
    "z_value = difference / math.sqrt(combined * (1 - combined) * (1 / leads[0] + 1 / leads[1]))\n",
    "distr = st.norm(0,1)\n",
    "p_value = (1 - distr.cdf(abs(z_value))) * 2\n",
    "\n",
    "print('p-значение: ', p_value)\n",
    "\n",
    "if (p_value < alpha):\n",
    "    print(\"Отвергаем нулевую гипотезу\")\n",
    "else:\n",
    "    print(\"Не получилось отвергнуть нулевую гипотезу\")"
   ]
  },
  {
   "cell_type": "code",
   "execution_count": 42,
   "metadata": {},
   "outputs": [
    {
     "data": {
      "text/html": [
       "<div>\n",
       "<style scoped>\n",
       "    .dataframe tbody tr th:only-of-type {\n",
       "        vertical-align: middle;\n",
       "    }\n",
       "\n",
       "    .dataframe tbody tr th {\n",
       "        vertical-align: top;\n",
       "    }\n",
       "\n",
       "    .dataframe thead th {\n",
       "        text-align: right;\n",
       "    }\n",
       "</style>\n",
       "<table border=\"1\" class=\"dataframe\">\n",
       "  <thead>\n",
       "    <tr style=\"text-align: right;\">\n",
       "      <th></th>\n",
       "      <th>group</th>\n",
       "      <th>orders</th>\n",
       "      <th>visitors</th>\n",
       "      <th>conversion</th>\n",
       "      <th>conversion_promille</th>\n",
       "    </tr>\n",
       "  </thead>\n",
       "  <tbody>\n",
       "    <tr>\n",
       "      <th>0</th>\n",
       "      <td>A</td>\n",
       "      <td>557</td>\n",
       "      <td>18736</td>\n",
       "      <td>0.03</td>\n",
       "      <td>29.73</td>\n",
       "    </tr>\n",
       "    <tr>\n",
       "      <th>1</th>\n",
       "      <td>B</td>\n",
       "      <td>640</td>\n",
       "      <td>18916</td>\n",
       "      <td>0.03</td>\n",
       "      <td>33.83</td>\n",
       "    </tr>\n",
       "  </tbody>\n",
       "</table>\n",
       "</div>"
      ],
      "text/plain": [
       "  group  orders  visitors  conversion  conversion_promille\n",
       "0     A     557     18736        0.03                29.73\n",
       "1     B     640     18916        0.03                33.83"
      ]
     },
     "execution_count": 42,
     "metadata": {},
     "output_type": "execute_result"
    }
   ],
   "source": [
    "# Переведём в промилле для наглядности\n",
    "conversion['conversion_promille'] = conversion['conversion'] * 1000\n",
    "conversion"
   ]
  },
  {
   "cell_type": "markdown",
   "metadata": {},
   "source": [
    "Конверсия B - больше, статистическая значимость есть."
   ]
  },
  {
   "cell_type": "markdown",
   "metadata": {},
   "source": [
    "<div class=\"alert alert-success\">\n",
    "<b>👍 Успех:</b> Все верно!\n",
    "</div>"
   ]
  },
  {
   "cell_type": "markdown",
   "metadata": {},
   "source": [
    "### 11. Посчитайте статистическую значимость различий в среднем чеке заказа между группами по «сырым» данным. Сделайте выводы и предположения"
   ]
  },
  {
   "cell_type": "code",
   "execution_count": 43,
   "metadata": {},
   "outputs": [
    {
     "name": "stdout",
     "output_type": "stream",
     "text": [
      "p-значение:  0.7292909855432458\n",
      "Не получилось отвергнуть H0: вывод о различии сделать нельзя\n"
     ]
    }
   ],
   "source": [
    "# Воспользуемся критерием Манна-Уитни\n",
    "# H0: Средний чек A НЕ ПРЕВОСХОДИТ среднему чеку группы B\n",
    "# H1: Средний чек A ПРЕВОСХОДИТ среднему чеку группы B\n",
    "\n",
    "alpha = 0.05\n",
    "results = st.mannwhitneyu(orders[orders['group']=='A']['revenue'], orders[orders['group']=='B']['revenue'])\n",
    "pvalue = results.pvalue\n",
    "\n",
    "print('p-значение: ', pvalue)\n",
    "\n",
    "if (pvalue < alpha):\n",
    "    print(\"Отвергаем H0: разница статистически значима\")\n",
    "else:\n",
    "    print(\"Не получилось отвергнуть H0: вывод о различии сделать нельзя\")"
   ]
  },
  {
   "cell_type": "code",
   "execution_count": 44,
   "metadata": {},
   "outputs": [
    {
     "data": {
      "text/plain": [
       "7333.578096947936"
      ]
     },
     "execution_count": 44,
     "metadata": {},
     "output_type": "execute_result"
    }
   ],
   "source": [
    "# Средний чек для группы А\n",
    "orders[orders['group']=='A']['revenue'].mean()"
   ]
  },
  {
   "cell_type": "code",
   "execution_count": 45,
   "metadata": {},
   "outputs": [
    {
     "data": {
      "text/plain": [
       "9230.875"
      ]
     },
     "execution_count": 45,
     "metadata": {},
     "output_type": "execute_result"
    }
   ],
   "source": [
    "# Средний чек для группы B\n",
    "orders[orders['group']=='B']['revenue'].mean()"
   ]
  },
  {
   "cell_type": "markdown",
   "metadata": {},
   "source": [
    "<div class=\"alert alert-success\">\n",
    "<b>👍 Успех:</b> Все верно!\n",
    "</div>"
   ]
  },
  {
   "cell_type": "markdown",
   "metadata": {},
   "source": [
    "### 12. Посчитайте статистическую значимость различий в конверсии между группами по «очищенным» данным. Сделайте выводы и предположения"
   ]
  },
  {
   "cell_type": "code",
   "execution_count": 46,
   "metadata": {},
   "outputs": [],
   "source": [
    "# Отчистим данные\n",
    "orders_temp = orders[~orders['visitor_id'].isin(outlaws_1p)]\n",
    "conversion_clear = (orders_temp.groupby('group').agg({'transaction_id':'count'}).rename(columns={'transaction_id':'orders'}))\\\n",
    "                                                .join((visitors.groupby('group').agg({'visitors':'sum'}))).reset_index()"
   ]
  },
  {
   "cell_type": "code",
   "execution_count": 47,
   "metadata": {},
   "outputs": [
    {
     "name": "stdout",
     "output_type": "stream",
     "text": [
      "p-значение:  0.019821291468021807\n",
      "Отвергаем нулевую гипотезу\n"
     ]
    }
   ],
   "source": [
    "# Воспользуемся Z-критерием для разности двух долей.\n",
    "# H0: Конверсия в группе A РАВНА конверсии в группе B\n",
    "# H1: Конверсия в группе A НЕ РАВНА конверсии в группе B\n",
    "\n",
    "alpha=0.05\n",
    "purchases = np.array(conversion_clear['orders'])\n",
    "leads = np.array(conversion_clear['visitors'])\n",
    "\n",
    "p1 = purchases[0] / leads[0]\n",
    "p2 = purchases[1] / leads[1]\n",
    "combined = (purchases[0] + purchases[1]) / (leads[0] + leads[1])\n",
    "difference = p1-p2\n",
    "\n",
    "z_value = difference / math.sqrt(combined * (1 - combined) * (1 / leads[0] + 1 / leads[1]))\n",
    "distr = st.norm(0,1)\n",
    "p_value = (1 - distr.cdf(abs(z_value))) * 2\n",
    "\n",
    "print('p-значение: ', p_value)\n",
    "if (p_value < alpha):\n",
    "    print(\"Отвергаем нулевую гипотезу\")\n",
    "else:\n",
    "    print(\"Не получилось отвергнуть нулевую гипотезу\")"
   ]
  },
  {
   "cell_type": "markdown",
   "metadata": {},
   "source": [
    "B-конверсия снова превышает конверсию группы А со статистической значимостью."
   ]
  },
  {
   "cell_type": "markdown",
   "metadata": {},
   "source": [
    "<div class=\"alert alert-success\">\n",
    "<b>👍 Успех:</b> Все верно!\n",
    "</div>"
   ]
  },
  {
   "cell_type": "markdown",
   "metadata": {},
   "source": [
    "### 13. Посчитайте статистическую значимость различий в среднем чеке заказа между группами по «очищенным» данным. Сделайте выводы и предположения"
   ]
  },
  {
   "cell_type": "code",
   "execution_count": 48,
   "metadata": {},
   "outputs": [],
   "source": [
    "orders_clear = orders.query('revenue <= 58233')"
   ]
  },
  {
   "cell_type": "code",
   "execution_count": 49,
   "metadata": {},
   "outputs": [
    {
     "name": "stdout",
     "output_type": "stream",
     "text": [
      "p-значение:  0.6208626966847455\n",
      "Не получилось отвергнуть H0: вывод о различии сделать нельзя\n"
     ]
    }
   ],
   "source": [
    "# Воспользуемся критерием Манна-Уитни\n",
    "# H0: Средний чек A НЕ ПРЕВОСХОДИТ средний чек у группы B\n",
    "# H1: Средний чек A ПРЕВОСХОДИТ средний чек у группы B\n",
    "\n",
    "alpha = 0.05\n",
    "results = st.mannwhitneyu(orders_clear[orders_clear['group']=='A']['revenue'], orders_clear[orders_clear['group']=='B']['revenue'])\n",
    "pvalue = results.pvalue\n",
    "\n",
    "print('p-значение: ', pvalue)\n",
    "if (pvalue < alpha):\n",
    "    print(\"Отвергаем H0: разница статистически значима\")\n",
    "else:\n",
    "    print(\"Не получилось отвергнуть H0: вывод о различии сделать нельзя\")"
   ]
  },
  {
   "cell_type": "code",
   "execution_count": 50,
   "metadata": {},
   "outputs": [
    {
     "data": {
      "text/plain": [
       "6470.587272727273"
      ]
     },
     "execution_count": 50,
     "metadata": {},
     "output_type": "execute_result"
    }
   ],
   "source": [
    "# Средний чек A после очистки\n",
    "orders_clear[orders_clear['group']=='A']['revenue'].mean()"
   ]
  },
  {
   "cell_type": "code",
   "execution_count": 51,
   "metadata": {},
   "outputs": [
    {
     "data": {
      "text/plain": [
       "6592.692913385827"
      ]
     },
     "execution_count": 51,
     "metadata": {},
     "output_type": "execute_result"
    }
   ],
   "source": [
    "# Средний чек B после очистки\n",
    "orders_clear[orders_clear['group']=='B']['revenue'].mean()"
   ]
  },
  {
   "cell_type": "markdown",
   "metadata": {},
   "source": [
    "Вывод остался прежним, хотя средний чек значительно изменился."
   ]
  },
  {
   "cell_type": "markdown",
   "metadata": {},
   "source": [
    "<div class=\"alert alert-success\">\n",
    "<b>👍 Успех:</b> Все верно!\n",
    "</div>"
   ]
  },
  {
   "cell_type": "markdown",
   "metadata": {},
   "source": [
    "### 14. Примите решение по результатам теста и объясните его"
   ]
  },
  {
   "cell_type": "markdown",
   "metadata": {},
   "source": [
    "В рамках проекта были выполнены две ключевые задачи:\n",
    "\n",
    "### 1. Приоритизация гипотез\n",
    "- Использованы два фреймворка — ICE и RICE.\n",
    "- При использовании ICE топ-гипотезами стали: «акция на день рождения», «новые каналы трафика», «форма подписки».\n",
    "- При использовании RICE приоритет сместился к гипотезам с наибольшим охватом, и на первое место вышла форма подписки, что логично, так как RICE учитывает дополнительный параметр Reach.\n",
    "\n",
    "### 2. Анализ A/B-теста\n",
    "- Построены графики кумулятивной выручки, среднего чека, конверсии и их относительных изменений.\n",
    "- Обнаружены значительные выбросы — дорогие заказы, которые искажали результаты. Были построены дополнительные графики без выбросов.\n",
    "- Проанализированы выбросы и аномальные пользователи на основе 95-го и 99-го перцентилей.\n",
    "- По результатам теста группа B показывает лучшие метрики, но результат пока нельзя признать однозначным. Требуется больше наблюдений для стабилизация показателей.\n",
    "\n",
    "### Общий вывод\n",
    "- Тест стоит продолжать, чтобы получить более стабильные и надежные данные.\n",
    "- Рекомендуется рассмотреть гипотезы с высоким охватом в первую очередь - форму подписки.\n"
   ]
  },
  {
   "cell_type": "markdown",
   "metadata": {},
   "source": [
    " <div class=\"alert alert-info\"> <b>🎓 Комментарий студента:</b> Вывод переработан.</div>"
   ]
  },
  {
   "cell_type": "markdown",
   "metadata": {},
   "source": [
    "<div class=\"alert alert-danger\">\n",
    "<s><b>😔 Необходимо исправить:</b> Итоговый вывод должен быть более подробным и охватывать всю работу</s>\n",
    "</div>"
   ]
  },
  {
   "cell_type": "markdown",
   "metadata": {},
   "source": [
    "<div class=\"alert alert-success\">\n",
    "<b>👍 Успех:</b> Хорошая работа, молодец! Мне нравится твой аналитический подход к выполнению проекта, ты соблюдаешь структуру работы, выполняешь её последовательно - это очень хорошо! Шаги проекта выполнены по порядку согласно плану проекта, нет смысловых и структурных ям. Важно, что не забываешь про выводы.\n",
    "\n",
    "**Дополнительные материалы:**\n",
    "\n",
    "[Вебинары под эгидой Практикума](https://vk.com/yandex.praktikum?w=wall-176471180_2144),\n",
    "\n",
    "[Лекции Анатолия Карпова 1](https://www.youtube.com/watch?v=jnFVmtaeSA0&list=WL&index=19&t=2s) [2](https://www.youtube.com/watch?v=gljfGAkgX_o&list=WL&index=4)\n",
    "\n",
    "Материалы [gopractice](https://gopractice.ru/summary/)\n",
    "\n",
    "Лекцию Карта статистических методов [Смотреть видео](https://www.youtube.com/watch?v=-zps6hm0nX8&t=1269s)\n",
    "</div>"
   ]
  },
  {
   "cell_type": "code",
   "execution_count": null,
   "metadata": {},
   "outputs": [],
   "source": []
  }
 ],
 "metadata": {
  "ExecuteTimeLog": [
   {
    "duration": 1331,
    "start_time": "2025-03-31T12:49:44.695Z"
   },
   {
    "duration": 3,
    "start_time": "2025-03-31T12:49:46.619Z"
   },
   {
    "duration": 67,
    "start_time": "2025-03-31T12:50:26.517Z"
   },
   {
    "duration": 5,
    "start_time": "2025-03-31T12:55:58.349Z"
   },
   {
    "duration": 96,
    "start_time": "2025-03-31T13:13:12.765Z"
   },
   {
    "duration": 4,
    "start_time": "2025-03-31T13:13:23.225Z"
   },
   {
    "duration": 13,
    "start_time": "2025-03-31T13:13:26.729Z"
   },
   {
    "duration": 6,
    "start_time": "2025-03-31T13:14:40.256Z"
   },
   {
    "duration": 17,
    "start_time": "2025-03-31T13:14:42.303Z"
   },
   {
    "duration": 41,
    "start_time": "2025-03-31T13:15:06.213Z"
   },
   {
    "duration": 12,
    "start_time": "2025-03-31T13:16:17.954Z"
   },
   {
    "duration": 4,
    "start_time": "2025-03-31T13:17:13.212Z"
   },
   {
    "duration": 17,
    "start_time": "2025-03-31T13:17:14.447Z"
   },
   {
    "duration": 17,
    "start_time": "2025-03-31T13:18:04.252Z"
   },
   {
    "duration": 15,
    "start_time": "2025-03-31T13:18:35.903Z"
   },
   {
    "duration": 8,
    "start_time": "2025-03-31T13:41:18.406Z"
   },
   {
    "duration": 91,
    "start_time": "2025-03-31T13:41:32.331Z"
   },
   {
    "duration": 6,
    "start_time": "2025-03-31T13:43:01.918Z"
   },
   {
    "duration": 5,
    "start_time": "2025-03-31T13:43:10.852Z"
   },
   {
    "duration": 4,
    "start_time": "2025-03-31T13:46:48.930Z"
   },
   {
    "duration": 11,
    "start_time": "2025-03-31T13:46:56.491Z"
   },
   {
    "duration": 362,
    "start_time": "2025-03-31T13:47:40.405Z"
   },
   {
    "duration": 113,
    "start_time": "2025-03-31T13:49:36.809Z"
   },
   {
    "duration": 3,
    "start_time": "2025-03-31T13:49:56.463Z"
   },
   {
    "duration": 4,
    "start_time": "2025-03-31T13:50:03.259Z"
   },
   {
    "duration": 10,
    "start_time": "2025-03-31T13:50:22.825Z"
   },
   {
    "duration": 323,
    "start_time": "2025-03-31T13:50:48.181Z"
   },
   {
    "duration": 117,
    "start_time": "2025-03-31T13:54:37.853Z"
   },
   {
    "duration": 75,
    "start_time": "2025-03-31T13:55:07.109Z"
   },
   {
    "duration": 8,
    "start_time": "2025-03-31T13:55:21.921Z"
   },
   {
    "duration": 8,
    "start_time": "2025-03-31T13:55:33.234Z"
   },
   {
    "duration": 8,
    "start_time": "2025-03-31T13:55:40.762Z"
   },
   {
    "duration": 9,
    "start_time": "2025-03-31T13:56:12.565Z"
   },
   {
    "duration": 8,
    "start_time": "2025-03-31T13:56:15.157Z"
   },
   {
    "duration": 3,
    "start_time": "2025-03-31T13:58:28.174Z"
   },
   {
    "duration": 3,
    "start_time": "2025-03-31T13:58:50.090Z"
   },
   {
    "duration": 3,
    "start_time": "2025-03-31T13:58:52.544Z"
   },
   {
    "duration": 4,
    "start_time": "2025-03-31T13:59:08.366Z"
   },
   {
    "duration": 17,
    "start_time": "2025-03-31T14:03:58.806Z"
   },
   {
    "duration": 3,
    "start_time": "2025-03-31T14:04:15.335Z"
   },
   {
    "duration": 15,
    "start_time": "2025-03-31T14:04:16.195Z"
   },
   {
    "duration": 4,
    "start_time": "2025-03-31T14:05:03.261Z"
   },
   {
    "duration": 16,
    "start_time": "2025-03-31T14:05:03.792Z"
   },
   {
    "duration": 15,
    "start_time": "2025-03-31T14:08:33.239Z"
   },
   {
    "duration": 3,
    "start_time": "2025-03-31T14:08:46.041Z"
   },
   {
    "duration": 14,
    "start_time": "2025-03-31T14:08:48.245Z"
   },
   {
    "duration": 1343,
    "start_time": "2025-03-31T14:08:55.159Z"
   },
   {
    "duration": 3,
    "start_time": "2025-03-31T14:08:56.504Z"
   },
   {
    "duration": 82,
    "start_time": "2025-03-31T14:08:56.509Z"
   },
   {
    "duration": 4,
    "start_time": "2025-03-31T14:08:56.593Z"
   },
   {
    "duration": 24,
    "start_time": "2025-03-31T14:08:56.599Z"
   },
   {
    "duration": 21,
    "start_time": "2025-03-31T14:08:56.625Z"
   },
   {
    "duration": 6,
    "start_time": "2025-03-31T14:08:56.648Z"
   },
   {
    "duration": 6,
    "start_time": "2025-03-31T14:08:56.656Z"
   },
   {
    "duration": 13,
    "start_time": "2025-03-31T14:08:56.663Z"
   },
   {
    "duration": 384,
    "start_time": "2025-03-31T14:08:56.679Z"
   },
   {
    "duration": 5,
    "start_time": "2025-03-31T14:08:57.065Z"
   },
   {
    "duration": 11,
    "start_time": "2025-03-31T14:08:57.072Z"
   },
   {
    "duration": 326,
    "start_time": "2025-03-31T14:08:57.085Z"
   },
   {
    "duration": 10,
    "start_time": "2025-03-31T14:08:57.413Z"
   },
   {
    "duration": 11,
    "start_time": "2025-03-31T14:08:57.425Z"
   },
   {
    "duration": 4,
    "start_time": "2025-03-31T14:08:57.455Z"
   },
   {
    "duration": 20,
    "start_time": "2025-03-31T14:08:57.461Z"
   },
   {
    "duration": 17,
    "start_time": "2025-03-31T14:09:28.037Z"
   },
   {
    "duration": 5,
    "start_time": "2025-03-31T14:09:37.463Z"
   },
   {
    "duration": 4,
    "start_time": "2025-03-31T14:09:58.301Z"
   },
   {
    "duration": 6,
    "start_time": "2025-03-31T14:10:06.344Z"
   },
   {
    "duration": 11,
    "start_time": "2025-03-31T14:17:23.477Z"
   },
   {
    "duration": 82,
    "start_time": "2025-03-31T14:17:35.311Z"
   },
   {
    "duration": 363,
    "start_time": "2025-03-31T14:17:47.721Z"
   },
   {
    "duration": 298,
    "start_time": "2025-03-31T14:18:25.818Z"
   },
   {
    "duration": 290,
    "start_time": "2025-03-31T14:18:32.913Z"
   },
   {
    "duration": 305,
    "start_time": "2025-03-31T14:19:34.544Z"
   },
   {
    "duration": 300,
    "start_time": "2025-03-31T14:19:48.078Z"
   },
   {
    "duration": 76,
    "start_time": "2025-03-31T14:20:05.868Z"
   },
   {
    "duration": 445,
    "start_time": "2025-03-31T14:34:34.707Z"
   },
   {
    "duration": 387,
    "start_time": "2025-03-31T14:34:47.344Z"
   },
   {
    "duration": 307,
    "start_time": "2025-03-31T15:50:08.491Z"
   },
   {
    "duration": 77,
    "start_time": "2025-03-31T15:53:05.967Z"
   },
   {
    "duration": 395,
    "start_time": "2025-03-31T15:56:11.645Z"
   },
   {
    "duration": 93,
    "start_time": "2025-03-31T16:03:08.375Z"
   },
   {
    "duration": 8,
    "start_time": "2025-03-31T16:03:37.757Z"
   },
   {
    "duration": 7,
    "start_time": "2025-03-31T16:05:12.837Z"
   },
   {
    "duration": 151,
    "start_time": "2025-03-31T16:05:26.195Z"
   },
   {
    "duration": 154,
    "start_time": "2025-03-31T16:05:38.977Z"
   },
   {
    "duration": 200,
    "start_time": "2025-03-31T16:08:25.353Z"
   },
   {
    "duration": 6,
    "start_time": "2025-03-31T16:08:56.655Z"
   },
   {
    "duration": 4,
    "start_time": "2025-03-31T16:09:05.855Z"
   },
   {
    "duration": 4,
    "start_time": "2025-03-31T16:09:11.148Z"
   },
   {
    "duration": 1281,
    "start_time": "2025-03-31T16:09:21.879Z"
   },
   {
    "duration": 4,
    "start_time": "2025-03-31T16:09:27.327Z"
   },
   {
    "duration": 100,
    "start_time": "2025-03-31T16:21:59.939Z"
   },
   {
    "duration": 176,
    "start_time": "2025-03-31T16:22:24.203Z"
   },
   {
    "duration": 80,
    "start_time": "2025-03-31T16:23:18.366Z"
   },
   {
    "duration": 6,
    "start_time": "2025-03-31T16:24:10.103Z"
   },
   {
    "duration": 5,
    "start_time": "2025-03-31T16:24:37.422Z"
   },
   {
    "duration": 6,
    "start_time": "2025-03-31T16:24:45.347Z"
   },
   {
    "duration": 5,
    "start_time": "2025-03-31T16:24:51.942Z"
   },
   {
    "duration": 14,
    "start_time": "2025-03-31T16:25:29.989Z"
   },
   {
    "duration": 11,
    "start_time": "2025-03-31T16:25:43.398Z"
   },
   {
    "duration": 7,
    "start_time": "2025-03-31T16:25:51.669Z"
   },
   {
    "duration": 8,
    "start_time": "2025-03-31T16:26:05.958Z"
   },
   {
    "duration": 7,
    "start_time": "2025-03-31T16:27:02.294Z"
   },
   {
    "duration": 8,
    "start_time": "2025-03-31T16:27:11.111Z"
   },
   {
    "duration": 9,
    "start_time": "2025-03-31T16:30:03.343Z"
   },
   {
    "duration": 1165,
    "start_time": "2025-03-31T16:30:14.211Z"
   },
   {
    "duration": 3,
    "start_time": "2025-03-31T16:30:15.378Z"
   },
   {
    "duration": 73,
    "start_time": "2025-03-31T16:30:15.382Z"
   },
   {
    "duration": 4,
    "start_time": "2025-03-31T16:30:15.457Z"
   },
   {
    "duration": 19,
    "start_time": "2025-03-31T16:30:15.463Z"
   },
   {
    "duration": 15,
    "start_time": "2025-03-31T16:30:15.483Z"
   },
   {
    "duration": 7,
    "start_time": "2025-03-31T16:30:15.500Z"
   },
   {
    "duration": 14,
    "start_time": "2025-03-31T16:30:15.508Z"
   },
   {
    "duration": 11,
    "start_time": "2025-03-31T16:30:15.523Z"
   },
   {
    "duration": 361,
    "start_time": "2025-03-31T16:30:15.554Z"
   },
   {
    "duration": 5,
    "start_time": "2025-03-31T16:30:15.916Z"
   },
   {
    "duration": 13,
    "start_time": "2025-03-31T16:30:15.922Z"
   },
   {
    "duration": 317,
    "start_time": "2025-03-31T16:30:15.937Z"
   },
   {
    "duration": 8,
    "start_time": "2025-03-31T16:30:16.259Z"
   },
   {
    "duration": 7,
    "start_time": "2025-03-31T16:30:16.269Z"
   },
   {
    "duration": 3,
    "start_time": "2025-03-31T16:30:16.278Z"
   },
   {
    "duration": 19,
    "start_time": "2025-03-31T16:30:16.282Z"
   },
   {
    "duration": 13,
    "start_time": "2025-03-31T16:30:16.303Z"
   },
   {
    "duration": 37,
    "start_time": "2025-03-31T16:30:16.318Z"
   },
   {
    "duration": 5,
    "start_time": "2025-03-31T16:30:16.357Z"
   },
   {
    "duration": 15,
    "start_time": "2025-03-31T16:30:16.363Z"
   },
   {
    "duration": 382,
    "start_time": "2025-03-31T16:30:16.380Z"
   },
   {
    "duration": 294,
    "start_time": "2025-03-31T16:30:16.763Z"
   },
   {
    "duration": 393,
    "start_time": "2025-03-31T16:30:17.059Z"
   },
   {
    "duration": 306,
    "start_time": "2025-03-31T16:30:17.453Z"
   },
   {
    "duration": 388,
    "start_time": "2025-03-31T16:30:17.760Z"
   },
   {
    "duration": 8,
    "start_time": "2025-03-31T16:30:18.149Z"
   },
   {
    "duration": 7,
    "start_time": "2025-03-31T16:30:18.158Z"
   },
   {
    "duration": 243,
    "start_time": "2025-03-31T16:30:18.166Z"
   },
   {
    "duration": 4,
    "start_time": "2025-03-31T16:30:18.411Z"
   },
   {
    "duration": 8,
    "start_time": "2025-03-31T16:30:18.417Z"
   },
   {
    "duration": 4,
    "start_time": "2025-03-31T16:30:18.426Z"
   },
   {
    "duration": 6,
    "start_time": "2025-03-31T16:30:18.432Z"
   },
   {
    "duration": 191,
    "start_time": "2025-03-31T16:30:18.454Z"
   },
   {
    "duration": 10,
    "start_time": "2025-03-31T16:30:18.646Z"
   },
   {
    "duration": 4,
    "start_time": "2025-03-31T16:30:18.657Z"
   },
   {
    "duration": 4,
    "start_time": "2025-03-31T16:30:18.663Z"
   },
   {
    "duration": 10,
    "start_time": "2025-03-31T16:30:18.668Z"
   },
   {
    "duration": 6,
    "start_time": "2025-03-31T16:30:18.680Z"
   },
   {
    "duration": 7,
    "start_time": "2025-03-31T16:30:18.688Z"
   },
   {
    "duration": 11,
    "start_time": "2025-03-31T16:30:18.698Z"
   },
   {
    "duration": 70,
    "start_time": "2025-03-31T16:31:31.058Z"
   },
   {
    "duration": 9,
    "start_time": "2025-03-31T16:32:03.446Z"
   },
   {
    "duration": 5,
    "start_time": "2025-03-31T16:32:16.026Z"
   },
   {
    "duration": 5,
    "start_time": "2025-03-31T16:32:21.358Z"
   },
   {
    "duration": 81,
    "start_time": "2025-03-31T16:32:30.978Z"
   },
   {
    "duration": 1239,
    "start_time": "2025-03-31T16:34:38.394Z"
   },
   {
    "duration": 11,
    "start_time": "2025-03-31T16:34:54.074Z"
   },
   {
    "duration": 11,
    "start_time": "2025-03-31T16:35:08.286Z"
   },
   {
    "duration": 8,
    "start_time": "2025-03-31T16:35:31.464Z"
   },
   {
    "duration": 7,
    "start_time": "2025-03-31T16:36:14.347Z"
   },
   {
    "duration": 10,
    "start_time": "2025-03-31T16:36:33.778Z"
   },
   {
    "duration": 6,
    "start_time": "2025-03-31T16:36:40.180Z"
   },
   {
    "duration": 5,
    "start_time": "2025-03-31T16:36:45.878Z"
   },
   {
    "duration": 87,
    "start_time": "2025-03-31T16:38:49.949Z"
   },
   {
    "duration": 1212,
    "start_time": "2025-03-31T16:51:07.664Z"
   },
   {
    "duration": 3,
    "start_time": "2025-03-31T16:51:08.878Z"
   },
   {
    "duration": 71,
    "start_time": "2025-03-31T16:51:08.882Z"
   },
   {
    "duration": 4,
    "start_time": "2025-03-31T16:51:08.954Z"
   },
   {
    "duration": 21,
    "start_time": "2025-03-31T16:51:08.960Z"
   },
   {
    "duration": 16,
    "start_time": "2025-03-31T16:51:08.982Z"
   },
   {
    "duration": 6,
    "start_time": "2025-03-31T16:51:08.999Z"
   },
   {
    "duration": 5,
    "start_time": "2025-03-31T16:51:09.007Z"
   },
   {
    "duration": 46,
    "start_time": "2025-03-31T16:51:09.013Z"
   },
   {
    "duration": 374,
    "start_time": "2025-03-31T16:51:09.061Z"
   },
   {
    "duration": 4,
    "start_time": "2025-03-31T16:51:09.437Z"
   },
   {
    "duration": 16,
    "start_time": "2025-03-31T16:51:09.443Z"
   },
   {
    "duration": 311,
    "start_time": "2025-03-31T16:51:09.460Z"
   },
   {
    "duration": 8,
    "start_time": "2025-03-31T16:51:09.774Z"
   },
   {
    "duration": 20,
    "start_time": "2025-03-31T16:51:09.784Z"
   },
   {
    "duration": 29,
    "start_time": "2025-03-31T16:51:09.806Z"
   },
   {
    "duration": 25,
    "start_time": "2025-03-31T16:51:09.837Z"
   },
   {
    "duration": 14,
    "start_time": "2025-03-31T16:51:09.864Z"
   },
   {
    "duration": 3,
    "start_time": "2025-03-31T16:51:09.880Z"
   },
   {
    "duration": 7,
    "start_time": "2025-03-31T16:51:09.885Z"
   },
   {
    "duration": 11,
    "start_time": "2025-03-31T16:51:09.894Z"
   },
   {
    "duration": 387,
    "start_time": "2025-03-31T16:51:09.907Z"
   },
   {
    "duration": 298,
    "start_time": "2025-03-31T16:51:10.295Z"
   },
   {
    "duration": 384,
    "start_time": "2025-03-31T16:51:10.595Z"
   },
   {
    "duration": 313,
    "start_time": "2025-03-31T16:51:10.981Z"
   },
   {
    "duration": 353,
    "start_time": "2025-03-31T16:51:11.295Z"
   },
   {
    "duration": 8,
    "start_time": "2025-03-31T16:51:11.650Z"
   },
   {
    "duration": 25,
    "start_time": "2025-03-31T16:51:11.659Z"
   },
   {
    "duration": 227,
    "start_time": "2025-03-31T16:51:11.685Z"
   },
   {
    "duration": 6,
    "start_time": "2025-03-31T16:51:11.913Z"
   },
   {
    "duration": 5,
    "start_time": "2025-03-31T16:51:11.920Z"
   },
   {
    "duration": 11,
    "start_time": "2025-03-31T16:51:11.927Z"
   },
   {
    "duration": 4,
    "start_time": "2025-03-31T16:51:11.955Z"
   },
   {
    "duration": 179,
    "start_time": "2025-03-31T16:51:11.961Z"
   },
   {
    "duration": 13,
    "start_time": "2025-03-31T16:51:12.141Z"
   },
   {
    "duration": 4,
    "start_time": "2025-03-31T16:51:12.156Z"
   },
   {
    "duration": 6,
    "start_time": "2025-03-31T16:51:12.161Z"
   },
   {
    "duration": 10,
    "start_time": "2025-03-31T16:51:12.168Z"
   },
   {
    "duration": 17,
    "start_time": "2025-03-31T16:51:12.179Z"
   },
   {
    "duration": 7,
    "start_time": "2025-03-31T16:51:12.197Z"
   },
   {
    "duration": 8,
    "start_time": "2025-03-31T16:51:12.208Z"
   },
   {
    "duration": 40,
    "start_time": "2025-03-31T16:51:12.218Z"
   },
   {
    "duration": 5,
    "start_time": "2025-03-31T16:51:12.259Z"
   },
   {
    "duration": 6,
    "start_time": "2025-03-31T16:51:12.266Z"
   },
   {
    "duration": 10,
    "start_time": "2025-03-31T16:51:12.273Z"
   },
   {
    "duration": 7,
    "start_time": "2025-03-31T16:51:12.285Z"
   },
   {
    "duration": 8,
    "start_time": "2025-03-31T16:51:12.293Z"
   },
   {
    "duration": 8,
    "start_time": "2025-03-31T16:51:12.302Z"
   },
   {
    "duration": 5,
    "start_time": "2025-03-31T16:51:12.311Z"
   },
   {
    "duration": 41,
    "start_time": "2025-03-31T16:51:12.317Z"
   },
   {
    "duration": 78,
    "start_time": "2025-03-31T16:51:12.360Z"
   },
   {
    "duration": 1163,
    "start_time": "2025-03-31T16:53:55.429Z"
   },
   {
    "duration": 2,
    "start_time": "2025-03-31T16:53:56.594Z"
   },
   {
    "duration": 71,
    "start_time": "2025-03-31T16:53:56.598Z"
   },
   {
    "duration": 3,
    "start_time": "2025-03-31T16:53:56.671Z"
   },
   {
    "duration": 18,
    "start_time": "2025-03-31T16:53:56.676Z"
   },
   {
    "duration": 14,
    "start_time": "2025-03-31T16:53:56.696Z"
   },
   {
    "duration": 5,
    "start_time": "2025-03-31T16:53:56.712Z"
   },
   {
    "duration": 9,
    "start_time": "2025-03-31T16:53:56.719Z"
   },
   {
    "duration": 29,
    "start_time": "2025-03-31T16:53:56.730Z"
   },
   {
    "duration": 382,
    "start_time": "2025-03-31T16:53:56.761Z"
   },
   {
    "duration": 4,
    "start_time": "2025-03-31T16:53:57.145Z"
   },
   {
    "duration": 30,
    "start_time": "2025-03-31T16:53:57.151Z"
   },
   {
    "duration": 321,
    "start_time": "2025-03-31T16:53:57.183Z"
   },
   {
    "duration": 9,
    "start_time": "2025-03-31T16:53:57.507Z"
   },
   {
    "duration": 10,
    "start_time": "2025-03-31T16:53:57.517Z"
   },
   {
    "duration": 5,
    "start_time": "2025-03-31T16:53:57.529Z"
   },
   {
    "duration": 34,
    "start_time": "2025-03-31T16:53:57.535Z"
   },
   {
    "duration": 14,
    "start_time": "2025-03-31T16:53:57.571Z"
   },
   {
    "duration": 4,
    "start_time": "2025-03-31T16:53:57.587Z"
   },
   {
    "duration": 5,
    "start_time": "2025-03-31T16:53:57.592Z"
   },
   {
    "duration": 9,
    "start_time": "2025-03-31T16:53:57.599Z"
   },
   {
    "duration": 398,
    "start_time": "2025-03-31T16:53:57.610Z"
   },
   {
    "duration": 294,
    "start_time": "2025-03-31T16:53:58.009Z"
   },
   {
    "duration": 398,
    "start_time": "2025-03-31T16:53:58.304Z"
   },
   {
    "duration": 308,
    "start_time": "2025-03-31T16:53:58.703Z"
   },
   {
    "duration": 376,
    "start_time": "2025-03-31T16:53:59.012Z"
   },
   {
    "duration": 7,
    "start_time": "2025-03-31T16:53:59.390Z"
   },
   {
    "duration": 8,
    "start_time": "2025-03-31T16:53:59.398Z"
   },
   {
    "duration": 247,
    "start_time": "2025-03-31T16:53:59.407Z"
   },
   {
    "duration": 6,
    "start_time": "2025-03-31T16:53:59.656Z"
   },
   {
    "duration": 5,
    "start_time": "2025-03-31T16:53:59.664Z"
   },
   {
    "duration": 9,
    "start_time": "2025-03-31T16:53:59.671Z"
   },
   {
    "duration": 5,
    "start_time": "2025-03-31T16:53:59.681Z"
   },
   {
    "duration": 199,
    "start_time": "2025-03-31T16:53:59.687Z"
   },
   {
    "duration": 6,
    "start_time": "2025-03-31T16:53:59.888Z"
   },
   {
    "duration": 30,
    "start_time": "2025-03-31T16:53:59.896Z"
   },
   {
    "duration": 4,
    "start_time": "2025-03-31T16:53:59.928Z"
   },
   {
    "duration": 10,
    "start_time": "2025-03-31T16:53:59.934Z"
   },
   {
    "duration": 10,
    "start_time": "2025-03-31T16:53:59.945Z"
   },
   {
    "duration": 7,
    "start_time": "2025-03-31T16:53:59.957Z"
   },
   {
    "duration": 8,
    "start_time": "2025-03-31T16:53:59.968Z"
   },
   {
    "duration": 9,
    "start_time": "2025-03-31T16:53:59.978Z"
   },
   {
    "duration": 5,
    "start_time": "2025-03-31T16:53:59.988Z"
   },
   {
    "duration": 6,
    "start_time": "2025-03-31T16:53:59.994Z"
   },
   {
    "duration": 53,
    "start_time": "2025-03-31T16:54:00.001Z"
   },
   {
    "duration": 8,
    "start_time": "2025-03-31T16:54:00.056Z"
   },
   {
    "duration": 14,
    "start_time": "2025-03-31T16:54:00.066Z"
   },
   {
    "duration": 9,
    "start_time": "2025-03-31T16:54:00.082Z"
   },
   {
    "duration": 24,
    "start_time": "2025-03-31T16:54:00.092Z"
   },
   {
    "duration": 50,
    "start_time": "2025-03-31T16:54:00.118Z"
   },
   {
    "duration": 9,
    "start_time": "2025-03-31T16:54:46.998Z"
   },
   {
    "duration": 1659,
    "start_time": "2025-03-31T20:05:46.671Z"
   },
   {
    "duration": 3,
    "start_time": "2025-03-31T20:05:48.332Z"
   },
   {
    "duration": 178,
    "start_time": "2025-03-31T20:05:48.336Z"
   },
   {
    "duration": 5,
    "start_time": "2025-03-31T20:05:48.516Z"
   },
   {
    "duration": 20,
    "start_time": "2025-03-31T20:05:48.523Z"
   },
   {
    "duration": 13,
    "start_time": "2025-03-31T20:05:48.545Z"
   },
   {
    "duration": 6,
    "start_time": "2025-03-31T20:05:48.559Z"
   },
   {
    "duration": 7,
    "start_time": "2025-03-31T20:05:48.566Z"
   },
   {
    "duration": 17,
    "start_time": "2025-03-31T20:05:48.574Z"
   },
   {
    "duration": 431,
    "start_time": "2025-03-31T20:05:48.592Z"
   },
   {
    "duration": 4,
    "start_time": "2025-03-31T20:05:49.025Z"
   },
   {
    "duration": 16,
    "start_time": "2025-03-31T20:05:49.031Z"
   },
   {
    "duration": 364,
    "start_time": "2025-03-31T20:05:49.049Z"
   },
   {
    "duration": 8,
    "start_time": "2025-03-31T20:05:49.416Z"
   },
   {
    "duration": 8,
    "start_time": "2025-03-31T20:05:49.426Z"
   },
   {
    "duration": 11,
    "start_time": "2025-03-31T20:05:49.436Z"
   },
   {
    "duration": 19,
    "start_time": "2025-03-31T20:05:49.448Z"
   },
   {
    "duration": 40,
    "start_time": "2025-03-31T20:05:49.468Z"
   },
   {
    "duration": 3,
    "start_time": "2025-03-31T20:05:49.510Z"
   },
   {
    "duration": 15,
    "start_time": "2025-03-31T20:05:49.515Z"
   },
   {
    "duration": 13,
    "start_time": "2025-03-31T20:05:49.531Z"
   },
   {
    "duration": 437,
    "start_time": "2025-03-31T20:05:49.546Z"
   },
   {
    "duration": 344,
    "start_time": "2025-03-31T20:05:49.984Z"
   },
   {
    "duration": 417,
    "start_time": "2025-03-31T20:05:50.329Z"
   },
   {
    "duration": 384,
    "start_time": "2025-03-31T20:05:50.748Z"
   },
   {
    "duration": 496,
    "start_time": "2025-03-31T20:05:51.133Z"
   },
   {
    "duration": 6,
    "start_time": "2025-03-31T20:05:51.631Z"
   },
   {
    "duration": 8,
    "start_time": "2025-03-31T20:05:51.639Z"
   },
   {
    "duration": 235,
    "start_time": "2025-03-31T20:05:51.648Z"
   },
   {
    "duration": 5,
    "start_time": "2025-03-31T20:05:51.885Z"
   },
   {
    "duration": 9,
    "start_time": "2025-03-31T20:05:51.904Z"
   },
   {
    "duration": 5,
    "start_time": "2025-03-31T20:05:51.915Z"
   },
   {
    "duration": 12,
    "start_time": "2025-03-31T20:05:51.921Z"
   },
   {
    "duration": 256,
    "start_time": "2025-03-31T20:05:51.934Z"
   },
   {
    "duration": 14,
    "start_time": "2025-03-31T20:05:52.191Z"
   },
   {
    "duration": 93,
    "start_time": "2025-03-31T20:05:52.207Z"
   },
   {
    "duration": 17,
    "start_time": "2025-03-31T20:05:52.301Z"
   },
   {
    "duration": 25,
    "start_time": "2025-03-31T20:05:52.319Z"
   },
   {
    "duration": 37,
    "start_time": "2025-03-31T20:05:52.345Z"
   },
   {
    "duration": 20,
    "start_time": "2025-03-31T20:05:52.383Z"
   },
   {
    "duration": 18,
    "start_time": "2025-03-31T20:05:52.406Z"
   },
   {
    "duration": 8,
    "start_time": "2025-03-31T20:05:52.425Z"
   },
   {
    "duration": 7,
    "start_time": "2025-03-31T20:05:52.435Z"
   },
   {
    "duration": 29,
    "start_time": "2025-03-31T20:05:52.443Z"
   },
   {
    "duration": 33,
    "start_time": "2025-03-31T20:05:52.473Z"
   },
   {
    "duration": 54,
    "start_time": "2025-03-31T20:05:52.508Z"
   },
   {
    "duration": 82,
    "start_time": "2025-03-31T20:05:52.563Z"
   },
   {
    "duration": 8,
    "start_time": "2025-03-31T20:05:52.647Z"
   },
   {
    "duration": 17,
    "start_time": "2025-03-31T20:05:52.656Z"
   },
   {
    "duration": 5,
    "start_time": "2025-03-31T20:05:52.675Z"
   },
   {
    "duration": 73,
    "start_time": "2025-04-01T09:49:32.183Z"
   },
   {
    "duration": 1496,
    "start_time": "2025-04-01T09:49:44.722Z"
   },
   {
    "duration": 3,
    "start_time": "2025-04-01T09:49:46.221Z"
   },
   {
    "duration": 214,
    "start_time": "2025-04-01T09:49:46.226Z"
   },
   {
    "duration": 4,
    "start_time": "2025-04-01T09:49:46.441Z"
   },
   {
    "duration": 21,
    "start_time": "2025-04-01T09:49:46.447Z"
   },
   {
    "duration": 15,
    "start_time": "2025-04-01T09:49:46.469Z"
   },
   {
    "duration": 6,
    "start_time": "2025-04-01T09:49:46.486Z"
   },
   {
    "duration": 8,
    "start_time": "2025-04-01T09:49:46.494Z"
   },
   {
    "duration": 34,
    "start_time": "2025-04-01T09:49:46.504Z"
   },
   {
    "duration": 429,
    "start_time": "2025-04-01T09:49:46.540Z"
   },
   {
    "duration": 5,
    "start_time": "2025-04-01T09:49:46.970Z"
   },
   {
    "duration": 30,
    "start_time": "2025-04-01T09:49:46.977Z"
   },
   {
    "duration": 393,
    "start_time": "2025-04-01T09:49:47.008Z"
   },
   {
    "duration": 26,
    "start_time": "2025-04-01T09:49:47.406Z"
   },
   {
    "duration": 8,
    "start_time": "2025-04-01T09:49:47.434Z"
   },
   {
    "duration": 40,
    "start_time": "2025-04-01T09:49:47.443Z"
   },
   {
    "duration": 46,
    "start_time": "2025-04-01T09:49:47.485Z"
   },
   {
    "duration": 16,
    "start_time": "2025-04-01T09:49:47.533Z"
   },
   {
    "duration": 5,
    "start_time": "2025-04-01T09:49:47.551Z"
   },
   {
    "duration": 11,
    "start_time": "2025-04-01T09:49:47.558Z"
   },
   {
    "duration": 13,
    "start_time": "2025-04-01T09:49:47.571Z"
   },
   {
    "duration": 462,
    "start_time": "2025-04-01T09:49:47.586Z"
   },
   {
    "duration": 386,
    "start_time": "2025-04-01T09:49:48.050Z"
   },
   {
    "duration": 492,
    "start_time": "2025-04-01T09:49:48.438Z"
   },
   {
    "duration": 371,
    "start_time": "2025-04-01T09:49:48.932Z"
   },
   {
    "duration": 500,
    "start_time": "2025-04-01T09:49:49.305Z"
   },
   {
    "duration": 15,
    "start_time": "2025-04-01T09:49:49.807Z"
   },
   {
    "duration": 10,
    "start_time": "2025-04-01T09:49:49.823Z"
   },
   {
    "duration": 304,
    "start_time": "2025-04-01T09:49:49.835Z"
   },
   {
    "duration": 5,
    "start_time": "2025-04-01T09:49:50.141Z"
   },
   {
    "duration": 78,
    "start_time": "2025-04-01T09:49:50.147Z"
   },
   {
    "duration": 18,
    "start_time": "2025-04-01T09:49:50.227Z"
   },
   {
    "duration": 12,
    "start_time": "2025-04-01T09:49:50.247Z"
   },
   {
    "duration": 224,
    "start_time": "2025-04-01T09:49:50.261Z"
   },
   {
    "duration": 250,
    "start_time": "2025-04-01T09:49:50.486Z"
   },
   {
    "duration": 5,
    "start_time": "2025-04-01T09:49:50.738Z"
   },
   {
    "duration": 11,
    "start_time": "2025-04-01T09:49:50.745Z"
   },
   {
    "duration": 11,
    "start_time": "2025-04-01T09:49:50.757Z"
   },
   {
    "duration": 45,
    "start_time": "2025-04-01T09:49:50.770Z"
   },
   {
    "duration": 11,
    "start_time": "2025-04-01T09:49:50.823Z"
   },
   {
    "duration": 12,
    "start_time": "2025-04-01T09:49:50.837Z"
   },
   {
    "duration": 16,
    "start_time": "2025-04-01T09:49:50.851Z"
   },
   {
    "duration": 17,
    "start_time": "2025-04-01T09:49:50.869Z"
   },
   {
    "duration": 21,
    "start_time": "2025-04-01T09:49:50.887Z"
   },
   {
    "duration": 20,
    "start_time": "2025-04-01T09:49:50.912Z"
   },
   {
    "duration": 22,
    "start_time": "2025-04-01T09:49:50.934Z"
   },
   {
    "duration": 61,
    "start_time": "2025-04-01T09:49:50.958Z"
   },
   {
    "duration": 38,
    "start_time": "2025-04-01T09:49:51.030Z"
   },
   {
    "duration": 16,
    "start_time": "2025-04-01T09:49:51.071Z"
   },
   {
    "duration": 33,
    "start_time": "2025-04-01T09:49:51.090Z"
   },
   {
    "duration": 7,
    "start_time": "2025-04-01T09:49:51.125Z"
   }
  ],
  "kernelspec": {
   "display_name": "Python 3 (ipykernel)",
   "language": "python",
   "name": "python3"
  },
  "language_info": {
   "codemirror_mode": {
    "name": "ipython",
    "version": 3
   },
   "file_extension": ".py",
   "mimetype": "text/x-python",
   "name": "python",
   "nbconvert_exporter": "python",
   "pygments_lexer": "ipython3",
   "version": "3.9.5"
  },
  "toc": {
   "base_numbering": 1,
   "nav_menu": {},
   "number_sections": true,
   "sideBar": true,
   "skip_h1_title": true,
   "title_cell": "Table of Contents",
   "title_sidebar": "Contents",
   "toc_cell": false,
   "toc_position": {
    "height": "calc(100% - 180px)",
    "left": "10px",
    "top": "150px",
    "width": "281px"
   },
   "toc_section_display": true,
   "toc_window_display": true
  }
 },
 "nbformat": 4,
 "nbformat_minor": 2
}
