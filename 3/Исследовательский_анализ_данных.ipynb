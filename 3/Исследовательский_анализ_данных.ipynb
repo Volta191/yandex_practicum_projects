{
 "cells": [
  {
   "cell_type": "markdown",
   "id": "10e0e655",
   "metadata": {},
   "source": [
    "Привет, Владимир!\n",
    "\n",
    "Меня зовут Вячеслав Погорелый, и я буду проводить ревью твоего проекта. \n",
    "\n",
    "Предлагаю перейти на \"ты\", если не против)\n",
    "\n",
    "Но если это не удобно - дай знать, и мы перейдем на \"вы\". Моя главная задача — не находить сделанные тобою ошибки, а передать свой опыт и помочь тебе стать аналитиком данных.\n",
    "\n",
    "Я отметил комментарии и замечания разным цветом далее по тексту markdown:\n",
    "\n",
    "---    \n",
    "<div class=\"alert alert-block alert-danger\">\n",
    "    \n",
    "### Ошибка\n",
    "    \n",
    "Критическое замечание, которые следует исправить.\n",
    "</div> \n",
    "    \n",
    "---\n",
    "    \n",
    "<div class=\"alert alert-block alert-warning\">\n",
    "    \n",
    "### Совет\n",
    "    \n",
    "Замечание\\совет на будущее.\n",
    "</div>\n",
    "    \n",
    "---\n",
    "    \n",
    "<div class=\"alert alert-block alert-success\">\n",
    "    \n",
    "### Успех\n",
    "    \n",
    "Когда всё сделано правильно.\n",
    "</div>\n",
    "    \n",
    "    \n",
    "    \n",
    "Будет здорово, если для ответов ты выберешь любой **<font color=\"maroon\">читабельный и заметный цвет</font>**, так мне будет проще все проверить.\n",
    "\n",
    "\n",
    "При доработке проекта попрошу тебя сохранить и не видоизменять заметки ревьюера, это осложняет повторную проверку"
   ]
  },
  {
   "cell_type": "markdown",
   "id": "574e8f0a",
   "metadata": {},
   "source": [
    "<div class=\"alert alert-block alert-success\">\n",
    " \n",
    "# Итоговый Комментарий ревьюера ver.2\n",
    "    \n",
    "#### Успех\n",
    "    \n",
    "Спасибо тебе за доработку проекта. Вот теперь я его готов принять. От себя я хочу пожелать успехов в дальнешей учебе. Ты точно справишься и дальше, я уверен в этом. "
   ]
  },
  {
   "cell_type": "markdown",
   "id": "8d833c49-2c2f-45a7-9694-ab1e419a153c",
   "metadata": {},
   "source": [
    "# Исследование объявлений о продаже квартир\n",
    "\n",
    "В вашем распоряжении данные сервиса Яндекс Недвижимость — архив объявлений о продаже квартир в Санкт-Петербурге и соседних населённых пунктах за несколько лет. Вам нужно научиться определять рыночную стоимость объектов недвижимости. Для этого проведите исследовательский анализ данных и установите параметры, влияющие на цену объектов. Это позволит построить автоматизированную систему: она отследит аномалии и мошенническую деятельность.\n",
    "\n",
    "По каждой квартире на продажу доступны два вида данных. Первые вписаны пользователем, вторые — получены автоматически на основе картографических данных. Например, расстояние до центра, аэропорта и других объектов — эти данные автоматически получены из геосервисов. Количество парков и водоёмов также заполняется без участия пользователя."
   ]
  },
  {
   "cell_type": "markdown",
   "id": "c98faa01-2655-474d-9b9b-a6120106d7eb",
   "metadata": {},
   "source": [
    "## 1. Откройте файл с данными и изучите общую информацию"
   ]
  },
  {
   "cell_type": "markdown",
   "id": "5ee988c0",
   "metadata": {},
   "source": [
    "<div class=\"alert alert-block alert-success\">\n",
    " \n",
    "### Комментарий ревьюера\n",
    "    \n",
    "#### Успех\n",
    "    \n",
    "Хвалю за вступление в проект. Есть подробное описание и информация о данных.\n",
    "</div "
   ]
  },
  {
   "cell_type": "markdown",
   "id": "53ac4541-8a3d-452e-a9d6-64086d9680e6",
   "metadata": {},
   "source": [
    "---"
   ]
  },
  {
   "cell_type": "code",
   "execution_count": 1,
   "id": "830224f2-0baa-48bb-906a-ecccfdaf7720",
   "metadata": {
    "tags": []
   },
   "outputs": [],
   "source": [
    "import pandas as pd\n",
    "import matplotlib.pyplot as plt \n",
    "import missingno as msno"
   ]
  },
  {
   "cell_type": "code",
   "execution_count": 2,
   "id": "27cbfca4-3342-4158-9285-a60c7181cbf4",
   "metadata": {
    "tags": []
   },
   "outputs": [],
   "source": [
    "try:\n",
    "    data = pd.read_csv('real_estate_data.csv', sep='\\t')\n",
    "except:\n",
    "    data = pd.read_csv('/datasets/real_estate_data.csv', sep='\\t')"
   ]
  },
  {
   "cell_type": "code",
   "execution_count": 3,
   "id": "1fe63c44-b6b6-46ed-b70b-07b3798aca60",
   "metadata": {
    "tags": []
   },
   "outputs": [
    {
     "name": "stdout",
     "output_type": "stream",
     "text": [
      "<class 'pandas.core.frame.DataFrame'>\n",
      "RangeIndex: 23699 entries, 0 to 23698\n",
      "Data columns (total 22 columns):\n",
      " #   Column                Non-Null Count  Dtype  \n",
      "---  ------                --------------  -----  \n",
      " 0   total_images          23699 non-null  int64  \n",
      " 1   last_price            23699 non-null  float64\n",
      " 2   total_area            23699 non-null  float64\n",
      " 3   first_day_exposition  23699 non-null  object \n",
      " 4   rooms                 23699 non-null  int64  \n",
      " 5   ceiling_height        14504 non-null  float64\n",
      " 6   floors_total          23613 non-null  float64\n",
      " 7   living_area           21796 non-null  float64\n",
      " 8   floor                 23699 non-null  int64  \n",
      " 9   is_apartment          2775 non-null   object \n",
      " 10  studio                23699 non-null  bool   \n",
      " 11  open_plan             23699 non-null  bool   \n",
      " 12  kitchen_area          21421 non-null  float64\n",
      " 13  balcony               12180 non-null  float64\n",
      " 14  locality_name         23650 non-null  object \n",
      " 15  airports_nearest      18157 non-null  float64\n",
      " 16  cityCenters_nearest   18180 non-null  float64\n",
      " 17  parks_around3000      18181 non-null  float64\n",
      " 18  parks_nearest         8079 non-null   float64\n",
      " 19  ponds_around3000      18181 non-null  float64\n",
      " 20  ponds_nearest         9110 non-null   float64\n",
      " 21  days_exposition       20518 non-null  float64\n",
      "dtypes: bool(2), float64(14), int64(3), object(3)\n",
      "memory usage: 3.7+ MB\n"
     ]
    }
   ],
   "source": [
    "data.info()"
   ]
  },
  {
   "cell_type": "code",
   "execution_count": 4,
   "id": "b001ba29-ab26-4382-893d-9a2236a65943",
   "metadata": {
    "tags": []
   },
   "outputs": [
    {
     "data": {
      "text/html": [
       "<div>\n",
       "<style scoped>\n",
       "    .dataframe tbody tr th:only-of-type {\n",
       "        vertical-align: middle;\n",
       "    }\n",
       "\n",
       "    .dataframe tbody tr th {\n",
       "        vertical-align: top;\n",
       "    }\n",
       "\n",
       "    .dataframe thead th {\n",
       "        text-align: right;\n",
       "    }\n",
       "</style>\n",
       "<table border=\"1\" class=\"dataframe\">\n",
       "  <thead>\n",
       "    <tr style=\"text-align: right;\">\n",
       "      <th></th>\n",
       "      <th>total_images</th>\n",
       "      <th>last_price</th>\n",
       "      <th>total_area</th>\n",
       "      <th>first_day_exposition</th>\n",
       "      <th>rooms</th>\n",
       "      <th>ceiling_height</th>\n",
       "      <th>floors_total</th>\n",
       "      <th>living_area</th>\n",
       "      <th>floor</th>\n",
       "      <th>is_apartment</th>\n",
       "      <th>...</th>\n",
       "      <th>kitchen_area</th>\n",
       "      <th>balcony</th>\n",
       "      <th>locality_name</th>\n",
       "      <th>airports_nearest</th>\n",
       "      <th>cityCenters_nearest</th>\n",
       "      <th>parks_around3000</th>\n",
       "      <th>parks_nearest</th>\n",
       "      <th>ponds_around3000</th>\n",
       "      <th>ponds_nearest</th>\n",
       "      <th>days_exposition</th>\n",
       "    </tr>\n",
       "  </thead>\n",
       "  <tbody>\n",
       "    <tr>\n",
       "      <th>19365</th>\n",
       "      <td>20</td>\n",
       "      <td>2350000.0</td>\n",
       "      <td>65.3</td>\n",
       "      <td>2017-11-20T00:00:00</td>\n",
       "      <td>3</td>\n",
       "      <td>2.50</td>\n",
       "      <td>5.0</td>\n",
       "      <td>45.70</td>\n",
       "      <td>2</td>\n",
       "      <td>NaN</td>\n",
       "      <td>...</td>\n",
       "      <td>7.1</td>\n",
       "      <td>NaN</td>\n",
       "      <td>деревня Лопухинка</td>\n",
       "      <td>NaN</td>\n",
       "      <td>NaN</td>\n",
       "      <td>NaN</td>\n",
       "      <td>NaN</td>\n",
       "      <td>NaN</td>\n",
       "      <td>NaN</td>\n",
       "      <td>385.0</td>\n",
       "    </tr>\n",
       "    <tr>\n",
       "      <th>1601</th>\n",
       "      <td>18</td>\n",
       "      <td>4200000.0</td>\n",
       "      <td>50.5</td>\n",
       "      <td>2018-10-04T00:00:00</td>\n",
       "      <td>2</td>\n",
       "      <td>NaN</td>\n",
       "      <td>19.0</td>\n",
       "      <td>28.10</td>\n",
       "      <td>11</td>\n",
       "      <td>NaN</td>\n",
       "      <td>...</td>\n",
       "      <td>9.0</td>\n",
       "      <td>NaN</td>\n",
       "      <td>посёлок Бугры</td>\n",
       "      <td>NaN</td>\n",
       "      <td>NaN</td>\n",
       "      <td>NaN</td>\n",
       "      <td>NaN</td>\n",
       "      <td>NaN</td>\n",
       "      <td>NaN</td>\n",
       "      <td>51.0</td>\n",
       "    </tr>\n",
       "    <tr>\n",
       "      <th>22037</th>\n",
       "      <td>15</td>\n",
       "      <td>10900000.0</td>\n",
       "      <td>145.0</td>\n",
       "      <td>2017-04-17T00:00:00</td>\n",
       "      <td>2</td>\n",
       "      <td>3.50</td>\n",
       "      <td>2.0</td>\n",
       "      <td>39.00</td>\n",
       "      <td>2</td>\n",
       "      <td>False</td>\n",
       "      <td>...</td>\n",
       "      <td>10.0</td>\n",
       "      <td>0.0</td>\n",
       "      <td>Пушкин</td>\n",
       "      <td>15337.0</td>\n",
       "      <td>27490.0</td>\n",
       "      <td>3.0</td>\n",
       "      <td>216.0</td>\n",
       "      <td>3.0</td>\n",
       "      <td>153.0</td>\n",
       "      <td>188.0</td>\n",
       "    </tr>\n",
       "    <tr>\n",
       "      <th>7315</th>\n",
       "      <td>19</td>\n",
       "      <td>7250000.0</td>\n",
       "      <td>54.0</td>\n",
       "      <td>2019-02-26T00:00:00</td>\n",
       "      <td>2</td>\n",
       "      <td>2.50</td>\n",
       "      <td>12.0</td>\n",
       "      <td>32.00</td>\n",
       "      <td>6</td>\n",
       "      <td>NaN</td>\n",
       "      <td>...</td>\n",
       "      <td>10.1</td>\n",
       "      <td>2.0</td>\n",
       "      <td>Санкт-Петербург</td>\n",
       "      <td>33044.0</td>\n",
       "      <td>14208.0</td>\n",
       "      <td>0.0</td>\n",
       "      <td>NaN</td>\n",
       "      <td>0.0</td>\n",
       "      <td>NaN</td>\n",
       "      <td>11.0</td>\n",
       "    </tr>\n",
       "    <tr>\n",
       "      <th>4685</th>\n",
       "      <td>4</td>\n",
       "      <td>3900000.0</td>\n",
       "      <td>41.1</td>\n",
       "      <td>2018-01-11T00:00:00</td>\n",
       "      <td>1</td>\n",
       "      <td>NaN</td>\n",
       "      <td>24.0</td>\n",
       "      <td>NaN</td>\n",
       "      <td>23</td>\n",
       "      <td>NaN</td>\n",
       "      <td>...</td>\n",
       "      <td>NaN</td>\n",
       "      <td>NaN</td>\n",
       "      <td>посёлок Парголово</td>\n",
       "      <td>53561.0</td>\n",
       "      <td>19070.0</td>\n",
       "      <td>0.0</td>\n",
       "      <td>NaN</td>\n",
       "      <td>0.0</td>\n",
       "      <td>NaN</td>\n",
       "      <td>12.0</td>\n",
       "    </tr>\n",
       "    <tr>\n",
       "      <th>9033</th>\n",
       "      <td>10</td>\n",
       "      <td>7500000.0</td>\n",
       "      <td>67.0</td>\n",
       "      <td>2017-06-09T00:00:00</td>\n",
       "      <td>2</td>\n",
       "      <td>2.70</td>\n",
       "      <td>10.0</td>\n",
       "      <td>36.00</td>\n",
       "      <td>8</td>\n",
       "      <td>NaN</td>\n",
       "      <td>...</td>\n",
       "      <td>14.0</td>\n",
       "      <td>1.0</td>\n",
       "      <td>Санкт-Петербург</td>\n",
       "      <td>33707.0</td>\n",
       "      <td>12319.0</td>\n",
       "      <td>0.0</td>\n",
       "      <td>NaN</td>\n",
       "      <td>0.0</td>\n",
       "      <td>NaN</td>\n",
       "      <td>374.0</td>\n",
       "    </tr>\n",
       "    <tr>\n",
       "      <th>2368</th>\n",
       "      <td>9</td>\n",
       "      <td>4800000.0</td>\n",
       "      <td>77.6</td>\n",
       "      <td>2017-09-28T00:00:00</td>\n",
       "      <td>3</td>\n",
       "      <td>NaN</td>\n",
       "      <td>8.0</td>\n",
       "      <td>51.90</td>\n",
       "      <td>6</td>\n",
       "      <td>NaN</td>\n",
       "      <td>...</td>\n",
       "      <td>11.4</td>\n",
       "      <td>5.0</td>\n",
       "      <td>Красное Село</td>\n",
       "      <td>27678.0</td>\n",
       "      <td>31102.0</td>\n",
       "      <td>0.0</td>\n",
       "      <td>NaN</td>\n",
       "      <td>0.0</td>\n",
       "      <td>NaN</td>\n",
       "      <td>68.0</td>\n",
       "    </tr>\n",
       "    <tr>\n",
       "      <th>3629</th>\n",
       "      <td>8</td>\n",
       "      <td>5350000.0</td>\n",
       "      <td>60.6</td>\n",
       "      <td>2016-10-07T00:00:00</td>\n",
       "      <td>2</td>\n",
       "      <td>3.00</td>\n",
       "      <td>16.0</td>\n",
       "      <td>32.60</td>\n",
       "      <td>13</td>\n",
       "      <td>NaN</td>\n",
       "      <td>...</td>\n",
       "      <td>12.6</td>\n",
       "      <td>NaN</td>\n",
       "      <td>Санкт-Петербург</td>\n",
       "      <td>25740.0</td>\n",
       "      <td>14951.0</td>\n",
       "      <td>0.0</td>\n",
       "      <td>NaN</td>\n",
       "      <td>0.0</td>\n",
       "      <td>NaN</td>\n",
       "      <td>686.0</td>\n",
       "    </tr>\n",
       "    <tr>\n",
       "      <th>18569</th>\n",
       "      <td>18</td>\n",
       "      <td>7500000.0</td>\n",
       "      <td>70.0</td>\n",
       "      <td>2018-08-07T00:00:00</td>\n",
       "      <td>2</td>\n",
       "      <td>2.75</td>\n",
       "      <td>10.0</td>\n",
       "      <td>38.40</td>\n",
       "      <td>6</td>\n",
       "      <td>NaN</td>\n",
       "      <td>...</td>\n",
       "      <td>13.2</td>\n",
       "      <td>NaN</td>\n",
       "      <td>Санкт-Петербург</td>\n",
       "      <td>33365.0</td>\n",
       "      <td>14389.0</td>\n",
       "      <td>0.0</td>\n",
       "      <td>NaN</td>\n",
       "      <td>1.0</td>\n",
       "      <td>153.0</td>\n",
       "      <td>101.0</td>\n",
       "    </tr>\n",
       "    <tr>\n",
       "      <th>6547</th>\n",
       "      <td>9</td>\n",
       "      <td>2450000.0</td>\n",
       "      <td>45.0</td>\n",
       "      <td>2017-05-03T00:00:00</td>\n",
       "      <td>2</td>\n",
       "      <td>2.55</td>\n",
       "      <td>2.0</td>\n",
       "      <td>30.08</td>\n",
       "      <td>1</td>\n",
       "      <td>NaN</td>\n",
       "      <td>...</td>\n",
       "      <td>5.0</td>\n",
       "      <td>0.0</td>\n",
       "      <td>Всеволожск</td>\n",
       "      <td>NaN</td>\n",
       "      <td>NaN</td>\n",
       "      <td>NaN</td>\n",
       "      <td>NaN</td>\n",
       "      <td>NaN</td>\n",
       "      <td>NaN</td>\n",
       "      <td>37.0</td>\n",
       "    </tr>\n",
       "  </tbody>\n",
       "</table>\n",
       "<p>10 rows × 22 columns</p>\n",
       "</div>"
      ],
      "text/plain": [
       "       total_images  last_price  total_area first_day_exposition  rooms  \\\n",
       "19365            20   2350000.0        65.3  2017-11-20T00:00:00      3   \n",
       "1601             18   4200000.0        50.5  2018-10-04T00:00:00      2   \n",
       "22037            15  10900000.0       145.0  2017-04-17T00:00:00      2   \n",
       "7315             19   7250000.0        54.0  2019-02-26T00:00:00      2   \n",
       "4685              4   3900000.0        41.1  2018-01-11T00:00:00      1   \n",
       "9033             10   7500000.0        67.0  2017-06-09T00:00:00      2   \n",
       "2368              9   4800000.0        77.6  2017-09-28T00:00:00      3   \n",
       "3629              8   5350000.0        60.6  2016-10-07T00:00:00      2   \n",
       "18569            18   7500000.0        70.0  2018-08-07T00:00:00      2   \n",
       "6547              9   2450000.0        45.0  2017-05-03T00:00:00      2   \n",
       "\n",
       "       ceiling_height  floors_total  living_area  floor is_apartment  ...  \\\n",
       "19365            2.50           5.0        45.70      2          NaN  ...   \n",
       "1601              NaN          19.0        28.10     11          NaN  ...   \n",
       "22037            3.50           2.0        39.00      2        False  ...   \n",
       "7315             2.50          12.0        32.00      6          NaN  ...   \n",
       "4685              NaN          24.0          NaN     23          NaN  ...   \n",
       "9033             2.70          10.0        36.00      8          NaN  ...   \n",
       "2368              NaN           8.0        51.90      6          NaN  ...   \n",
       "3629             3.00          16.0        32.60     13          NaN  ...   \n",
       "18569            2.75          10.0        38.40      6          NaN  ...   \n",
       "6547             2.55           2.0        30.08      1          NaN  ...   \n",
       "\n",
       "       kitchen_area  balcony      locality_name  airports_nearest  \\\n",
       "19365           7.1      NaN  деревня Лопухинка               NaN   \n",
       "1601            9.0      NaN      посёлок Бугры               NaN   \n",
       "22037          10.0      0.0             Пушкин           15337.0   \n",
       "7315           10.1      2.0    Санкт-Петербург           33044.0   \n",
       "4685            NaN      NaN  посёлок Парголово           53561.0   \n",
       "9033           14.0      1.0    Санкт-Петербург           33707.0   \n",
       "2368           11.4      5.0       Красное Село           27678.0   \n",
       "3629           12.6      NaN    Санкт-Петербург           25740.0   \n",
       "18569          13.2      NaN    Санкт-Петербург           33365.0   \n",
       "6547            5.0      0.0         Всеволожск               NaN   \n",
       "\n",
       "      cityCenters_nearest  parks_around3000  parks_nearest  ponds_around3000  \\\n",
       "19365                 NaN               NaN            NaN               NaN   \n",
       "1601                  NaN               NaN            NaN               NaN   \n",
       "22037             27490.0               3.0          216.0               3.0   \n",
       "7315              14208.0               0.0            NaN               0.0   \n",
       "4685              19070.0               0.0            NaN               0.0   \n",
       "9033              12319.0               0.0            NaN               0.0   \n",
       "2368              31102.0               0.0            NaN               0.0   \n",
       "3629              14951.0               0.0            NaN               0.0   \n",
       "18569             14389.0               0.0            NaN               1.0   \n",
       "6547                  NaN               NaN            NaN               NaN   \n",
       "\n",
       "       ponds_nearest  days_exposition  \n",
       "19365            NaN            385.0  \n",
       "1601             NaN             51.0  \n",
       "22037          153.0            188.0  \n",
       "7315             NaN             11.0  \n",
       "4685             NaN             12.0  \n",
       "9033             NaN            374.0  \n",
       "2368             NaN             68.0  \n",
       "3629             NaN            686.0  \n",
       "18569          153.0            101.0  \n",
       "6547             NaN             37.0  \n",
       "\n",
       "[10 rows x 22 columns]"
      ]
     },
     "execution_count": 4,
     "metadata": {},
     "output_type": "execute_result"
    }
   ],
   "source": [
    "data.sample(10)"
   ]
  },
  {
   "cell_type": "code",
   "execution_count": 5,
   "id": "83cb6586-c382-4a44-b686-67c1cae5c6f8",
   "metadata": {
    "tags": []
   },
   "outputs": [
    {
     "data": {
      "text/plain": [
       "array([[<AxesSubplot:title={'center':'total_images'}>,\n",
       "        <AxesSubplot:title={'center':'last_price'}>,\n",
       "        <AxesSubplot:title={'center':'total_area'}>,\n",
       "        <AxesSubplot:title={'center':'rooms'}>],\n",
       "       [<AxesSubplot:title={'center':'ceiling_height'}>,\n",
       "        <AxesSubplot:title={'center':'floors_total'}>,\n",
       "        <AxesSubplot:title={'center':'living_area'}>,\n",
       "        <AxesSubplot:title={'center':'floor'}>],\n",
       "       [<AxesSubplot:title={'center':'kitchen_area'}>,\n",
       "        <AxesSubplot:title={'center':'balcony'}>,\n",
       "        <AxesSubplot:title={'center':'airports_nearest'}>,\n",
       "        <AxesSubplot:title={'center':'cityCenters_nearest'}>],\n",
       "       [<AxesSubplot:title={'center':'parks_around3000'}>,\n",
       "        <AxesSubplot:title={'center':'parks_nearest'}>,\n",
       "        <AxesSubplot:title={'center':'ponds_around3000'}>,\n",
       "        <AxesSubplot:title={'center':'ponds_nearest'}>],\n",
       "       [<AxesSubplot:title={'center':'days_exposition'}>, <AxesSubplot:>,\n",
       "        <AxesSubplot:>, <AxesSubplot:>]], dtype=object)"
      ]
     },
     "execution_count": 5,
     "metadata": {},
     "output_type": "execute_result"
    },
    {
     "data": {
      "image/png": "[encoded data removed]",
      "text/plain": [
       "<Figure size 1080x1440 with 20 Axes>"
      ]
     },
     "metadata": {
      "needs_background": "light"
     },
     "output_type": "display_data"
    }
   ],
   "source": [
    "data.hist(figsize=(15, 20))"
   ]
  },
  {
   "cell_type": "markdown",
   "id": "258ff8cb",
   "metadata": {},
   "source": [
    "<div class=\"alert alert-block alert-warning\">\n",
    " \n",
    "### Комментарий ревьюера\n",
    "    \n",
    "#### Совет\n",
    "\n",
    "Чтобы убрать текстовые предупреждения перед графиками, используй plt.show()"
   ]
  },
  {
   "cell_type": "code",
   "execution_count": 6,
   "id": "59d971de-2757-45b7-8bae-c5cf13d80367",
   "metadata": {
    "tags": []
   },
   "outputs": [
    {
     "data": {
      "text/plain": [
       "0"
      ]
     },
     "execution_count": 6,
     "metadata": {},
     "output_type": "execute_result"
    }
   ],
   "source": [
    "data.duplicated().sum() # дубликаты отсутствуют"
   ]
  },
  {
   "cell_type": "code",
   "execution_count": 7,
   "id": "2d43d9c5-4fd6-4420-8d6b-06b56f72db0e",
   "metadata": {
    "tags": []
   },
   "outputs": [
    {
     "data": {
      "text/plain": [
       "total_images                0\n",
       "open_plan                   0\n",
       "floor                       0\n",
       "rooms                       0\n",
       "studio                      0\n",
       "total_area                  0\n",
       "last_price                  0\n",
       "first_day_exposition        0\n",
       "locality_name              49\n",
       "floors_total               86\n",
       "living_area              1903\n",
       "kitchen_area             2278\n",
       "days_exposition          3181\n",
       "ponds_around3000         5518\n",
       "parks_around3000         5518\n",
       "cityCenters_nearest      5519\n",
       "airports_nearest         5542\n",
       "ceiling_height           9195\n",
       "balcony                 11519\n",
       "ponds_nearest           14589\n",
       "parks_nearest           15620\n",
       "is_apartment            20924\n",
       "dtype: int64"
      ]
     },
     "execution_count": 7,
     "metadata": {},
     "output_type": "execute_result"
    }
   ],
   "source": [
    "data.isna().sum().sort_values()"
   ]
  },
  {
   "cell_type": "markdown",
   "id": "49c11465-f29e-449b-b6e0-abed0fc612d5",
   "metadata": {},
   "source": [
    "#### 1.1 Мы видим, что всего в данных 23699 вхождений. Наименования столбцов корректны, тем не менее, необходимо сделать их чуть более понятными для восприятия, а также привести все заголовки к нижнему регистру.\n",
    "\n",
    "В большинстве столбцов есть пропущенные значения. Исправим!"
   ]
  },
  {
   "cell_type": "markdown",
   "id": "8f6a74ee",
   "metadata": {},
   "source": [
    "<div class=\"alert alert-block alert-success\">\n",
    " \n",
    "### Комментарий ревьюера\n",
    "    \n",
    "#### Успех\n",
    "    \n",
    "C данными мы ознакомились первично и можем двигаться дальше "
   ]
  },
  {
   "cell_type": "markdown",
   "id": "5399e868-6ffc-4277-9f27-5734f807aa9a",
   "metadata": {},
   "source": [
    "## 2. Выполните предобработку данных\n"
   ]
  },
  {
   "cell_type": "markdown",
   "id": "480e80e0-e2f9-4e4d-a7c4-e755da5b0514",
   "metadata": {},
   "source": [
    "На данном этапе, предлагаю переименовать названия колонок для большего удобства, а также отсортировать их в более логичной последовательности"
   ]
  },
  {
   "cell_type": "code",
   "execution_count": 8,
   "id": "5d7417c5-c042-41bd-8a31-c4e795ae8582",
   "metadata": {
    "tags": []
   },
   "outputs": [
    {
     "data": {
      "text/plain": [
       "['total_images',\n",
       " 'last_price',\n",
       " 'total_area',\n",
       " 'first_day_exposition',\n",
       " 'rooms',\n",
       " 'ceiling_height',\n",
       " 'floors_total',\n",
       " 'living_area',\n",
       " 'floor',\n",
       " 'is_apartment',\n",
       " 'studio',\n",
       " 'open_plan',\n",
       " 'kitchen_area',\n",
       " 'balcony',\n",
       " 'locality_name',\n",
       " 'airports_nearest',\n",
       " 'cityCenters_nearest',\n",
       " 'parks_around3000',\n",
       " 'parks_nearest',\n",
       " 'ponds_around3000',\n",
       " 'ponds_nearest',\n",
       " 'days_exposition']"
      ]
     },
     "execution_count": 8,
     "metadata": {},
     "output_type": "execute_result"
    }
   ],
   "source": [
    "data.columns.tolist()"
   ]
  },
  {
   "cell_type": "code",
   "execution_count": 9,
   "id": "69570901-7a02-4cba-b849-dad5edc6e914",
   "metadata": {
    "tags": []
   },
   "outputs": [],
   "source": [
    "# заранее переименуем столбцы для следующих шагов, добавив единицы измерения\n",
    "cols_to_rename = ['total_images',\n",
    "        'last_price',\n",
    "        'total_area_m2',\n",
    "        'first_day_exposition',\n",
    "        'number_of_rooms',\n",
    "        'ceiling_height_m',\n",
    "        'total_floors_in_house',\n",
    "        'living_area_m2',\n",
    "        'floor',\n",
    "        'is_apartment',\n",
    "        'is_studio',\n",
    "        'is_open_plan',\n",
    "        'kitchen_area_m2',\n",
    "        'number_of_balconies',\n",
    "        'locality_name',\n",
    "        'nearest_airport_distance_km',\n",
    "        'city_center_distance_km',\n",
    "        'parks_numbers_within_3km',\n",
    "        'nearest_park_distance_km',\n",
    "        'ponds_number_within_3km',\n",
    "        'nearest_pond_distance_km',\n",
    "        'days_exposition']\n",
    "\n",
    "data = data.set_axis(cols_to_rename, axis='columns')"
   ]
  },
  {
   "cell_type": "markdown",
   "id": "ac38a0bd",
   "metadata": {},
   "source": [
    "<div class=\"alert alert-block alert-warning\">\n",
    " \n",
    "### Комментарий ревьюера\n",
    "    \n",
    "#### Совет\n",
    "    \n",
    "Тебе можем пригодится такой способ приведения к нижнему регистру df.columns = df.columns.str.lower()"
   ]
  },
  {
   "cell_type": "markdown",
   "id": "98afb08c",
   "metadata": {},
   "source": [
    "В одной из итерраций кода я так и делал. Решил что в данной итеррации он не пригодится, так как переименование колонок происходило в ручном режиме."
   ]
  },
  {
   "cell_type": "code",
   "execution_count": 10,
   "id": "7ff59482-79fb-45c6-b51a-234556747399",
   "metadata": {
    "tags": []
   },
   "outputs": [],
   "source": [
    "# Уберем метры из столбцов с геоданными. Приведем все к километрам\n",
    "data['city_center_distance_km'] = round(data['city_center_distance_km'] / 1000)\n",
    "data['nearest_airport_distance_km'] = round(data['nearest_airport_distance_km'] / 1000)\n",
    "data['nearest_park_distance_km'] = round(data['nearest_park_distance_km'] / 1000)\n",
    "data['nearest_pond_distance_km'] = round(data['nearest_pond_distance_km'] / 1000)"
   ]
  },
  {
   "cell_type": "code",
   "execution_count": 11,
   "id": "29b6d930-9dd4-495b-b0a2-6cee6c3bd478",
   "metadata": {
    "tags": []
   },
   "outputs": [
    {
     "name": "stdout",
     "output_type": "stream",
     "text": [
      "<class 'pandas.core.frame.DataFrame'>\n",
      "RangeIndex: 23699 entries, 0 to 23698\n",
      "Data columns (total 22 columns):\n",
      " #   Column                       Non-Null Count  Dtype  \n",
      "---  ------                       --------------  -----  \n",
      " 0   total_images                 23699 non-null  int64  \n",
      " 1   last_price                   23699 non-null  float64\n",
      " 2   total_area_m2                23699 non-null  float64\n",
      " 3   first_day_exposition         23699 non-null  object \n",
      " 4   number_of_rooms              23699 non-null  int64  \n",
      " 5   ceiling_height_m             14504 non-null  float64\n",
      " 6   total_floors_in_house        23613 non-null  float64\n",
      " 7   living_area_m2               21796 non-null  float64\n",
      " 8   floor                        23699 non-null  int64  \n",
      " 9   is_apartment                 2775 non-null   object \n",
      " 10  is_studio                    23699 non-null  bool   \n",
      " 11  is_open_plan                 23699 non-null  bool   \n",
      " 12  kitchen_area_m2              21421 non-null  float64\n",
      " 13  number_of_balconies          12180 non-null  float64\n",
      " 14  locality_name                23650 non-null  object \n",
      " 15  nearest_airport_distance_km  18157 non-null  float64\n",
      " 16  city_center_distance_km      18180 non-null  float64\n",
      " 17  parks_numbers_within_3km     18181 non-null  float64\n",
      " 18  nearest_park_distance_km     8079 non-null   float64\n",
      " 19  ponds_number_within_3km      18181 non-null  float64\n",
      " 20  nearest_pond_distance_km     9110 non-null   float64\n",
      " 21  days_exposition              20518 non-null  float64\n",
      "dtypes: bool(2), float64(14), int64(3), object(3)\n",
      "memory usage: 3.7+ MB\n"
     ]
    }
   ],
   "source": [
    "data.info()"
   ]
  },
  {
   "cell_type": "markdown",
   "id": "a4f98f1a-6ca4-4943-9630-1eb2378ae912",
   "metadata": {},
   "source": [
    "#### 2.1 Теперь изменим типы данных в колонках first_day_exposition(datetime) и is_apartment(bool), а также уберем пропуски в \"балконах\""
   ]
  },
  {
   "cell_type": "code",
   "execution_count": 12,
   "id": "1accb798-6d4b-421a-9553-55e3029d980a",
   "metadata": {
    "tags": []
   },
   "outputs": [],
   "source": [
    "# Напишем функцию, которая будет передавать словарь, по которому будет проходиться цикл for, и заполнять пропущенные значения.\n",
    "# На данный момент можно уверенно заполнить 2 колонки из 22\n",
    "def fill_missing_values(df):\n",
    "    fill_methods = {\n",
    "        'is_apartment': False,\n",
    "        'number_of_balconies': 0,\n",
    "    }\n",
    "    \n",
    "    # заполняем пропученные значения \n",
    "    for column, value in fill_methods.items():\n",
    "        df[column].fillna(value, inplace=True)\n",
    "    \n",
    "    return data"
   ]
  },
  {
   "cell_type": "code",
   "execution_count": 13,
   "id": "c170723d-8ddf-4408-a2a0-633b6693db5f",
   "metadata": {
    "tags": []
   },
   "outputs": [
    {
     "name": "stdout",
     "output_type": "stream",
     "text": [
      "<class 'pandas.core.frame.DataFrame'>\n",
      "RangeIndex: 23699 entries, 0 to 23698\n",
      "Data columns (total 22 columns):\n",
      " #   Column                       Non-Null Count  Dtype  \n",
      "---  ------                       --------------  -----  \n",
      " 0   total_images                 23699 non-null  int64  \n",
      " 1   last_price                   23699 non-null  float64\n",
      " 2   total_area_m2                23699 non-null  float64\n",
      " 3   first_day_exposition         23699 non-null  object \n",
      " 4   number_of_rooms              23699 non-null  int64  \n",
      " 5   ceiling_height_m             14504 non-null  float64\n",
      " 6   total_floors_in_house        23613 non-null  float64\n",
      " 7   living_area_m2               21796 non-null  float64\n",
      " 8   floor                        23699 non-null  int64  \n",
      " 9   is_apartment                 23699 non-null  bool   \n",
      " 10  is_studio                    23699 non-null  bool   \n",
      " 11  is_open_plan                 23699 non-null  bool   \n",
      " 12  kitchen_area_m2              21421 non-null  float64\n",
      " 13  number_of_balconies          23699 non-null  float64\n",
      " 14  locality_name                23650 non-null  object \n",
      " 15  nearest_airport_distance_km  18157 non-null  float64\n",
      " 16  city_center_distance_km      18180 non-null  float64\n",
      " 17  parks_numbers_within_3km     18181 non-null  float64\n",
      " 18  nearest_park_distance_km     8079 non-null   float64\n",
      " 19  ponds_number_within_3km      18181 non-null  float64\n",
      " 20  nearest_pond_distance_km     9110 non-null   float64\n",
      " 21  days_exposition              20518 non-null  float64\n",
      "dtypes: bool(3), float64(14), int64(3), object(2)\n",
      "memory usage: 3.5+ MB\n"
     ]
    }
   ],
   "source": [
    "data = fill_missing_values(data)\n",
    "\n",
    "data.info()"
   ]
  },
  {
   "cell_type": "code",
   "execution_count": 14,
   "id": "5553db6c-80df-4dca-b484-d629c5c271af",
   "metadata": {
    "tags": []
   },
   "outputs": [
    {
     "data": {
      "text/plain": [
       "False    23649\n",
       "True        50\n",
       "Name: is_apartment, dtype: int64"
      ]
     },
     "execution_count": 14,
     "metadata": {},
     "output_type": "execute_result"
    }
   ],
   "source": [
    "data['is_apartment'].value_counts()"
   ]
  },
  {
   "cell_type": "code",
   "execution_count": 15,
   "id": "8e7bb9e1-308c-4779-b39f-fb3cf6d14c97",
   "metadata": {
    "tags": []
   },
   "outputs": [
    {
     "data": {
      "text/plain": [
       "total_images                       0\n",
       "number_of_balconies                0\n",
       "is_open_plan                       0\n",
       "is_apartment                       0\n",
       "floor                              0\n",
       "is_studio                          0\n",
       "number_of_rooms                    0\n",
       "first_day_exposition               0\n",
       "total_area_m2                      0\n",
       "last_price                         0\n",
       "locality_name                     49\n",
       "total_floors_in_house             86\n",
       "living_area_m2                  1903\n",
       "kitchen_area_m2                 2278\n",
       "days_exposition                 3181\n",
       "parks_numbers_within_3km        5518\n",
       "ponds_number_within_3km         5518\n",
       "city_center_distance_km         5519\n",
       "nearest_airport_distance_km     5542\n",
       "ceiling_height_m                9195\n",
       "nearest_pond_distance_km       14589\n",
       "nearest_park_distance_km       15620\n",
       "dtype: int64"
      ]
     },
     "execution_count": 15,
     "metadata": {},
     "output_type": "execute_result"
    }
   ],
   "source": [
    "data.isna().sum().sort_values()"
   ]
  },
  {
   "cell_type": "markdown",
   "id": "37ac2778",
   "metadata": {},
   "source": [
    "<div class=\"alert alert-block alert-warning\">\n",
    " \n",
    "### Комментарий ревьюера\n",
    "    \n",
    "#### Совет\n",
    "    \n",
    "Визуализировать пропуски можем таким способом https://russianblogs.com/article/5001266235/"
   ]
  },
  {
   "cell_type": "markdown",
   "id": "fe78e48f",
   "metadata": {},
   "source": [
    "Пожалуй, сейчас и попробуем(после заполнения пропусков)! Спасибо за еще один интересный инструмент."
   ]
  },
  {
   "cell_type": "code",
   "execution_count": 16,
   "id": "6f9715e1-7e22-49ed-8556-b932085d8193",
   "metadata": {
    "tags": []
   },
   "outputs": [
    {
     "data": {
      "text/plain": [
       "total_images                       0\n",
       "ponds_number_within_3km            0\n",
       "parks_numbers_within_3km           0\n",
       "number_of_balconies                0\n",
       "is_open_plan                       0\n",
       "is_apartment                       0\n",
       "floor                              0\n",
       "is_studio                          0\n",
       "number_of_rooms                    0\n",
       "first_day_exposition               0\n",
       "total_area_m2                      0\n",
       "last_price                         0\n",
       "locality_name                     49\n",
       "total_floors_in_house             86\n",
       "living_area_m2                  1903\n",
       "kitchen_area_m2                 2278\n",
       "days_exposition                 3181\n",
       "city_center_distance_km         5519\n",
       "nearest_airport_distance_km     5542\n",
       "ceiling_height_m                9195\n",
       "nearest_pond_distance_km       14589\n",
       "nearest_park_distance_km       15620\n",
       "dtype: int64"
      ]
     },
     "execution_count": 16,
     "metadata": {},
     "output_type": "execute_result"
    }
   ],
   "source": [
    "# Также, вполне возможно объяснить большое кол-во пропусков в парках и водоёмах в пределах 3х км. Вероятно, их там просто нет.\n",
    "# Заменим пропуски в этих значениях на 0\n",
    "\n",
    "data['parks_numbers_within_3km'] = data['parks_numbers_within_3km'].fillna(0).astype('int32')\n",
    "data['ponds_number_within_3km'] = data['ponds_number_within_3km'].fillna(0).astype('int32')\n",
    "\n",
    "data.isna().sum().sort_values()"
   ]
  },
  {
   "cell_type": "markdown",
   "id": "466cf1c5",
   "metadata": {},
   "source": [
    "<div class=\"alert alert-block alert-warning\">\n",
    " \n",
    "### Комментарий ревьюера\n",
    "    \n",
    "#### Совет\n",
    "    \n",
    "Для экономии вычислительной памяти лучше всего перевести в int32"
   ]
  },
  {
   "cell_type": "markdown",
   "id": "c1194135",
   "metadata": {},
   "source": [
    "Готово!"
   ]
  },
  {
   "cell_type": "code",
   "execution_count": 17,
   "id": "acc69365-6278-49de-bf07-4ef193cd86e4",
   "metadata": {
    "tags": []
   },
   "outputs": [
    {
     "data": {
      "text/plain": [
       "total_images                       0\n",
       "ponds_number_within_3km            0\n",
       "parks_numbers_within_3km           0\n",
       "locality_name                      0\n",
       "number_of_balconies                0\n",
       "is_open_plan                       0\n",
       "is_apartment                       0\n",
       "floor                              0\n",
       "is_studio                          0\n",
       "total_floors_in_house              0\n",
       "number_of_rooms                    0\n",
       "first_day_exposition               0\n",
       "total_area_m2                      0\n",
       "last_price                         0\n",
       "living_area_m2                  1865\n",
       "kitchen_area_m2                 2222\n",
       "days_exposition                 3171\n",
       "city_center_distance_km         5501\n",
       "nearest_airport_distance_km     5524\n",
       "ceiling_height_m                9084\n",
       "nearest_pond_distance_km       14529\n",
       "nearest_park_distance_km       15535\n",
       "dtype: int64"
      ]
     },
     "execution_count": 17,
     "metadata": {},
     "output_type": "execute_result"
    }
   ],
   "source": [
    "# Также, возможно удалить строки, в которых отсутствует наименование населенного пункта. Вероятно, что такие объявления даже не попадут в выдачу.\n",
    "# Общее количество этажей в доме имеет всего 86 пропусков, которые также можно удалить без последствий. \n",
    "data.dropna(subset=['total_floors_in_house', 'locality_name'], inplace=True)\n",
    "data['total_floors_in_house'] = data['total_floors_in_house'].astype('int32')# переводим этажность в целочисленный тип. Странно что до этого он был float\n",
    "\n",
    "data.isna().sum().sort_values()"
   ]
  },
  {
   "cell_type": "code",
   "execution_count": 18,
   "id": "2ecd02c9-21da-4860-a7c6-a9ef70ede164",
   "metadata": {
    "tags": []
   },
   "outputs": [],
   "source": [
    "# меняем тип данных в first_day_exposition\n",
    "data['first_day_exposition'] = pd.to_datetime(data['first_day_exposition'], format=\"%Y-%m-%dT%H:%M:%S\") \n",
    "\n",
    "#data.info()  # <--- раскомментируйте для проверки"
   ]
  },
  {
   "cell_type": "code",
   "execution_count": 19,
   "id": "72dbd7ca",
   "metadata": {},
   "outputs": [
    {
     "data": {
      "text/plain": [
       "<AxesSubplot:>"
      ]
     },
     "execution_count": 19,
     "metadata": {},
     "output_type": "execute_result"
    },
    {
     "data": {
      "image/png": "[encoded data removed]",
      "text/plain": [
       "<Figure size 1800x720 with 3 Axes>"
      ]
     },
     "metadata": {
      "needs_background": "light"
     },
     "output_type": "display_data"
    }
   ],
   "source": [
    "msno.bar(data)"
   ]
  },
  {
   "cell_type": "markdown",
   "id": "468da5e6",
   "metadata": {},
   "source": [
    "Визуализируем оставшиеся пропуски!"
   ]
  },
  {
   "cell_type": "markdown",
   "id": "abb357b6-1097-4ab2-ac4d-13a29063db6b",
   "metadata": {},
   "source": [
    "#### 2.2 Теперь, когда мы изменили типы данных, можем углубиться в поиски неявных дубликатов. Можем начать с locality_name"
   ]
  },
  {
   "cell_type": "code",
   "execution_count": 20,
   "id": "e9c7ea1b-bf4f-434a-895c-9990bf7e029b",
   "metadata": {
    "tags": []
   },
   "outputs": [
    {
     "name": "stdout",
     "output_type": "stream",
     "text": [
      "['Санкт-Петербург' 'посёлок Шушары' 'городской посёлок Янино-1'\n",
      " 'посёлок Парголово' 'посёлок Мурино' 'Ломоносов' 'Сертолово' 'Петергоф'\n",
      " 'Пушкин' 'деревня Кудрово' 'Коммунар' 'Колпино'\n",
      " 'поселок городского типа Красный Бор' 'Гатчина' 'поселок Мурино'\n",
      " 'деревня Фёдоровское' 'Выборг' 'Кронштадт' 'Кировск'\n",
      " 'деревня Новое Девяткино' 'посёлок Металлострой'\n",
      " 'посёлок городского типа Лебяжье' 'посёлок городского типа Сиверский'\n",
      " 'поселок Молодцово' 'поселок городского типа Кузьмоловский'\n",
      " 'садовое товарищество Новая Ропша' 'Павловск' 'деревня Пикколово'\n",
      " 'Всеволожск' 'Волхов' 'Кингисепп' 'Приозерск' 'Сестрорецк'\n",
      " 'деревня Куттузи' 'посёлок Аннино' 'поселок городского типа Ефимовский'\n",
      " 'посёлок Плодовое' 'деревня Заклинье' 'поселок Торковичи'\n",
      " 'поселок Первомайское' 'Красное Село' 'посёлок Понтонный' 'Сясьстрой'\n",
      " 'деревня Старая' 'деревня Лесколово' 'посёлок Новый Свет' 'Сланцы'\n",
      " 'село Путилово' 'Ивангород' 'Мурино' 'Шлиссельбург' 'Никольское'\n",
      " 'Зеленогорск' 'Сосновый Бор' 'поселок Новый Свет' 'деревня Оржицы'\n",
      " 'деревня Кальтино' 'Кудрово' 'поселок Романовка' 'посёлок Бугры'\n",
      " 'поселок Бугры' 'поселок городского типа Рощино' 'Кириши' 'Луга'\n",
      " 'Волосово' 'Отрадное' 'село Павлово' 'поселок Оредеж' 'село Копорье'\n",
      " 'посёлок городского типа Красный Бор' 'посёлок Молодёжное' 'Тихвин'\n",
      " 'посёлок Победа' 'деревня Нурма' 'поселок городского типа Синявино'\n",
      " 'Тосно' 'посёлок городского типа Кузьмоловский' 'посёлок Стрельна'\n",
      " 'Бокситогорск' 'посёлок Александровская' 'деревня Лопухинка' 'Пикалёво'\n",
      " 'поселок Терволово' 'поселок городского типа Советский' 'Подпорожье'\n",
      " 'посёлок Петровское' 'посёлок городского типа Токсово' 'поселок Сельцо'\n",
      " 'посёлок городского типа Вырица' 'деревня Кипень' 'деревня Келози'\n",
      " 'деревня Вартемяги' 'посёлок Тельмана' 'поселок Севастьяново'\n",
      " 'городской поселок Большая Ижора' 'городской посёлок Павлово'\n",
      " 'деревня Агалатово' 'посёлок Новогорелово'\n",
      " 'городской посёлок Лесогорский' 'деревня Лаголово' 'поселок Цвелодубово'\n",
      " 'поселок городского типа Рахья' 'поселок городского типа Вырица'\n",
      " 'деревня Белогорка' 'поселок Заводской' 'городской посёлок Новоселье'\n",
      " 'деревня Большие Колпаны' 'деревня Горбунки' 'деревня Батово'\n",
      " 'деревня Заневка' 'деревня Иссад' 'Приморск'\n",
      " 'городской посёлок Фёдоровское' 'деревня Мистолово' 'Новая Ладога'\n",
      " 'поселок Зимитицы' 'поселок Барышево' 'деревня Разметелево'\n",
      " 'поселок городского типа имени Свердлова' 'деревня Пеники'\n",
      " 'поселок Рябово' 'деревня Пудомяги' 'поселок станции Корнево'\n",
      " 'деревня Низино' 'деревня Бегуницы' 'посёлок Поляны'\n",
      " 'городской посёлок Мга' 'поселок Елизаветино'\n",
      " 'посёлок городского типа Кузнечное' 'деревня Колтуши'\n",
      " 'поселок Запорожское' 'посёлок городского типа Рощино'\n",
      " 'деревня Гостилицы' 'деревня Малое Карлино' 'посёлок Мичуринское'\n",
      " 'посёлок городского типа имени Морозова' 'посёлок Песочный'\n",
      " 'посёлок Сосново' 'деревня Аро' 'поселок Ильичёво'\n",
      " 'посёлок городского типа Тайцы' 'деревня Малое Верево' 'деревня Извара'\n",
      " 'поселок станции Вещево' 'село Паша' 'деревня Калитино'\n",
      " 'посёлок городского типа Ульяновка' 'деревня Чудской Бор'\n",
      " 'поселок городского типа Дубровка' 'деревня Мины' 'поселок Войсковицы'\n",
      " 'посёлок городского типа имени Свердлова' 'деревня Коркино'\n",
      " 'посёлок Ропша' 'поселок городского типа Приладожский' 'посёлок Щеглово'\n",
      " 'посёлок Гаврилово' 'Лодейное Поле' 'деревня Рабитицы'\n",
      " 'поселок городского типа Никольский' 'деревня Кузьмолово'\n",
      " 'деревня Малые Колпаны' 'поселок Тельмана' 'посёлок Петро-Славянка'\n",
      " 'городской посёлок Назия' 'посёлок Репино' 'посёлок Ильичёво'\n",
      " 'поселок Углово' 'поселок Старая Малукса' 'садовое товарищество Рахья'\n",
      " 'поселок Аннино' 'поселок Победа' 'деревня Меньково'\n",
      " 'деревня Старые Бегуницы' 'посёлок Сапёрный' 'поселок Семрино'\n",
      " 'поселок Гаврилово' 'поселок Глажево' 'поселок Кобринское'\n",
      " 'деревня Гарболово' 'деревня Юкки' 'поселок станции Приветнинское'\n",
      " 'деревня Мануйлово' 'деревня Пчева' 'поселок Поляны' 'поселок Цвылёво'\n",
      " 'поселок Мельниково' 'посёлок Пудость' 'посёлок Усть-Луга' 'Светогорск'\n",
      " 'Любань' 'поселок Селезнёво' 'поселок городского типа Рябово'\n",
      " 'Каменногорск' 'деревня Кривко' 'поселок Глебычево' 'деревня Парицы'\n",
      " 'поселок Жилпосёлок' 'посёлок городского типа Мга'\n",
      " 'городской поселок Янино-1' 'посёлок Войскорово' 'село Никольское'\n",
      " 'посёлок Терволово' 'поселок Стеклянный' 'посёлок городского типа Важины'\n",
      " 'посёлок Мыза-Ивановка' 'село Русско-Высоцкое'\n",
      " 'поселок городского типа Лебяжье' 'поселок городского типа Форносово'\n",
      " 'село Старая Ладога' 'поселок Житково' 'городской посёлок Виллози'\n",
      " 'деревня Лампово' 'деревня Шпаньково' 'деревня Лаврики' 'посёлок Сумино'\n",
      " 'посёлок Возрождение' 'деревня Старосиверская' 'посёлок Кикерино'\n",
      " 'поселок Возрождение' 'деревня Старое Хинколово' 'посёлок Пригородный'\n",
      " 'посёлок Торфяное' 'городской посёлок Будогощь' 'поселок Суходолье'\n",
      " 'поселок Красная Долина' 'деревня Хапо-Ое'\n",
      " 'поселок городского типа Дружная Горка' 'поселок Лисий Нос'\n",
      " 'деревня Яльгелево' 'посёлок Стеклянный' 'село Рождествено'\n",
      " 'деревня Старополье' 'посёлок Левашово' 'деревня Сяськелево'\n",
      " 'деревня Камышовка'\n",
      " 'садоводческое некоммерческое товарищество Лесная Поляна'\n",
      " 'деревня Хязельки' 'поселок Жилгородок' 'посёлок городского типа Павлово'\n",
      " 'деревня Ялгино' 'поселок Новый Учхоз' 'городской посёлок Рощино'\n",
      " 'поселок Гончарово' 'поселок Почап' 'посёлок Сапёрное'\n",
      " 'посёлок Платформа 69-й километр' 'поселок Каложицы' 'деревня Фалилеево'\n",
      " 'деревня Пельгора' 'поселок городского типа Лесогорский'\n",
      " 'деревня Торошковичи' 'посёлок Белоостров' 'посёлок Алексеевка'\n",
      " 'поселок Серебрянский' 'поселок Лукаши' 'поселок Петровское'\n",
      " 'деревня Щеглово' 'поселок Мичуринское' 'деревня Тарасово'\n",
      " 'поселок Кингисеппский' 'посёлок при железнодорожной станции Вещево'\n",
      " 'поселок Ушаки' 'деревня Котлы' 'деревня Сижно' 'деревня Торосово'\n",
      " 'посёлок Форт Красная Горка' 'деревня Новолисино'\n",
      " 'посёлок станции Громово' 'деревня Глинка' 'посёлок Мельниково'\n",
      " 'поселок городского типа Назия' 'деревня Старая Пустошь'\n",
      " 'поселок Коммунары' 'поселок Починок'\n",
      " 'посёлок городского типа Вознесенье' 'деревня Разбегаево'\n",
      " 'посёлок городского типа Рябово' 'поселок Гладкое'\n",
      " 'посёлок при железнодорожной станции Приветнинское' 'поселок Тёсово-4'\n",
      " 'посёлок Жилгородок' 'деревня Бор' 'посёлок Коробицыно'\n",
      " 'деревня Большая Вруда' 'деревня Курковицы' 'посёлок Лисий Нос'\n",
      " 'городской посёлок Советский' 'посёлок Кобралово' 'деревня Суоранда'\n",
      " 'поселок Кобралово' 'поселок городского типа Кондратьево'\n",
      " 'коттеджный поселок Счастье' 'поселок Любань' 'деревня Реброво'\n",
      " 'деревня Зимитицы' 'деревня Тойворово' 'поселок Семиозерье'\n",
      " 'поселок Лесное' 'поселок Совхозный' 'поселок Усть-Луга'\n",
      " 'посёлок Ленинское' 'посёлок Суйда' 'посёлок городского типа Форносово'\n",
      " 'деревня Нижние Осельки' 'посёлок станции Свирь' 'поселок Перово'\n",
      " 'Высоцк' 'поселок Гарболово' 'село Шум' 'поселок Котельский'\n",
      " 'поселок станции Лужайка' 'деревня Большая Пустомержа'\n",
      " 'поселок Красносельское' 'деревня Вахнова Кара' 'деревня Пижма'\n",
      " 'коттеджный поселок Кивеннапа Север' 'поселок Коробицыно'\n",
      " 'поселок Ромашки' 'посёлок Перово' 'деревня Каськово' 'деревня Куровицы'\n",
      " 'посёлок Плоское' 'поселок Сумино'\n",
      " 'поселок городского типа Большая Ижора' 'поселок Кирпичное'\n",
      " 'деревня Ям-Тесово' 'деревня Раздолье' 'деревня Терпилицы'\n",
      " 'поселок городского типа Токсово' 'посёлок Шугозеро' 'деревня Ваганово'\n",
      " 'поселок Пушное' 'садовое товарищество Садко' 'посёлок Усть-Ижора'\n",
      " 'деревня Выскатка' 'городской посёлок Свирьстрой' 'поселок Громово'\n",
      " 'деревня Кисельня' 'посёлок Старая Малукса' 'деревня Трубников Бор'\n",
      " 'поселок Калитино' 'посёлок Высокоключевой'\n",
      " 'садовое товарищество Приладожский' 'посёлок Пансионат Зелёный Бор'\n",
      " 'деревня Ненимяки' 'поселок Пансионат Зелёный Бор' 'деревня Снегирёвка'\n",
      " 'деревня Рапполово' 'деревня Пустынка' 'поселок Рабитицы'\n",
      " 'деревня Большой Сабск' 'деревня Русско' 'деревня Лупполово'\n",
      " 'деревня Большое Рейзино' 'деревня Малая Романовка' 'поселок Дружноселье'\n",
      " 'поселок Пчевжа' 'поселок Володарское' 'деревня Нижняя'\n",
      " 'коттеджный посёлок Лесное' 'деревня Тихковицы' 'деревня Борисова Грива'\n",
      " 'посёлок Дзержинского']\n",
      "364\n"
     ]
    }
   ],
   "source": [
    "print(data['locality_name'].unique()) # смотрим уникальные названия городов\n",
    "print(data['locality_name'].nunique()) # считаем уникальные названия городов"
   ]
  },
  {
   "cell_type": "markdown",
   "id": "4f61c3cf-2ebe-4c44-8f75-d7e0dc86289f",
   "metadata": {},
   "source": [
    "#### 2.3 Список внушительный. Имеет 364 уникальных наименования. Попробуем его негмного почистить"
   ]
  },
  {
   "cell_type": "code",
   "execution_count": 21,
   "id": "a72ef318-5be5-4621-a3a8-5c0d151806d1",
   "metadata": {
    "tags": []
   },
   "outputs": [],
   "source": [
    "data['locality_name']  = data['locality_name'].str.replace('ё', 'е') #\n",
    "data['locality_name']  = data['locality_name'].str.replace('поселок городского типа', 'поселок') #\n",
    "data['locality_name']  = data['locality_name'].str.replace('городской поселок', 'поселок') #\n",
    "data['locality_name']  = data['locality_name'].replace('Мурино', 'поселок Мурино') #\n",
    "#data['locality_name'].unique() #раскомментируйте для проверки"
   ]
  },
  {
   "cell_type": "code",
   "execution_count": 22,
   "id": "9f4b921e-fded-4042-b645-7f66e07cf64c",
   "metadata": {
    "tags": []
   },
   "outputs": [
    {
     "data": {
      "text/plain": [
       "321"
      ]
     },
     "execution_count": 22,
     "metadata": {},
     "output_type": "execute_result"
    }
   ],
   "source": [
    "data['locality_name'].nunique() # удалось избавиться от 43-х неявных дубликата"
   ]
  },
  {
   "cell_type": "markdown",
   "id": "ca6395cd",
   "metadata": {},
   "source": [
    "<div class=\"alert alert-block alert-success\">\n",
    " \n",
    "### Комментарий ревьюера\n",
    "    \n",
    "#### Успех\n",
    "    \n",
    "Отлично вышло здесь. Спасибо за то, что удалось посчитать количество оставшихся значений. "
   ]
  },
  {
   "cell_type": "markdown",
   "id": "f05f6768-b26a-4405-9798-689625080ca7",
   "metadata": {
    "tags": []
   },
   "source": [
    "#### 2.4 Посмотрим на ситуацию с потолками"
   ]
  },
  {
   "cell_type": "code",
   "execution_count": 23,
   "id": "472d9ae8-e041-4c36-8c52-1f9c2b4e22b2",
   "metadata": {},
   "outputs": [
    {
     "data": {
      "text/plain": [
       "count    14481.000000\n",
       "mean         2.771283\n",
       "std          1.261983\n",
       "min          1.000000\n",
       "25%          2.510000\n",
       "50%          2.650000\n",
       "75%          2.800000\n",
       "max        100.000000\n",
       "Name: ceiling_height_m, dtype: float64"
      ]
     },
     "execution_count": 23,
     "metadata": {},
     "output_type": "execute_result"
    }
   ],
   "source": [
    "data['ceiling_height_m'].describe()"
   ]
  },
  {
   "cell_type": "markdown",
   "id": "e57a726a-c5fc-48f6-9491-ec24221e6113",
   "metadata": {},
   "source": [
    "Видим что средняя высота потолков не сильно отличается от медианной. Стандартное отклонение примерно 1.2 м. "
   ]
  },
  {
   "cell_type": "code",
   "execution_count": 24,
   "id": "6e34be00-d00e-42b8-b317-33f444cc0c12",
   "metadata": {
    "tags": []
   },
   "outputs": [
    {
     "data": {
      "text/plain": [
       "<AxesSubplot:title={'center':'Высота потолков'}, ylabel='Frequency'>"
      ]
     },
     "execution_count": 24,
     "metadata": {},
     "output_type": "execute_result"
    },
    {
     "data": {
      "image/png": "[encoded data removed]",
      "text/plain": [
       "<Figure size 432x288 with 1 Axes>"
      ]
     },
     "metadata": {
      "needs_background": "light"
     },
     "output_type": "display_data"
    }
   ],
   "source": [
    "data['ceiling_height_m'].sort_values().plot(y='ceiling_height_m', kind='hist', grid=True , bins=50, range=(5, 100), title='Высота потолков') # построим гистограмму"
   ]
  },
  {
   "cell_type": "markdown",
   "id": "cd166533",
   "metadata": {},
   "source": [
    "<div class=\"alert alert-block alert-warning\">\n",
    " \n",
    "### Комментарий ревьюера\n",
    "    \n",
    "#### Совет\n",
    "    \n",
    "А давай привыкнем оформлять графики правильно. Не забывай давать им названия. Сделать это можно командой title()"
   ]
  },
  {
   "cell_type": "markdown",
   "id": "f4cc11bc",
   "metadata": {},
   "source": [
    "Готово!"
   ]
  },
  {
   "cell_type": "code",
   "execution_count": 25,
   "id": "dd22b126-3790-48d4-8242-81beb9020d8f",
   "metadata": {},
   "outputs": [],
   "source": [
    "#разделим на 10 высоту потолков больше 20м. Вероятно что могли быть допущены опечатки при заполнении.\n",
    "data.loc[data['ceiling_height_m'] >= 20, 'ceiling_height_m'] = data['ceiling_height_m'] / 10"
   ]
  },
  {
   "cell_type": "code",
   "execution_count": 26,
   "id": "67c8d504-a9f3-4ae7-99d6-75f8fdfe8c44",
   "metadata": {},
   "outputs": [
    {
     "data": {
      "text/plain": [
       "<AxesSubplot:title={'center':'Высота потолков'}, ylabel='Frequency'>"
      ]
     },
     "execution_count": 26,
     "metadata": {},
     "output_type": "execute_result"
    },
    {
     "data": {
      "image/png": "[encoded data removed]",
      "text/plain": [
       "<Figure size 432x288 with 1 Axes>"
      ]
     },
     "metadata": {
      "needs_background": "light"
     },
     "output_type": "display_data"
    }
   ],
   "source": [
    "data['ceiling_height_m'].sort_values().plot(y='ceiling_height_m', kind='hist', grid=True ,bins=10, range=(0, 2), title=\"Высота потолков\")"
   ]
  },
  {
   "cell_type": "code",
   "execution_count": 27,
   "id": "93001d37-48c5-4f75-a0f8-7d078c0bd839",
   "metadata": {
    "tags": []
   },
   "outputs": [
    {
     "data": {
      "text/plain": [
       "count    23565.000000\n",
       "mean         2.696022\n",
       "std          0.215921\n",
       "min          2.000000\n",
       "25%          2.600000\n",
       "50%          2.650000\n",
       "75%          2.700000\n",
       "max          5.000000\n",
       "Name: ceiling_height_m, dtype: float64"
      ]
     },
     "execution_count": 27,
     "metadata": {},
     "output_type": "execute_result"
    }
   ],
   "source": [
    "data.loc[(data['ceiling_height_m'] > 5) | (data['ceiling_height_m'] < 2) | (data['ceiling_height_m'].isna()), 'ceiling_height_m'] = data['ceiling_height_m'].median()\n",
    "data['ceiling_height_m'].describe() "
   ]
  },
  {
   "cell_type": "markdown",
   "id": "4dd38d43",
   "metadata": {},
   "source": [
    "<div class=\"alert alert-block alert-success\">\n",
    " \n",
    "### Комментарий ревьюера\n",
    "    \n",
    "#### Успех\n",
    "    \n",
    "Лишнее лаконичный получилось устранить. "
   ]
  },
  {
   "cell_type": "markdown",
   "id": "e13562fa-c5ba-48f9-92e2-062c3ec58159",
   "metadata": {},
   "source": [
    "Отклонение стало минимальным. Все квартали теперь имеют разницу в 0.5 метра. Далее, глянем остальные параметры."
   ]
  },
  {
   "cell_type": "code",
   "execution_count": 28,
   "id": "a9ff4ee2-def8-41dc-93d2-22322fb1f5f0",
   "metadata": {
    "tags": []
   },
   "outputs": [
    {
     "data": {
      "text/html": [
       "<div>\n",
       "<style scoped>\n",
       "    .dataframe tbody tr th:only-of-type {\n",
       "        vertical-align: middle;\n",
       "    }\n",
       "\n",
       "    .dataframe tbody tr th {\n",
       "        vertical-align: top;\n",
       "    }\n",
       "\n",
       "    .dataframe thead th {\n",
       "        text-align: right;\n",
       "    }\n",
       "</style>\n",
       "<table border=\"1\" class=\"dataframe\">\n",
       "  <thead>\n",
       "    <tr style=\"text-align: right;\">\n",
       "      <th></th>\n",
       "      <th>number_of_rooms</th>\n",
       "      <th>total_area_m2</th>\n",
       "      <th>ceiling_height_m</th>\n",
       "      <th>days_exposition</th>\n",
       "      <th>last_price</th>\n",
       "      <th>living_area_m2</th>\n",
       "      <th>kitchen_area_m2</th>\n",
       "      <th>floor</th>\n",
       "      <th>total_floors_in_house</th>\n",
       "    </tr>\n",
       "  </thead>\n",
       "  <tbody>\n",
       "    <tr>\n",
       "      <th>count</th>\n",
       "      <td>23565.0</td>\n",
       "      <td>23565.0</td>\n",
       "      <td>23565.0</td>\n",
       "      <td>20394.0</td>\n",
       "      <td>23565.0</td>\n",
       "      <td>21700.0</td>\n",
       "      <td>21343.0</td>\n",
       "      <td>23565.0</td>\n",
       "      <td>23565.0</td>\n",
       "    </tr>\n",
       "    <tr>\n",
       "      <th>mean</th>\n",
       "      <td>2.0</td>\n",
       "      <td>60.0</td>\n",
       "      <td>3.0</td>\n",
       "      <td>181.0</td>\n",
       "      <td>6540058.0</td>\n",
       "      <td>34.0</td>\n",
       "      <td>11.0</td>\n",
       "      <td>6.0</td>\n",
       "      <td>11.0</td>\n",
       "    </tr>\n",
       "    <tr>\n",
       "      <th>std</th>\n",
       "      <td>1.0</td>\n",
       "      <td>36.0</td>\n",
       "      <td>0.0</td>\n",
       "      <td>220.0</td>\n",
       "      <td>10910935.0</td>\n",
       "      <td>22.0</td>\n",
       "      <td>6.0</td>\n",
       "      <td>5.0</td>\n",
       "      <td>7.0</td>\n",
       "    </tr>\n",
       "    <tr>\n",
       "      <th>min</th>\n",
       "      <td>0.0</td>\n",
       "      <td>12.0</td>\n",
       "      <td>2.0</td>\n",
       "      <td>1.0</td>\n",
       "      <td>12190.0</td>\n",
       "      <td>2.0</td>\n",
       "      <td>1.0</td>\n",
       "      <td>1.0</td>\n",
       "      <td>1.0</td>\n",
       "    </tr>\n",
       "    <tr>\n",
       "      <th>25%</th>\n",
       "      <td>1.0</td>\n",
       "      <td>40.0</td>\n",
       "      <td>3.0</td>\n",
       "      <td>45.0</td>\n",
       "      <td>3400000.0</td>\n",
       "      <td>19.0</td>\n",
       "      <td>7.0</td>\n",
       "      <td>2.0</td>\n",
       "      <td>5.0</td>\n",
       "    </tr>\n",
       "    <tr>\n",
       "      <th>50%</th>\n",
       "      <td>2.0</td>\n",
       "      <td>52.0</td>\n",
       "      <td>3.0</td>\n",
       "      <td>95.0</td>\n",
       "      <td>4646000.0</td>\n",
       "      <td>30.0</td>\n",
       "      <td>9.0</td>\n",
       "      <td>4.0</td>\n",
       "      <td>9.0</td>\n",
       "    </tr>\n",
       "    <tr>\n",
       "      <th>75%</th>\n",
       "      <td>3.0</td>\n",
       "      <td>70.0</td>\n",
       "      <td>3.0</td>\n",
       "      <td>231.0</td>\n",
       "      <td>6790000.0</td>\n",
       "      <td>42.0</td>\n",
       "      <td>12.0</td>\n",
       "      <td>8.0</td>\n",
       "      <td>16.0</td>\n",
       "    </tr>\n",
       "    <tr>\n",
       "      <th>max</th>\n",
       "      <td>19.0</td>\n",
       "      <td>900.0</td>\n",
       "      <td>5.0</td>\n",
       "      <td>1580.0</td>\n",
       "      <td>763000000.0</td>\n",
       "      <td>410.0</td>\n",
       "      <td>112.0</td>\n",
       "      <td>33.0</td>\n",
       "      <td>60.0</td>\n",
       "    </tr>\n",
       "  </tbody>\n",
       "</table>\n",
       "</div>"
      ],
      "text/plain": [
       "       number_of_rooms  total_area_m2  ceiling_height_m  days_exposition  \\\n",
       "count          23565.0        23565.0           23565.0          20394.0   \n",
       "mean               2.0           60.0               3.0            181.0   \n",
       "std                1.0           36.0               0.0            220.0   \n",
       "min                0.0           12.0               2.0              1.0   \n",
       "25%                1.0           40.0               3.0             45.0   \n",
       "50%                2.0           52.0               3.0             95.0   \n",
       "75%                3.0           70.0               3.0            231.0   \n",
       "max               19.0          900.0               5.0           1580.0   \n",
       "\n",
       "        last_price  living_area_m2  kitchen_area_m2    floor  \\\n",
       "count      23565.0         21700.0          21343.0  23565.0   \n",
       "mean     6540058.0            34.0             11.0      6.0   \n",
       "std     10910935.0            22.0              6.0      5.0   \n",
       "min        12190.0             2.0              1.0      1.0   \n",
       "25%      3400000.0            19.0              7.0      2.0   \n",
       "50%      4646000.0            30.0              9.0      4.0   \n",
       "75%      6790000.0            42.0             12.0      8.0   \n",
       "max    763000000.0           410.0            112.0     33.0   \n",
       "\n",
       "       total_floors_in_house  \n",
       "count                23565.0  \n",
       "mean                    11.0  \n",
       "std                      7.0  \n",
       "min                      1.0  \n",
       "25%                      5.0  \n",
       "50%                      9.0  \n",
       "75%                     16.0  \n",
       "max                     60.0  "
      ]
     },
     "execution_count": 28,
     "metadata": {},
     "output_type": "execute_result"
    }
   ],
   "source": [
    "data[['number_of_rooms', 'total_area_m2', 'ceiling_height_m', 'days_exposition', 'last_price', \n",
    "      'living_area_m2',  'kitchen_area_m2', 'floor', 'total_floors_in_house']].describe().round()"
   ]
  },
  {
   "cell_type": "code",
   "execution_count": 29,
   "id": "b0ce238f-eba7-4576-b045-647273129c39",
   "metadata": {
    "tags": []
   },
   "outputs": [
    {
     "data": {
      "text/html": [
       "<div>\n",
       "<style scoped>\n",
       "    .dataframe tbody tr th:only-of-type {\n",
       "        vertical-align: middle;\n",
       "    }\n",
       "\n",
       "    .dataframe tbody tr th {\n",
       "        vertical-align: top;\n",
       "    }\n",
       "\n",
       "    .dataframe thead th {\n",
       "        text-align: right;\n",
       "    }\n",
       "</style>\n",
       "<table border=\"1\" class=\"dataframe\">\n",
       "  <thead>\n",
       "    <tr style=\"text-align: right;\">\n",
       "      <th></th>\n",
       "      <th>total_images</th>\n",
       "      <th>last_price</th>\n",
       "      <th>total_area_m2</th>\n",
       "      <th>first_day_exposition</th>\n",
       "      <th>number_of_rooms</th>\n",
       "      <th>ceiling_height_m</th>\n",
       "      <th>total_floors_in_house</th>\n",
       "      <th>living_area_m2</th>\n",
       "      <th>floor</th>\n",
       "      <th>is_apartment</th>\n",
       "      <th>...</th>\n",
       "      <th>kitchen_area_m2</th>\n",
       "      <th>number_of_balconies</th>\n",
       "      <th>locality_name</th>\n",
       "      <th>nearest_airport_distance_km</th>\n",
       "      <th>city_center_distance_km</th>\n",
       "      <th>parks_numbers_within_3km</th>\n",
       "      <th>nearest_park_distance_km</th>\n",
       "      <th>ponds_number_within_3km</th>\n",
       "      <th>nearest_pond_distance_km</th>\n",
       "      <th>days_exposition</th>\n",
       "    </tr>\n",
       "  </thead>\n",
       "  <tbody>\n",
       "    <tr>\n",
       "      <th>144</th>\n",
       "      <td>1</td>\n",
       "      <td>2450000.0</td>\n",
       "      <td>27.00</td>\n",
       "      <td>2017-03-30</td>\n",
       "      <td>0</td>\n",
       "      <td>2.65</td>\n",
       "      <td>24</td>\n",
       "      <td>15.50</td>\n",
       "      <td>2</td>\n",
       "      <td>False</td>\n",
       "      <td>...</td>\n",
       "      <td>NaN</td>\n",
       "      <td>2.0</td>\n",
       "      <td>поселок Мурино</td>\n",
       "      <td>NaN</td>\n",
       "      <td>NaN</td>\n",
       "      <td>0</td>\n",
       "      <td>NaN</td>\n",
       "      <td>0</td>\n",
       "      <td>NaN</td>\n",
       "      <td>181.0</td>\n",
       "    </tr>\n",
       "    <tr>\n",
       "      <th>349</th>\n",
       "      <td>4</td>\n",
       "      <td>2320000.0</td>\n",
       "      <td>25.00</td>\n",
       "      <td>2017-09-27</td>\n",
       "      <td>0</td>\n",
       "      <td>2.65</td>\n",
       "      <td>14</td>\n",
       "      <td>17.00</td>\n",
       "      <td>1</td>\n",
       "      <td>False</td>\n",
       "      <td>...</td>\n",
       "      <td>NaN</td>\n",
       "      <td>0.0</td>\n",
       "      <td>деревня Кудрово</td>\n",
       "      <td>NaN</td>\n",
       "      <td>NaN</td>\n",
       "      <td>0</td>\n",
       "      <td>NaN</td>\n",
       "      <td>0</td>\n",
       "      <td>NaN</td>\n",
       "      <td>45.0</td>\n",
       "    </tr>\n",
       "    <tr>\n",
       "      <th>440</th>\n",
       "      <td>8</td>\n",
       "      <td>2480000.0</td>\n",
       "      <td>27.11</td>\n",
       "      <td>2018-03-12</td>\n",
       "      <td>0</td>\n",
       "      <td>2.65</td>\n",
       "      <td>17</td>\n",
       "      <td>24.75</td>\n",
       "      <td>4</td>\n",
       "      <td>False</td>\n",
       "      <td>...</td>\n",
       "      <td>NaN</td>\n",
       "      <td>2.0</td>\n",
       "      <td>Санкт-Петербург</td>\n",
       "      <td>38.0</td>\n",
       "      <td>15.0</td>\n",
       "      <td>0</td>\n",
       "      <td>NaN</td>\n",
       "      <td>2</td>\n",
       "      <td>1.0</td>\n",
       "      <td>64.0</td>\n",
       "    </tr>\n",
       "    <tr>\n",
       "      <th>508</th>\n",
       "      <td>0</td>\n",
       "      <td>3375000.0</td>\n",
       "      <td>34.40</td>\n",
       "      <td>2017-03-28</td>\n",
       "      <td>0</td>\n",
       "      <td>2.65</td>\n",
       "      <td>26</td>\n",
       "      <td>24.30</td>\n",
       "      <td>19</td>\n",
       "      <td>False</td>\n",
       "      <td>...</td>\n",
       "      <td>NaN</td>\n",
       "      <td>1.0</td>\n",
       "      <td>поселок Парголово</td>\n",
       "      <td>53.0</td>\n",
       "      <td>19.0</td>\n",
       "      <td>0</td>\n",
       "      <td>NaN</td>\n",
       "      <td>1</td>\n",
       "      <td>1.0</td>\n",
       "      <td>430.0</td>\n",
       "    </tr>\n",
       "    <tr>\n",
       "      <th>608</th>\n",
       "      <td>2</td>\n",
       "      <td>1850000.0</td>\n",
       "      <td>25.00</td>\n",
       "      <td>2019-02-20</td>\n",
       "      <td>0</td>\n",
       "      <td>2.65</td>\n",
       "      <td>10</td>\n",
       "      <td>NaN</td>\n",
       "      <td>7</td>\n",
       "      <td>False</td>\n",
       "      <td>...</td>\n",
       "      <td>NaN</td>\n",
       "      <td>0.0</td>\n",
       "      <td>поселок Шушары</td>\n",
       "      <td>NaN</td>\n",
       "      <td>NaN</td>\n",
       "      <td>0</td>\n",
       "      <td>NaN</td>\n",
       "      <td>0</td>\n",
       "      <td>NaN</td>\n",
       "      <td>29.0</td>\n",
       "    </tr>\n",
       "    <tr>\n",
       "      <th>...</th>\n",
       "      <td>...</td>\n",
       "      <td>...</td>\n",
       "      <td>...</td>\n",
       "      <td>...</td>\n",
       "      <td>...</td>\n",
       "      <td>...</td>\n",
       "      <td>...</td>\n",
       "      <td>...</td>\n",
       "      <td>...</td>\n",
       "      <td>...</td>\n",
       "      <td>...</td>\n",
       "      <td>...</td>\n",
       "      <td>...</td>\n",
       "      <td>...</td>\n",
       "      <td>...</td>\n",
       "      <td>...</td>\n",
       "      <td>...</td>\n",
       "      <td>...</td>\n",
       "      <td>...</td>\n",
       "      <td>...</td>\n",
       "      <td>...</td>\n",
       "    </tr>\n",
       "    <tr>\n",
       "      <th>23210</th>\n",
       "      <td>7</td>\n",
       "      <td>3200000.0</td>\n",
       "      <td>26.00</td>\n",
       "      <td>2017-09-01</td>\n",
       "      <td>0</td>\n",
       "      <td>2.65</td>\n",
       "      <td>25</td>\n",
       "      <td>18.00</td>\n",
       "      <td>16</td>\n",
       "      <td>False</td>\n",
       "      <td>...</td>\n",
       "      <td>NaN</td>\n",
       "      <td>0.0</td>\n",
       "      <td>Санкт-Петербург</td>\n",
       "      <td>11.0</td>\n",
       "      <td>13.0</td>\n",
       "      <td>0</td>\n",
       "      <td>NaN</td>\n",
       "      <td>1</td>\n",
       "      <td>1.0</td>\n",
       "      <td>14.0</td>\n",
       "    </tr>\n",
       "    <tr>\n",
       "      <th>23442</th>\n",
       "      <td>0</td>\n",
       "      <td>2500000.0</td>\n",
       "      <td>27.70</td>\n",
       "      <td>2017-09-28</td>\n",
       "      <td>0</td>\n",
       "      <td>2.65</td>\n",
       "      <td>24</td>\n",
       "      <td>18.00</td>\n",
       "      <td>4</td>\n",
       "      <td>False</td>\n",
       "      <td>...</td>\n",
       "      <td>NaN</td>\n",
       "      <td>2.0</td>\n",
       "      <td>поселок Мурино</td>\n",
       "      <td>NaN</td>\n",
       "      <td>NaN</td>\n",
       "      <td>0</td>\n",
       "      <td>NaN</td>\n",
       "      <td>0</td>\n",
       "      <td>NaN</td>\n",
       "      <td>4.0</td>\n",
       "    </tr>\n",
       "    <tr>\n",
       "      <th>23554</th>\n",
       "      <td>15</td>\n",
       "      <td>3350000.0</td>\n",
       "      <td>26.00</td>\n",
       "      <td>2018-09-07</td>\n",
       "      <td>0</td>\n",
       "      <td>2.65</td>\n",
       "      <td>19</td>\n",
       "      <td>NaN</td>\n",
       "      <td>8</td>\n",
       "      <td>False</td>\n",
       "      <td>...</td>\n",
       "      <td>NaN</td>\n",
       "      <td>0.0</td>\n",
       "      <td>Санкт-Петербург</td>\n",
       "      <td>18.0</td>\n",
       "      <td>17.0</td>\n",
       "      <td>0</td>\n",
       "      <td>NaN</td>\n",
       "      <td>2</td>\n",
       "      <td>0.0</td>\n",
       "      <td>31.0</td>\n",
       "    </tr>\n",
       "    <tr>\n",
       "      <th>23592</th>\n",
       "      <td>10</td>\n",
       "      <td>1450000.0</td>\n",
       "      <td>29.00</td>\n",
       "      <td>2017-11-11</td>\n",
       "      <td>0</td>\n",
       "      <td>2.65</td>\n",
       "      <td>9</td>\n",
       "      <td>18.00</td>\n",
       "      <td>8</td>\n",
       "      <td>False</td>\n",
       "      <td>...</td>\n",
       "      <td>NaN</td>\n",
       "      <td>2.0</td>\n",
       "      <td>Никольское</td>\n",
       "      <td>NaN</td>\n",
       "      <td>NaN</td>\n",
       "      <td>0</td>\n",
       "      <td>NaN</td>\n",
       "      <td>0</td>\n",
       "      <td>NaN</td>\n",
       "      <td>82.0</td>\n",
       "    </tr>\n",
       "    <tr>\n",
       "      <th>23637</th>\n",
       "      <td>8</td>\n",
       "      <td>2350000.0</td>\n",
       "      <td>26.00</td>\n",
       "      <td>2018-06-26</td>\n",
       "      <td>0</td>\n",
       "      <td>2.65</td>\n",
       "      <td>25</td>\n",
       "      <td>17.00</td>\n",
       "      <td>4</td>\n",
       "      <td>False</td>\n",
       "      <td>...</td>\n",
       "      <td>NaN</td>\n",
       "      <td>2.0</td>\n",
       "      <td>поселок Бугры</td>\n",
       "      <td>NaN</td>\n",
       "      <td>NaN</td>\n",
       "      <td>0</td>\n",
       "      <td>NaN</td>\n",
       "      <td>0</td>\n",
       "      <td>NaN</td>\n",
       "      <td>207.0</td>\n",
       "    </tr>\n",
       "  </tbody>\n",
       "</table>\n",
       "<p>194 rows × 22 columns</p>\n",
       "</div>"
      ],
      "text/plain": [
       "       total_images  last_price  total_area_m2 first_day_exposition  \\\n",
       "144               1   2450000.0          27.00           2017-03-30   \n",
       "349               4   2320000.0          25.00           2017-09-27   \n",
       "440               8   2480000.0          27.11           2018-03-12   \n",
       "508               0   3375000.0          34.40           2017-03-28   \n",
       "608               2   1850000.0          25.00           2019-02-20   \n",
       "...             ...         ...            ...                  ...   \n",
       "23210             7   3200000.0          26.00           2017-09-01   \n",
       "23442             0   2500000.0          27.70           2017-09-28   \n",
       "23554            15   3350000.0          26.00           2018-09-07   \n",
       "23592            10   1450000.0          29.00           2017-11-11   \n",
       "23637             8   2350000.0          26.00           2018-06-26   \n",
       "\n",
       "       number_of_rooms  ceiling_height_m  total_floors_in_house  \\\n",
       "144                  0              2.65                     24   \n",
       "349                  0              2.65                     14   \n",
       "440                  0              2.65                     17   \n",
       "508                  0              2.65                     26   \n",
       "608                  0              2.65                     10   \n",
       "...                ...               ...                    ...   \n",
       "23210                0              2.65                     25   \n",
       "23442                0              2.65                     24   \n",
       "23554                0              2.65                     19   \n",
       "23592                0              2.65                      9   \n",
       "23637                0              2.65                     25   \n",
       "\n",
       "       living_area_m2  floor  is_apartment  ...  kitchen_area_m2  \\\n",
       "144             15.50      2         False  ...              NaN   \n",
       "349             17.00      1         False  ...              NaN   \n",
       "440             24.75      4         False  ...              NaN   \n",
       "508             24.30     19         False  ...              NaN   \n",
       "608               NaN      7         False  ...              NaN   \n",
       "...               ...    ...           ...  ...              ...   \n",
       "23210           18.00     16         False  ...              NaN   \n",
       "23442           18.00      4         False  ...              NaN   \n",
       "23554             NaN      8         False  ...              NaN   \n",
       "23592           18.00      8         False  ...              NaN   \n",
       "23637           17.00      4         False  ...              NaN   \n",
       "\n",
       "       number_of_balconies      locality_name  nearest_airport_distance_km  \\\n",
       "144                    2.0     поселок Мурино                          NaN   \n",
       "349                    0.0    деревня Кудрово                          NaN   \n",
       "440                    2.0    Санкт-Петербург                         38.0   \n",
       "508                    1.0  поселок Парголово                         53.0   \n",
       "608                    0.0     поселок Шушары                          NaN   \n",
       "...                    ...                ...                          ...   \n",
       "23210                  0.0    Санкт-Петербург                         11.0   \n",
       "23442                  2.0     поселок Мурино                          NaN   \n",
       "23554                  0.0    Санкт-Петербург                         18.0   \n",
       "23592                  2.0         Никольское                          NaN   \n",
       "23637                  2.0      поселок Бугры                          NaN   \n",
       "\n",
       "      city_center_distance_km  parks_numbers_within_3km  \\\n",
       "144                       NaN                         0   \n",
       "349                       NaN                         0   \n",
       "440                      15.0                         0   \n",
       "508                      19.0                         0   \n",
       "608                       NaN                         0   \n",
       "...                       ...                       ...   \n",
       "23210                    13.0                         0   \n",
       "23442                     NaN                         0   \n",
       "23554                    17.0                         0   \n",
       "23592                     NaN                         0   \n",
       "23637                     NaN                         0   \n",
       "\n",
       "       nearest_park_distance_km  ponds_number_within_3km  \\\n",
       "144                         NaN                        0   \n",
       "349                         NaN                        0   \n",
       "440                         NaN                        2   \n",
       "508                         NaN                        1   \n",
       "608                         NaN                        0   \n",
       "...                         ...                      ...   \n",
       "23210                       NaN                        1   \n",
       "23442                       NaN                        0   \n",
       "23554                       NaN                        2   \n",
       "23592                       NaN                        0   \n",
       "23637                       NaN                        0   \n",
       "\n",
       "       nearest_pond_distance_km  days_exposition  \n",
       "144                         NaN            181.0  \n",
       "349                         NaN             45.0  \n",
       "440                         1.0             64.0  \n",
       "508                         1.0            430.0  \n",
       "608                         NaN             29.0  \n",
       "...                         ...              ...  \n",
       "23210                       1.0             14.0  \n",
       "23442                       NaN              4.0  \n",
       "23554                       0.0             31.0  \n",
       "23592                       NaN             82.0  \n",
       "23637                       NaN            207.0  \n",
       "\n",
       "[194 rows x 22 columns]"
      ]
     },
     "execution_count": 29,
     "metadata": {},
     "output_type": "execute_result"
    }
   ],
   "source": [
    "#посмотрим сколько квартир имеют 0 комнат\n",
    "data.query('number_of_rooms == 0')"
   ]
  },
  {
   "cell_type": "markdown",
   "id": "bfc8a70c-51ed-4b97-a1e3-703111370f42",
   "metadata": {},
   "source": [
    "Нашли 194 квартиры, в которых 0 комнат"
   ]
  },
  {
   "cell_type": "code",
   "execution_count": 30,
   "id": "f8953652-29d8-40cc-88fd-de5fbef21d91",
   "metadata": {
    "tags": []
   },
   "outputs": [
    {
     "data": {
      "text/html": [
       "<div>\n",
       "<style scoped>\n",
       "    .dataframe tbody tr th:only-of-type {\n",
       "        vertical-align: middle;\n",
       "    }\n",
       "\n",
       "    .dataframe tbody tr th {\n",
       "        vertical-align: top;\n",
       "    }\n",
       "\n",
       "    .dataframe thead th {\n",
       "        text-align: right;\n",
       "    }\n",
       "</style>\n",
       "<table border=\"1\" class=\"dataframe\">\n",
       "  <thead>\n",
       "    <tr style=\"text-align: right;\">\n",
       "      <th></th>\n",
       "      <th>total_images</th>\n",
       "      <th>last_price</th>\n",
       "      <th>total_area_m2</th>\n",
       "      <th>first_day_exposition</th>\n",
       "      <th>number_of_rooms</th>\n",
       "      <th>ceiling_height_m</th>\n",
       "      <th>total_floors_in_house</th>\n",
       "      <th>living_area_m2</th>\n",
       "      <th>floor</th>\n",
       "      <th>is_apartment</th>\n",
       "      <th>...</th>\n",
       "      <th>kitchen_area_m2</th>\n",
       "      <th>number_of_balconies</th>\n",
       "      <th>locality_name</th>\n",
       "      <th>nearest_airport_distance_km</th>\n",
       "      <th>city_center_distance_km</th>\n",
       "      <th>parks_numbers_within_3km</th>\n",
       "      <th>nearest_park_distance_km</th>\n",
       "      <th>ponds_number_within_3km</th>\n",
       "      <th>nearest_pond_distance_km</th>\n",
       "      <th>days_exposition</th>\n",
       "    </tr>\n",
       "  </thead>\n",
       "  <tbody>\n",
       "    <tr>\n",
       "      <th>144</th>\n",
       "      <td>1</td>\n",
       "      <td>2450000.0</td>\n",
       "      <td>27.00</td>\n",
       "      <td>2017-03-30</td>\n",
       "      <td>0</td>\n",
       "      <td>2.65</td>\n",
       "      <td>24</td>\n",
       "      <td>15.50</td>\n",
       "      <td>2</td>\n",
       "      <td>False</td>\n",
       "      <td>...</td>\n",
       "      <td>NaN</td>\n",
       "      <td>2.0</td>\n",
       "      <td>поселок Мурино</td>\n",
       "      <td>NaN</td>\n",
       "      <td>NaN</td>\n",
       "      <td>0</td>\n",
       "      <td>NaN</td>\n",
       "      <td>0</td>\n",
       "      <td>NaN</td>\n",
       "      <td>181.0</td>\n",
       "    </tr>\n",
       "    <tr>\n",
       "      <th>440</th>\n",
       "      <td>8</td>\n",
       "      <td>2480000.0</td>\n",
       "      <td>27.11</td>\n",
       "      <td>2018-03-12</td>\n",
       "      <td>0</td>\n",
       "      <td>2.65</td>\n",
       "      <td>17</td>\n",
       "      <td>24.75</td>\n",
       "      <td>4</td>\n",
       "      <td>False</td>\n",
       "      <td>...</td>\n",
       "      <td>NaN</td>\n",
       "      <td>2.0</td>\n",
       "      <td>Санкт-Петербург</td>\n",
       "      <td>38.0</td>\n",
       "      <td>15.0</td>\n",
       "      <td>0</td>\n",
       "      <td>NaN</td>\n",
       "      <td>2</td>\n",
       "      <td>1.0</td>\n",
       "      <td>64.0</td>\n",
       "    </tr>\n",
       "    <tr>\n",
       "      <th>608</th>\n",
       "      <td>2</td>\n",
       "      <td>1850000.0</td>\n",
       "      <td>25.00</td>\n",
       "      <td>2019-02-20</td>\n",
       "      <td>0</td>\n",
       "      <td>2.65</td>\n",
       "      <td>10</td>\n",
       "      <td>NaN</td>\n",
       "      <td>7</td>\n",
       "      <td>False</td>\n",
       "      <td>...</td>\n",
       "      <td>NaN</td>\n",
       "      <td>0.0</td>\n",
       "      <td>поселок Шушары</td>\n",
       "      <td>NaN</td>\n",
       "      <td>NaN</td>\n",
       "      <td>0</td>\n",
       "      <td>NaN</td>\n",
       "      <td>0</td>\n",
       "      <td>NaN</td>\n",
       "      <td>29.0</td>\n",
       "    </tr>\n",
       "    <tr>\n",
       "      <th>697</th>\n",
       "      <td>12</td>\n",
       "      <td>2500000.0</td>\n",
       "      <td>24.10</td>\n",
       "      <td>2017-12-01</td>\n",
       "      <td>0</td>\n",
       "      <td>2.75</td>\n",
       "      <td>25</td>\n",
       "      <td>17.50</td>\n",
       "      <td>21</td>\n",
       "      <td>False</td>\n",
       "      <td>...</td>\n",
       "      <td>NaN</td>\n",
       "      <td>0.0</td>\n",
       "      <td>деревня Кудрово</td>\n",
       "      <td>NaN</td>\n",
       "      <td>NaN</td>\n",
       "      <td>0</td>\n",
       "      <td>NaN</td>\n",
       "      <td>0</td>\n",
       "      <td>NaN</td>\n",
       "      <td>201.0</td>\n",
       "    </tr>\n",
       "    <tr>\n",
       "      <th>716</th>\n",
       "      <td>5</td>\n",
       "      <td>1500000.0</td>\n",
       "      <td>17.00</td>\n",
       "      <td>2017-06-07</td>\n",
       "      <td>0</td>\n",
       "      <td>2.70</td>\n",
       "      <td>9</td>\n",
       "      <td>12.00</td>\n",
       "      <td>1</td>\n",
       "      <td>False</td>\n",
       "      <td>...</td>\n",
       "      <td>NaN</td>\n",
       "      <td>0.0</td>\n",
       "      <td>поселок Шушары</td>\n",
       "      <td>19.0</td>\n",
       "      <td>30.0</td>\n",
       "      <td>0</td>\n",
       "      <td>NaN</td>\n",
       "      <td>0</td>\n",
       "      <td>NaN</td>\n",
       "      <td>40.0</td>\n",
       "    </tr>\n",
       "    <tr>\n",
       "      <th>...</th>\n",
       "      <td>...</td>\n",
       "      <td>...</td>\n",
       "      <td>...</td>\n",
       "      <td>...</td>\n",
       "      <td>...</td>\n",
       "      <td>...</td>\n",
       "      <td>...</td>\n",
       "      <td>...</td>\n",
       "      <td>...</td>\n",
       "      <td>...</td>\n",
       "      <td>...</td>\n",
       "      <td>...</td>\n",
       "      <td>...</td>\n",
       "      <td>...</td>\n",
       "      <td>...</td>\n",
       "      <td>...</td>\n",
       "      <td>...</td>\n",
       "      <td>...</td>\n",
       "      <td>...</td>\n",
       "      <td>...</td>\n",
       "      <td>...</td>\n",
       "    </tr>\n",
       "    <tr>\n",
       "      <th>22867</th>\n",
       "      <td>8</td>\n",
       "      <td>3090000.0</td>\n",
       "      <td>30.00</td>\n",
       "      <td>2017-12-17</td>\n",
       "      <td>0</td>\n",
       "      <td>2.65</td>\n",
       "      <td>25</td>\n",
       "      <td>18.20</td>\n",
       "      <td>5</td>\n",
       "      <td>False</td>\n",
       "      <td>...</td>\n",
       "      <td>NaN</td>\n",
       "      <td>0.0</td>\n",
       "      <td>Санкт-Петербург</td>\n",
       "      <td>35.0</td>\n",
       "      <td>16.0</td>\n",
       "      <td>0</td>\n",
       "      <td>NaN</td>\n",
       "      <td>1</td>\n",
       "      <td>0.0</td>\n",
       "      <td>211.0</td>\n",
       "    </tr>\n",
       "    <tr>\n",
       "      <th>22877</th>\n",
       "      <td>2</td>\n",
       "      <td>4280000.0</td>\n",
       "      <td>28.00</td>\n",
       "      <td>2017-10-26</td>\n",
       "      <td>0</td>\n",
       "      <td>2.70</td>\n",
       "      <td>19</td>\n",
       "      <td>18.00</td>\n",
       "      <td>10</td>\n",
       "      <td>False</td>\n",
       "      <td>...</td>\n",
       "      <td>NaN</td>\n",
       "      <td>0.0</td>\n",
       "      <td>Санкт-Петербург</td>\n",
       "      <td>19.0</td>\n",
       "      <td>7.0</td>\n",
       "      <td>0</td>\n",
       "      <td>NaN</td>\n",
       "      <td>1</td>\n",
       "      <td>0.0</td>\n",
       "      <td>151.0</td>\n",
       "    </tr>\n",
       "    <tr>\n",
       "      <th>23210</th>\n",
       "      <td>7</td>\n",
       "      <td>3200000.0</td>\n",
       "      <td>26.00</td>\n",
       "      <td>2017-09-01</td>\n",
       "      <td>0</td>\n",
       "      <td>2.65</td>\n",
       "      <td>25</td>\n",
       "      <td>18.00</td>\n",
       "      <td>16</td>\n",
       "      <td>False</td>\n",
       "      <td>...</td>\n",
       "      <td>NaN</td>\n",
       "      <td>0.0</td>\n",
       "      <td>Санкт-Петербург</td>\n",
       "      <td>11.0</td>\n",
       "      <td>13.0</td>\n",
       "      <td>0</td>\n",
       "      <td>NaN</td>\n",
       "      <td>1</td>\n",
       "      <td>1.0</td>\n",
       "      <td>14.0</td>\n",
       "    </tr>\n",
       "    <tr>\n",
       "      <th>23554</th>\n",
       "      <td>15</td>\n",
       "      <td>3350000.0</td>\n",
       "      <td>26.00</td>\n",
       "      <td>2018-09-07</td>\n",
       "      <td>0</td>\n",
       "      <td>2.65</td>\n",
       "      <td>19</td>\n",
       "      <td>NaN</td>\n",
       "      <td>8</td>\n",
       "      <td>False</td>\n",
       "      <td>...</td>\n",
       "      <td>NaN</td>\n",
       "      <td>0.0</td>\n",
       "      <td>Санкт-Петербург</td>\n",
       "      <td>18.0</td>\n",
       "      <td>17.0</td>\n",
       "      <td>0</td>\n",
       "      <td>NaN</td>\n",
       "      <td>2</td>\n",
       "      <td>0.0</td>\n",
       "      <td>31.0</td>\n",
       "    </tr>\n",
       "    <tr>\n",
       "      <th>23637</th>\n",
       "      <td>8</td>\n",
       "      <td>2350000.0</td>\n",
       "      <td>26.00</td>\n",
       "      <td>2018-06-26</td>\n",
       "      <td>0</td>\n",
       "      <td>2.65</td>\n",
       "      <td>25</td>\n",
       "      <td>17.00</td>\n",
       "      <td>4</td>\n",
       "      <td>False</td>\n",
       "      <td>...</td>\n",
       "      <td>NaN</td>\n",
       "      <td>2.0</td>\n",
       "      <td>поселок Бугры</td>\n",
       "      <td>NaN</td>\n",
       "      <td>NaN</td>\n",
       "      <td>0</td>\n",
       "      <td>NaN</td>\n",
       "      <td>0</td>\n",
       "      <td>NaN</td>\n",
       "      <td>207.0</td>\n",
       "    </tr>\n",
       "  </tbody>\n",
       "</table>\n",
       "<p>135 rows × 22 columns</p>\n",
       "</div>"
      ],
      "text/plain": [
       "       total_images  last_price  total_area_m2 first_day_exposition  \\\n",
       "144               1   2450000.0          27.00           2017-03-30   \n",
       "440               8   2480000.0          27.11           2018-03-12   \n",
       "608               2   1850000.0          25.00           2019-02-20   \n",
       "697              12   2500000.0          24.10           2017-12-01   \n",
       "716               5   1500000.0          17.00           2017-06-07   \n",
       "...             ...         ...            ...                  ...   \n",
       "22867             8   3090000.0          30.00           2017-12-17   \n",
       "22877             2   4280000.0          28.00           2017-10-26   \n",
       "23210             7   3200000.0          26.00           2017-09-01   \n",
       "23554            15   3350000.0          26.00           2018-09-07   \n",
       "23637             8   2350000.0          26.00           2018-06-26   \n",
       "\n",
       "       number_of_rooms  ceiling_height_m  total_floors_in_house  \\\n",
       "144                  0              2.65                     24   \n",
       "440                  0              2.65                     17   \n",
       "608                  0              2.65                     10   \n",
       "697                  0              2.75                     25   \n",
       "716                  0              2.70                      9   \n",
       "...                ...               ...                    ...   \n",
       "22867                0              2.65                     25   \n",
       "22877                0              2.70                     19   \n",
       "23210                0              2.65                     25   \n",
       "23554                0              2.65                     19   \n",
       "23637                0              2.65                     25   \n",
       "\n",
       "       living_area_m2  floor  is_apartment  ...  kitchen_area_m2  \\\n",
       "144             15.50      2         False  ...              NaN   \n",
       "440             24.75      4         False  ...              NaN   \n",
       "608               NaN      7         False  ...              NaN   \n",
       "697             17.50     21         False  ...              NaN   \n",
       "716             12.00      1         False  ...              NaN   \n",
       "...               ...    ...           ...  ...              ...   \n",
       "22867           18.20      5         False  ...              NaN   \n",
       "22877           18.00     10         False  ...              NaN   \n",
       "23210           18.00     16         False  ...              NaN   \n",
       "23554             NaN      8         False  ...              NaN   \n",
       "23637           17.00      4         False  ...              NaN   \n",
       "\n",
       "       number_of_balconies    locality_name  nearest_airport_distance_km  \\\n",
       "144                    2.0   поселок Мурино                          NaN   \n",
       "440                    2.0  Санкт-Петербург                         38.0   \n",
       "608                    0.0   поселок Шушары                          NaN   \n",
       "697                    0.0  деревня Кудрово                          NaN   \n",
       "716                    0.0   поселок Шушары                         19.0   \n",
       "...                    ...              ...                          ...   \n",
       "22867                  0.0  Санкт-Петербург                         35.0   \n",
       "22877                  0.0  Санкт-Петербург                         19.0   \n",
       "23210                  0.0  Санкт-Петербург                         11.0   \n",
       "23554                  0.0  Санкт-Петербург                         18.0   \n",
       "23637                  2.0    поселок Бугры                          NaN   \n",
       "\n",
       "      city_center_distance_km  parks_numbers_within_3km  \\\n",
       "144                       NaN                         0   \n",
       "440                      15.0                         0   \n",
       "608                       NaN                         0   \n",
       "697                       NaN                         0   \n",
       "716                      30.0                         0   \n",
       "...                       ...                       ...   \n",
       "22867                    16.0                         0   \n",
       "22877                     7.0                         0   \n",
       "23210                    13.0                         0   \n",
       "23554                    17.0                         0   \n",
       "23637                     NaN                         0   \n",
       "\n",
       "       nearest_park_distance_km  ponds_number_within_3km  \\\n",
       "144                         NaN                        0   \n",
       "440                         NaN                        2   \n",
       "608                         NaN                        0   \n",
       "697                         NaN                        0   \n",
       "716                         NaN                        0   \n",
       "...                         ...                      ...   \n",
       "22867                       NaN                        1   \n",
       "22877                       NaN                        1   \n",
       "23210                       NaN                        1   \n",
       "23554                       NaN                        2   \n",
       "23637                       NaN                        0   \n",
       "\n",
       "       nearest_pond_distance_km  days_exposition  \n",
       "144                         NaN            181.0  \n",
       "440                         1.0             64.0  \n",
       "608                         NaN             29.0  \n",
       "697                         NaN            201.0  \n",
       "716                         NaN             40.0  \n",
       "...                         ...              ...  \n",
       "22867                       0.0            211.0  \n",
       "22877                       0.0            151.0  \n",
       "23210                       1.0             14.0  \n",
       "23554                       0.0             31.0  \n",
       "23637                       NaN            207.0  \n",
       "\n",
       "[135 rows x 22 columns]"
      ]
     },
     "execution_count": 30,
     "metadata": {},
     "output_type": "execute_result"
    }
   ],
   "source": [
    "# проверим, сколько из них студий\n",
    "data.query('number_of_rooms == 0 and is_studio == True')# из них 135 записей это студии"
   ]
  },
  {
   "cell_type": "markdown",
   "id": "9a81d721-b846-4b0f-ae06-23b90aba4587",
   "metadata": {},
   "source": [
    "#### 2.5 Из них 135 квартир - студии. Но студия - это комната сама по себе. Исправим. "
   ]
  },
  {
   "cell_type": "code",
   "execution_count": 31,
   "id": "f24675a6-d2f5-491f-a9e0-536742d53a6b",
   "metadata": {
    "tags": []
   },
   "outputs": [],
   "source": [
    "#заменим все значение 0 на 1, ведь студия это и есть комната, а оставшиеся квартиры по площади соответствуют однушкам\n",
    "data.loc[data['number_of_rooms'] == 0, 'number_of_rooms'] = 1"
   ]
  },
  {
   "cell_type": "markdown",
   "id": "efe381ef",
   "metadata": {},
   "source": [
    "<div class=\"alert alert-block alert-success\">\n",
    " \n",
    "### Комментарий ревьюера\n",
    "    \n",
    "#### Успех\n",
    "    \n",
    "Согласен. Так сделать можно и в целом, логичное дейтсвие"
   ]
  },
  {
   "cell_type": "code",
   "execution_count": 32,
   "id": "a025b2f7-8595-4717-bae4-9db482aeb20b",
   "metadata": {
    "tags": []
   },
   "outputs": [
    {
     "data": {
      "text/plain": [
       "31"
      ]
     },
     "execution_count": 32,
     "metadata": {},
     "output_type": "execute_result"
    }
   ],
   "source": [
    "len(data.loc[data['number_of_rooms'] > 7])# смотрим количество строк с аномальным количеством комнат"
   ]
  },
  {
   "cell_type": "code",
   "execution_count": 33,
   "id": "2f3fb28e-5579-4c83-92b0-1ecc0c16130f",
   "metadata": {
    "tags": []
   },
   "outputs": [],
   "source": [
    "data = data[(data['number_of_rooms'] <= 7)]# удалим строки, где количество комнат больше 7, их всего 31."
   ]
  },
  {
   "cell_type": "code",
   "execution_count": 34,
   "id": "52443ab6-2f34-499a-b3df-39bdb714ac50",
   "metadata": {
    "tags": []
   },
   "outputs": [
    {
     "data": {
      "text/html": [
       "<div>\n",
       "<style scoped>\n",
       "    .dataframe tbody tr th:only-of-type {\n",
       "        vertical-align: middle;\n",
       "    }\n",
       "\n",
       "    .dataframe tbody tr th {\n",
       "        vertical-align: top;\n",
       "    }\n",
       "\n",
       "    .dataframe thead th {\n",
       "        text-align: right;\n",
       "    }\n",
       "</style>\n",
       "<table border=\"1\" class=\"dataframe\">\n",
       "  <thead>\n",
       "    <tr style=\"text-align: right;\">\n",
       "      <th></th>\n",
       "      <th>total_images</th>\n",
       "      <th>last_price</th>\n",
       "      <th>total_area_m2</th>\n",
       "      <th>first_day_exposition</th>\n",
       "      <th>number_of_rooms</th>\n",
       "      <th>ceiling_height_m</th>\n",
       "      <th>total_floors_in_house</th>\n",
       "      <th>living_area_m2</th>\n",
       "      <th>floor</th>\n",
       "      <th>is_apartment</th>\n",
       "      <th>...</th>\n",
       "      <th>kitchen_area_m2</th>\n",
       "      <th>number_of_balconies</th>\n",
       "      <th>locality_name</th>\n",
       "      <th>nearest_airport_distance_km</th>\n",
       "      <th>city_center_distance_km</th>\n",
       "      <th>parks_numbers_within_3km</th>\n",
       "      <th>nearest_park_distance_km</th>\n",
       "      <th>ponds_number_within_3km</th>\n",
       "      <th>nearest_pond_distance_km</th>\n",
       "      <th>days_exposition</th>\n",
       "    </tr>\n",
       "  </thead>\n",
       "  <tbody>\n",
       "    <tr>\n",
       "      <th>8793</th>\n",
       "      <td>7</td>\n",
       "      <td>12190.0</td>\n",
       "      <td>109.0</td>\n",
       "      <td>2019-03-20</td>\n",
       "      <td>2</td>\n",
       "      <td>2.75</td>\n",
       "      <td>25</td>\n",
       "      <td>32.0</td>\n",
       "      <td>25</td>\n",
       "      <td>False</td>\n",
       "      <td>...</td>\n",
       "      <td>40.5</td>\n",
       "      <td>0.0</td>\n",
       "      <td>Санкт-Петербург</td>\n",
       "      <td>36.0</td>\n",
       "      <td>9.0</td>\n",
       "      <td>1</td>\n",
       "      <td>1.0</td>\n",
       "      <td>0</td>\n",
       "      <td>NaN</td>\n",
       "      <td>8.0</td>\n",
       "    </tr>\n",
       "  </tbody>\n",
       "</table>\n",
       "<p>1 rows × 22 columns</p>\n",
       "</div>"
      ],
      "text/plain": [
       "      total_images  last_price  total_area_m2 first_day_exposition  \\\n",
       "8793             7     12190.0          109.0           2019-03-20   \n",
       "\n",
       "      number_of_rooms  ceiling_height_m  total_floors_in_house  \\\n",
       "8793                2              2.75                     25   \n",
       "\n",
       "      living_area_m2  floor  is_apartment  ...  kitchen_area_m2  \\\n",
       "8793            32.0     25         False  ...             40.5   \n",
       "\n",
       "      number_of_balconies    locality_name  nearest_airport_distance_km  \\\n",
       "8793                  0.0  Санкт-Петербург                         36.0   \n",
       "\n",
       "     city_center_distance_km  parks_numbers_within_3km  \\\n",
       "8793                     9.0                         1   \n",
       "\n",
       "      nearest_park_distance_km  ponds_number_within_3km  \\\n",
       "8793                       1.0                        0   \n",
       "\n",
       "      nearest_pond_distance_km  days_exposition  \n",
       "8793                       NaN              8.0  \n",
       "\n",
       "[1 rows x 22 columns]"
      ]
     },
     "execution_count": 34,
     "metadata": {},
     "output_type": "execute_result"
    }
   ],
   "source": [
    "data.query('last_price < 400000') # смотрим квартиры дешевле 400к руб."
   ]
  },
  {
   "cell_type": "markdown",
   "id": "36b6b71f-e391-4536-b441-f281a3c6c5a8",
   "metadata": {},
   "source": [
    "#### 2.6 Данная цена, указанная за недвижимость - очень низкая. С учётом того что следующие объявления начинаются, примерно от 450тыс. руб. Очень похоже на выброс. "
   ]
  },
  {
   "cell_type": "code",
   "execution_count": 35,
   "id": "d6f3236c-f092-49d9-a5bf-a90a87b90d2d",
   "metadata": {
    "tags": []
   },
   "outputs": [
    {
     "data": {
      "text/html": [
       "<div>\n",
       "<style scoped>\n",
       "    .dataframe tbody tr th:only-of-type {\n",
       "        vertical-align: middle;\n",
       "    }\n",
       "\n",
       "    .dataframe tbody tr th {\n",
       "        vertical-align: top;\n",
       "    }\n",
       "\n",
       "    .dataframe thead th {\n",
       "        text-align: right;\n",
       "    }\n",
       "</style>\n",
       "<table border=\"1\" class=\"dataframe\">\n",
       "  <thead>\n",
       "    <tr style=\"text-align: right;\">\n",
       "      <th></th>\n",
       "      <th>total_images</th>\n",
       "      <th>last_price</th>\n",
       "      <th>total_area_m2</th>\n",
       "      <th>first_day_exposition</th>\n",
       "      <th>number_of_rooms</th>\n",
       "      <th>ceiling_height_m</th>\n",
       "      <th>total_floors_in_house</th>\n",
       "      <th>living_area_m2</th>\n",
       "      <th>floor</th>\n",
       "      <th>is_apartment</th>\n",
       "      <th>...</th>\n",
       "      <th>kitchen_area_m2</th>\n",
       "      <th>number_of_balconies</th>\n",
       "      <th>locality_name</th>\n",
       "      <th>nearest_airport_distance_km</th>\n",
       "      <th>city_center_distance_km</th>\n",
       "      <th>parks_numbers_within_3km</th>\n",
       "      <th>nearest_park_distance_km</th>\n",
       "      <th>ponds_number_within_3km</th>\n",
       "      <th>nearest_pond_distance_km</th>\n",
       "      <th>days_exposition</th>\n",
       "    </tr>\n",
       "  </thead>\n",
       "  <tbody>\n",
       "    <tr>\n",
       "      <th>12971</th>\n",
       "      <td>19</td>\n",
       "      <td>763000000.0</td>\n",
       "      <td>400.0</td>\n",
       "      <td>2017-09-30</td>\n",
       "      <td>7</td>\n",
       "      <td>2.65</td>\n",
       "      <td>10</td>\n",
       "      <td>250.0</td>\n",
       "      <td>10</td>\n",
       "      <td>False</td>\n",
       "      <td>...</td>\n",
       "      <td>NaN</td>\n",
       "      <td>2.0</td>\n",
       "      <td>Санкт-Петербург</td>\n",
       "      <td>25.0</td>\n",
       "      <td>4.0</td>\n",
       "      <td>1</td>\n",
       "      <td>1.0</td>\n",
       "      <td>3</td>\n",
       "      <td>1.0</td>\n",
       "      <td>33.0</td>\n",
       "    </tr>\n",
       "    <tr>\n",
       "      <th>14706</th>\n",
       "      <td>15</td>\n",
       "      <td>401300000.0</td>\n",
       "      <td>401.0</td>\n",
       "      <td>2016-02-20</td>\n",
       "      <td>5</td>\n",
       "      <td>2.65</td>\n",
       "      <td>9</td>\n",
       "      <td>204.0</td>\n",
       "      <td>9</td>\n",
       "      <td>False</td>\n",
       "      <td>...</td>\n",
       "      <td>24.0</td>\n",
       "      <td>3.0</td>\n",
       "      <td>Санкт-Петербург</td>\n",
       "      <td>22.0</td>\n",
       "      <td>2.0</td>\n",
       "      <td>1</td>\n",
       "      <td>1.0</td>\n",
       "      <td>1</td>\n",
       "      <td>0.0</td>\n",
       "      <td>393.0</td>\n",
       "    </tr>\n",
       "  </tbody>\n",
       "</table>\n",
       "<p>2 rows × 22 columns</p>\n",
       "</div>"
      ],
      "text/plain": [
       "       total_images   last_price  total_area_m2 first_day_exposition  \\\n",
       "12971            19  763000000.0          400.0           2017-09-30   \n",
       "14706            15  401300000.0          401.0           2016-02-20   \n",
       "\n",
       "       number_of_rooms  ceiling_height_m  total_floors_in_house  \\\n",
       "12971                7              2.65                     10   \n",
       "14706                5              2.65                      9   \n",
       "\n",
       "       living_area_m2  floor  is_apartment  ...  kitchen_area_m2  \\\n",
       "12971           250.0     10         False  ...              NaN   \n",
       "14706           204.0      9         False  ...             24.0   \n",
       "\n",
       "       number_of_balconies    locality_name  nearest_airport_distance_km  \\\n",
       "12971                  2.0  Санкт-Петербург                         25.0   \n",
       "14706                  3.0  Санкт-Петербург                         22.0   \n",
       "\n",
       "      city_center_distance_km  parks_numbers_within_3km  \\\n",
       "12971                     4.0                         1   \n",
       "14706                     2.0                         1   \n",
       "\n",
       "       nearest_park_distance_km  ponds_number_within_3km  \\\n",
       "12971                       1.0                        3   \n",
       "14706                       1.0                        1   \n",
       "\n",
       "       nearest_pond_distance_km  days_exposition  \n",
       "12971                       1.0             33.0  \n",
       "14706                       0.0            393.0  \n",
       "\n",
       "[2 rows x 22 columns]"
      ]
     },
     "execution_count": 35,
     "metadata": {},
     "output_type": "execute_result"
    }
   ],
   "source": [
    "data.query('last_price > 400000000') # смотрим квартиры дороже 400млн руб."
   ]
  },
  {
   "cell_type": "markdown",
   "id": "7ec4b464-74c0-4aa5-a224-076717a7fc42",
   "metadata": {},
   "source": [
    "#### 2.7 Недвижимость за более чем 700млн рублей очень сильно отличается от всех. прежде всего ценой. Удалим эту строку, чтоб она не мешала рассчетам."
   ]
  },
  {
   "cell_type": "code",
   "execution_count": 36,
   "id": "43983ead-3162-4e3f-b7d8-8fdad29ea9f9",
   "metadata": {
    "tags": []
   },
   "outputs": [],
   "source": [
    "data = data.query('last_price > 400000 and last_price < 500000000')  # отбросим аномальные цены."
   ]
  },
  {
   "cell_type": "code",
   "execution_count": 37,
   "id": "2bdee468-9754-49b5-ac20-ecbbc022d950",
   "metadata": {
    "tags": []
   },
   "outputs": [
    {
     "data": {
      "text/html": [
       "<div>\n",
       "<style scoped>\n",
       "    .dataframe tbody tr th:only-of-type {\n",
       "        vertical-align: middle;\n",
       "    }\n",
       "\n",
       "    .dataframe tbody tr th {\n",
       "        vertical-align: top;\n",
       "    }\n",
       "\n",
       "    .dataframe thead th {\n",
       "        text-align: right;\n",
       "    }\n",
       "</style>\n",
       "<table border=\"1\" class=\"dataframe\">\n",
       "  <thead>\n",
       "    <tr style=\"text-align: right;\">\n",
       "      <th></th>\n",
       "      <th>total_images</th>\n",
       "      <th>last_price</th>\n",
       "      <th>total_area_m2</th>\n",
       "      <th>first_day_exposition</th>\n",
       "      <th>number_of_rooms</th>\n",
       "      <th>ceiling_height_m</th>\n",
       "      <th>total_floors_in_house</th>\n",
       "      <th>living_area_m2</th>\n",
       "      <th>floor</th>\n",
       "      <th>is_apartment</th>\n",
       "      <th>...</th>\n",
       "      <th>kitchen_area_m2</th>\n",
       "      <th>number_of_balconies</th>\n",
       "      <th>locality_name</th>\n",
       "      <th>nearest_airport_distance_km</th>\n",
       "      <th>city_center_distance_km</th>\n",
       "      <th>parks_numbers_within_3km</th>\n",
       "      <th>nearest_park_distance_km</th>\n",
       "      <th>ponds_number_within_3km</th>\n",
       "      <th>nearest_pond_distance_km</th>\n",
       "      <th>days_exposition</th>\n",
       "    </tr>\n",
       "  </thead>\n",
       "  <tbody>\n",
       "    <tr>\n",
       "      <th>16934</th>\n",
       "      <td>5</td>\n",
       "      <td>4100000.0</td>\n",
       "      <td>40.0</td>\n",
       "      <td>2017-10-17</td>\n",
       "      <td>1</td>\n",
       "      <td>2.65</td>\n",
       "      <td>37</td>\n",
       "      <td>17.4</td>\n",
       "      <td>5</td>\n",
       "      <td>False</td>\n",
       "      <td>...</td>\n",
       "      <td>8.34</td>\n",
       "      <td>0.0</td>\n",
       "      <td>Санкт-Петербург</td>\n",
       "      <td>19.0</td>\n",
       "      <td>20.0</td>\n",
       "      <td>0</td>\n",
       "      <td>NaN</td>\n",
       "      <td>3</td>\n",
       "      <td>0.0</td>\n",
       "      <td>71.0</td>\n",
       "    </tr>\n",
       "    <tr>\n",
       "      <th>16731</th>\n",
       "      <td>9</td>\n",
       "      <td>3978000.0</td>\n",
       "      <td>40.0</td>\n",
       "      <td>2018-09-24</td>\n",
       "      <td>1</td>\n",
       "      <td>2.65</td>\n",
       "      <td>52</td>\n",
       "      <td>10.5</td>\n",
       "      <td>18</td>\n",
       "      <td>False</td>\n",
       "      <td>...</td>\n",
       "      <td>14.00</td>\n",
       "      <td>0.0</td>\n",
       "      <td>Санкт-Петербург</td>\n",
       "      <td>21.0</td>\n",
       "      <td>13.0</td>\n",
       "      <td>1</td>\n",
       "      <td>1.0</td>\n",
       "      <td>0</td>\n",
       "      <td>NaN</td>\n",
       "      <td>45.0</td>\n",
       "    </tr>\n",
       "    <tr>\n",
       "      <th>2253</th>\n",
       "      <td>12</td>\n",
       "      <td>3800000.0</td>\n",
       "      <td>45.5</td>\n",
       "      <td>2018-06-28</td>\n",
       "      <td>2</td>\n",
       "      <td>2.88</td>\n",
       "      <td>60</td>\n",
       "      <td>27.4</td>\n",
       "      <td>4</td>\n",
       "      <td>False</td>\n",
       "      <td>...</td>\n",
       "      <td>7.40</td>\n",
       "      <td>0.0</td>\n",
       "      <td>Кронштадт</td>\n",
       "      <td>68.0</td>\n",
       "      <td>49.0</td>\n",
       "      <td>2</td>\n",
       "      <td>0.0</td>\n",
       "      <td>3</td>\n",
       "      <td>1.0</td>\n",
       "      <td>166.0</td>\n",
       "    </tr>\n",
       "  </tbody>\n",
       "</table>\n",
       "<p>3 rows × 22 columns</p>\n",
       "</div>"
      ],
      "text/plain": [
       "       total_images  last_price  total_area_m2 first_day_exposition  \\\n",
       "16934             5   4100000.0           40.0           2017-10-17   \n",
       "16731             9   3978000.0           40.0           2018-09-24   \n",
       "2253             12   3800000.0           45.5           2018-06-28   \n",
       "\n",
       "       number_of_rooms  ceiling_height_m  total_floors_in_house  \\\n",
       "16934                1              2.65                     37   \n",
       "16731                1              2.65                     52   \n",
       "2253                 2              2.88                     60   \n",
       "\n",
       "       living_area_m2  floor  is_apartment  ...  kitchen_area_m2  \\\n",
       "16934            17.4      5         False  ...             8.34   \n",
       "16731            10.5     18         False  ...            14.00   \n",
       "2253             27.4      4         False  ...             7.40   \n",
       "\n",
       "       number_of_balconies    locality_name  nearest_airport_distance_km  \\\n",
       "16934                  0.0  Санкт-Петербург                         19.0   \n",
       "16731                  0.0  Санкт-Петербург                         21.0   \n",
       "2253                   0.0        Кронштадт                         68.0   \n",
       "\n",
       "      city_center_distance_km  parks_numbers_within_3km  \\\n",
       "16934                    20.0                         0   \n",
       "16731                    13.0                         1   \n",
       "2253                     49.0                         2   \n",
       "\n",
       "       nearest_park_distance_km  ponds_number_within_3km  \\\n",
       "16934                       NaN                        3   \n",
       "16731                       1.0                        0   \n",
       "2253                        0.0                        3   \n",
       "\n",
       "       nearest_pond_distance_km  days_exposition  \n",
       "16934                       0.0             71.0  \n",
       "16731                       NaN             45.0  \n",
       "2253                        1.0            166.0  \n",
       "\n",
       "[3 rows x 22 columns]"
      ]
     },
     "execution_count": 37,
     "metadata": {},
     "output_type": "execute_result"
    }
   ],
   "source": [
    "data.query('total_floors_in_house >= 37').sort_values(by='total_floors_in_house') # посмотрим дома по кол-ву этажей."
   ]
  },
  {
   "cell_type": "code",
   "execution_count": 38,
   "id": "c40eefc0-34c4-46be-9230-7f1605a2a40f",
   "metadata": {
    "tags": []
   },
   "outputs": [],
   "source": [
    "data = data.query('total_floors_in_house < 37')# отбрасываем дома выше 37 этажей, так как официально, самый высокий жилой дом в СПБ (ЖК Александр Невский) "
   ]
  },
  {
   "cell_type": "code",
   "execution_count": 39,
   "id": "08ad5a67",
   "metadata": {},
   "outputs": [
    {
     "name": "stdout",
     "output_type": "stream",
     "text": [
      "<class 'pandas.core.frame.DataFrame'>\n",
      "Int64Index: 23529 entries, 0 to 23698\n",
      "Data columns (total 22 columns):\n",
      " #   Column                       Non-Null Count  Dtype         \n",
      "---  ------                       --------------  -----         \n",
      " 0   total_images                 23529 non-null  int64         \n",
      " 1   last_price                   23529 non-null  float64       \n",
      " 2   total_area_m2                23529 non-null  float64       \n",
      " 3   first_day_exposition         23529 non-null  datetime64[ns]\n",
      " 4   number_of_rooms              23529 non-null  int64         \n",
      " 5   ceiling_height_m             23529 non-null  float64       \n",
      " 6   total_floors_in_house        23529 non-null  int32         \n",
      " 7   living_area_m2               21665 non-null  float64       \n",
      " 8   floor                        23529 non-null  int64         \n",
      " 9   is_apartment                 23529 non-null  bool          \n",
      " 10  is_studio                    23529 non-null  bool          \n",
      " 11  is_open_plan                 23529 non-null  bool          \n",
      " 12  kitchen_area_m2              21312 non-null  float64       \n",
      " 13  number_of_balconies          23529 non-null  float64       \n",
      " 14  locality_name                23529 non-null  object        \n",
      " 15  nearest_airport_distance_km  18005 non-null  float64       \n",
      " 16  city_center_distance_km      18028 non-null  float64       \n",
      " 17  parks_numbers_within_3km     23529 non-null  int32         \n",
      " 18  nearest_park_distance_km     8000 non-null   float64       \n",
      " 19  ponds_number_within_3km      23529 non-null  int32         \n",
      " 20  nearest_pond_distance_km     9016 non-null   float64       \n",
      " 21  days_exposition              20365 non-null  float64       \n",
      "dtypes: bool(3), datetime64[ns](1), float64(11), int32(3), int64(3), object(1)\n",
      "memory usage: 3.4+ MB\n"
     ]
    }
   ],
   "source": [
    "# Подсчитаем общее кол-во оставшихся строк.\n",
    "data.info()"
   ]
  },
  {
   "cell_type": "markdown",
   "id": "6d5f12a3",
   "metadata": {},
   "source": [
    "#### После удаления\n",
    "\n",
    "Мы очистили от возможных выбросов колонки: \"number_of_rooms\", \"last_price\" и \"total_floors_in_house\"\n",
    "\n",
    "По сравнению с изначальным датасетом (23699 вхождений) у нас осталось 23529 вхождений. Удалось избавиться от 170 выбивающихся строк, для сокращения влияния выбросов на дальнейшие рассчёты."
   ]
  },
  {
   "cell_type": "markdown",
   "id": "7ac39e58",
   "metadata": {},
   "source": [
    "<div class=\"alert alert-block alert-danger\">\n",
    " \n",
    "### Комментарий ревьюера\n",
    "    \n",
    "#### Ошибка\n",
    "    \n",
    "После удаления лишних значений важно считать сколько у нас осталось их. А еще надо бы промежуточный вывод небольшой оформить"
   ]
  },
  {
   "cell_type": "markdown",
   "id": "46a408e1",
   "metadata": {},
   "source": [
    "<div class=\"alert alert-block alert-success\">\n",
    " \n",
    "# Комментарий ревьюера ver.2\n",
    "    \n",
    "#### Успех\n",
    "    \n",
    "Исправлено"
   ]
  },
  {
   "cell_type": "markdown",
   "id": "88ea9954-8368-40ac-89c1-b484c98dec53",
   "metadata": {
    "tags": []
   },
   "source": [
    "### 2.9 Выводы\n",
    "\n",
    "В нашем случае, мы постарались избавиться от максимального количества пропусков, а также от аномальных значений, которые могли бы помешать расчетам, также избавились от неявных дубликатов в названиях городов(ПГТ, посёлков и тд.).\n",
    "\n",
    "Были изменены типы данных в колонках: \n",
    "1. first_day_exposition(первый день публикации)(был object, что не позволяло производить с ним действия)\n",
    "2. total_floors_in_house(всего этажей в доме)(был float(формат числа с плавающей точкой), вероятно ошибка в форме заполнения(этажи не могут иметь \"дробные части\"))\n",
    "3. is_apartment(апартаменты (да-нет?)) - Был object, стал bool для единообразия.\n",
    "\n",
    "Также были переименованы и пересортированы местами колоки для большего удобства и наглядности, а также добавлены еденицы измерения в заголовки стобцов. \n",
    "\n",
    "Теперь можем производить рассчеты и добавлять новые параметры в наш датасет\n"
   ]
  },
  {
   "cell_type": "markdown",
   "id": "6eabfc16-db33-4a0c-bc52-743bd2360fbe",
   "metadata": {},
   "source": [
    "Добавляем новые столбцы в таблицу"
   ]
  },
  {
   "cell_type": "code",
   "execution_count": 40,
   "id": "9d5e6b8b-ebe8-4109-a323-37fb3ad48315",
   "metadata": {
    "tags": []
   },
   "outputs": [],
   "source": [
    "# Зададим функцию, которая будет определять тип, к которому относится этаж (пепвый, последний, другой)\n",
    "def define_floor_type(row):\n",
    "    if row['floor'] == 1:\n",
    "        return 'первый'\n",
    "    elif row['floor'] == row['total_floors_in_house']:\n",
    "        return 'последний'\n",
    "    else:\n",
    "        return 'другой'"
   ]
  },
  {
   "cell_type": "markdown",
   "id": "ea976986",
   "metadata": {},
   "source": [
    "<div class=\"alert alert-block alert-success\">\n",
    " \n",
    "### Комментарий ревьюера\n",
    "    \n",
    "#### Успех\n",
    "    \n",
    "Получилась простая, удобная и понятная функция категоризации "
   ]
  },
  {
   "cell_type": "code",
   "execution_count": 41,
   "id": "497eac59-b8a0-4243-8db9-1f14f75eede5",
   "metadata": {},
   "outputs": [
    {
     "data": {
      "text/html": [
       "<div>\n",
       "<style scoped>\n",
       "    .dataframe tbody tr th:only-of-type {\n",
       "        vertical-align: middle;\n",
       "    }\n",
       "\n",
       "    .dataframe tbody tr th {\n",
       "        vertical-align: top;\n",
       "    }\n",
       "\n",
       "    .dataframe thead th {\n",
       "        text-align: right;\n",
       "    }\n",
       "</style>\n",
       "<table border=\"1\" class=\"dataframe\">\n",
       "  <thead>\n",
       "    <tr style=\"text-align: right;\">\n",
       "      <th></th>\n",
       "      <th>total_images</th>\n",
       "      <th>last_price</th>\n",
       "      <th>total_area_m2</th>\n",
       "      <th>first_day_exposition</th>\n",
       "      <th>number_of_rooms</th>\n",
       "      <th>ceiling_height_m</th>\n",
       "      <th>total_floors_in_house</th>\n",
       "      <th>living_area_m2</th>\n",
       "      <th>floor</th>\n",
       "      <th>is_apartment</th>\n",
       "      <th>...</th>\n",
       "      <th>number_of_balconies</th>\n",
       "      <th>locality_name</th>\n",
       "      <th>nearest_airport_distance_km</th>\n",
       "      <th>city_center_distance_km</th>\n",
       "      <th>parks_numbers_within_3km</th>\n",
       "      <th>nearest_park_distance_km</th>\n",
       "      <th>ponds_number_within_3km</th>\n",
       "      <th>nearest_pond_distance_km</th>\n",
       "      <th>days_exposition</th>\n",
       "      <th>floor_type</th>\n",
       "    </tr>\n",
       "  </thead>\n",
       "  <tbody>\n",
       "    <tr>\n",
       "      <th>1752</th>\n",
       "      <td>6</td>\n",
       "      <td>4000000.0</td>\n",
       "      <td>41.0</td>\n",
       "      <td>2017-11-10</td>\n",
       "      <td>1</td>\n",
       "      <td>2.70</td>\n",
       "      <td>14</td>\n",
       "      <td>NaN</td>\n",
       "      <td>1</td>\n",
       "      <td>False</td>\n",
       "      <td>...</td>\n",
       "      <td>0.0</td>\n",
       "      <td>Санкт-Петербург</td>\n",
       "      <td>33.0</td>\n",
       "      <td>15.0</td>\n",
       "      <td>0</td>\n",
       "      <td>NaN</td>\n",
       "      <td>1</td>\n",
       "      <td>1.0</td>\n",
       "      <td>74.0</td>\n",
       "      <td>первый</td>\n",
       "    </tr>\n",
       "    <tr>\n",
       "      <th>12747</th>\n",
       "      <td>8</td>\n",
       "      <td>3550000.0</td>\n",
       "      <td>56.3</td>\n",
       "      <td>2018-07-24</td>\n",
       "      <td>3</td>\n",
       "      <td>2.50</td>\n",
       "      <td>9</td>\n",
       "      <td>37.6</td>\n",
       "      <td>1</td>\n",
       "      <td>False</td>\n",
       "      <td>...</td>\n",
       "      <td>0.0</td>\n",
       "      <td>Красное Село</td>\n",
       "      <td>27.0</td>\n",
       "      <td>30.0</td>\n",
       "      <td>1</td>\n",
       "      <td>1.0</td>\n",
       "      <td>0</td>\n",
       "      <td>NaN</td>\n",
       "      <td>118.0</td>\n",
       "      <td>первый</td>\n",
       "    </tr>\n",
       "    <tr>\n",
       "      <th>1544</th>\n",
       "      <td>8</td>\n",
       "      <td>3300000.0</td>\n",
       "      <td>26.0</td>\n",
       "      <td>2018-03-15</td>\n",
       "      <td>1</td>\n",
       "      <td>2.65</td>\n",
       "      <td>16</td>\n",
       "      <td>20.0</td>\n",
       "      <td>6</td>\n",
       "      <td>False</td>\n",
       "      <td>...</td>\n",
       "      <td>0.0</td>\n",
       "      <td>Санкт-Петербург</td>\n",
       "      <td>8.0</td>\n",
       "      <td>12.0</td>\n",
       "      <td>2</td>\n",
       "      <td>0.0</td>\n",
       "      <td>1</td>\n",
       "      <td>0.0</td>\n",
       "      <td>193.0</td>\n",
       "      <td>другой</td>\n",
       "    </tr>\n",
       "    <tr>\n",
       "      <th>9935</th>\n",
       "      <td>1</td>\n",
       "      <td>2890000.0</td>\n",
       "      <td>31.0</td>\n",
       "      <td>2015-06-08</td>\n",
       "      <td>1</td>\n",
       "      <td>2.65</td>\n",
       "      <td>5</td>\n",
       "      <td>18.0</td>\n",
       "      <td>3</td>\n",
       "      <td>False</td>\n",
       "      <td>...</td>\n",
       "      <td>1.0</td>\n",
       "      <td>Санкт-Петербург</td>\n",
       "      <td>43.0</td>\n",
       "      <td>15.0</td>\n",
       "      <td>1</td>\n",
       "      <td>1.0</td>\n",
       "      <td>0</td>\n",
       "      <td>NaN</td>\n",
       "      <td>744.0</td>\n",
       "      <td>другой</td>\n",
       "    </tr>\n",
       "    <tr>\n",
       "      <th>7854</th>\n",
       "      <td>16</td>\n",
       "      <td>4700000.0</td>\n",
       "      <td>42.0</td>\n",
       "      <td>2017-07-21</td>\n",
       "      <td>2</td>\n",
       "      <td>2.50</td>\n",
       "      <td>7</td>\n",
       "      <td>24.5</td>\n",
       "      <td>6</td>\n",
       "      <td>False</td>\n",
       "      <td>...</td>\n",
       "      <td>1.0</td>\n",
       "      <td>Санкт-Петербург</td>\n",
       "      <td>42.0</td>\n",
       "      <td>12.0</td>\n",
       "      <td>0</td>\n",
       "      <td>NaN</td>\n",
       "      <td>0</td>\n",
       "      <td>NaN</td>\n",
       "      <td>76.0</td>\n",
       "      <td>другой</td>\n",
       "    </tr>\n",
       "  </tbody>\n",
       "</table>\n",
       "<p>5 rows × 23 columns</p>\n",
       "</div>"
      ],
      "text/plain": [
       "       total_images  last_price  total_area_m2 first_day_exposition  \\\n",
       "1752              6   4000000.0           41.0           2017-11-10   \n",
       "12747             8   3550000.0           56.3           2018-07-24   \n",
       "1544              8   3300000.0           26.0           2018-03-15   \n",
       "9935              1   2890000.0           31.0           2015-06-08   \n",
       "7854             16   4700000.0           42.0           2017-07-21   \n",
       "\n",
       "       number_of_rooms  ceiling_height_m  total_floors_in_house  \\\n",
       "1752                 1              2.70                     14   \n",
       "12747                3              2.50                      9   \n",
       "1544                 1              2.65                     16   \n",
       "9935                 1              2.65                      5   \n",
       "7854                 2              2.50                      7   \n",
       "\n",
       "       living_area_m2  floor  is_apartment  ...  number_of_balconies  \\\n",
       "1752              NaN      1         False  ...                  0.0   \n",
       "12747            37.6      1         False  ...                  0.0   \n",
       "1544             20.0      6         False  ...                  0.0   \n",
       "9935             18.0      3         False  ...                  1.0   \n",
       "7854             24.5      6         False  ...                  1.0   \n",
       "\n",
       "         locality_name  nearest_airport_distance_km  city_center_distance_km  \\\n",
       "1752   Санкт-Петербург                         33.0                     15.0   \n",
       "12747     Красное Село                         27.0                     30.0   \n",
       "1544   Санкт-Петербург                          8.0                     12.0   \n",
       "9935   Санкт-Петербург                         43.0                     15.0   \n",
       "7854   Санкт-Петербург                         42.0                     12.0   \n",
       "\n",
       "      parks_numbers_within_3km  nearest_park_distance_km  \\\n",
       "1752                         0                       NaN   \n",
       "12747                        1                       1.0   \n",
       "1544                         2                       0.0   \n",
       "9935                         1                       1.0   \n",
       "7854                         0                       NaN   \n",
       "\n",
       "       ponds_number_within_3km  nearest_pond_distance_km  days_exposition  \\\n",
       "1752                         1                       1.0             74.0   \n",
       "12747                        0                       NaN            118.0   \n",
       "1544                         1                       0.0            193.0   \n",
       "9935                         0                       NaN            744.0   \n",
       "7854                         0                       NaN             76.0   \n",
       "\n",
       "       floor_type  \n",
       "1752       первый  \n",
       "12747      первый  \n",
       "1544       другой  \n",
       "9935       другой  \n",
       "7854       другой  \n",
       "\n",
       "[5 rows x 23 columns]"
      ]
     },
     "execution_count": 41,
     "metadata": {},
     "output_type": "execute_result"
    }
   ],
   "source": [
    "data['floor_type'] = data.apply(define_floor_type, axis=1)\n",
    "\n",
    "data.sample(5)"
   ]
  },
  {
   "cell_type": "code",
   "execution_count": 42,
   "id": "71366589-a15c-4d0f-9cf0-59c41c950be8",
   "metadata": {},
   "outputs": [
    {
     "data": {
      "text/html": [
       "<div>\n",
       "<style scoped>\n",
       "    .dataframe tbody tr th:only-of-type {\n",
       "        vertical-align: middle;\n",
       "    }\n",
       "\n",
       "    .dataframe tbody tr th {\n",
       "        vertical-align: top;\n",
       "    }\n",
       "\n",
       "    .dataframe thead th {\n",
       "        text-align: right;\n",
       "    }\n",
       "</style>\n",
       "<table border=\"1\" class=\"dataframe\">\n",
       "  <thead>\n",
       "    <tr style=\"text-align: right;\">\n",
       "      <th></th>\n",
       "      <th>total_images</th>\n",
       "      <th>last_price</th>\n",
       "      <th>total_area_m2</th>\n",
       "      <th>first_day_exposition</th>\n",
       "      <th>number_of_rooms</th>\n",
       "      <th>ceiling_height_m</th>\n",
       "      <th>total_floors_in_house</th>\n",
       "      <th>living_area_m2</th>\n",
       "      <th>floor</th>\n",
       "      <th>is_apartment</th>\n",
       "      <th>...</th>\n",
       "      <th>locality_name</th>\n",
       "      <th>nearest_airport_distance_km</th>\n",
       "      <th>city_center_distance_km</th>\n",
       "      <th>parks_numbers_within_3km</th>\n",
       "      <th>nearest_park_distance_km</th>\n",
       "      <th>ponds_number_within_3km</th>\n",
       "      <th>nearest_pond_distance_km</th>\n",
       "      <th>days_exposition</th>\n",
       "      <th>floor_type</th>\n",
       "      <th>price_per_m2</th>\n",
       "    </tr>\n",
       "  </thead>\n",
       "  <tbody>\n",
       "    <tr>\n",
       "      <th>15452</th>\n",
       "      <td>9</td>\n",
       "      <td>4600000.0</td>\n",
       "      <td>58.0</td>\n",
       "      <td>2018-02-22</td>\n",
       "      <td>2</td>\n",
       "      <td>3.00</td>\n",
       "      <td>12</td>\n",
       "      <td>34.0</td>\n",
       "      <td>8</td>\n",
       "      <td>False</td>\n",
       "      <td>...</td>\n",
       "      <td>Гатчина</td>\n",
       "      <td>NaN</td>\n",
       "      <td>NaN</td>\n",
       "      <td>0</td>\n",
       "      <td>NaN</td>\n",
       "      <td>0</td>\n",
       "      <td>NaN</td>\n",
       "      <td>179.0</td>\n",
       "      <td>другой</td>\n",
       "      <td>79310</td>\n",
       "    </tr>\n",
       "    <tr>\n",
       "      <th>22674</th>\n",
       "      <td>0</td>\n",
       "      <td>4300000.0</td>\n",
       "      <td>50.0</td>\n",
       "      <td>2016-04-27</td>\n",
       "      <td>2</td>\n",
       "      <td>2.65</td>\n",
       "      <td>9</td>\n",
       "      <td>30.0</td>\n",
       "      <td>9</td>\n",
       "      <td>False</td>\n",
       "      <td>...</td>\n",
       "      <td>Санкт-Петербург</td>\n",
       "      <td>46.0</td>\n",
       "      <td>19.0</td>\n",
       "      <td>0</td>\n",
       "      <td>NaN</td>\n",
       "      <td>0</td>\n",
       "      <td>NaN</td>\n",
       "      <td>57.0</td>\n",
       "      <td>последний</td>\n",
       "      <td>86000</td>\n",
       "    </tr>\n",
       "    <tr>\n",
       "      <th>4785</th>\n",
       "      <td>8</td>\n",
       "      <td>4500000.0</td>\n",
       "      <td>63.0</td>\n",
       "      <td>2017-10-23</td>\n",
       "      <td>2</td>\n",
       "      <td>2.65</td>\n",
       "      <td>16</td>\n",
       "      <td>NaN</td>\n",
       "      <td>5</td>\n",
       "      <td>False</td>\n",
       "      <td>...</td>\n",
       "      <td>поселок Мурино</td>\n",
       "      <td>NaN</td>\n",
       "      <td>NaN</td>\n",
       "      <td>0</td>\n",
       "      <td>NaN</td>\n",
       "      <td>0</td>\n",
       "      <td>NaN</td>\n",
       "      <td>237.0</td>\n",
       "      <td>другой</td>\n",
       "      <td>71428</td>\n",
       "    </tr>\n",
       "    <tr>\n",
       "      <th>23144</th>\n",
       "      <td>10</td>\n",
       "      <td>3790000.0</td>\n",
       "      <td>43.9</td>\n",
       "      <td>2017-11-10</td>\n",
       "      <td>2</td>\n",
       "      <td>2.65</td>\n",
       "      <td>5</td>\n",
       "      <td>27.0</td>\n",
       "      <td>5</td>\n",
       "      <td>False</td>\n",
       "      <td>...</td>\n",
       "      <td>Санкт-Петербург</td>\n",
       "      <td>49.0</td>\n",
       "      <td>16.0</td>\n",
       "      <td>0</td>\n",
       "      <td>NaN</td>\n",
       "      <td>0</td>\n",
       "      <td>NaN</td>\n",
       "      <td>3.0</td>\n",
       "      <td>последний</td>\n",
       "      <td>86332</td>\n",
       "    </tr>\n",
       "    <tr>\n",
       "      <th>20729</th>\n",
       "      <td>13</td>\n",
       "      <td>5395000.0</td>\n",
       "      <td>40.4</td>\n",
       "      <td>2018-02-01</td>\n",
       "      <td>1</td>\n",
       "      <td>2.60</td>\n",
       "      <td>17</td>\n",
       "      <td>20.2</td>\n",
       "      <td>14</td>\n",
       "      <td>False</td>\n",
       "      <td>...</td>\n",
       "      <td>Санкт-Петербург</td>\n",
       "      <td>34.0</td>\n",
       "      <td>15.0</td>\n",
       "      <td>1</td>\n",
       "      <td>1.0</td>\n",
       "      <td>3</td>\n",
       "      <td>0.0</td>\n",
       "      <td>36.0</td>\n",
       "      <td>другой</td>\n",
       "      <td>133539</td>\n",
       "    </tr>\n",
       "    <tr>\n",
       "      <th>23543</th>\n",
       "      <td>0</td>\n",
       "      <td>4990000.0</td>\n",
       "      <td>53.0</td>\n",
       "      <td>2017-09-01</td>\n",
       "      <td>3</td>\n",
       "      <td>2.65</td>\n",
       "      <td>16</td>\n",
       "      <td>32.0</td>\n",
       "      <td>8</td>\n",
       "      <td>False</td>\n",
       "      <td>...</td>\n",
       "      <td>Санкт-Петербург</td>\n",
       "      <td>50.0</td>\n",
       "      <td>15.0</td>\n",
       "      <td>0</td>\n",
       "      <td>NaN</td>\n",
       "      <td>0</td>\n",
       "      <td>NaN</td>\n",
       "      <td>21.0</td>\n",
       "      <td>другой</td>\n",
       "      <td>94150</td>\n",
       "    </tr>\n",
       "    <tr>\n",
       "      <th>11076</th>\n",
       "      <td>6</td>\n",
       "      <td>4000000.0</td>\n",
       "      <td>31.0</td>\n",
       "      <td>2019-04-23</td>\n",
       "      <td>1</td>\n",
       "      <td>2.65</td>\n",
       "      <td>7</td>\n",
       "      <td>NaN</td>\n",
       "      <td>4</td>\n",
       "      <td>False</td>\n",
       "      <td>...</td>\n",
       "      <td>Санкт-Петербург</td>\n",
       "      <td>25.0</td>\n",
       "      <td>3.0</td>\n",
       "      <td>3</td>\n",
       "      <td>0.0</td>\n",
       "      <td>1</td>\n",
       "      <td>1.0</td>\n",
       "      <td>NaN</td>\n",
       "      <td>другой</td>\n",
       "      <td>129032</td>\n",
       "    </tr>\n",
       "    <tr>\n",
       "      <th>2865</th>\n",
       "      <td>1</td>\n",
       "      <td>4350000.0</td>\n",
       "      <td>41.3</td>\n",
       "      <td>2018-02-08</td>\n",
       "      <td>2</td>\n",
       "      <td>2.60</td>\n",
       "      <td>5</td>\n",
       "      <td>27.8</td>\n",
       "      <td>4</td>\n",
       "      <td>False</td>\n",
       "      <td>...</td>\n",
       "      <td>Санкт-Петербург</td>\n",
       "      <td>14.0</td>\n",
       "      <td>9.0</td>\n",
       "      <td>0</td>\n",
       "      <td>NaN</td>\n",
       "      <td>0</td>\n",
       "      <td>NaN</td>\n",
       "      <td>69.0</td>\n",
       "      <td>другой</td>\n",
       "      <td>105326</td>\n",
       "    </tr>\n",
       "    <tr>\n",
       "      <th>15817</th>\n",
       "      <td>9</td>\n",
       "      <td>6500000.0</td>\n",
       "      <td>57.1</td>\n",
       "      <td>2018-02-01</td>\n",
       "      <td>2</td>\n",
       "      <td>2.95</td>\n",
       "      <td>7</td>\n",
       "      <td>35.7</td>\n",
       "      <td>4</td>\n",
       "      <td>False</td>\n",
       "      <td>...</td>\n",
       "      <td>Санкт-Петербург</td>\n",
       "      <td>28.0</td>\n",
       "      <td>7.0</td>\n",
       "      <td>1</td>\n",
       "      <td>0.0</td>\n",
       "      <td>1</td>\n",
       "      <td>1.0</td>\n",
       "      <td>11.0</td>\n",
       "      <td>другой</td>\n",
       "      <td>113835</td>\n",
       "    </tr>\n",
       "    <tr>\n",
       "      <th>3740</th>\n",
       "      <td>16</td>\n",
       "      <td>11000000.0</td>\n",
       "      <td>79.0</td>\n",
       "      <td>2019-01-30</td>\n",
       "      <td>3</td>\n",
       "      <td>3.00</td>\n",
       "      <td>6</td>\n",
       "      <td>52.4</td>\n",
       "      <td>6</td>\n",
       "      <td>False</td>\n",
       "      <td>...</td>\n",
       "      <td>Санкт-Петербург</td>\n",
       "      <td>19.0</td>\n",
       "      <td>4.0</td>\n",
       "      <td>0</td>\n",
       "      <td>NaN</td>\n",
       "      <td>1</td>\n",
       "      <td>1.0</td>\n",
       "      <td>NaN</td>\n",
       "      <td>последний</td>\n",
       "      <td>139240</td>\n",
       "    </tr>\n",
       "  </tbody>\n",
       "</table>\n",
       "<p>10 rows × 24 columns</p>\n",
       "</div>"
      ],
      "text/plain": [
       "       total_images  last_price  total_area_m2 first_day_exposition  \\\n",
       "15452             9   4600000.0           58.0           2018-02-22   \n",
       "22674             0   4300000.0           50.0           2016-04-27   \n",
       "4785              8   4500000.0           63.0           2017-10-23   \n",
       "23144            10   3790000.0           43.9           2017-11-10   \n",
       "20729            13   5395000.0           40.4           2018-02-01   \n",
       "23543             0   4990000.0           53.0           2017-09-01   \n",
       "11076             6   4000000.0           31.0           2019-04-23   \n",
       "2865              1   4350000.0           41.3           2018-02-08   \n",
       "15817             9   6500000.0           57.1           2018-02-01   \n",
       "3740             16  11000000.0           79.0           2019-01-30   \n",
       "\n",
       "       number_of_rooms  ceiling_height_m  total_floors_in_house  \\\n",
       "15452                2              3.00                     12   \n",
       "22674                2              2.65                      9   \n",
       "4785                 2              2.65                     16   \n",
       "23144                2              2.65                      5   \n",
       "20729                1              2.60                     17   \n",
       "23543                3              2.65                     16   \n",
       "11076                1              2.65                      7   \n",
       "2865                 2              2.60                      5   \n",
       "15817                2              2.95                      7   \n",
       "3740                 3              3.00                      6   \n",
       "\n",
       "       living_area_m2  floor  is_apartment  ...    locality_name  \\\n",
       "15452            34.0      8         False  ...          Гатчина   \n",
       "22674            30.0      9         False  ...  Санкт-Петербург   \n",
       "4785              NaN      5         False  ...   поселок Мурино   \n",
       "23144            27.0      5         False  ...  Санкт-Петербург   \n",
       "20729            20.2     14         False  ...  Санкт-Петербург   \n",
       "23543            32.0      8         False  ...  Санкт-Петербург   \n",
       "11076             NaN      4         False  ...  Санкт-Петербург   \n",
       "2865             27.8      4         False  ...  Санкт-Петербург   \n",
       "15817            35.7      4         False  ...  Санкт-Петербург   \n",
       "3740             52.4      6         False  ...  Санкт-Петербург   \n",
       "\n",
       "       nearest_airport_distance_km  city_center_distance_km  \\\n",
       "15452                          NaN                      NaN   \n",
       "22674                         46.0                     19.0   \n",
       "4785                           NaN                      NaN   \n",
       "23144                         49.0                     16.0   \n",
       "20729                         34.0                     15.0   \n",
       "23543                         50.0                     15.0   \n",
       "11076                         25.0                      3.0   \n",
       "2865                          14.0                      9.0   \n",
       "15817                         28.0                      7.0   \n",
       "3740                          19.0                      4.0   \n",
       "\n",
       "       parks_numbers_within_3km nearest_park_distance_km  \\\n",
       "15452                         0                      NaN   \n",
       "22674                         0                      NaN   \n",
       "4785                          0                      NaN   \n",
       "23144                         0                      NaN   \n",
       "20729                         1                      1.0   \n",
       "23543                         0                      NaN   \n",
       "11076                         3                      0.0   \n",
       "2865                          0                      NaN   \n",
       "15817                         1                      0.0   \n",
       "3740                          0                      NaN   \n",
       "\n",
       "       ponds_number_within_3km  nearest_pond_distance_km  days_exposition  \\\n",
       "15452                        0                       NaN            179.0   \n",
       "22674                        0                       NaN             57.0   \n",
       "4785                         0                       NaN            237.0   \n",
       "23144                        0                       NaN              3.0   \n",
       "20729                        3                       0.0             36.0   \n",
       "23543                        0                       NaN             21.0   \n",
       "11076                        1                       1.0              NaN   \n",
       "2865                         0                       NaN             69.0   \n",
       "15817                        1                       1.0             11.0   \n",
       "3740                         1                       1.0              NaN   \n",
       "\n",
       "       floor_type  price_per_m2  \n",
       "15452      другой         79310  \n",
       "22674   последний         86000  \n",
       "4785       другой         71428  \n",
       "23144   последний         86332  \n",
       "20729      другой        133539  \n",
       "23543      другой         94150  \n",
       "11076      другой        129032  \n",
       "2865       другой        105326  \n",
       "15817      другой        113835  \n",
       "3740    последний        139240  \n",
       "\n",
       "[10 rows x 24 columns]"
      ]
     },
     "execution_count": 42,
     "metadata": {},
     "output_type": "execute_result"
    }
   ],
   "source": [
    "# Добавим цену 1 метра квадратного.\n",
    "data['price_per_m2'] = data['last_price'] / data['total_area_m2']\n",
    "data['price_per_m2'] = data['price_per_m2'].astype(int)\n",
    "\n",
    "data.sample(10)"
   ]
  },
  {
   "cell_type": "code",
   "execution_count": 43,
   "id": "d3eca687-6424-4f59-b89e-7a784e09018a",
   "metadata": {},
   "outputs": [
    {
     "data": {
      "text/html": [
       "<div>\n",
       "<style scoped>\n",
       "    .dataframe tbody tr th:only-of-type {\n",
       "        vertical-align: middle;\n",
       "    }\n",
       "\n",
       "    .dataframe tbody tr th {\n",
       "        vertical-align: top;\n",
       "    }\n",
       "\n",
       "    .dataframe thead th {\n",
       "        text-align: right;\n",
       "    }\n",
       "</style>\n",
       "<table border=\"1\" class=\"dataframe\">\n",
       "  <thead>\n",
       "    <tr style=\"text-align: right;\">\n",
       "      <th></th>\n",
       "      <th>total_images</th>\n",
       "      <th>last_price</th>\n",
       "      <th>total_area_m2</th>\n",
       "      <th>first_day_exposition</th>\n",
       "      <th>number_of_rooms</th>\n",
       "      <th>ceiling_height_m</th>\n",
       "      <th>total_floors_in_house</th>\n",
       "      <th>living_area_m2</th>\n",
       "      <th>floor</th>\n",
       "      <th>is_apartment</th>\n",
       "      <th>...</th>\n",
       "      <th>parks_numbers_within_3km</th>\n",
       "      <th>nearest_park_distance_km</th>\n",
       "      <th>ponds_number_within_3km</th>\n",
       "      <th>nearest_pond_distance_km</th>\n",
       "      <th>days_exposition</th>\n",
       "      <th>floor_type</th>\n",
       "      <th>price_per_m2</th>\n",
       "      <th>weekday</th>\n",
       "      <th>month</th>\n",
       "      <th>year</th>\n",
       "    </tr>\n",
       "  </thead>\n",
       "  <tbody>\n",
       "    <tr>\n",
       "      <th>14209</th>\n",
       "      <td>20</td>\n",
       "      <td>9000000.0</td>\n",
       "      <td>95.00</td>\n",
       "      <td>2016-10-08</td>\n",
       "      <td>3</td>\n",
       "      <td>3.20</td>\n",
       "      <td>4</td>\n",
       "      <td>59.10</td>\n",
       "      <td>4</td>\n",
       "      <td>False</td>\n",
       "      <td>...</td>\n",
       "      <td>1</td>\n",
       "      <td>0.0</td>\n",
       "      <td>1</td>\n",
       "      <td>1.0</td>\n",
       "      <td>NaN</td>\n",
       "      <td>последний</td>\n",
       "      <td>94736</td>\n",
       "      <td>5</td>\n",
       "      <td>10</td>\n",
       "      <td>2016</td>\n",
       "    </tr>\n",
       "    <tr>\n",
       "      <th>15111</th>\n",
       "      <td>12</td>\n",
       "      <td>3300000.0</td>\n",
       "      <td>50.70</td>\n",
       "      <td>2018-06-25</td>\n",
       "      <td>2</td>\n",
       "      <td>2.65</td>\n",
       "      <td>14</td>\n",
       "      <td>29.00</td>\n",
       "      <td>2</td>\n",
       "      <td>False</td>\n",
       "      <td>...</td>\n",
       "      <td>0</td>\n",
       "      <td>NaN</td>\n",
       "      <td>0</td>\n",
       "      <td>NaN</td>\n",
       "      <td>91.0</td>\n",
       "      <td>другой</td>\n",
       "      <td>65088</td>\n",
       "      <td>0</td>\n",
       "      <td>6</td>\n",
       "      <td>2018</td>\n",
       "    </tr>\n",
       "    <tr>\n",
       "      <th>21144</th>\n",
       "      <td>0</td>\n",
       "      <td>3450000.0</td>\n",
       "      <td>34.40</td>\n",
       "      <td>2017-11-08</td>\n",
       "      <td>1</td>\n",
       "      <td>2.54</td>\n",
       "      <td>9</td>\n",
       "      <td>19.00</td>\n",
       "      <td>5</td>\n",
       "      <td>False</td>\n",
       "      <td>...</td>\n",
       "      <td>0</td>\n",
       "      <td>NaN</td>\n",
       "      <td>0</td>\n",
       "      <td>NaN</td>\n",
       "      <td>162.0</td>\n",
       "      <td>другой</td>\n",
       "      <td>100290</td>\n",
       "      <td>2</td>\n",
       "      <td>11</td>\n",
       "      <td>2017</td>\n",
       "    </tr>\n",
       "    <tr>\n",
       "      <th>8368</th>\n",
       "      <td>6</td>\n",
       "      <td>5490000.0</td>\n",
       "      <td>53.52</td>\n",
       "      <td>2017-11-22</td>\n",
       "      <td>2</td>\n",
       "      <td>2.75</td>\n",
       "      <td>20</td>\n",
       "      <td>28.02</td>\n",
       "      <td>17</td>\n",
       "      <td>False</td>\n",
       "      <td>...</td>\n",
       "      <td>0</td>\n",
       "      <td>NaN</td>\n",
       "      <td>0</td>\n",
       "      <td>NaN</td>\n",
       "      <td>90.0</td>\n",
       "      <td>другой</td>\n",
       "      <td>102578</td>\n",
       "      <td>2</td>\n",
       "      <td>11</td>\n",
       "      <td>2017</td>\n",
       "    </tr>\n",
       "    <tr>\n",
       "      <th>23496</th>\n",
       "      <td>7</td>\n",
       "      <td>3300000.0</td>\n",
       "      <td>55.30</td>\n",
       "      <td>2018-06-19</td>\n",
       "      <td>2</td>\n",
       "      <td>2.45</td>\n",
       "      <td>14</td>\n",
       "      <td>31.00</td>\n",
       "      <td>2</td>\n",
       "      <td>False</td>\n",
       "      <td>...</td>\n",
       "      <td>0</td>\n",
       "      <td>NaN</td>\n",
       "      <td>0</td>\n",
       "      <td>NaN</td>\n",
       "      <td>62.0</td>\n",
       "      <td>другой</td>\n",
       "      <td>59674</td>\n",
       "      <td>1</td>\n",
       "      <td>6</td>\n",
       "      <td>2018</td>\n",
       "    </tr>\n",
       "    <tr>\n",
       "      <th>1446</th>\n",
       "      <td>5</td>\n",
       "      <td>1750000.0</td>\n",
       "      <td>59.50</td>\n",
       "      <td>2018-06-05</td>\n",
       "      <td>3</td>\n",
       "      <td>2.50</td>\n",
       "      <td>5</td>\n",
       "      <td>NaN</td>\n",
       "      <td>4</td>\n",
       "      <td>False</td>\n",
       "      <td>...</td>\n",
       "      <td>0</td>\n",
       "      <td>NaN</td>\n",
       "      <td>0</td>\n",
       "      <td>NaN</td>\n",
       "      <td>NaN</td>\n",
       "      <td>другой</td>\n",
       "      <td>29411</td>\n",
       "      <td>1</td>\n",
       "      <td>6</td>\n",
       "      <td>2018</td>\n",
       "    </tr>\n",
       "    <tr>\n",
       "      <th>17465</th>\n",
       "      <td>13</td>\n",
       "      <td>27500000.0</td>\n",
       "      <td>101.80</td>\n",
       "      <td>2019-01-02</td>\n",
       "      <td>4</td>\n",
       "      <td>2.65</td>\n",
       "      <td>6</td>\n",
       "      <td>63.00</td>\n",
       "      <td>5</td>\n",
       "      <td>False</td>\n",
       "      <td>...</td>\n",
       "      <td>1</td>\n",
       "      <td>0.0</td>\n",
       "      <td>3</td>\n",
       "      <td>0.0</td>\n",
       "      <td>NaN</td>\n",
       "      <td>другой</td>\n",
       "      <td>270137</td>\n",
       "      <td>2</td>\n",
       "      <td>1</td>\n",
       "      <td>2019</td>\n",
       "    </tr>\n",
       "    <tr>\n",
       "      <th>8361</th>\n",
       "      <td>4</td>\n",
       "      <td>1250000.0</td>\n",
       "      <td>30.00</td>\n",
       "      <td>2017-06-18</td>\n",
       "      <td>1</td>\n",
       "      <td>2.50</td>\n",
       "      <td>5</td>\n",
       "      <td>16.00</td>\n",
       "      <td>4</td>\n",
       "      <td>False</td>\n",
       "      <td>...</td>\n",
       "      <td>0</td>\n",
       "      <td>NaN</td>\n",
       "      <td>0</td>\n",
       "      <td>NaN</td>\n",
       "      <td>324.0</td>\n",
       "      <td>другой</td>\n",
       "      <td>41666</td>\n",
       "      <td>6</td>\n",
       "      <td>6</td>\n",
       "      <td>2017</td>\n",
       "    </tr>\n",
       "    <tr>\n",
       "      <th>16737</th>\n",
       "      <td>9</td>\n",
       "      <td>4150000.0</td>\n",
       "      <td>43.70</td>\n",
       "      <td>2018-08-21</td>\n",
       "      <td>1</td>\n",
       "      <td>2.50</td>\n",
       "      <td>17</td>\n",
       "      <td>21.00</td>\n",
       "      <td>11</td>\n",
       "      <td>False</td>\n",
       "      <td>...</td>\n",
       "      <td>0</td>\n",
       "      <td>NaN</td>\n",
       "      <td>0</td>\n",
       "      <td>NaN</td>\n",
       "      <td>216.0</td>\n",
       "      <td>другой</td>\n",
       "      <td>94965</td>\n",
       "      <td>1</td>\n",
       "      <td>8</td>\n",
       "      <td>2018</td>\n",
       "    </tr>\n",
       "    <tr>\n",
       "      <th>10047</th>\n",
       "      <td>8</td>\n",
       "      <td>4100000.0</td>\n",
       "      <td>37.00</td>\n",
       "      <td>2018-09-28</td>\n",
       "      <td>1</td>\n",
       "      <td>2.65</td>\n",
       "      <td>19</td>\n",
       "      <td>19.00</td>\n",
       "      <td>4</td>\n",
       "      <td>False</td>\n",
       "      <td>...</td>\n",
       "      <td>0</td>\n",
       "      <td>NaN</td>\n",
       "      <td>0</td>\n",
       "      <td>NaN</td>\n",
       "      <td>12.0</td>\n",
       "      <td>другой</td>\n",
       "      <td>110810</td>\n",
       "      <td>4</td>\n",
       "      <td>9</td>\n",
       "      <td>2018</td>\n",
       "    </tr>\n",
       "  </tbody>\n",
       "</table>\n",
       "<p>10 rows × 27 columns</p>\n",
       "</div>"
      ],
      "text/plain": [
       "       total_images  last_price  total_area_m2 first_day_exposition  \\\n",
       "14209            20   9000000.0          95.00           2016-10-08   \n",
       "15111            12   3300000.0          50.70           2018-06-25   \n",
       "21144             0   3450000.0          34.40           2017-11-08   \n",
       "8368              6   5490000.0          53.52           2017-11-22   \n",
       "23496             7   3300000.0          55.30           2018-06-19   \n",
       "1446              5   1750000.0          59.50           2018-06-05   \n",
       "17465            13  27500000.0         101.80           2019-01-02   \n",
       "8361              4   1250000.0          30.00           2017-06-18   \n",
       "16737             9   4150000.0          43.70           2018-08-21   \n",
       "10047             8   4100000.0          37.00           2018-09-28   \n",
       "\n",
       "       number_of_rooms  ceiling_height_m  total_floors_in_house  \\\n",
       "14209                3              3.20                      4   \n",
       "15111                2              2.65                     14   \n",
       "21144                1              2.54                      9   \n",
       "8368                 2              2.75                     20   \n",
       "23496                2              2.45                     14   \n",
       "1446                 3              2.50                      5   \n",
       "17465                4              2.65                      6   \n",
       "8361                 1              2.50                      5   \n",
       "16737                1              2.50                     17   \n",
       "10047                1              2.65                     19   \n",
       "\n",
       "       living_area_m2  floor  is_apartment  ...  parks_numbers_within_3km  \\\n",
       "14209           59.10      4         False  ...                         1   \n",
       "15111           29.00      2         False  ...                         0   \n",
       "21144           19.00      5         False  ...                         0   \n",
       "8368            28.02     17         False  ...                         0   \n",
       "23496           31.00      2         False  ...                         0   \n",
       "1446              NaN      4         False  ...                         0   \n",
       "17465           63.00      5         False  ...                         1   \n",
       "8361            16.00      4         False  ...                         0   \n",
       "16737           21.00     11         False  ...                         0   \n",
       "10047           19.00      4         False  ...                         0   \n",
       "\n",
       "       nearest_park_distance_km  ponds_number_within_3km  \\\n",
       "14209                       0.0                        1   \n",
       "15111                       NaN                        0   \n",
       "21144                       NaN                        0   \n",
       "8368                        NaN                        0   \n",
       "23496                       NaN                        0   \n",
       "1446                        NaN                        0   \n",
       "17465                       0.0                        3   \n",
       "8361                        NaN                        0   \n",
       "16737                       NaN                        0   \n",
       "10047                       NaN                        0   \n",
       "\n",
       "       nearest_pond_distance_km days_exposition  floor_type  price_per_m2  \\\n",
       "14209                       1.0             NaN   последний         94736   \n",
       "15111                       NaN            91.0      другой         65088   \n",
       "21144                       NaN           162.0      другой        100290   \n",
       "8368                        NaN            90.0      другой        102578   \n",
       "23496                       NaN            62.0      другой         59674   \n",
       "1446                        NaN             NaN      другой         29411   \n",
       "17465                       0.0             NaN      другой        270137   \n",
       "8361                        NaN           324.0      другой         41666   \n",
       "16737                       NaN           216.0      другой         94965   \n",
       "10047                       NaN            12.0      другой        110810   \n",
       "\n",
       "       weekday  month  year  \n",
       "14209        5     10  2016  \n",
       "15111        0      6  2018  \n",
       "21144        2     11  2017  \n",
       "8368         2     11  2017  \n",
       "23496        1      6  2018  \n",
       "1446         1      6  2018  \n",
       "17465        2      1  2019  \n",
       "8361         6      6  2017  \n",
       "16737        1      8  2018  \n",
       "10047        4      9  2018  \n",
       "\n",
       "[10 rows x 27 columns]"
      ]
     },
     "execution_count": 43,
     "metadata": {},
     "output_type": "execute_result"
    }
   ],
   "source": [
    "# Добавляем столбцы дня недели, месяца и года\n",
    "data['weekday'] = data['first_day_exposition'].dt.weekday\n",
    "data['month'] = data['first_day_exposition'].dt.month\n",
    "data['year'] = data['first_day_exposition'].dt.year\n",
    "\n",
    "data.sample(10)"
   ]
  },
  {
   "cell_type": "markdown",
   "id": "7c5926ae",
   "metadata": {},
   "source": [
    "<div class=\"alert alert-block alert-success\">\n",
    " \n",
    "### Комментарий ревьюера\n",
    "    \n",
    "#### Успех\n",
    "    \n",
    "А теперь наши данные готовы к дальнейшему анализу "
   ]
  },
  {
   "cell_type": "markdown",
   "id": "06c7b84f-6e26-4fbb-a435-9e017a189e0c",
   "metadata": {
    "tags": []
   },
   "source": [
    "### 3. Проведите исследовательский анализ данных"
   ]
  },
  {
   "cell_type": "code",
   "execution_count": 44,
   "id": "2f7b47d1-3d8a-4c23-9a5d-8664ed2f15e6",
   "metadata": {},
   "outputs": [
    {
     "data": {
      "image/png": "[encoded data removed]",
      "text/plain": [
       "<Figure size 432x288 with 1 Axes>"
      ]
     },
     "metadata": {
      "needs_background": "light"
     },
     "output_type": "display_data"
    }
   ],
   "source": [
    "plt.hist(data['total_area_m2'], bins=50, range=(10,200))\n",
    "plt.title('Площадь квартир')\n",
    "plt.xlabel('Квадратные метры')\n",
    "plt.ylabel('Количество квартир')\n",
    "plt.show()"
   ]
  },
  {
   "cell_type": "markdown",
   "id": "aa3d34ba-0825-4bda-8087-5f83d9f8b2d8",
   "metadata": {},
   "source": [
    "* Внушительную часть объявлений занимают квартиры от 30 до 65 метров квадратных"
   ]
  },
  {
   "cell_type": "code",
   "execution_count": 45,
   "id": "f8b15409-2dc0-4ba8-8718-e7eab862a8ae",
   "metadata": {
    "tags": []
   },
   "outputs": [
    {
     "data": {
      "image/png": "[encoded data removed]",
      "text/plain": [
       "<Figure size 432x288 with 1 Axes>"
      ]
     },
     "metadata": {
      "needs_background": "light"
     },
     "output_type": "display_data"
    }
   ],
   "source": [
    "plt.hist(data['living_area_m2'], bins=50, range=(10,125))\n",
    "plt.title('Жилая площадь квартир')\n",
    "plt.xlabel('Квадратные метры')\n",
    "plt.ylabel('Количество квартир')\n",
    "plt.show()"
   ]
  },
  {
   "cell_type": "markdown",
   "id": "42187b18-3db5-43c7-af0b-6516bdcc5d97",
   "metadata": {},
   "source": [
    "* Жилая площадь имеет два пика в 18 и 30 м"
   ]
  },
  {
   "cell_type": "markdown",
   "id": "3928ae5b",
   "metadata": {},
   "source": [
    "<div class=\"alert alert-block alert-success\">\n",
    " \n",
    "### Комментарий ревьюера\n",
    "    \n",
    "#### Успех\n",
    "    \n",
    "Выводы по делу получились. Согласен. "
   ]
  },
  {
   "cell_type": "code",
   "execution_count": 46,
   "id": "1255f947-e7a1-4c4b-acfc-fb1780e8e303",
   "metadata": {
    "tags": []
   },
   "outputs": [
    {
     "data": {
      "image/png": "[encoded data removed]",
      "text/plain": [
       "<Figure size 432x288 with 1 Axes>"
      ]
     },
     "metadata": {
      "needs_background": "light"
     },
     "output_type": "display_data"
    }
   ],
   "source": [
    "plt.hist(data['kitchen_area_m2'], bins=50, range=(0,50))\n",
    "plt.title('Площадь кухни')\n",
    "plt.xlabel('Квадратные метры')\n",
    "plt.ylabel('Количество квартир')\n",
    "plt.show()"
   ]
  },
  {
   "cell_type": "markdown",
   "id": "8a680d4e-5fd6-4258-a109-3e3bd43d9f06",
   "metadata": {},
   "source": [
    "* Площадь кухонь преимущественно от 5 до 15м"
   ]
  },
  {
   "cell_type": "code",
   "execution_count": 47,
   "id": "d5b0fe4b-4399-470f-9912-1fcb16dc7657",
   "metadata": {
    "tags": []
   },
   "outputs": [
    {
     "data": {
      "image/png": "[encoded data removed]",
      "text/plain": [
       "<Figure size 432x288 with 1 Axes>"
      ]
     },
     "metadata": {
      "needs_background": "light"
     },
     "output_type": "display_data"
    }
   ],
   "source": [
    "plt.hist(data['last_price'], bins=60, range=(0,20000000))\n",
    "plt.title('Цена объекта')\n",
    "plt.xlabel('Стоимость')\n",
    "plt.ylabel('Количество квартир')\n",
    "plt.show()"
   ]
  },
  {
   "cell_type": "markdown",
   "id": "4e091420-8fc3-408e-8445-fbc306323b54",
   "metadata": {},
   "source": [
    "* Преобладает цена в диапозоне от 2,5 млн до 7 млн"
   ]
  },
  {
   "cell_type": "code",
   "execution_count": 48,
   "id": "4a809650-0feb-42f0-85cd-2da62e14cc07",
   "metadata": {
    "tags": []
   },
   "outputs": [
    {
     "data": {
      "image/png": "[encoded data removed]",
      "text/plain": [
       "<Figure size 432x288 with 1 Axes>"
      ]
     },
     "metadata": {
      "needs_background": "light"
     },
     "output_type": "display_data"
    }
   ],
   "source": [
    "plt.hist(data['number_of_rooms'], bins=7, range=(1,7))\n",
    "plt.title('Количество комнат')\n",
    "plt.xlabel('Количество комнат')\n",
    "plt.ylabel('Количество квартир')\n",
    "plt.show()"
   ]
  },
  {
   "cell_type": "markdown",
   "id": "689841b7-4291-47e7-aa5b-45fe5c84e792",
   "metadata": {},
   "source": [
    "* В основном в объявленипях указаны квартиры с 1-ой, 2-мя и 3-мя комнатами. Есть доля 4-комнатных квартир. Сушественно меньшую долю составляет недвижимость более 5-ти комнат"
   ]
  },
  {
   "cell_type": "markdown",
   "id": "e6231bdb",
   "metadata": {},
   "source": [
    "<div class=\"alert alert-block alert-success\">\n",
    " \n",
    "### Комментарий ревьюера\n",
    "    \n",
    "#### Успех\n",
    "    \n",
    "Распределение по комнатам логически соотносится с распределением по площади. "
   ]
  },
  {
   "cell_type": "code",
   "execution_count": 49,
   "id": "3825332c-98cb-4025-b271-070dab3a3571",
   "metadata": {},
   "outputs": [
    {
     "data": {
      "image/png": "[encoded data removed]",
      "text/plain": [
       "<Figure size 432x288 with 1 Axes>"
      ]
     },
     "metadata": {
      "needs_background": "light"
     },
     "output_type": "display_data"
    }
   ],
   "source": [
    "plt.hist(data['ceiling_height_m'], bins=10)\n",
    "plt.title('Высота потолков')\n",
    "plt.xlabel('Метры')\n",
    "plt.ylabel('Количество квартир')\n",
    "plt.show()"
   ]
  },
  {
   "cell_type": "markdown",
   "id": "51dc4b3f-c647-42f0-8af5-8006ca9202cb",
   "metadata": {},
   "source": [
    "* Большинство вариантов имеют высоту потолков от 2,5 до 3 метров."
   ]
  },
  {
   "cell_type": "code",
   "execution_count": 50,
   "id": "8118bbe9-c1cb-4e86-8c54-a480abced772",
   "metadata": {
    "tags": []
   },
   "outputs": [
    {
     "data": {
      "image/png": "[encoded data removed]",
      "text/plain": [
       "<Figure size 432x288 with 1 Axes>"
      ]
     },
     "metadata": {
      "needs_background": "light"
     },
     "output_type": "display_data"
    }
   ],
   "source": [
    "plt.hist(data['floor'], bins=10)\n",
    "plt.title('Этаж квартиры')\n",
    "plt.xlabel('Этаж')\n",
    "plt.ylabel('Количество квартир')\n",
    "plt.show()"
   ]
  },
  {
   "cell_type": "markdown",
   "id": "194f9487-6c1f-4908-bde6-951d56c76d3f",
   "metadata": {},
   "source": [
    "* Этаж квартиры. Самая большая доля продаваемых квартир находится в диапозоне от 1 до 5 этажа."
   ]
  },
  {
   "cell_type": "code",
   "execution_count": 51,
   "id": "fc91218e-600c-4761-a185-e703364f4fd0",
   "metadata": {
    "tags": []
   },
   "outputs": [
    {
     "data": {
      "image/png": "[encoded data removed]",
      "text/plain": [
       "<Figure size 432x288 with 1 Axes>"
      ]
     },
     "metadata": {
      "needs_background": "light"
     },
     "output_type": "display_data"
    }
   ],
   "source": [
    "plt.hist(data['floor_type'])\n",
    "plt.title('Тип этажа')\n",
    "plt.show()"
   ]
  },
  {
   "cell_type": "markdown",
   "id": "71d14b36",
   "metadata": {},
   "source": [
    "<div class=\"alert alert-block alert-success\">\n",
    " \n",
    "### Комментарий ревьюера\n",
    "    \n",
    "#### Успех\n",
    "    \n",
    "Квартиры на первом этаже пользуются наименьшим спросом. "
   ]
  },
  {
   "cell_type": "markdown",
   "id": "a5ceda29-ca36-4400-b770-db775a11ffd7",
   "metadata": {},
   "source": [
    "* Квартир на первом и последнем этаже приблизительно одинаково, от 2500 до 3000. Но, основная часть квартир находяися на \"других\" этажах."
   ]
  },
  {
   "cell_type": "code",
   "execution_count": 52,
   "id": "1dfdb672-3f07-4793-81d2-10417415e0e6",
   "metadata": {
    "tags": []
   },
   "outputs": [
    {
     "data": {
      "image/png": "[encoded data removed]",
      "text/plain": [
       "<Figure size 432x288 with 1 Axes>"
      ]
     },
     "metadata": {
      "needs_background": "light"
     },
     "output_type": "display_data"
    }
   ],
   "source": [
    "plt.hist(data['total_floors_in_house'], bins=10)\n",
    "plt.title('Количество этажей в доме')\n",
    "plt.xlabel('Этажность дома')\n",
    "plt.ylabel('Количество квартир')\n",
    "plt.show()"
   ]
  },
  {
   "cell_type": "markdown",
   "id": "0e6f8f9e-3c47-426a-bedc-aac9d75f1f83",
   "metadata": {},
   "source": [
    "* На данном показателе есть зависимость: чем высотнее здание, тем меньше квартир на продажу в них встречается. Вероятно, более высокие дома - новее. Возможно жители высоток не так активно готовы менять жильё."
   ]
  },
  {
   "cell_type": "code",
   "execution_count": 53,
   "id": "fcc7c281-773d-4970-a0f4-902a98c58a8f",
   "metadata": {
    "tags": []
   },
   "outputs": [
    {
     "data": {
      "image/png": "[encoded data removed]",
      "text/plain": [
       "<Figure size 432x288 with 1 Axes>"
      ]
     },
     "metadata": {
      "needs_background": "light"
     },
     "output_type": "display_data"
    }
   ],
   "source": [
    "plt.hist(data['city_center_distance_km'], bins=100)\n",
    "plt.title('Расстояние до центра города')\n",
    "plt.xlabel('Км до центра')\n",
    "plt.ylabel('Количество квартир')\n",
    "plt.show()"
   ]
  },
  {
   "cell_type": "markdown",
   "id": "af64061f-566f-47bf-97bf-1d1de6c69000",
   "metadata": {},
   "source": [
    "* Основная масса квартир сосредочена в радиусе от 5 до 20 км от центра города"
   ]
  },
  {
   "cell_type": "markdown",
   "id": "fd8b23f4",
   "metadata": {},
   "source": [
    "<div class=\"alert alert-block alert-success\">\n",
    " \n",
    "### Комментарий ревьюера\n",
    "    \n",
    "#### Успех\n",
    "    \n",
    "Снова отлично по выводам "
   ]
  },
  {
   "cell_type": "code",
   "execution_count": 54,
   "id": "7c01e1ef-a2a6-4c79-8f68-8ac89567194e",
   "metadata": {
    "tags": []
   },
   "outputs": [
    {
     "data": {
      "image/png": "[encoded data removed]",
      "text/plain": [
       "<Figure size 432x288 with 1 Axes>"
      ]
     },
     "metadata": {
      "needs_background": "light"
     },
     "output_type": "display_data"
    }
   ],
   "source": [
    "plt.hist(data['nearest_airport_distance_km'], bins=50)\n",
    "plt.title('Расстояние до аэропорта')\n",
    "plt.xlabel('Км до аэропорта')\n",
    "plt.ylabel('Количество квартир')\n",
    "plt.show()"
   ]
  },
  {
   "cell_type": "markdown",
   "id": "87d6d83a-6113-4cae-8ed0-a612ea29329c",
   "metadata": {},
   "source": [
    "* Большая часть объявлений приходится на ~20 км от аэропорта"
   ]
  },
  {
   "cell_type": "code",
   "execution_count": 55,
   "id": "ca699732-cedc-4bad-8fcc-7dd23150617c",
   "metadata": {
    "tags": []
   },
   "outputs": [
    {
     "data": {
      "image/png": "[encoded data removed]",
      "text/plain": [
       "<Figure size 432x288 with 1 Axes>"
      ]
     },
     "metadata": {
      "needs_background": "light"
     },
     "output_type": "display_data"
    }
   ],
   "source": [
    "plt.hist(data['nearest_park_distance_km'], bins=50)\n",
    "plt.title('Расстояние до ближайшего парка')\n",
    "plt.xlabel('Км до парка')\n",
    "plt.ylabel('Количество квартир')\n",
    "plt.show()"
   ]
  },
  {
   "cell_type": "markdown",
   "id": "2cd7d657-81a9-4d7e-94e6-4e12a11ba1d5",
   "metadata": {},
   "source": [
    "* Парки в основной массе находятся в пешей доступности (до 1 км.)"
   ]
  },
  {
   "cell_type": "code",
   "execution_count": 56,
   "id": "912eef65-4118-4a64-9442-5b049b7dd70b",
   "metadata": {
    "tags": []
   },
   "outputs": [
    {
     "data": {
      "image/png": "[encoded data removed]",
      "text/plain": [
       "<Figure size 432x288 with 1 Axes>"
      ]
     },
     "metadata": {
      "needs_background": "light"
     },
     "output_type": "display_data"
    }
   ],
   "source": [
    "plt.hist(data['weekday'], bins=7)\n",
    "plt.title('День публикации')\n",
    "plt.xlabel('День недели')\n",
    "plt.ylabel('Количество квартир')\n",
    "plt.show()"
   ]
  },
  {
   "cell_type": "markdown",
   "id": "7a2436e9",
   "metadata": {},
   "source": [
    "<div class=\"alert alert-block alert-success\">\n",
    " \n",
    "### Комментарий ревьюера\n",
    "    \n",
    "#### Успех\n",
    "    \n",
    "В выходные дни выставляют объявления меньше всего. Это и логично"
   ]
  },
  {
   "cell_type": "markdown",
   "id": "c4e69042-9b65-4e4f-a093-bcff3a34a134",
   "metadata": {},
   "source": [
    "* Чаще всего обхявления оставляют в четверг, реже всего в воскресенье. В основном, люди публикуют объявления в будни гораздо чаще, чем в выходные "
   ]
  },
  {
   "cell_type": "code",
   "execution_count": 57,
   "id": "0ebf191d-14e5-42b9-a2a6-f9363734de85",
   "metadata": {
    "tags": []
   },
   "outputs": [
    {
     "data": {
      "image/png": "[encoded data removed]",
      "text/plain": [
       "<Figure size 432x288 with 1 Axes>"
      ]
     },
     "metadata": {
      "needs_background": "light"
     },
     "output_type": "display_data"
    }
   ],
   "source": [
    "plt.hist(data['month'], bins=12)\n",
    "plt.title('Месяц публикации')\n",
    "plt.xlabel('Месяц')\n",
    "plt.ylabel('Количество квартир')\n",
    "plt.show()"
   ]
  },
  {
   "cell_type": "markdown",
   "id": "70848f49-3b21-4b5e-9301-feefa345390c",
   "metadata": {},
   "source": [
    "* Большинство поданых объявлений приходится на февраль, март, апрель, ноябрь. В мае было подано в 2 раза меньше объявлений, чем в пиковые месяца"
   ]
  },
  {
   "cell_type": "markdown",
   "id": "bb69cd5f-7e57-4bb4-8090-ce2aa25a9377",
   "metadata": {
    "tags": []
   },
   "source": [
    "#### Посмотрим на длительность продажи квартир."
   ]
  },
  {
   "cell_type": "code",
   "execution_count": 58,
   "id": "dc205554-fd02-4d28-87f0-a575da6d26ba",
   "metadata": {
    "tags": []
   },
   "outputs": [
    {
     "data": {
      "text/plain": [
       "95"
      ]
     },
     "execution_count": 58,
     "metadata": {},
     "output_type": "execute_result"
    }
   ],
   "source": [
    "round(data['days_exposition'].median()) # Посчитаем и округлим медианное кол-во дней, за которые продавалась недвижимость"
   ]
  },
  {
   "cell_type": "code",
   "execution_count": 59,
   "id": "be0a526a-ac06-40b5-9688-c20b2c1ce8ef",
   "metadata": {
    "tags": []
   },
   "outputs": [
    {
     "data": {
      "text/plain": [
       "181"
      ]
     },
     "execution_count": 59,
     "metadata": {},
     "output_type": "execute_result"
    }
   ],
   "source": [
    "round(data['days_exposition'].mean()) # Посчитаем и округлим среднее кол-во дней, за которые продавалась недвижимость"
   ]
  },
  {
   "cell_type": "code",
   "execution_count": 60,
   "id": "2a5a9c2c-2982-46d1-8e39-4b426700865a",
   "metadata": {
    "tags": []
   },
   "outputs": [
    {
     "data": {
      "text/plain": [
       "count    20365.000000\n",
       "mean       180.532679\n",
       "std        219.420362\n",
       "min          1.000000\n",
       "25%         45.000000\n",
       "50%         95.000000\n",
       "75%        231.000000\n",
       "max       1580.000000\n",
       "Name: days_exposition, dtype: float64"
      ]
     },
     "execution_count": 60,
     "metadata": {},
     "output_type": "execute_result"
    }
   ],
   "source": [
    "data['days_exposition'].describe()"
   ]
  },
  {
   "cell_type": "markdown",
   "id": "7c8c7434-9dc6-468a-9c40-2f198c09fe8a",
   "metadata": {
    "tags": []
   },
   "source": [
    "Видим огромный размах по количеству дней, и большое стандартное отклонение"
   ]
  },
  {
   "cell_type": "code",
   "execution_count": 61,
   "id": "e44f5944-18db-4bdf-aa2f-bc50c556277b",
   "metadata": {
    "tags": []
   },
   "outputs": [
    {
     "data": {
      "text/plain": [
       "<AxesSubplot:ylabel='Frequency'>"
      ]
     },
     "execution_count": 61,
     "metadata": {},
     "output_type": "execute_result"
    },
    {
     "data": {
      "image/png": "[encoded data removed]",
      "text/plain": [
       "<Figure size 432x288 with 1 Axes>"
      ]
     },
     "metadata": {
      "needs_background": "light"
     },
     "output_type": "display_data"
    }
   ],
   "source": [
    "data.plot(y = 'days_exposition', kind = 'hist', bins = 30, grid = True) # Посмотрим на гистограмму по всем значениям"
   ]
  },
  {
   "cell_type": "code",
   "execution_count": 62,
   "id": "b7222951-7ea6-473c-bfea-5cfe084bdb1e",
   "metadata": {
    "tags": []
   },
   "outputs": [
    {
     "data": {
      "text/plain": [
       "<AxesSubplot:ylabel='Frequency'>"
      ]
     },
     "execution_count": 62,
     "metadata": {},
     "output_type": "execute_result"
    },
    {
     "data": {
      "image/png": "[encoded data removed]",
      "text/plain": [
       "<Figure size 432x288 with 1 Axes>"
      ]
     },
     "metadata": {
      "needs_background": "light"
     },
     "output_type": "display_data"
    }
   ],
   "source": [
    "data.plot(y='days_exposition', kind='hist', bins=100, grid=True, range=(1,250)) # Поближе посмотрим на продажи до 250 дней"
   ]
  },
  {
   "cell_type": "code",
   "execution_count": 63,
   "id": "8cd7a3f5-73c8-478e-972a-c0901a90b53e",
   "metadata": {
    "tags": []
   },
   "outputs": [
    {
     "data": {
      "text/plain": [
       "<AxesSubplot:ylabel='Frequency'>"
      ]
     },
     "execution_count": 63,
     "metadata": {},
     "output_type": "execute_result"
    },
    {
     "data": {
      "image/png": "[encoded data removed]",
      "text/plain": [
       "<Figure size 432x288 with 1 Axes>"
      ]
     },
     "metadata": {
      "needs_background": "light"
     },
     "output_type": "display_data"
    }
   ],
   "source": [
    "data.plot(y='days_exposition', kind='hist', bins=100, grid=True, range=(400,1600)) # Также рассмотрим долгие продажи"
   ]
  },
  {
   "cell_type": "markdown",
   "id": "6ce3c843-c94a-4d51-b099-c7ae57dd0ae3",
   "metadata": {},
   "source": [
    "#### 3.1 Вывод: \n",
    "Медианное время продажи - 95 дней. Среднее время продажи - 181 день.\n",
    "Более половины всех квартир продаются за срок в 100 дней. На гистограмме с продажами до 250 дней мы видим сразу 3 пиковых значения: около 45, 60 и 90 дней. Возможно это связано с особенностью размещения объявления на сервисе. \n",
    "\n",
    "Верятно есть смысл проверить правила и создать отдельный счетчик по которому объявление при автоудалении(автоснятии), будет попадать в отдельную колонку например (\"removed_automatically\").\n",
    "\n",
    "\n",
    "Быстрой, можно назвать продажу до 45-ти дней, Долгой продажей - примерно от 400 дней и дольше."
   ]
  },
  {
   "cell_type": "markdown",
   "id": "c3af9a8a",
   "metadata": {},
   "source": [
    "<div class=\"alert alert-block alert-success\">\n",
    " \n",
    "### Комментарий ревьюера\n",
    "    \n",
    "#### Успех\n",
    "    \n",
    "Очень хорошо, что ты на графике показываешь выбивающиеся значения. Они появились не просто так. В эти дни система убирает с показа бесплатные объявления. "
   ]
  },
  {
   "cell_type": "markdown",
   "id": "b3d42921-5aa2-4883-8532-c3ac6c5dad25",
   "metadata": {},
   "source": [
    "### 4. Какие факторы больше всего влияют на общую (полную) стоимость объекта:"
   ]
  },
  {
   "cell_type": "code",
   "execution_count": 64,
   "id": "9fade86f-b0c7-4e95-8531-3cd2bc11d6f6",
   "metadata": {},
   "outputs": [
    {
     "data": {
      "text/plain": [
       "0.6956797482215434"
      ]
     },
     "execution_count": 64,
     "metadata": {},
     "output_type": "execute_result"
    }
   ],
   "source": [
    " data['total_area_m2'].corr(data['last_price']) "
   ]
  },
  {
   "cell_type": "markdown",
   "id": "efa4c621-2113-420a-88cc-c05bbb2bd423",
   "metadata": {},
   "source": [
    "Корреляция между общей площадью и ценой достачно высока. Примерно 0.7"
   ]
  },
  {
   "cell_type": "code",
   "execution_count": 65,
   "id": "efc10bd1-a157-402f-9c63-6b87d5b021e3",
   "metadata": {
    "tags": []
   },
   "outputs": [
    {
     "data": {
      "text/plain": [
       "<AxesSubplot:xlabel='total_area_m2'>"
      ]
     },
     "execution_count": 65,
     "metadata": {},
     "output_type": "execute_result"
    },
    {
     "data": {
      "image/png": "[encoded data removed]",
      "text/plain": [
       "<Figure size 504x504 with 1 Axes>"
      ]
     },
     "metadata": {
      "needs_background": "light"
     },
     "output_type": "display_data"
    }
   ],
   "source": [
    "data.pivot_table(index='total_area_m2', values='last_price').plot(grid=True, style='o', figsize=(7, 7),alpha = 0.5,markersize=4)"
   ]
  },
  {
   "cell_type": "markdown",
   "id": "5e195093",
   "metadata": {},
   "source": [
    "<div class=\"alert alert-block alert-success\">\n",
    " \n",
    "### Комментарий ревьюера\n",
    "    \n",
    "#### Успех\n",
    "    \n",
    "Подобран хороший метод для того. По данному случаю мы видим, что всеже небольшая связь у нас есть."
   ]
  },
  {
   "cell_type": "markdown",
   "id": "0d7c7ace-b124-4099-b624-d3201711e60c",
   "metadata": {},
   "source": [
    "*Итог:* Зависимость цены от площади квартиры прослеживается по площиди до 100 кв.м. По графику мы видим, что существенный разброс цен начинается после площади 100 кв.м."
   ]
  },
  {
   "cell_type": "code",
   "execution_count": 66,
   "id": "b89eb18d-5157-4961-8a20-34a97a34e9e2",
   "metadata": {
    "tags": []
   },
   "outputs": [
    {
     "data": {
      "text/plain": [
       "0.597941549487749"
      ]
     },
     "execution_count": 66,
     "metadata": {},
     "output_type": "execute_result"
    }
   ],
   "source": [
    "data['living_area_m2'].corr(data['last_price'])"
   ]
  },
  {
   "cell_type": "markdown",
   "id": "f9b535e7-1543-47cc-9528-bfb915e72688",
   "metadata": {},
   "source": [
    "Зависимость цены от жилой площади еще меньше, чем в предыдущих наболюдениях и в данном случае составляет примерно 0.6"
   ]
  },
  {
   "cell_type": "code",
   "execution_count": 67,
   "id": "b0828f7f-4f3f-4b63-8b8e-1c9bc28d229b",
   "metadata": {
    "tags": []
   },
   "outputs": [
    {
     "data": {
      "text/plain": [
       "<AxesSubplot:xlabel='living_area_m2'>"
      ]
     },
     "execution_count": 67,
     "metadata": {},
     "output_type": "execute_result"
    },
    {
     "data": {
      "image/png": "[encoded data removed]",
      "text/plain": [
       "<Figure size 576x576 with 1 Axes>"
      ]
     },
     "metadata": {
      "needs_background": "light"
     },
     "output_type": "display_data"
    }
   ],
   "source": [
    "data.pivot_table(index='living_area_m2', values='last_price').plot(grid=True, style='o', figsize=(8, 8),alpha = 0.5,markersize=4)"
   ]
  },
  {
   "cell_type": "markdown",
   "id": "7e10c397-ab36-4b37-9a8b-7780a7a939fa",
   "metadata": {},
   "source": [
    "В данном случае, также наблюдается существенный разброс по ценам, в зависимости от жилой площади, начиная примерно от 52 кв метров."
   ]
  },
  {
   "cell_type": "code",
   "execution_count": 68,
   "id": "90939bba-4369-4efe-a265-10dc7227bb18",
   "metadata": {
    "tags": []
   },
   "outputs": [
    {
     "data": {
      "text/plain": [
       "0.5067416822205395"
      ]
     },
     "execution_count": 68,
     "metadata": {},
     "output_type": "execute_result"
    }
   ],
   "source": [
    "data['kitchen_area_m2'].corr(data['last_price'])"
   ]
  },
  {
   "cell_type": "code",
   "execution_count": 69,
   "id": "f8f1b08b-83c3-4848-85d2-b6f99b645274",
   "metadata": {
    "tags": []
   },
   "outputs": [
    {
     "data": {
      "text/plain": [
       "<AxesSubplot:xlabel='kitchen_area_m2'>"
      ]
     },
     "execution_count": 69,
     "metadata": {},
     "output_type": "execute_result"
    },
    {
     "data": {
      "image/png": "[encoded data removed]",
      "text/plain": [
       "<Figure size 576x576 with 1 Axes>"
      ]
     },
     "metadata": {
      "needs_background": "light"
     },
     "output_type": "display_data"
    }
   ],
   "source": [
    "data.pivot_table(index='kitchen_area_m2', values='last_price').plot(grid=True, style='o', figsize=(8, 8),alpha = 0.5, markersize=5)"
   ]
  },
  {
   "cell_type": "markdown",
   "id": "6bc67cea-464f-40fa-9fd6-a9b9f7f7dad7",
   "metadata": {},
   "source": [
    "Корреляция между площадью кухни и ценой продажи достаточно низкая, всего 0.5. Вероятно что смысла искать взаимосвязь между двумя этими показателями - имеет мало смысла. "
   ]
  },
  {
   "cell_type": "code",
   "execution_count": 70,
   "id": "6bd89a40-bb7e-4200-aca7-0459cb26c578",
   "metadata": {
    "tags": []
   },
   "outputs": [
    {
     "data": {
      "text/plain": [
       "0.3837894653660324"
      ]
     },
     "execution_count": 70,
     "metadata": {},
     "output_type": "execute_result"
    }
   ],
   "source": [
    "data['number_of_rooms'].corr(data['last_price'])"
   ]
  },
  {
   "cell_type": "markdown",
   "id": "01bd751b",
   "metadata": {},
   "source": [
    "<div class=\"alert alert-block alert-success\">\n",
    " \n",
    "### Комментарий ревьюера\n",
    "    \n",
    "#### Успех\n",
    "    \n",
    "А в данном случае уже совсем слабо получается. "
   ]
  },
  {
   "cell_type": "code",
   "execution_count": 71,
   "id": "be4ac2f8-8dfd-43b4-ad5b-6d17d6872bf8",
   "metadata": {
    "tags": []
   },
   "outputs": [
    {
     "data": {
      "text/plain": [
       "<AxesSubplot:xlabel='number_of_rooms'>"
      ]
     },
     "execution_count": 71,
     "metadata": {},
     "output_type": "execute_result"
    },
    {
     "data": {
      "image/png": "[encoded data removed]",
      "text/plain": [
       "<Figure size 576x576 with 1 Axes>"
      ]
     },
     "metadata": {
      "needs_background": "light"
     },
     "output_type": "display_data"
    }
   ],
   "source": [
    "data.pivot_table(index='number_of_rooms', values='last_price').plot(grid=True, style='o-', figsize=(8, 8))"
   ]
  },
  {
   "cell_type": "markdown",
   "id": "19eaf099-6057-4bfc-ac3d-483c441558c2",
   "metadata": {},
   "source": [
    "Если мы посмотрим на график, то можем заметить: цена у 1-,2- и 3-комнатных квартир, действительно не сильно отличается. А вот от 4-х комнат и далее график стремительно летит вверх. Т.е. после 4 комнат прослеживается зависимость намного сильнее. Вероятно что с количеством комнат, также значительно растёт общая площадь. Ведь нет смысла делить те же 40 кв.м. на 4 комнаты."
   ]
  },
  {
   "cell_type": "code",
   "execution_count": 72,
   "id": "9afa4082-080c-4018-bc97-1c5cf89e68a0",
   "metadata": {
    "tags": []
   },
   "outputs": [
    {
     "data": {
      "text/plain": [
       "<AxesSubplot:xlabel='floor_type'>"
      ]
     },
     "execution_count": 72,
     "metadata": {},
     "output_type": "execute_result"
    },
    {
     "data": {
      "image/png": "[encoded data removed]",
      "text/plain": [
       "<Figure size 432x432 with 1 Axes>"
      ]
     },
     "metadata": {
      "needs_background": "light"
     },
     "output_type": "display_data"
    }
   ],
   "source": [
    "data.pivot_table(index='floor_type', values='last_price', aggfunc='median').plot(grid=True, style='o-', figsize=(6, 6))"
   ]
  },
  {
   "cell_type": "markdown",
   "id": "a8dd7af2-608e-435b-b71d-87a52bdfb89e",
   "metadata": {},
   "source": [
    "В среднем квартиры на 1-м этаже значительно дешевле. Чуть дороже последний этаж. Наибольшая стоимость у квартир, расположенных на \"других\" этажах"
   ]
  },
  {
   "cell_type": "code",
   "execution_count": 73,
   "id": "88bba0b8-c619-4319-8e93-9db6b60f1f13",
   "metadata": {},
   "outputs": [
    {
     "data": {
      "text/plain": [
       "<AxesSubplot:xlabel='weekday'>"
      ]
     },
     "execution_count": 73,
     "metadata": {},
     "output_type": "execute_result"
    },
    {
     "data": {
      "image/png": "[encoded data removed]",
      "text/plain": [
       "<Figure size 360x360 with 1 Axes>"
      ]
     },
     "metadata": {
      "needs_background": "light"
     },
     "output_type": "display_data"
    }
   ],
   "source": [
    "# Зависимость цены от дня недели\n",
    "data.pivot_table(index='weekday', values='last_price', aggfunc='median').plot(grid=True, style='o-', figsize=(5, 5))"
   ]
  },
  {
   "cell_type": "markdown",
   "id": "9e124df6-fa2a-4932-9bd5-9b8dcf301471",
   "metadata": {},
   "source": [
    "Из графика можно увидеть, что самые дорогие квартиры выствлялись на продажу во вторник и среду, с каждым следующим днём средняя цена объявления становилась ниже. А, в воскресенье выставлялись самые дешевые."
   ]
  },
  {
   "cell_type": "markdown",
   "id": "2dcdde7e",
   "metadata": {},
   "source": [
    "<div class=\"alert alert-block alert-success\">\n",
    " \n",
    "### Комментарий ревьюера\n",
    "    \n",
    "#### Успех\n",
    "    \n",
    "И тут по выводу хорошо вшыло. "
   ]
  },
  {
   "cell_type": "code",
   "execution_count": 74,
   "id": "9826d720-56bb-4c72-9c00-b8ca3718f617",
   "metadata": {
    "tags": []
   },
   "outputs": [
    {
     "data": {
      "text/plain": [
       "<AxesSubplot:xlabel='month'>"
      ]
     },
     "execution_count": 74,
     "metadata": {},
     "output_type": "execute_result"
    },
    {
     "data": {
      "image/png": "[encoded data removed]",
      "text/plain": [
       "<Figure size 360x360 with 1 Axes>"
      ]
     },
     "metadata": {
      "needs_background": "light"
     },
     "output_type": "display_data"
    }
   ],
   "source": [
    "# Зависимость цены от месяца размещения объявления\n",
    "data.pivot_table(index='month', values='last_price', aggfunc='median').plot(grid=True, style='o-', figsize=(5, 5))"
   ]
  },
  {
   "cell_type": "markdown",
   "id": "60656cf6-2bbd-4310-b729-99518cfd31df",
   "metadata": {},
   "source": [
    "Если смотреть на цену квартиры по месяцу выставления на продажу, то мы увидим, что в апреле квартиры выставлялись дороже всего, а в июне наоборот - дешевле всех. На рынке недвижимости, как и во многих других сферах присутствует сезонность - в начале лета мы видим наименьшее предложение как по количеству, так и по стоимости недвижимости. Вероятно, пользователи выкладывают объявления летом, только в срочных случаях, а также с самой низкой ценой."
   ]
  },
  {
   "cell_type": "code",
   "execution_count": 75,
   "id": "96bdb39a-6131-40b6-ab4d-a5a0f3b9beef",
   "metadata": {
    "tags": []
   },
   "outputs": [
    {
     "data": {
      "text/plain": [
       "<AxesSubplot:xlabel='year'>"
      ]
     },
     "execution_count": 75,
     "metadata": {},
     "output_type": "execute_result"
    },
    {
     "data": {
      "image/png": "[encoded data removed]",
      "text/plain": [
       "<Figure size 360x360 with 1 Axes>"
      ]
     },
     "metadata": {
      "needs_background": "light"
     },
     "output_type": "display_data"
    }
   ],
   "source": [
    "# Зависимость цены от года размещения объявления\n",
    "data.pivot_table(index='year', values='last_price', aggfunc='median').plot(grid=True, style='o-', figsize=(5, 5))"
   ]
  },
  {
   "cell_type": "markdown",
   "id": "c5c77116-326a-4379-97a5-d5865f9bb0fb",
   "metadata": {},
   "source": [
    "Цена квартир с 2014 по 2016 года сильно \"провалилась\" вниз. с 2016 по 2018 год цена квартир была стабильна, а после 2018 медленно стала расти, в среднем на 500т.р."
   ]
  },
  {
   "cell_type": "markdown",
   "id": "2056305a-e855-4a77-8885-5541ee9b1791",
   "metadata": {},
   "source": [
    "### 5. Средняя цена одного квадратного метра в топ-10 населённых пунктах"
   ]
  },
  {
   "cell_type": "code",
   "execution_count": 76,
   "id": "2d14a3c9-be05-4b8f-8245-488ce4eda2aa",
   "metadata": {
    "tags": []
   },
   "outputs": [],
   "source": [
    "# Создадим новую переменную с 10 городами по количеству объявлений\n",
    "top_ten_cities = data['locality_name'].value_counts().head(10)"
   ]
  },
  {
   "cell_type": "code",
   "execution_count": 77,
   "id": "e10b5d61-fc11-48b3-9a62-fb182937d2b2",
   "metadata": {
    "tags": []
   },
   "outputs": [],
   "source": [
    "# Cоздаем сводную таблицу со средним значением квадратного метра для каждого населенного пункта из топ-10\n",
    "city_price_per_m2 = data.query('locality_name in (@top_ten_cities.index)').pivot_table(index='locality_name', values='price_per_m2' )"
   ]
  },
  {
   "cell_type": "code",
   "execution_count": 78,
   "id": "9d84f9c5-79ef-469b-9142-6e0576b97a9c",
   "metadata": {
    "tags": []
   },
   "outputs": [
    {
     "data": {
      "text/plain": [
       "Text(0.5, 1.0, 'Цена квадратного метра по населенным пунктам')"
      ]
     },
     "execution_count": 78,
     "metadata": {},
     "output_type": "execute_result"
    },
    {
     "data": {
      "image/png": "[encoded data removed]",
      "text/plain": [
       "<Figure size 1368x432 with 1 Axes>"
      ]
     },
     "metadata": {
      "needs_background": "light"
     },
     "output_type": "display_data"
    }
   ],
   "source": [
    "# Построим график\n",
    "city_price_per_m2.sort_values('price_per_m2').plot(kind='barh', figsize=(19,6), legend=False, fontsize=16, grid=True)\n",
    "plt.title('Цена квадратного метра по населенным пунктам')"
   ]
  },
  {
   "cell_type": "markdown",
   "id": "a11e4dd9",
   "metadata": {},
   "source": [
    "<div class=\"alert alert-block alert-success\">\n",
    " \n",
    "### Комментарий ревьюера\n",
    "    \n",
    "#### Успех\n",
    "    \n",
    "Рейтинг топ-10 по городам получен. Спасибо за график. С ним намного понятнее стало"
   ]
  },
  {
   "cell_type": "markdown",
   "id": "1c796e84-782c-4362-bfe3-c122a2f88d49",
   "metadata": {},
   "source": [
    "#### 5.1 Вывод: \n",
    "\n",
    "Ожидаемо, самая дорогой квадратный метр в Санкт-Петербурге. Самый дешевый квадратный метр в Выборге"
   ]
  },
  {
   "cell_type": "code",
   "execution_count": 79,
   "id": "e0dd8f2e-6693-4289-986c-c8ef51592167",
   "metadata": {
    "tags": []
   },
   "outputs": [],
   "source": [
    "data['last_price'] = data['last_price'].astype('int')"
   ]
  },
  {
   "cell_type": "code",
   "execution_count": 80,
   "id": "5988e96f-9d1a-4147-9d3d-42b5d4302637",
   "metadata": {
    "tags": []
   },
   "outputs": [
    {
     "data": {
      "text/plain": [
       "<AxesSubplot:xlabel='city_center_distance_km'>"
      ]
     },
     "execution_count": 80,
     "metadata": {},
     "output_type": "execute_result"
    },
    {
     "data": {
      "image/png": "[encoded data removed]",
      "text/plain": [
       "<Figure size 1080x360 with 1 Axes>"
      ]
     },
     "metadata": {
      "needs_background": "light"
     },
     "output_type": "display_data"
    }
   ],
   "source": [
    "# Выберем\n",
    "spb_data_filtered = data.query('city_center_distance_km < 40 and locality_name == \"Санкт-Петербург\"')\\\n",
    "    .pivot_table(index='city_center_distance_km', values='last_price', aggfunc='mean')\n",
    "\n",
    "spb_data_filtered.plot(style='o-', grid=True, figsize=(15, 5))"
   ]
  },
  {
   "cell_type": "markdown",
   "id": "5fab113a-8bff-4bf9-8b6c-bee7d92708e4",
   "metadata": {
    "tags": []
   },
   "source": [
    "#### 5.2 Вывод: \n",
    "Вартиры, находящиеся в центре, резко отличаются в цене от тех, которые находятся на расстоянии всего 1 км от центра. Цена квартир в радиусе 1-2 км от центра практически одинакова. Далее наблюдается тенденция к снижению стоимости по мере удаления от центра. С 3 до 7 км от центра цена растет, но незначительными темпами. Начиная с 7 км от центра, цена вновь стремится вниз по мере увеличения расстояния. В диапазоне от 12 до 23 км цены варьируются в одном диапазоне. Также на 27 км, вероятно, присутствуют \"элитные\" объекты. "
   ]
  },
  {
   "cell_type": "markdown",
   "id": "51b9d355",
   "metadata": {},
   "source": [
    "<div class=\"alert alert-block alert-success\">\n",
    " \n",
    "### Комментарий ревьюера\n",
    "    \n",
    "#### Успех\n",
    "    \n",
    "По этому графику хорошо видно, как ведет себя зависимость цены от центра. После 8 км она перестает резко падать. Это нам говорит о том, что закончилась зона центра города. "
   ]
  },
  {
   "cell_type": "markdown",
   "id": "403eef0b-bd39-487c-bd82-ecdff65ea502",
   "metadata": {},
   "source": [
    "---"
   ]
  },
  {
   "cell_type": "markdown",
   "id": "4e97a80d-ad03-4b5f-9085-969bdb5c7c63",
   "metadata": {},
   "source": [
    "### Напишите общий вывод"
   ]
  },
  {
   "cell_type": "markdown",
   "id": "f55e2054-668b-4f26-98c7-6156a5a70e23",
   "metadata": {},
   "source": [
    "**Обработка** Мы получили на входе датафрэйм с достаточно внушительным объемом пропущенных значений. Мы обработали пропущенные значения там, где это необходимо, заменили типы данных на необходимые для удобной работы. \n",
    "\n",
    "**Посчитали и добавили в таблицу** цену квадратного метра жилья, вывели из даты дни недели, месяцы и года размещения объявлений, добавили категории по этажам квартир для дальнейшего анализа. \n",
    "\n",
    "**Изучая время продажи квартир** мы выявили, что большая часть квартир продается до 100 дней. но так же много встречается квартир, которые продаются до 400 дней, поэтому срок продажи квартиры до 400 дней можно считать нормальным.\n",
    "\n",
    "**Стоимость квартиры** больше всего зависит от общей площади, этажа квартиры и конечно же года продажи. \n",
    "\n",
    "**Зависимость цены от расположения квартиры** прослеживается, и это очевидно: во всех крупных городах квартиры, находящиеся ближе к центру стоят дороже. Эта зависимость прослеживается на расстоянии до 12 км от центра, далее удаленность не особо сказывается на цене.\n",
    "\n",
    "Для совершенствования сбора данных, рекомендую пересмотреть некоторые формы при формировании объявлений. Вместо ручного ввода, пользователю можно предложить выбирать из выпадающего списка, такие данные как: тип недвижимости, название наслённого пункта. Также предлагаю добавить отдельный счетчик для объявлений, которые были убраны с сайта автоматически. \n",
    "\n",
    "Проведенный анализ может не только увидеть анамальные цены и препятствовать мошенничеству, но также может стать основой для улучшения пользовательского опыта, путём добавления аналитического интерфейса прямо на сайт, на страницу с объявлением, где пользователь самостоятельно сможет, по графику, отслеживать, к примеру, цену квадратного метра в определённом районе, с историей изменения. "
   ]
  },
  {
   "cell_type": "markdown",
   "id": "8f5ae81b",
   "metadata": {},
   "source": [
    "<div class=\"alert alert-block alert-success\">\n",
    " \n",
    "### Комментарий ревьюера\n",
    "    \n",
    "#### Успех\n",
    "    \n",
    "Вывод, как и остальной проект, стал классным его завершением. Ты здесь подробно описываешь всю суть исследования без воды. Вот именно, что четко по фактам. Теперь точно сможем составить-антифрод систему для Сервиса Недвижимости."
   ]
  },
  {
   "cell_type": "markdown",
   "id": "2891258e",
   "metadata": {},
   "source": [
    "<div class=\"alert alert-block alert-info\">\n",
    " \n",
    "### Итоговый Комментарий ревьюера\n",
    "    \n",
    "#### Успех\n",
    "    \n",
    "Благодарю тебя за выполнение работы. Мне понравился твой проект за структурность и последовательность. Во многих местах ты подбираешь оптимальный код и автоматизируешь свою работу, а это очень пригодится в будущем. Выделить бы хотел Предобработку данных. На мой взгляд она получилась особенно удачно. Очень насыщенный итоговый вывод вышел. Старайся такие выводы делать и в будущем. \n",
    "    \n",
    "    \n",
    "Однако, в проекте есть несколько замечаний, которые надо исправить:\n",
    "\n",
    "* Промежуточные выводы добавить.\n",
    "* Посчитать количество уникальных значений в названиях. \n",
    "       \n",
    "Еще я оставил рекомендации. Очень надеюсь, что ты учтешь их в этом и последующих проектах.\n",
    "       \n",
    "Жду проект после доработки. Уверен, ты справишься.\n",
    "</div>"
   ]
  },
  {
   "cell_type": "markdown",
   "id": "7bdef9a3-e930-4648-b258-488e05b1b120",
   "metadata": {},
   "source": [
    "**Чек-лист готовности проекта**\n",
    "\n",
    "Поставьте 'x' в выполненных пунктах. Далее нажмите Shift+Enter."
   ]
  },
  {
   "cell_type": "markdown",
   "id": "04292388-6a7f-4e49-bbd3-71628e6613fb",
   "metadata": {},
   "source": [
    "- [x]  Файл с данными открыт.\n",
    "- [x]  Файл с данными изучен: выведены первые строки, использован метод `info()`, построены гистограммы.\n",
    "- [x]  Найдены пропущенные значения.\n",
    "- [x]  Пропущенные значения заполнены там, где это возможно.\n",
    "- [x]  Объяснено, какие пропущенные значения обнаружены.\n",
    "- [x]  В каждом столбце установлен корректный тип данных.\n",
    "- [x]  Объяснено, в каких столбцах изменён тип данных и почему.\n",
    "- [x]  Устранены неявные дубликаты в названиях населённых пунктов.\n",
    "- [x]  Обработаны редкие и выбивающиеся значения (аномалии).\n",
    "- [x] В таблицу добавлены новые параметры:\n",
    "       – цена одного квадратного метра; \n",
    "       – день публикации объявления (0 - понедельник, 1 - вторник и т. д.); \n",
    "       – месяц публикации объявления; \n",
    "       – год публикации объявления; \n",
    "       – тип этажа квартиры (значения — «первый», «последний», «другой»);\n",
    "       – расстояние до центра города в километрах. \n",
    "- [x] Изучены и описаны параметры:\n",
    "        - общая площадь; \n",
    "        - жилая площадь; \n",
    "        - площадь кухни; \n",
    "        - цена объекта; \n",
    "        - количество комнат; \n",
    "        - высота потолков; \n",
    "        - тип этажа квартиры («первый», «последний», «другой»); \n",
    "        - общее количество этажей в доме; \n",
    "        - расстояние до центра города в метрах;\n",
    "        - расстояние до ближайшего парка.\n",
    "- [x]  Выполнено задание «Изучите, как быстро продавались квартиры (столбец `days_exposition`)»:\n",
    "    - построена гистограмма;\n",
    "    - рассчитаны среднее и медиана;\n",
    "    - описано, сколько обычно занимает продажа и указано, какие продажи можно считать быстрыми, а какие — необычно долгими.\n",
    "- [x]  Выполнено задание «Определите факторы, которые больше всего влияют на общую (полную) стоимость объекта». Построены графики, которые показывают зависимость цены от параметров:\n",
    "        - общая площадь; \n",
    "        - жилая площадь;\n",
    "        - площадь кухни; \n",
    "        - количество комнат; \n",
    "        - тип этажа, на котором расположена квартира (первый, последний, другой);\n",
    "        - дата размещения (день недели, месяц, год).\n",
    "- [x]  Выполнено задание «Посчитайте среднюю цену одного квадратного метра в 10 населённых пунктах с наибольшим числом объявлений»:\n",
    "    - выделены населённые пункты с самой высокой и низкой стоимостью квадратного метра.\n",
    "- [x]  Выполнено задание «Выделите квартиры в Санкт-Петербурге с помощью столбца `locality_name` и вычислите их среднюю стоимость на разном удалении от центра»:\n",
    "    -  учтён каждый километр расстояния, известны средние цены квартир в одном километре от центра, в двух и так далее;\n",
    "    -  описано, как стоимость объекта зависит от расстояния до центра города; \n",
    "    -  построен график изменения средней цены для каждого километра от центра Петербурга.\n",
    "- [x]  На каждом этапе сделаны промежуточные выводы.\n",
    "- [x]  В конце проекта сделан общий вывод."
   ]
  },
  {
   "cell_type": "code",
   "execution_count": null,
   "id": "08c5fa4c-0414-42de-bc42-f00a8114cddf",
   "metadata": {},
   "outputs": [],
   "source": []
  }
 ],
 "metadata": {
  "ExecuteTimeLog": [
   {
    "duration": 729,
    "start_time": "2024-07-30T09:58:20.064Z"
   },
   {
    "duration": 96,
    "start_time": "2024-07-30T09:58:20.795Z"
   },
   {
    "duration": 0,
    "start_time": "2024-07-30T09:58:20.894Z"
   },
   {
    "duration": 0,
    "start_time": "2024-07-30T09:58:20.895Z"
   },
   {
    "duration": 0,
    "start_time": "2024-07-30T09:58:20.896Z"
   },
   {
    "duration": 0,
    "start_time": "2024-07-30T09:58:20.896Z"
   },
   {
    "duration": 0,
    "start_time": "2024-07-30T09:58:20.897Z"
   },
   {
    "duration": 0,
    "start_time": "2024-07-30T09:58:20.898Z"
   },
   {
    "duration": 0,
    "start_time": "2024-07-30T09:58:20.899Z"
   },
   {
    "duration": 0,
    "start_time": "2024-07-30T09:58:20.899Z"
   },
   {
    "duration": 0,
    "start_time": "2024-07-30T09:58:20.900Z"
   },
   {
    "duration": 0,
    "start_time": "2024-07-30T09:58:20.901Z"
   },
   {
    "duration": 0,
    "start_time": "2024-07-30T09:58:20.901Z"
   },
   {
    "duration": 0,
    "start_time": "2024-07-30T09:58:20.902Z"
   },
   {
    "duration": 0,
    "start_time": "2024-07-30T09:58:20.903Z"
   },
   {
    "duration": 0,
    "start_time": "2024-07-30T09:58:20.903Z"
   },
   {
    "duration": 0,
    "start_time": "2024-07-30T09:58:20.904Z"
   },
   {
    "duration": 0,
    "start_time": "2024-07-30T09:58:20.905Z"
   },
   {
    "duration": 0,
    "start_time": "2024-07-30T09:58:20.906Z"
   },
   {
    "duration": 0,
    "start_time": "2024-07-30T09:58:20.906Z"
   },
   {
    "duration": 0,
    "start_time": "2024-07-30T09:58:20.907Z"
   },
   {
    "duration": 0,
    "start_time": "2024-07-30T09:58:20.908Z"
   },
   {
    "duration": 0,
    "start_time": "2024-07-30T09:58:20.908Z"
   },
   {
    "duration": 0,
    "start_time": "2024-07-30T09:58:20.909Z"
   },
   {
    "duration": 0,
    "start_time": "2024-07-30T09:58:20.910Z"
   },
   {
    "duration": 0,
    "start_time": "2024-07-30T09:58:20.910Z"
   },
   {
    "duration": 0,
    "start_time": "2024-07-30T09:58:20.911Z"
   },
   {
    "duration": 0,
    "start_time": "2024-07-30T09:58:20.912Z"
   },
   {
    "duration": 0,
    "start_time": "2024-07-30T09:58:20.912Z"
   },
   {
    "duration": 0,
    "start_time": "2024-07-30T09:58:20.913Z"
   },
   {
    "duration": 0,
    "start_time": "2024-07-30T09:58:20.914Z"
   },
   {
    "duration": 0,
    "start_time": "2024-07-30T09:58:20.915Z"
   },
   {
    "duration": 0,
    "start_time": "2024-07-30T09:58:20.915Z"
   },
   {
    "duration": 0,
    "start_time": "2024-07-30T09:58:20.916Z"
   },
   {
    "duration": 0,
    "start_time": "2024-07-30T09:58:20.917Z"
   },
   {
    "duration": 0,
    "start_time": "2024-07-30T09:58:20.918Z"
   },
   {
    "duration": 0,
    "start_time": "2024-07-30T09:58:20.919Z"
   },
   {
    "duration": 0,
    "start_time": "2024-07-30T09:58:20.920Z"
   },
   {
    "duration": 0,
    "start_time": "2024-07-30T09:58:20.921Z"
   },
   {
    "duration": 0,
    "start_time": "2024-07-30T09:58:20.921Z"
   },
   {
    "duration": 0,
    "start_time": "2024-07-30T09:58:20.922Z"
   },
   {
    "duration": 0,
    "start_time": "2024-07-30T09:58:20.923Z"
   },
   {
    "duration": 0,
    "start_time": "2024-07-30T09:58:20.924Z"
   },
   {
    "duration": 0,
    "start_time": "2024-07-30T09:58:20.925Z"
   },
   {
    "duration": 0,
    "start_time": "2024-07-30T09:58:20.926Z"
   },
   {
    "duration": 0,
    "start_time": "2024-07-30T09:58:20.927Z"
   },
   {
    "duration": 0,
    "start_time": "2024-07-30T09:58:20.928Z"
   },
   {
    "duration": 0,
    "start_time": "2024-07-30T09:58:20.929Z"
   },
   {
    "duration": 0,
    "start_time": "2024-07-30T09:58:20.929Z"
   },
   {
    "duration": 0,
    "start_time": "2024-07-30T09:58:20.930Z"
   },
   {
    "duration": 0,
    "start_time": "2024-07-30T09:58:20.931Z"
   },
   {
    "duration": 0,
    "start_time": "2024-07-30T09:58:20.932Z"
   },
   {
    "duration": 0,
    "start_time": "2024-07-30T09:58:20.933Z"
   },
   {
    "duration": 0,
    "start_time": "2024-07-30T09:58:20.934Z"
   },
   {
    "duration": 0,
    "start_time": "2024-07-30T09:58:20.934Z"
   },
   {
    "duration": 0,
    "start_time": "2024-07-30T09:58:20.935Z"
   },
   {
    "duration": 0,
    "start_time": "2024-07-30T09:58:20.936Z"
   },
   {
    "duration": 0,
    "start_time": "2024-07-30T09:58:20.937Z"
   },
   {
    "duration": 0,
    "start_time": "2024-07-30T09:58:20.938Z"
   },
   {
    "duration": 0,
    "start_time": "2024-07-30T09:58:20.939Z"
   },
   {
    "duration": 0,
    "start_time": "2024-07-30T09:58:20.939Z"
   },
   {
    "duration": 0,
    "start_time": "2024-07-30T09:58:21.002Z"
   },
   {
    "duration": 0,
    "start_time": "2024-07-30T09:58:21.003Z"
   },
   {
    "duration": 0,
    "start_time": "2024-07-30T09:58:21.004Z"
   },
   {
    "duration": 0,
    "start_time": "2024-07-30T09:58:21.005Z"
   },
   {
    "duration": 0,
    "start_time": "2024-07-30T09:58:21.006Z"
   },
   {
    "duration": 0,
    "start_time": "2024-07-30T09:58:21.007Z"
   },
   {
    "duration": 0,
    "start_time": "2024-07-30T09:58:21.008Z"
   },
   {
    "duration": 0,
    "start_time": "2024-07-30T09:58:21.009Z"
   },
   {
    "duration": 0,
    "start_time": "2024-07-30T09:58:21.010Z"
   },
   {
    "duration": 0,
    "start_time": "2024-07-30T09:58:21.011Z"
   },
   {
    "duration": 0,
    "start_time": "2024-07-30T09:58:21.012Z"
   },
   {
    "duration": 0,
    "start_time": "2024-07-30T09:58:21.013Z"
   },
   {
    "duration": 0,
    "start_time": "2024-07-30T09:58:21.014Z"
   },
   {
    "duration": 0,
    "start_time": "2024-07-30T09:58:21.015Z"
   },
   {
    "duration": 0,
    "start_time": "2024-07-30T09:58:21.016Z"
   },
   {
    "duration": 0,
    "start_time": "2024-07-30T09:58:21.017Z"
   },
   {
    "duration": 0,
    "start_time": "2024-07-30T09:58:21.018Z"
   },
   {
    "duration": 189,
    "start_time": "2024-07-30T11:15:38.636Z"
   },
   {
    "duration": 562,
    "start_time": "2024-07-30T11:15:50.028Z"
   },
   {
    "duration": 111,
    "start_time": "2024-07-30T11:15:50.592Z"
   },
   {
    "duration": 13,
    "start_time": "2024-07-30T11:15:50.704Z"
   },
   {
    "duration": 28,
    "start_time": "2024-07-30T11:15:50.718Z"
   },
   {
    "duration": 1664,
    "start_time": "2024-07-30T11:15:50.749Z"
   },
   {
    "duration": 25,
    "start_time": "2024-07-30T11:15:52.415Z"
   },
   {
    "duration": 7,
    "start_time": "2024-07-30T11:15:52.442Z"
   },
   {
    "duration": 6,
    "start_time": "2024-07-30T11:15:52.450Z"
   },
   {
    "duration": 10,
    "start_time": "2024-07-30T11:15:52.457Z"
   },
   {
    "duration": 31,
    "start_time": "2024-07-30T11:15:52.468Z"
   },
   {
    "duration": 103,
    "start_time": "2024-07-30T11:15:52.500Z"
   },
   {
    "duration": 3,
    "start_time": "2024-07-30T11:15:52.605Z"
   },
   {
    "duration": 35,
    "start_time": "2024-07-30T11:15:52.610Z"
   },
   {
    "duration": 6,
    "start_time": "2024-07-30T11:15:52.648Z"
   },
   {
    "duration": 13,
    "start_time": "2024-07-30T11:15:52.655Z"
   },
   {
    "duration": 40,
    "start_time": "2024-07-30T11:15:52.669Z"
   },
   {
    "duration": 37,
    "start_time": "2024-07-30T11:15:52.710Z"
   },
   {
    "duration": 8,
    "start_time": "2024-07-30T11:15:52.748Z"
   },
   {
    "duration": 16,
    "start_time": "2024-07-30T11:15:52.758Z"
   },
   {
    "duration": 34,
    "start_time": "2024-07-30T11:15:52.775Z"
   },
   {
    "duration": 6,
    "start_time": "2024-07-30T11:15:52.810Z"
   },
   {
    "duration": 21,
    "start_time": "2024-07-30T11:15:52.818Z"
   },
   {
    "duration": 140,
    "start_time": "2024-07-30T11:15:52.840Z"
   },
   {
    "duration": 4,
    "start_time": "2024-07-30T11:15:52.981Z"
   },
   {
    "duration": 152,
    "start_time": "2024-07-30T11:15:52.986Z"
   },
   {
    "duration": 9,
    "start_time": "2024-07-30T11:15:53.139Z"
   },
   {
    "duration": 37,
    "start_time": "2024-07-30T11:15:53.150Z"
   },
   {
    "duration": 50,
    "start_time": "2024-07-30T11:15:53.202Z"
   },
   {
    "duration": 60,
    "start_time": "2024-07-30T11:15:53.253Z"
   },
   {
    "duration": 4,
    "start_time": "2024-07-30T11:15:53.315Z"
   },
   {
    "duration": 9,
    "start_time": "2024-07-30T11:15:53.321Z"
   },
   {
    "duration": 7,
    "start_time": "2024-07-30T11:15:53.332Z"
   },
   {
    "duration": 22,
    "start_time": "2024-07-30T11:15:53.341Z"
   },
   {
    "duration": 50,
    "start_time": "2024-07-30T11:15:53.365Z"
   },
   {
    "duration": 11,
    "start_time": "2024-07-30T11:15:53.416Z"
   },
   {
    "duration": 53,
    "start_time": "2024-07-30T11:15:53.428Z"
   },
   {
    "duration": 7,
    "start_time": "2024-07-30T11:15:53.482Z"
   },
   {
    "duration": 48,
    "start_time": "2024-07-30T11:15:53.491Z"
   },
   {
    "duration": 369,
    "start_time": "2024-07-30T11:15:53.540Z"
   },
   {
    "duration": 24,
    "start_time": "2024-07-30T11:15:53.911Z"
   },
   {
    "duration": 27,
    "start_time": "2024-07-30T11:15:53.939Z"
   },
   {
    "duration": 160,
    "start_time": "2024-07-30T11:15:53.968Z"
   },
   {
    "duration": 154,
    "start_time": "2024-07-30T11:15:54.129Z"
   },
   {
    "duration": 160,
    "start_time": "2024-07-30T11:15:54.284Z"
   },
   {
    "duration": 178,
    "start_time": "2024-07-30T11:15:54.446Z"
   },
   {
    "duration": 137,
    "start_time": "2024-07-30T11:15:54.625Z"
   },
   {
    "duration": 126,
    "start_time": "2024-07-30T11:15:54.763Z"
   },
   {
    "duration": 127,
    "start_time": "2024-07-30T11:15:54.891Z"
   },
   {
    "duration": 108,
    "start_time": "2024-07-30T11:15:55.020Z"
   },
   {
    "duration": 128,
    "start_time": "2024-07-30T11:15:55.129Z"
   },
   {
    "duration": 281,
    "start_time": "2024-07-30T11:15:55.259Z"
   },
   {
    "duration": 151,
    "start_time": "2024-07-30T11:15:55.541Z"
   },
   {
    "duration": 146,
    "start_time": "2024-07-30T11:15:55.693Z"
   },
   {
    "duration": 171,
    "start_time": "2024-07-30T11:15:55.841Z"
   },
   {
    "duration": 112,
    "start_time": "2024-07-30T11:15:56.013Z"
   },
   {
    "duration": 4,
    "start_time": "2024-07-30T11:15:56.127Z"
   },
   {
    "duration": 63,
    "start_time": "2024-07-30T11:15:56.132Z"
   },
   {
    "duration": 50,
    "start_time": "2024-07-30T11:15:56.197Z"
   },
   {
    "duration": 169,
    "start_time": "2024-07-30T11:15:56.248Z"
   },
   {
    "duration": 244,
    "start_time": "2024-07-30T11:15:56.418Z"
   },
   {
    "duration": 232,
    "start_time": "2024-07-30T11:15:56.663Z"
   },
   {
    "duration": 8,
    "start_time": "2024-07-30T11:15:56.896Z"
   },
   {
    "duration": 221,
    "start_time": "2024-07-30T11:15:56.905Z"
   },
   {
    "duration": 5,
    "start_time": "2024-07-30T11:15:57.127Z"
   },
   {
    "duration": 205,
    "start_time": "2024-07-30T11:15:57.133Z"
   },
   {
    "duration": 5,
    "start_time": "2024-07-30T11:15:57.340Z"
   },
   {
    "duration": 158,
    "start_time": "2024-07-30T11:15:57.346Z"
   },
   {
    "duration": 5,
    "start_time": "2024-07-30T11:15:57.506Z"
   },
   {
    "duration": 166,
    "start_time": "2024-07-30T11:15:57.513Z"
   },
   {
    "duration": 133,
    "start_time": "2024-07-30T11:15:57.680Z"
   },
   {
    "duration": 155,
    "start_time": "2024-07-30T11:15:57.815Z"
   },
   {
    "duration": 163,
    "start_time": "2024-07-30T11:15:57.972Z"
   },
   {
    "duration": 134,
    "start_time": "2024-07-30T11:15:58.136Z"
   },
   {
    "duration": 5,
    "start_time": "2024-07-30T11:15:58.271Z"
   },
   {
    "duration": 27,
    "start_time": "2024-07-30T11:15:58.278Z"
   },
   {
    "duration": 188,
    "start_time": "2024-07-30T11:15:58.306Z"
   },
   {
    "duration": 6,
    "start_time": "2024-07-30T11:15:58.495Z"
   },
   {
    "duration": 230,
    "start_time": "2024-07-30T11:15:58.503Z"
   },
   {
    "duration": 12,
    "start_time": "2024-07-30T11:16:54.334Z"
   },
   {
    "duration": 116,
    "start_time": "2024-07-30T11:19:47.587Z"
   },
   {
    "duration": 3802,
    "start_time": "2024-07-30T11:20:27.928Z"
   },
   {
    "duration": 575,
    "start_time": "2024-07-30T11:21:08.556Z"
   },
   {
    "duration": 1086,
    "start_time": "2024-07-30T11:21:22.093Z"
   },
   {
    "duration": 115,
    "start_time": "2024-07-30T11:21:23.181Z"
   },
   {
    "duration": 14,
    "start_time": "2024-07-30T11:21:23.298Z"
   },
   {
    "duration": 28,
    "start_time": "2024-07-30T11:21:23.313Z"
   },
   {
    "duration": 1769,
    "start_time": "2024-07-30T11:21:23.343Z"
   },
   {
    "duration": 22,
    "start_time": "2024-07-30T11:21:25.114Z"
   },
   {
    "duration": 23,
    "start_time": "2024-07-30T11:21:25.137Z"
   },
   {
    "duration": 9,
    "start_time": "2024-07-30T11:21:25.161Z"
   },
   {
    "duration": 54,
    "start_time": "2024-07-30T11:21:25.171Z"
   },
   {
    "duration": 16,
    "start_time": "2024-07-30T11:21:25.227Z"
   },
   {
    "duration": 15,
    "start_time": "2024-07-30T11:21:25.245Z"
   },
   {
    "duration": 5,
    "start_time": "2024-07-30T11:21:25.267Z"
   },
   {
    "duration": 26,
    "start_time": "2024-07-30T11:21:25.273Z"
   },
   {
    "duration": 14,
    "start_time": "2024-07-30T11:21:25.303Z"
   },
   {
    "duration": 31,
    "start_time": "2024-07-30T11:21:25.319Z"
   },
   {
    "duration": 14,
    "start_time": "2024-07-30T11:21:25.352Z"
   },
   {
    "duration": 22,
    "start_time": "2024-07-30T11:21:25.367Z"
   },
   {
    "duration": 14,
    "start_time": "2024-07-30T11:21:25.391Z"
   },
   {
    "duration": 26,
    "start_time": "2024-07-30T11:21:25.406Z"
   },
   {
    "duration": 70,
    "start_time": "2024-07-30T11:21:25.434Z"
   },
   {
    "duration": 34,
    "start_time": "2024-07-30T11:21:25.506Z"
   },
   {
    "duration": 13,
    "start_time": "2024-07-30T11:21:25.541Z"
   },
   {
    "duration": 195,
    "start_time": "2024-07-30T11:21:25.555Z"
   },
   {
    "duration": 5,
    "start_time": "2024-07-30T11:21:25.752Z"
   },
   {
    "duration": 242,
    "start_time": "2024-07-30T11:21:25.759Z"
   },
   {
    "duration": 11,
    "start_time": "2024-07-30T11:21:26.003Z"
   },
   {
    "duration": 37,
    "start_time": "2024-07-30T11:21:26.016Z"
   },
   {
    "duration": 51,
    "start_time": "2024-07-30T11:21:26.055Z"
   },
   {
    "duration": 32,
    "start_time": "2024-07-30T11:21:26.108Z"
   },
   {
    "duration": 4,
    "start_time": "2024-07-30T11:21:26.141Z"
   },
   {
    "duration": 24,
    "start_time": "2024-07-30T11:21:26.146Z"
   },
   {
    "duration": 73,
    "start_time": "2024-07-30T11:21:26.171Z"
   },
   {
    "duration": 28,
    "start_time": "2024-07-30T11:21:26.245Z"
   },
   {
    "duration": 22,
    "start_time": "2024-07-30T11:21:26.274Z"
   },
   {
    "duration": 20,
    "start_time": "2024-07-30T11:21:26.298Z"
   },
   {
    "duration": 55,
    "start_time": "2024-07-30T11:21:26.319Z"
   },
   {
    "duration": 6,
    "start_time": "2024-07-30T11:21:26.375Z"
   },
   {
    "duration": 20,
    "start_time": "2024-07-30T11:21:26.382Z"
   },
   {
    "duration": 320,
    "start_time": "2024-07-30T11:21:26.404Z"
   },
   {
    "duration": 27,
    "start_time": "2024-07-30T11:21:26.725Z"
   },
   {
    "duration": 34,
    "start_time": "2024-07-30T11:21:26.758Z"
   },
   {
    "duration": 149,
    "start_time": "2024-07-30T11:21:26.802Z"
   },
   {
    "duration": 162,
    "start_time": "2024-07-30T11:21:26.953Z"
   },
   {
    "duration": 156,
    "start_time": "2024-07-30T11:21:27.116Z"
   },
   {
    "duration": 279,
    "start_time": "2024-07-30T11:21:27.274Z"
   },
   {
    "duration": 122,
    "start_time": "2024-07-30T11:21:27.554Z"
   },
   {
    "duration": 128,
    "start_time": "2024-07-30T11:21:27.677Z"
   },
   {
    "duration": 124,
    "start_time": "2024-07-30T11:21:27.806Z"
   },
   {
    "duration": 103,
    "start_time": "2024-07-30T11:21:27.931Z"
   },
   {
    "duration": 132,
    "start_time": "2024-07-30T11:21:28.036Z"
   },
   {
    "duration": 200,
    "start_time": "2024-07-30T11:21:28.170Z"
   },
   {
    "duration": 167,
    "start_time": "2024-07-30T11:21:28.372Z"
   },
   {
    "duration": 160,
    "start_time": "2024-07-30T11:21:28.541Z"
   },
   {
    "duration": 147,
    "start_time": "2024-07-30T11:21:28.703Z"
   },
   {
    "duration": 126,
    "start_time": "2024-07-30T11:21:28.852Z"
   },
   {
    "duration": 6,
    "start_time": "2024-07-30T11:21:28.979Z"
   },
   {
    "duration": 19,
    "start_time": "2024-07-30T11:21:28.986Z"
   },
   {
    "duration": 31,
    "start_time": "2024-07-30T11:21:29.006Z"
   },
   {
    "duration": 180,
    "start_time": "2024-07-30T11:21:29.038Z"
   },
   {
    "duration": 372,
    "start_time": "2024-07-30T11:21:29.221Z"
   },
   {
    "duration": 241,
    "start_time": "2024-07-30T11:21:29.595Z"
   },
   {
    "duration": 5,
    "start_time": "2024-07-30T11:21:29.838Z"
   },
   {
    "duration": 396,
    "start_time": "2024-07-30T11:21:29.845Z"
   },
   {
    "duration": 110,
    "start_time": "2024-07-30T11:21:30.242Z"
   },
   {
    "duration": 333,
    "start_time": "2024-07-30T11:21:30.353Z"
   },
   {
    "duration": 26,
    "start_time": "2024-07-30T11:21:30.687Z"
   },
   {
    "duration": 221,
    "start_time": "2024-07-30T11:21:30.715Z"
   },
   {
    "duration": 5,
    "start_time": "2024-07-30T11:21:30.938Z"
   },
   {
    "duration": 360,
    "start_time": "2024-07-30T11:21:30.944Z"
   },
   {
    "duration": 148,
    "start_time": "2024-07-30T11:21:31.306Z"
   },
   {
    "duration": 153,
    "start_time": "2024-07-30T11:21:31.455Z"
   },
   {
    "duration": 161,
    "start_time": "2024-07-30T11:21:31.609Z"
   },
   {
    "duration": 133,
    "start_time": "2024-07-30T11:21:31.772Z"
   },
   {
    "duration": 21,
    "start_time": "2024-07-30T11:21:31.906Z"
   },
   {
    "duration": 80,
    "start_time": "2024-07-30T11:21:31.929Z"
   },
   {
    "duration": 193,
    "start_time": "2024-07-30T11:21:32.010Z"
   },
   {
    "duration": 4,
    "start_time": "2024-07-30T11:21:32.205Z"
   },
   {
    "duration": 292,
    "start_time": "2024-07-30T11:21:32.210Z"
   },
   {
    "duration": 945,
    "start_time": "2024-07-30T11:22:48.802Z"
   },
   {
    "duration": 534,
    "start_time": "2024-07-30T11:27:54.423Z"
   },
   {
    "duration": 713,
    "start_time": "2024-07-30T11:30:45.082Z"
   },
   {
    "duration": 14,
    "start_time": "2024-07-30T11:32:20.828Z"
   },
   {
    "duration": 520,
    "start_time": "2024-07-30T11:32:50.947Z"
   },
   {
    "duration": 2901,
    "start_time": "2024-07-30T11:34:08.220Z"
   },
   {
    "duration": 1028,
    "start_time": "2024-07-30T11:34:57.211Z"
   },
   {
    "duration": 109,
    "start_time": "2024-07-30T11:34:58.241Z"
   },
   {
    "duration": 14,
    "start_time": "2024-07-30T11:34:58.351Z"
   },
   {
    "duration": 41,
    "start_time": "2024-07-30T11:34:58.366Z"
   },
   {
    "duration": 1668,
    "start_time": "2024-07-30T11:34:58.408Z"
   },
   {
    "duration": 23,
    "start_time": "2024-07-30T11:35:00.078Z"
   },
   {
    "duration": 85,
    "start_time": "2024-07-30T11:35:00.102Z"
   },
   {
    "duration": 170,
    "start_time": "2024-07-30T11:35:00.189Z"
   },
   {
    "duration": 126,
    "start_time": "2024-07-30T11:35:00.361Z"
   },
   {
    "duration": 280,
    "start_time": "2024-07-30T11:35:00.489Z"
   },
   {
    "duration": 136,
    "start_time": "2024-07-30T11:35:00.771Z"
   },
   {
    "duration": 50,
    "start_time": "2024-07-30T11:35:00.909Z"
   },
   {
    "duration": 95,
    "start_time": "2024-07-30T11:35:00.961Z"
   },
   {
    "duration": 100,
    "start_time": "2024-07-30T11:35:01.059Z"
   },
   {
    "duration": 157,
    "start_time": "2024-07-30T11:35:01.161Z"
   },
   {
    "duration": 59,
    "start_time": "2024-07-30T11:35:01.319Z"
   },
   {
    "duration": 149,
    "start_time": "2024-07-30T11:35:01.380Z"
   },
   {
    "duration": 132,
    "start_time": "2024-07-30T11:35:01.530Z"
   },
   {
    "duration": 1884,
    "start_time": "2024-07-30T11:35:01.663Z"
   },
   {
    "duration": 10,
    "start_time": "2024-07-30T11:35:03.549Z"
   },
   {
    "duration": 62,
    "start_time": "2024-07-30T11:35:03.560Z"
   },
   {
    "duration": 15,
    "start_time": "2024-07-30T11:35:03.624Z"
   },
   {
    "duration": 21,
    "start_time": "2024-07-30T11:35:03.641Z"
   },
   {
    "duration": 172,
    "start_time": "2024-07-30T11:35:03.664Z"
   },
   {
    "duration": 5,
    "start_time": "2024-07-30T11:35:03.837Z"
   },
   {
    "duration": 270,
    "start_time": "2024-07-30T11:35:03.843Z"
   },
   {
    "duration": 10,
    "start_time": "2024-07-30T11:35:04.115Z"
   },
   {
    "duration": 41,
    "start_time": "2024-07-30T11:35:04.126Z"
   },
   {
    "duration": 67,
    "start_time": "2024-07-30T11:35:04.168Z"
   },
   {
    "duration": 33,
    "start_time": "2024-07-30T11:35:04.237Z"
   },
   {
    "duration": 59,
    "start_time": "2024-07-30T11:35:04.272Z"
   },
   {
    "duration": 8,
    "start_time": "2024-07-30T11:35:04.332Z"
   },
   {
    "duration": 20,
    "start_time": "2024-07-30T11:35:04.342Z"
   },
   {
    "duration": 35,
    "start_time": "2024-07-30T11:35:04.363Z"
   },
   {
    "duration": 21,
    "start_time": "2024-07-30T11:35:04.399Z"
   },
   {
    "duration": 13,
    "start_time": "2024-07-30T11:35:04.422Z"
   },
   {
    "duration": 40,
    "start_time": "2024-07-30T11:35:04.437Z"
   },
   {
    "duration": 6,
    "start_time": "2024-07-30T11:35:04.479Z"
   },
   {
    "duration": 3,
    "start_time": "2024-07-30T11:35:04.502Z"
   },
   {
    "duration": 326,
    "start_time": "2024-07-30T11:35:04.506Z"
   },
   {
    "duration": 25,
    "start_time": "2024-07-30T11:35:04.836Z"
   },
   {
    "duration": 68,
    "start_time": "2024-07-30T11:35:04.862Z"
   },
   {
    "duration": 174,
    "start_time": "2024-07-30T11:35:04.931Z"
   },
   {
    "duration": 199,
    "start_time": "2024-07-30T11:35:05.107Z"
   },
   {
    "duration": 242,
    "start_time": "2024-07-30T11:35:05.308Z"
   },
   {
    "duration": 209,
    "start_time": "2024-07-30T11:35:05.551Z"
   },
   {
    "duration": 122,
    "start_time": "2024-07-30T11:35:05.762Z"
   },
   {
    "duration": 177,
    "start_time": "2024-07-30T11:35:05.885Z"
   },
   {
    "duration": 134,
    "start_time": "2024-07-30T11:35:06.063Z"
   },
   {
    "duration": 99,
    "start_time": "2024-07-30T11:35:06.202Z"
   },
   {
    "duration": 129,
    "start_time": "2024-07-30T11:35:06.303Z"
   },
   {
    "duration": 208,
    "start_time": "2024-07-30T11:35:06.433Z"
   },
   {
    "duration": 170,
    "start_time": "2024-07-30T11:35:06.642Z"
   },
   {
    "duration": 155,
    "start_time": "2024-07-30T11:35:06.813Z"
   },
   {
    "duration": 288,
    "start_time": "2024-07-30T11:35:06.970Z"
   },
   {
    "duration": 161,
    "start_time": "2024-07-30T11:35:07.259Z"
   },
   {
    "duration": 6,
    "start_time": "2024-07-30T11:35:07.421Z"
   },
   {
    "duration": 67,
    "start_time": "2024-07-30T11:35:07.429Z"
   },
   {
    "duration": 37,
    "start_time": "2024-07-30T11:35:07.497Z"
   },
   {
    "duration": 184,
    "start_time": "2024-07-30T11:35:07.535Z"
   },
   {
    "duration": 229,
    "start_time": "2024-07-30T11:35:07.721Z"
   },
   {
    "duration": 238,
    "start_time": "2024-07-30T11:35:07.952Z"
   },
   {
    "duration": 11,
    "start_time": "2024-07-30T11:35:08.191Z"
   },
   {
    "duration": 162,
    "start_time": "2024-07-30T11:35:08.203Z"
   },
   {
    "duration": 6,
    "start_time": "2024-07-30T11:35:08.366Z"
   },
   {
    "duration": 170,
    "start_time": "2024-07-30T11:35:08.373Z"
   },
   {
    "duration": 5,
    "start_time": "2024-07-30T11:35:08.545Z"
   },
   {
    "duration": 274,
    "start_time": "2024-07-30T11:35:08.551Z"
   },
   {
    "duration": 6,
    "start_time": "2024-07-30T11:35:08.826Z"
   },
   {
    "duration": 177,
    "start_time": "2024-07-30T11:35:08.833Z"
   },
   {
    "duration": 148,
    "start_time": "2024-07-30T11:35:09.011Z"
   },
   {
    "duration": 141,
    "start_time": "2024-07-30T11:35:09.160Z"
   },
   {
    "duration": 213,
    "start_time": "2024-07-30T11:35:09.303Z"
   },
   {
    "duration": 127,
    "start_time": "2024-07-30T11:35:09.518Z"
   },
   {
    "duration": 5,
    "start_time": "2024-07-30T11:35:09.646Z"
   },
   {
    "duration": 47,
    "start_time": "2024-07-30T11:35:09.653Z"
   },
   {
    "duration": 205,
    "start_time": "2024-07-30T11:35:09.701Z"
   },
   {
    "duration": 4,
    "start_time": "2024-07-30T11:35:09.908Z"
   },
   {
    "duration": 169,
    "start_time": "2024-07-30T11:35:09.914Z"
   },
   {
    "duration": 124,
    "start_time": "2024-07-30T11:37:45.816Z"
   },
   {
    "duration": 127,
    "start_time": "2024-07-30T11:37:53.711Z"
   },
   {
    "duration": 137,
    "start_time": "2024-07-30T11:38:03.741Z"
   },
   {
    "duration": 1007,
    "start_time": "2024-07-30T11:38:19.653Z"
   },
   {
    "duration": 115,
    "start_time": "2024-07-30T11:38:20.662Z"
   },
   {
    "duration": 17,
    "start_time": "2024-07-30T11:38:20.779Z"
   },
   {
    "duration": 29,
    "start_time": "2024-07-30T11:38:20.798Z"
   },
   {
    "duration": 1671,
    "start_time": "2024-07-30T11:38:20.829Z"
   },
   {
    "duration": 32,
    "start_time": "2024-07-30T11:38:22.502Z"
   },
   {
    "duration": 23,
    "start_time": "2024-07-30T11:38:22.536Z"
   },
   {
    "duration": 21,
    "start_time": "2024-07-30T11:38:22.561Z"
   },
   {
    "duration": 54,
    "start_time": "2024-07-30T11:38:22.584Z"
   },
   {
    "duration": 9,
    "start_time": "2024-07-30T11:38:22.640Z"
   },
   {
    "duration": 16,
    "start_time": "2024-07-30T11:38:22.651Z"
   },
   {
    "duration": 5,
    "start_time": "2024-07-30T11:38:22.669Z"
   },
   {
    "duration": 24,
    "start_time": "2024-07-30T11:38:22.676Z"
   },
   {
    "duration": 6,
    "start_time": "2024-07-30T11:38:22.704Z"
   },
   {
    "duration": 10,
    "start_time": "2024-07-30T11:38:22.711Z"
   },
   {
    "duration": 14,
    "start_time": "2024-07-30T11:38:22.722Z"
   },
   {
    "duration": 15,
    "start_time": "2024-07-30T11:38:22.737Z"
   },
   {
    "duration": 10,
    "start_time": "2024-07-30T11:38:22.753Z"
   },
   {
    "duration": 1576,
    "start_time": "2024-07-30T11:38:22.764Z"
   },
   {
    "duration": 11,
    "start_time": "2024-07-30T11:38:24.342Z"
   },
   {
    "duration": 50,
    "start_time": "2024-07-30T11:38:24.355Z"
   },
   {
    "duration": 6,
    "start_time": "2024-07-30T11:38:24.407Z"
   },
   {
    "duration": 27,
    "start_time": "2024-07-30T11:38:24.415Z"
   },
   {
    "duration": 147,
    "start_time": "2024-07-30T11:38:24.443Z"
   },
   {
    "duration": 11,
    "start_time": "2024-07-30T11:38:24.591Z"
   },
   {
    "duration": 146,
    "start_time": "2024-07-30T11:38:24.603Z"
   },
   {
    "duration": 9,
    "start_time": "2024-07-30T11:38:24.751Z"
   },
   {
    "duration": 51,
    "start_time": "2024-07-30T11:38:24.761Z"
   },
   {
    "duration": 31,
    "start_time": "2024-07-30T11:38:24.814Z"
   },
   {
    "duration": 30,
    "start_time": "2024-07-30T11:38:24.846Z"
   },
   {
    "duration": 25,
    "start_time": "2024-07-30T11:38:24.877Z"
   },
   {
    "duration": 9,
    "start_time": "2024-07-30T11:38:24.904Z"
   },
   {
    "duration": 6,
    "start_time": "2024-07-30T11:38:24.915Z"
   },
   {
    "duration": 27,
    "start_time": "2024-07-30T11:38:24.922Z"
   },
   {
    "duration": 19,
    "start_time": "2024-07-30T11:38:24.950Z"
   },
   {
    "duration": 6,
    "start_time": "2024-07-30T11:38:24.970Z"
   },
   {
    "duration": 61,
    "start_time": "2024-07-30T11:38:24.977Z"
   },
   {
    "duration": 7,
    "start_time": "2024-07-30T11:38:25.039Z"
   },
   {
    "duration": 10,
    "start_time": "2024-07-30T11:38:25.047Z"
   },
   {
    "duration": 359,
    "start_time": "2024-07-30T11:38:25.059Z"
   },
   {
    "duration": 26,
    "start_time": "2024-07-30T11:38:25.423Z"
   },
   {
    "duration": 56,
    "start_time": "2024-07-30T11:38:25.450Z"
   },
   {
    "duration": 147,
    "start_time": "2024-07-30T11:38:25.508Z"
   },
   {
    "duration": 153,
    "start_time": "2024-07-30T11:38:25.656Z"
   },
   {
    "duration": 233,
    "start_time": "2024-07-30T11:38:25.810Z"
   },
   {
    "duration": 185,
    "start_time": "2024-07-30T11:38:26.045Z"
   },
   {
    "duration": 137,
    "start_time": "2024-07-30T11:38:26.232Z"
   },
   {
    "duration": 158,
    "start_time": "2024-07-30T11:38:26.371Z"
   },
   {
    "duration": 117,
    "start_time": "2024-07-30T11:38:26.531Z"
   },
   {
    "duration": 101,
    "start_time": "2024-07-30T11:38:26.649Z"
   },
   {
    "duration": 131,
    "start_time": "2024-07-30T11:38:26.752Z"
   },
   {
    "duration": 202,
    "start_time": "2024-07-30T11:38:26.884Z"
   },
   {
    "duration": 162,
    "start_time": "2024-07-30T11:38:27.088Z"
   },
   {
    "duration": 178,
    "start_time": "2024-07-30T11:38:27.251Z"
   },
   {
    "duration": 222,
    "start_time": "2024-07-30T11:38:27.430Z"
   },
   {
    "duration": 152,
    "start_time": "2024-07-30T11:38:27.654Z"
   },
   {
    "duration": 5,
    "start_time": "2024-07-30T11:38:27.808Z"
   },
   {
    "duration": 116,
    "start_time": "2024-07-30T11:38:27.814Z"
   },
   {
    "duration": 16,
    "start_time": "2024-07-30T11:38:27.932Z"
   },
   {
    "duration": 185,
    "start_time": "2024-07-30T11:38:27.950Z"
   },
   {
    "duration": 244,
    "start_time": "2024-07-30T11:38:28.136Z"
   },
   {
    "duration": 233,
    "start_time": "2024-07-30T11:38:28.381Z"
   },
   {
    "duration": 5,
    "start_time": "2024-07-30T11:38:28.615Z"
   },
   {
    "duration": 200,
    "start_time": "2024-07-30T11:38:28.621Z"
   },
   {
    "duration": 5,
    "start_time": "2024-07-30T11:38:28.822Z"
   },
   {
    "duration": 155,
    "start_time": "2024-07-30T11:38:28.828Z"
   },
   {
    "duration": 5,
    "start_time": "2024-07-30T11:38:28.984Z"
   },
   {
    "duration": 157,
    "start_time": "2024-07-30T11:38:28.990Z"
   },
   {
    "duration": 5,
    "start_time": "2024-07-30T11:38:29.148Z"
   },
   {
    "duration": 156,
    "start_time": "2024-07-30T11:38:29.154Z"
   },
   {
    "duration": 132,
    "start_time": "2024-07-30T11:38:29.312Z"
   },
   {
    "duration": 142,
    "start_time": "2024-07-30T11:38:29.445Z"
   },
   {
    "duration": 232,
    "start_time": "2024-07-30T11:38:29.588Z"
   },
   {
    "duration": 124,
    "start_time": "2024-07-30T11:38:29.821Z"
   },
   {
    "duration": 5,
    "start_time": "2024-07-30T11:38:29.947Z"
   },
   {
    "duration": 27,
    "start_time": "2024-07-30T11:38:29.954Z"
   },
   {
    "duration": 191,
    "start_time": "2024-07-30T11:38:29.983Z"
   },
   {
    "duration": 4,
    "start_time": "2024-07-30T11:38:30.175Z"
   },
   {
    "duration": 193,
    "start_time": "2024-07-30T11:38:30.180Z"
   },
   {
    "duration": 2903,
    "start_time": "2024-07-30T11:42:38.490Z"
   },
   {
    "duration": 9,
    "start_time": "2024-07-30T11:58:57.777Z"
   },
   {
    "duration": 3,
    "start_time": "2024-07-30T12:20:56.338Z"
   },
   {
    "duration": 118,
    "start_time": "2024-07-30T12:21:04.993Z"
   },
   {
    "duration": 7,
    "start_time": "2024-07-30T12:21:17.476Z"
   },
   {
    "duration": 8,
    "start_time": "2024-07-30T12:22:57.956Z"
   },
   {
    "duration": 4,
    "start_time": "2024-07-30T12:23:14.767Z"
   },
   {
    "duration": 14,
    "start_time": "2024-07-30T12:28:50.581Z"
   },
   {
    "duration": 1112,
    "start_time": "2024-07-30T12:29:02.247Z"
   },
   {
    "duration": 229,
    "start_time": "2024-07-30T12:29:03.361Z"
   },
   {
    "duration": 24,
    "start_time": "2024-07-30T12:29:03.592Z"
   },
   {
    "duration": 27,
    "start_time": "2024-07-30T12:29:03.619Z"
   },
   {
    "duration": 1675,
    "start_time": "2024-07-30T12:29:03.649Z"
   },
   {
    "duration": 22,
    "start_time": "2024-07-30T12:29:05.326Z"
   },
   {
    "duration": 13,
    "start_time": "2024-07-30T12:29:05.349Z"
   },
   {
    "duration": 16,
    "start_time": "2024-07-30T12:29:05.363Z"
   },
   {
    "duration": 20,
    "start_time": "2024-07-30T12:29:05.380Z"
   },
   {
    "duration": 15,
    "start_time": "2024-07-30T12:29:05.414Z"
   },
   {
    "duration": 12,
    "start_time": "2024-07-30T12:29:05.431Z"
   },
   {
    "duration": 3,
    "start_time": "2024-07-30T12:29:05.444Z"
   },
   {
    "duration": 32,
    "start_time": "2024-07-30T12:29:05.448Z"
   },
   {
    "duration": 6,
    "start_time": "2024-07-30T12:29:05.483Z"
   },
   {
    "duration": 7,
    "start_time": "2024-07-30T12:29:05.490Z"
   },
   {
    "duration": 35,
    "start_time": "2024-07-30T12:29:05.499Z"
   },
   {
    "duration": 13,
    "start_time": "2024-07-30T12:29:05.536Z"
   },
   {
    "duration": 7,
    "start_time": "2024-07-30T12:29:05.550Z"
   },
   {
    "duration": 1572,
    "start_time": "2024-07-30T12:29:05.558Z"
   },
   {
    "duration": 9,
    "start_time": "2024-07-30T12:29:07.132Z"
   },
   {
    "duration": 33,
    "start_time": "2024-07-30T12:29:07.142Z"
   },
   {
    "duration": 28,
    "start_time": "2024-07-30T12:29:07.176Z"
   },
   {
    "duration": 13,
    "start_time": "2024-07-30T12:29:07.205Z"
   },
   {
    "duration": 148,
    "start_time": "2024-07-30T12:29:07.220Z"
   },
   {
    "duration": 4,
    "start_time": "2024-07-30T12:29:07.369Z"
   },
   {
    "duration": 143,
    "start_time": "2024-07-30T12:29:07.375Z"
   },
   {
    "duration": 9,
    "start_time": "2024-07-30T12:29:07.519Z"
   },
   {
    "duration": 36,
    "start_time": "2024-07-30T12:29:07.529Z"
   },
   {
    "duration": 50,
    "start_time": "2024-07-30T12:29:07.566Z"
   },
   {
    "duration": 33,
    "start_time": "2024-07-30T12:29:07.617Z"
   },
   {
    "duration": 31,
    "start_time": "2024-07-30T12:29:07.651Z"
   },
   {
    "duration": 10,
    "start_time": "2024-07-30T12:29:07.683Z"
   },
   {
    "duration": 17,
    "start_time": "2024-07-30T12:29:07.695Z"
   },
   {
    "duration": 28,
    "start_time": "2024-07-30T12:29:07.713Z"
   },
   {
    "duration": 18,
    "start_time": "2024-07-30T12:29:07.742Z"
   },
   {
    "duration": 6,
    "start_time": "2024-07-30T12:29:07.761Z"
   },
   {
    "duration": 30,
    "start_time": "2024-07-30T12:29:07.768Z"
   },
   {
    "duration": 15,
    "start_time": "2024-07-30T12:29:07.799Z"
   },
   {
    "duration": 18,
    "start_time": "2024-07-30T12:29:07.815Z"
   },
   {
    "duration": 6,
    "start_time": "2024-07-30T12:29:07.834Z"
   },
   {
    "duration": 297,
    "start_time": "2024-07-30T12:29:07.844Z"
   },
   {
    "duration": 23,
    "start_time": "2024-07-30T12:29:08.143Z"
   },
   {
    "duration": 79,
    "start_time": "2024-07-30T12:29:08.167Z"
   },
   {
    "duration": 151,
    "start_time": "2024-07-30T12:29:08.248Z"
   },
   {
    "duration": 165,
    "start_time": "2024-07-30T12:29:08.400Z"
   },
   {
    "duration": 180,
    "start_time": "2024-07-30T12:29:08.566Z"
   },
   {
    "duration": 249,
    "start_time": "2024-07-30T12:29:08.747Z"
   },
   {
    "duration": 125,
    "start_time": "2024-07-30T12:29:09.011Z"
   },
   {
    "duration": 124,
    "start_time": "2024-07-30T12:29:09.137Z"
   },
   {
    "duration": 121,
    "start_time": "2024-07-30T12:29:09.262Z"
   },
   {
    "duration": 107,
    "start_time": "2024-07-30T12:29:09.384Z"
   },
   {
    "duration": 122,
    "start_time": "2024-07-30T12:29:09.493Z"
   },
   {
    "duration": 227,
    "start_time": "2024-07-30T12:29:09.617Z"
   },
   {
    "duration": 148,
    "start_time": "2024-07-30T12:29:09.846Z"
   },
   {
    "duration": 161,
    "start_time": "2024-07-30T12:29:09.995Z"
   },
   {
    "duration": 123,
    "start_time": "2024-07-30T12:29:10.157Z"
   },
   {
    "duration": 229,
    "start_time": "2024-07-30T12:29:10.282Z"
   },
   {
    "duration": 5,
    "start_time": "2024-07-30T12:29:10.512Z"
   },
   {
    "duration": 21,
    "start_time": "2024-07-30T12:29:10.518Z"
   },
   {
    "duration": 19,
    "start_time": "2024-07-30T12:29:10.541Z"
   },
   {
    "duration": 189,
    "start_time": "2024-07-30T12:29:10.561Z"
   },
   {
    "duration": 225,
    "start_time": "2024-07-30T12:29:10.751Z"
   },
   {
    "duration": 242,
    "start_time": "2024-07-30T12:29:10.977Z"
   },
   {
    "duration": 5,
    "start_time": "2024-07-30T12:29:11.220Z"
   },
   {
    "duration": 161,
    "start_time": "2024-07-30T12:29:11.227Z"
   },
   {
    "duration": 5,
    "start_time": "2024-07-30T12:29:11.390Z"
   },
   {
    "duration": 169,
    "start_time": "2024-07-30T12:29:11.396Z"
   },
   {
    "duration": 4,
    "start_time": "2024-07-30T12:29:11.566Z"
   },
   {
    "duration": 164,
    "start_time": "2024-07-30T12:29:11.572Z"
   },
   {
    "duration": 4,
    "start_time": "2024-07-30T12:29:11.737Z"
   },
   {
    "duration": 147,
    "start_time": "2024-07-30T12:29:11.742Z"
   },
   {
    "duration": 136,
    "start_time": "2024-07-30T12:29:11.890Z"
   },
   {
    "duration": 157,
    "start_time": "2024-07-30T12:29:12.028Z"
   },
   {
    "duration": 137,
    "start_time": "2024-07-30T12:29:12.186Z"
   },
   {
    "duration": 205,
    "start_time": "2024-07-30T12:29:12.324Z"
   },
   {
    "duration": 6,
    "start_time": "2024-07-30T12:29:12.530Z"
   },
   {
    "duration": 22,
    "start_time": "2024-07-30T12:29:12.538Z"
   },
   {
    "duration": 210,
    "start_time": "2024-07-30T12:29:12.561Z"
   },
   {
    "duration": 3,
    "start_time": "2024-07-30T12:29:12.773Z"
   },
   {
    "duration": 163,
    "start_time": "2024-07-30T12:29:12.777Z"
   },
   {
    "duration": 48,
    "start_time": "2024-07-30T12:34:46.571Z"
   },
   {
    "duration": 31,
    "start_time": "2024-07-30T12:34:57.903Z"
   },
   {
    "duration": 52,
    "start_time": "2024-07-30T12:35:09.153Z"
   },
   {
    "duration": 13,
    "start_time": "2024-07-30T12:35:21.061Z"
   },
   {
    "duration": 96,
    "start_time": "2024-07-30T12:35:42.918Z"
   },
   {
    "duration": 16,
    "start_time": "2024-07-30T12:37:59.549Z"
   },
   {
    "duration": 8,
    "start_time": "2024-07-30T12:38:38.869Z"
   },
   {
    "duration": 434,
    "start_time": "2024-07-30T12:47:31.850Z"
   },
   {
    "duration": 7,
    "start_time": "2024-07-30T12:47:38.058Z"
   },
   {
    "duration": 11,
    "start_time": "2024-07-30T12:47:53.895Z"
   },
   {
    "duration": 30,
    "start_time": "2024-07-30T12:48:09.378Z"
   },
   {
    "duration": 11,
    "start_time": "2024-07-30T12:48:23.704Z"
   },
   {
    "duration": 57,
    "start_time": "2024-08-16T21:46:09.557Z"
   },
   {
    "duration": 1197,
    "start_time": "2024-08-16T21:46:24.704Z"
   },
   {
    "duration": 191,
    "start_time": "2024-08-16T21:46:25.903Z"
   },
   {
    "duration": 15,
    "start_time": "2024-08-16T21:46:26.096Z"
   },
   {
    "duration": 34,
    "start_time": "2024-08-16T21:46:26.113Z"
   },
   {
    "duration": 2075,
    "start_time": "2024-08-16T21:46:26.149Z"
   },
   {
    "duration": 25,
    "start_time": "2024-08-16T21:46:28.226Z"
   },
   {
    "duration": 10,
    "start_time": "2024-08-16T21:46:28.253Z"
   },
   {
    "duration": 4,
    "start_time": "2024-08-16T21:46:28.265Z"
   },
   {
    "duration": 5,
    "start_time": "2024-08-16T21:46:28.271Z"
   },
   {
    "duration": 15,
    "start_time": "2024-08-16T21:46:28.277Z"
   },
   {
    "duration": 14,
    "start_time": "2024-08-16T21:46:28.294Z"
   },
   {
    "duration": 3,
    "start_time": "2024-08-16T21:46:28.310Z"
   },
   {
    "duration": 51,
    "start_time": "2024-08-16T21:46:28.315Z"
   },
   {
    "duration": 6,
    "start_time": "2024-08-16T21:46:28.368Z"
   },
   {
    "duration": 11,
    "start_time": "2024-08-16T21:46:28.375Z"
   },
   {
    "duration": 13,
    "start_time": "2024-08-16T21:46:28.388Z"
   },
   {
    "duration": 16,
    "start_time": "2024-08-16T21:46:28.403Z"
   },
   {
    "duration": 45,
    "start_time": "2024-08-16T21:46:28.421Z"
   },
   {
    "duration": 1714,
    "start_time": "2024-08-16T21:46:28.468Z"
   },
   {
    "duration": 10,
    "start_time": "2024-08-16T21:46:30.183Z"
   },
   {
    "duration": 61,
    "start_time": "2024-08-16T21:46:30.194Z"
   },
   {
    "duration": 33,
    "start_time": "2024-08-16T21:46:30.256Z"
   },
   {
    "duration": 26,
    "start_time": "2024-08-16T21:46:30.291Z"
   },
   {
    "duration": 196,
    "start_time": "2024-08-16T21:46:30.319Z"
   },
   {
    "duration": 5,
    "start_time": "2024-08-16T21:46:30.517Z"
   },
   {
    "duration": 177,
    "start_time": "2024-08-16T21:46:30.523Z"
   },
   {
    "duration": 12,
    "start_time": "2024-08-16T21:46:30.702Z"
   },
   {
    "duration": 84,
    "start_time": "2024-08-16T21:46:30.716Z"
   },
   {
    "duration": 51,
    "start_time": "2024-08-16T21:46:30.804Z"
   },
   {
    "duration": 42,
    "start_time": "2024-08-16T21:46:30.865Z"
   },
   {
    "duration": 4,
    "start_time": "2024-08-16T21:46:30.908Z"
   },
   {
    "duration": 28,
    "start_time": "2024-08-16T21:46:30.914Z"
   },
   {
    "duration": 28,
    "start_time": "2024-08-16T21:46:30.944Z"
   },
   {
    "duration": 24,
    "start_time": "2024-08-16T21:46:30.973Z"
   },
   {
    "duration": 25,
    "start_time": "2024-08-16T21:46:30.998Z"
   },
   {
    "duration": 8,
    "start_time": "2024-08-16T21:46:31.024Z"
   },
   {
    "duration": 43,
    "start_time": "2024-08-16T21:46:31.033Z"
   },
   {
    "duration": 6,
    "start_time": "2024-08-16T21:46:31.078Z"
   },
   {
    "duration": 21,
    "start_time": "2024-08-16T21:46:31.086Z"
   },
   {
    "duration": 3,
    "start_time": "2024-08-16T21:46:31.108Z"
   },
   {
    "duration": 365,
    "start_time": "2024-08-16T21:46:31.115Z"
   },
   {
    "duration": 29,
    "start_time": "2024-08-16T21:46:31.482Z"
   },
   {
    "duration": 32,
    "start_time": "2024-08-16T21:46:31.513Z"
   },
   {
    "duration": 186,
    "start_time": "2024-08-16T21:46:31.565Z"
   },
   {
    "duration": 211,
    "start_time": "2024-08-16T21:46:31.753Z"
   },
   {
    "duration": 184,
    "start_time": "2024-08-16T21:46:31.965Z"
   },
   {
    "duration": 323,
    "start_time": "2024-08-16T21:46:32.151Z"
   },
   {
    "duration": 146,
    "start_time": "2024-08-16T21:46:32.476Z"
   },
   {
    "duration": 164,
    "start_time": "2024-08-16T21:46:32.623Z"
   },
   {
    "duration": 157,
    "start_time": "2024-08-16T21:46:32.789Z"
   },
   {
    "duration": 137,
    "start_time": "2024-08-16T21:46:32.948Z"
   },
   {
    "duration": 167,
    "start_time": "2024-08-16T21:46:33.086Z"
   },
   {
    "duration": 260,
    "start_time": "2024-08-16T21:46:33.265Z"
   },
   {
    "duration": 185,
    "start_time": "2024-08-16T21:46:33.526Z"
   },
   {
    "duration": 206,
    "start_time": "2024-08-16T21:46:33.713Z"
   },
   {
    "duration": 154,
    "start_time": "2024-08-16T21:46:33.920Z"
   },
   {
    "duration": 260,
    "start_time": "2024-08-16T21:46:34.076Z"
   },
   {
    "duration": 5,
    "start_time": "2024-08-16T21:46:34.338Z"
   },
   {
    "duration": 22,
    "start_time": "2024-08-16T21:46:34.344Z"
   },
   {
    "duration": 9,
    "start_time": "2024-08-16T21:46:34.367Z"
   },
   {
    "duration": 219,
    "start_time": "2024-08-16T21:46:34.377Z"
   },
   {
    "duration": 316,
    "start_time": "2024-08-16T21:46:34.598Z"
   },
   {
    "duration": 335,
    "start_time": "2024-08-16T21:46:34.916Z"
   },
   {
    "duration": 13,
    "start_time": "2024-08-16T21:46:35.253Z"
   },
   {
    "duration": 204,
    "start_time": "2024-08-16T21:46:35.268Z"
   },
   {
    "duration": 5,
    "start_time": "2024-08-16T21:46:35.473Z"
   },
   {
    "duration": 225,
    "start_time": "2024-08-16T21:46:35.480Z"
   },
   {
    "duration": 5,
    "start_time": "2024-08-16T21:46:35.707Z"
   },
   {
    "duration": 197,
    "start_time": "2024-08-16T21:46:35.714Z"
   },
   {
    "duration": 6,
    "start_time": "2024-08-16T21:46:35.912Z"
   },
   {
    "duration": 209,
    "start_time": "2024-08-16T21:46:35.919Z"
   },
   {
    "duration": 161,
    "start_time": "2024-08-16T21:46:36.130Z"
   },
   {
    "duration": 180,
    "start_time": "2024-08-16T21:46:36.292Z"
   },
   {
    "duration": 174,
    "start_time": "2024-08-16T21:46:36.474Z"
   },
   {
    "duration": 276,
    "start_time": "2024-08-16T21:46:36.649Z"
   },
   {
    "duration": 7,
    "start_time": "2024-08-16T21:46:36.927Z"
   },
   {
    "duration": 35,
    "start_time": "2024-08-16T21:46:36.935Z"
   },
   {
    "duration": 227,
    "start_time": "2024-08-16T21:46:36.972Z"
   },
   {
    "duration": 5,
    "start_time": "2024-08-16T21:46:37.201Z"
   },
   {
    "duration": 189,
    "start_time": "2024-08-16T21:46:37.207Z"
   }
  ],
  "kernelspec": {
   "display_name": "Python 3 (ipykernel)",
   "language": "python",
   "name": "python3"
  },
  "language_info": {
   "codemirror_mode": {
    "name": "ipython",
    "version": 3
   },
   "file_extension": ".py",
   "mimetype": "text/x-python",
   "name": "python",
   "nbconvert_exporter": "python",
   "pygments_lexer": "ipython3",
   "version": "3.9.5"
  },
  "toc": {
   "base_numbering": 1,
   "nav_menu": {},
   "number_sections": true,
   "sideBar": true,
   "skip_h1_title": true,
   "title_cell": "Table of Contents",
   "title_sidebar": "Contents",
   "toc_cell": false,
   "toc_position": {},
   "toc_section_display": true,
   "toc_window_display": false
  },
  "toc-autonumbering": false
 },
 "nbformat": 4,
 "nbformat_minor": 5
}
