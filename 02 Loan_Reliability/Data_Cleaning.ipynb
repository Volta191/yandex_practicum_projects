{
 "cells": [
  {
   "cell_type": "markdown",
   "id": "970239f8",
   "metadata": {},
   "source": [
    "<h2> Комментарий ревьюера <a class=\"tocSkip\"></h2>\n",
    "\n",
    "Владимир, привет!\n",
    "\n",
    "Меня зовут Олег Михеев, и я буду проверять твой проект. Предлагаю общаться на \"ты\", но если тебе будет некомфортно, обязательно сообщи, и мы перейдем на \"вы\". Моя главная цель - не указать на твои ошибки, а поделиться опытом и подготовить тебя к работе аналитиком. Увидев у тебя ошибку, я постараюсь указать на её наличие и дам возможность найти и самостоятельно исправить её.\n",
    "\n",
    "В проверке проекта я буду использовать разные цвета для обозначения комментариев. Например:\n",
    "\n",
    "<br/>\n",
    "\n",
    "<div class=\"alert alert-success\">\n",
    "<h3> Комментарий ревьюера ✔️<a class=\"tocSkip\"> </h3>\n",
    "\n",
    "Так выделены удачные решения, на которые можно опираться в будущем.\n",
    "</div>\n",
    "\n",
    "<br/>\n",
    "\n",
    "<div class=\"alert alert-warning\">\n",
    "    <h3> Комментарий ревьюера ⚠️<a class=\"tocSkip\"> </h3>\n",
    "\n",
    "Когда решение на отдельном шаге станет лучше, если внести небольшие коррективы.\n",
    "</div>\n",
    "\n",
    "\n",
    "<br/>\n",
    "<div class=\"alert alert-block alert-danger\">\n",
    "<h3> Комментарий ревьюера ❌<a class=\"tocSkip\"></h3>\n",
    "\n",
    " А так выделены решения, которые необходимо доработать, чтобы я мог принять проект.\n",
    "</div>\n",
    "    \n",
    "  \n",
    "Если вносишь изменения в проект, указывай, пожалуйста, это в своих комментариях. Будет удобно, если обозначишь их заметным цветом. Например, вот так:\n",
    "       \n",
    "<div class=\"alert alert-block alert-info\">\n",
    "    \n",
    "<h3> Комментарий студента  <a class=\"tocSkip\"></h3>\n",
    "    \n",
    "Можешь кликнуть сюда два раза и скопировать код комментария. Также если что-то непонятно или остались вопросы по ревью, обязательно пиши.\n",
    "    \n",
    "</div>\n",
    "    \n",
    "Пожалуйста, не удаляй и не перемещай мои комментарии, чтобы не произошло путаницы, и я мог быстрее проверить проект.\n",
    "<br/>"
   ]
  },
  {
   "cell_type": "markdown",
   "id": "3a055de6",
   "metadata": {},
   "source": [
    "<div style=\"border:solid Chocolate 2px; padding: 40px\">\n",
    "\n",
    "**Общий вывод по ревью**\n",
    "\n",
    "Хорошая работа. Ты умело пользуешься кодом для решения поставленных задач.\n",
    "    \n",
    "А твои выводы понятны и отражают результаты расчетов.\n",
    "\n",
    "**Что нужно сделать, чтобы я мог принять проект**:\n",
    "\n",
    "* Написать подробный финальный вывод, учитывающий все группы клиентов с процентными показателями и информацию о предобработке\n",
    "\n",
    "**Успехов! Жду проект на повторное ревью!**"
   ]
  },
  {
   "cell_type": "markdown",
   "id": "8c759ab9",
   "metadata": {},
   "source": [
    "<div style=\"border:solid Chocolate 2px; padding: 40px\">\n",
    "\n",
    "**Общий вывод по ревью v2**\n",
    "\n",
    "Спасибо, что учёл замечание!\n",
    "\n",
    "Очень качественно выполненный проект! Мне было приятно с тобой работать 🤝\n",
    "\n",
    "Видно, что ты последовательно и вдумчиво подходишь к анализу.\n",
    "    \n",
    "А проект написан аккуратно, поэтому его легко воспринимать.\n",
    "\n",
    "Продолжай в том же духе и станешь крутым специалистом.\n",
    "\n",
    "**Успехов в дальнейшем обучении!**"
   ]
  },
  {
   "cell_type": "markdown",
   "id": "386f2ae7",
   "metadata": {
    "deletable": false,
    "editable": false,
    "id": "386f2ae7"
   },
   "source": [
    "# Исследование надежности заемщиков\n"
   ]
  },
  {
   "cell_type": "markdown",
   "id": "ffe86f65",
   "metadata": {
    "deletable": false,
    "editable": false,
    "id": "ffe86f65"
   },
   "source": [
    "Во второй части проекта вы выполните шаги 3 и 4. Их вручную проверит ревьюер.\n",
    "Чтобы вам не пришлось писать код заново для шагов 1 и 2, мы добавили авторские решения в ячейки с кодом. \n",
    "\n"
   ]
  },
  {
   "cell_type": "markdown",
   "id": "26613308",
   "metadata": {
    "deletable": false,
    "editable": false,
    "id": "26613308"
   },
   "source": [
    "## Откройте таблицу и изучите общую информацию о данных"
   ]
  },
  {
   "cell_type": "markdown",
   "id": "3c9f838e",
   "metadata": {
    "deletable": false,
    "editable": false,
    "id": "3c9f838e"
   },
   "source": [
    "**Задание 1. Импортируйте библиотеку pandas. Считайте данные из csv-файла в датафрейм и сохраните в переменную `data`. Путь к файлу:**\n",
    "\n",
    "`/datasets/data.csv`"
   ]
  },
  {
   "cell_type": "code",
   "execution_count": 1,
   "id": "77a68a90",
   "metadata": {
    "deletable": false,
    "id": "77a68a90"
   },
   "outputs": [],
   "source": [
    "import pandas as pd\n",
    "\n",
    "try:\n",
    "    data = pd.read_csv('/datasets/data.csv')\n",
    "except:\n",
    "    data = pd.read_csv('https://code.s3.yandex.net/datasets/data.csv')"
   ]
  },
  {
   "cell_type": "markdown",
   "id": "45365635",
   "metadata": {
    "deletable": false,
    "editable": false,
    "id": "45365635"
   },
   "source": [
    "**Задание 2. Выведите первые 20 строчек датафрейма `data` на экран.**"
   ]
  },
  {
   "cell_type": "code",
   "execution_count": 2,
   "id": "b0451a9a",
   "metadata": {
    "deletable": false,
    "id": "b0451a9a",
    "outputId": "1a8f3ef2-d323-4ec2-ddf7-89670b5944c4"
   },
   "outputs": [
    {
     "data": {
      "text/html": [
       "<div>\n",
       "<style scoped>\n",
       "    .dataframe tbody tr th:only-of-type {\n",
       "        vertical-align: middle;\n",
       "    }\n",
       "\n",
       "    .dataframe tbody tr th {\n",
       "        vertical-align: top;\n",
       "    }\n",
       "\n",
       "    .dataframe thead th {\n",
       "        text-align: right;\n",
       "    }\n",
       "</style>\n",
       "<table border=\"1\" class=\"dataframe\">\n",
       "  <thead>\n",
       "    <tr style=\"text-align: right;\">\n",
       "      <th></th>\n",
       "      <th>children</th>\n",
       "      <th>days_employed</th>\n",
       "      <th>dob_years</th>\n",
       "      <th>education</th>\n",
       "      <th>education_id</th>\n",
       "      <th>family_status</th>\n",
       "      <th>family_status_id</th>\n",
       "      <th>gender</th>\n",
       "      <th>income_type</th>\n",
       "      <th>debt</th>\n",
       "      <th>total_income</th>\n",
       "      <th>purpose</th>\n",
       "    </tr>\n",
       "  </thead>\n",
       "  <tbody>\n",
       "    <tr>\n",
       "      <th>0</th>\n",
       "      <td>1</td>\n",
       "      <td>-8437.673028</td>\n",
       "      <td>42</td>\n",
       "      <td>высшее</td>\n",
       "      <td>0</td>\n",
       "      <td>женат / замужем</td>\n",
       "      <td>0</td>\n",
       "      <td>F</td>\n",
       "      <td>сотрудник</td>\n",
       "      <td>0</td>\n",
       "      <td>253875.639453</td>\n",
       "      <td>покупка жилья</td>\n",
       "    </tr>\n",
       "    <tr>\n",
       "      <th>1</th>\n",
       "      <td>1</td>\n",
       "      <td>-4024.803754</td>\n",
       "      <td>36</td>\n",
       "      <td>среднее</td>\n",
       "      <td>1</td>\n",
       "      <td>женат / замужем</td>\n",
       "      <td>0</td>\n",
       "      <td>F</td>\n",
       "      <td>сотрудник</td>\n",
       "      <td>0</td>\n",
       "      <td>112080.014102</td>\n",
       "      <td>приобретение автомобиля</td>\n",
       "    </tr>\n",
       "    <tr>\n",
       "      <th>2</th>\n",
       "      <td>0</td>\n",
       "      <td>-5623.422610</td>\n",
       "      <td>33</td>\n",
       "      <td>Среднее</td>\n",
       "      <td>1</td>\n",
       "      <td>женат / замужем</td>\n",
       "      <td>0</td>\n",
       "      <td>M</td>\n",
       "      <td>сотрудник</td>\n",
       "      <td>0</td>\n",
       "      <td>145885.952297</td>\n",
       "      <td>покупка жилья</td>\n",
       "    </tr>\n",
       "    <tr>\n",
       "      <th>3</th>\n",
       "      <td>3</td>\n",
       "      <td>-4124.747207</td>\n",
       "      <td>32</td>\n",
       "      <td>среднее</td>\n",
       "      <td>1</td>\n",
       "      <td>женат / замужем</td>\n",
       "      <td>0</td>\n",
       "      <td>M</td>\n",
       "      <td>сотрудник</td>\n",
       "      <td>0</td>\n",
       "      <td>267628.550329</td>\n",
       "      <td>дополнительное образование</td>\n",
       "    </tr>\n",
       "    <tr>\n",
       "      <th>4</th>\n",
       "      <td>0</td>\n",
       "      <td>340266.072047</td>\n",
       "      <td>53</td>\n",
       "      <td>среднее</td>\n",
       "      <td>1</td>\n",
       "      <td>гражданский брак</td>\n",
       "      <td>1</td>\n",
       "      <td>F</td>\n",
       "      <td>пенсионер</td>\n",
       "      <td>0</td>\n",
       "      <td>158616.077870</td>\n",
       "      <td>сыграть свадьбу</td>\n",
       "    </tr>\n",
       "    <tr>\n",
       "      <th>5</th>\n",
       "      <td>0</td>\n",
       "      <td>-926.185831</td>\n",
       "      <td>27</td>\n",
       "      <td>высшее</td>\n",
       "      <td>0</td>\n",
       "      <td>гражданский брак</td>\n",
       "      <td>1</td>\n",
       "      <td>M</td>\n",
       "      <td>компаньон</td>\n",
       "      <td>0</td>\n",
       "      <td>255763.565419</td>\n",
       "      <td>покупка жилья</td>\n",
       "    </tr>\n",
       "    <tr>\n",
       "      <th>6</th>\n",
       "      <td>0</td>\n",
       "      <td>-2879.202052</td>\n",
       "      <td>43</td>\n",
       "      <td>высшее</td>\n",
       "      <td>0</td>\n",
       "      <td>женат / замужем</td>\n",
       "      <td>0</td>\n",
       "      <td>F</td>\n",
       "      <td>компаньон</td>\n",
       "      <td>0</td>\n",
       "      <td>240525.971920</td>\n",
       "      <td>операции с жильем</td>\n",
       "    </tr>\n",
       "    <tr>\n",
       "      <th>7</th>\n",
       "      <td>0</td>\n",
       "      <td>-152.779569</td>\n",
       "      <td>50</td>\n",
       "      <td>СРЕДНЕЕ</td>\n",
       "      <td>1</td>\n",
       "      <td>женат / замужем</td>\n",
       "      <td>0</td>\n",
       "      <td>M</td>\n",
       "      <td>сотрудник</td>\n",
       "      <td>0</td>\n",
       "      <td>135823.934197</td>\n",
       "      <td>образование</td>\n",
       "    </tr>\n",
       "    <tr>\n",
       "      <th>8</th>\n",
       "      <td>2</td>\n",
       "      <td>-6929.865299</td>\n",
       "      <td>35</td>\n",
       "      <td>ВЫСШЕЕ</td>\n",
       "      <td>0</td>\n",
       "      <td>гражданский брак</td>\n",
       "      <td>1</td>\n",
       "      <td>F</td>\n",
       "      <td>сотрудник</td>\n",
       "      <td>0</td>\n",
       "      <td>95856.832424</td>\n",
       "      <td>на проведение свадьбы</td>\n",
       "    </tr>\n",
       "    <tr>\n",
       "      <th>9</th>\n",
       "      <td>0</td>\n",
       "      <td>-2188.756445</td>\n",
       "      <td>41</td>\n",
       "      <td>среднее</td>\n",
       "      <td>1</td>\n",
       "      <td>женат / замужем</td>\n",
       "      <td>0</td>\n",
       "      <td>M</td>\n",
       "      <td>сотрудник</td>\n",
       "      <td>0</td>\n",
       "      <td>144425.938277</td>\n",
       "      <td>покупка жилья для семьи</td>\n",
       "    </tr>\n",
       "    <tr>\n",
       "      <th>10</th>\n",
       "      <td>2</td>\n",
       "      <td>-4171.483647</td>\n",
       "      <td>36</td>\n",
       "      <td>высшее</td>\n",
       "      <td>0</td>\n",
       "      <td>женат / замужем</td>\n",
       "      <td>0</td>\n",
       "      <td>M</td>\n",
       "      <td>компаньон</td>\n",
       "      <td>0</td>\n",
       "      <td>113943.491460</td>\n",
       "      <td>покупка недвижимости</td>\n",
       "    </tr>\n",
       "    <tr>\n",
       "      <th>11</th>\n",
       "      <td>0</td>\n",
       "      <td>-792.701887</td>\n",
       "      <td>40</td>\n",
       "      <td>среднее</td>\n",
       "      <td>1</td>\n",
       "      <td>женат / замужем</td>\n",
       "      <td>0</td>\n",
       "      <td>F</td>\n",
       "      <td>сотрудник</td>\n",
       "      <td>0</td>\n",
       "      <td>77069.234271</td>\n",
       "      <td>покупка коммерческой недвижимости</td>\n",
       "    </tr>\n",
       "    <tr>\n",
       "      <th>12</th>\n",
       "      <td>0</td>\n",
       "      <td>NaN</td>\n",
       "      <td>65</td>\n",
       "      <td>среднее</td>\n",
       "      <td>1</td>\n",
       "      <td>гражданский брак</td>\n",
       "      <td>1</td>\n",
       "      <td>M</td>\n",
       "      <td>пенсионер</td>\n",
       "      <td>0</td>\n",
       "      <td>NaN</td>\n",
       "      <td>сыграть свадьбу</td>\n",
       "    </tr>\n",
       "    <tr>\n",
       "      <th>13</th>\n",
       "      <td>0</td>\n",
       "      <td>-1846.641941</td>\n",
       "      <td>54</td>\n",
       "      <td>неоконченное высшее</td>\n",
       "      <td>2</td>\n",
       "      <td>женат / замужем</td>\n",
       "      <td>0</td>\n",
       "      <td>F</td>\n",
       "      <td>сотрудник</td>\n",
       "      <td>0</td>\n",
       "      <td>130458.228857</td>\n",
       "      <td>приобретение автомобиля</td>\n",
       "    </tr>\n",
       "    <tr>\n",
       "      <th>14</th>\n",
       "      <td>0</td>\n",
       "      <td>-1844.956182</td>\n",
       "      <td>56</td>\n",
       "      <td>высшее</td>\n",
       "      <td>0</td>\n",
       "      <td>гражданский брак</td>\n",
       "      <td>1</td>\n",
       "      <td>F</td>\n",
       "      <td>компаньон</td>\n",
       "      <td>1</td>\n",
       "      <td>165127.911772</td>\n",
       "      <td>покупка жилой недвижимости</td>\n",
       "    </tr>\n",
       "    <tr>\n",
       "      <th>15</th>\n",
       "      <td>1</td>\n",
       "      <td>-972.364419</td>\n",
       "      <td>26</td>\n",
       "      <td>среднее</td>\n",
       "      <td>1</td>\n",
       "      <td>женат / замужем</td>\n",
       "      <td>0</td>\n",
       "      <td>F</td>\n",
       "      <td>сотрудник</td>\n",
       "      <td>0</td>\n",
       "      <td>116820.904450</td>\n",
       "      <td>строительство собственной недвижимости</td>\n",
       "    </tr>\n",
       "    <tr>\n",
       "      <th>16</th>\n",
       "      <td>0</td>\n",
       "      <td>-1719.934226</td>\n",
       "      <td>35</td>\n",
       "      <td>среднее</td>\n",
       "      <td>1</td>\n",
       "      <td>женат / замужем</td>\n",
       "      <td>0</td>\n",
       "      <td>F</td>\n",
       "      <td>сотрудник</td>\n",
       "      <td>0</td>\n",
       "      <td>289202.704229</td>\n",
       "      <td>недвижимость</td>\n",
       "    </tr>\n",
       "    <tr>\n",
       "      <th>17</th>\n",
       "      <td>0</td>\n",
       "      <td>-2369.999720</td>\n",
       "      <td>33</td>\n",
       "      <td>высшее</td>\n",
       "      <td>0</td>\n",
       "      <td>гражданский брак</td>\n",
       "      <td>1</td>\n",
       "      <td>M</td>\n",
       "      <td>сотрудник</td>\n",
       "      <td>0</td>\n",
       "      <td>90410.586745</td>\n",
       "      <td>строительство недвижимости</td>\n",
       "    </tr>\n",
       "    <tr>\n",
       "      <th>18</th>\n",
       "      <td>0</td>\n",
       "      <td>400281.136913</td>\n",
       "      <td>53</td>\n",
       "      <td>среднее</td>\n",
       "      <td>1</td>\n",
       "      <td>вдовец / вдова</td>\n",
       "      <td>2</td>\n",
       "      <td>F</td>\n",
       "      <td>пенсионер</td>\n",
       "      <td>0</td>\n",
       "      <td>56823.777243</td>\n",
       "      <td>на покупку подержанного автомобиля</td>\n",
       "    </tr>\n",
       "    <tr>\n",
       "      <th>19</th>\n",
       "      <td>0</td>\n",
       "      <td>-10038.818549</td>\n",
       "      <td>48</td>\n",
       "      <td>СРЕДНЕЕ</td>\n",
       "      <td>1</td>\n",
       "      <td>в разводе</td>\n",
       "      <td>3</td>\n",
       "      <td>F</td>\n",
       "      <td>сотрудник</td>\n",
       "      <td>0</td>\n",
       "      <td>242831.107982</td>\n",
       "      <td>на покупку своего автомобиля</td>\n",
       "    </tr>\n",
       "  </tbody>\n",
       "</table>\n",
       "</div>"
      ],
      "text/plain": [
       "    children  days_employed  dob_years            education  education_id  \\\n",
       "0          1   -8437.673028         42               высшее             0   \n",
       "1          1   -4024.803754         36              среднее             1   \n",
       "2          0   -5623.422610         33              Среднее             1   \n",
       "3          3   -4124.747207         32              среднее             1   \n",
       "4          0  340266.072047         53              среднее             1   \n",
       "5          0    -926.185831         27               высшее             0   \n",
       "6          0   -2879.202052         43               высшее             0   \n",
       "7          0    -152.779569         50              СРЕДНЕЕ             1   \n",
       "8          2   -6929.865299         35               ВЫСШЕЕ             0   \n",
       "9          0   -2188.756445         41              среднее             1   \n",
       "10         2   -4171.483647         36               высшее             0   \n",
       "11         0    -792.701887         40              среднее             1   \n",
       "12         0            NaN         65              среднее             1   \n",
       "13         0   -1846.641941         54  неоконченное высшее             2   \n",
       "14         0   -1844.956182         56               высшее             0   \n",
       "15         1    -972.364419         26              среднее             1   \n",
       "16         0   -1719.934226         35              среднее             1   \n",
       "17         0   -2369.999720         33               высшее             0   \n",
       "18         0  400281.136913         53              среднее             1   \n",
       "19         0  -10038.818549         48              СРЕДНЕЕ             1   \n",
       "\n",
       "       family_status  family_status_id gender income_type  debt  \\\n",
       "0    женат / замужем                 0      F   сотрудник     0   \n",
       "1    женат / замужем                 0      F   сотрудник     0   \n",
       "2    женат / замужем                 0      M   сотрудник     0   \n",
       "3    женат / замужем                 0      M   сотрудник     0   \n",
       "4   гражданский брак                 1      F   пенсионер     0   \n",
       "5   гражданский брак                 1      M   компаньон     0   \n",
       "6    женат / замужем                 0      F   компаньон     0   \n",
       "7    женат / замужем                 0      M   сотрудник     0   \n",
       "8   гражданский брак                 1      F   сотрудник     0   \n",
       "9    женат / замужем                 0      M   сотрудник     0   \n",
       "10   женат / замужем                 0      M   компаньон     0   \n",
       "11   женат / замужем                 0      F   сотрудник     0   \n",
       "12  гражданский брак                 1      M   пенсионер     0   \n",
       "13   женат / замужем                 0      F   сотрудник     0   \n",
       "14  гражданский брак                 1      F   компаньон     1   \n",
       "15   женат / замужем                 0      F   сотрудник     0   \n",
       "16   женат / замужем                 0      F   сотрудник     0   \n",
       "17  гражданский брак                 1      M   сотрудник     0   \n",
       "18    вдовец / вдова                 2      F   пенсионер     0   \n",
       "19         в разводе                 3      F   сотрудник     0   \n",
       "\n",
       "     total_income                                 purpose  \n",
       "0   253875.639453                           покупка жилья  \n",
       "1   112080.014102                 приобретение автомобиля  \n",
       "2   145885.952297                           покупка жилья  \n",
       "3   267628.550329              дополнительное образование  \n",
       "4   158616.077870                         сыграть свадьбу  \n",
       "5   255763.565419                           покупка жилья  \n",
       "6   240525.971920                       операции с жильем  \n",
       "7   135823.934197                             образование  \n",
       "8    95856.832424                   на проведение свадьбы  \n",
       "9   144425.938277                 покупка жилья для семьи  \n",
       "10  113943.491460                    покупка недвижимости  \n",
       "11   77069.234271       покупка коммерческой недвижимости  \n",
       "12            NaN                         сыграть свадьбу  \n",
       "13  130458.228857                 приобретение автомобиля  \n",
       "14  165127.911772              покупка жилой недвижимости  \n",
       "15  116820.904450  строительство собственной недвижимости  \n",
       "16  289202.704229                            недвижимость  \n",
       "17   90410.586745              строительство недвижимости  \n",
       "18   56823.777243      на покупку подержанного автомобиля  \n",
       "19  242831.107982            на покупку своего автомобиля  "
      ]
     },
     "execution_count": 2,
     "metadata": {},
     "output_type": "execute_result"
    }
   ],
   "source": [
    "data.head(20)"
   ]
  },
  {
   "cell_type": "markdown",
   "id": "0ed8f27f",
   "metadata": {
    "deletable": false,
    "editable": false,
    "id": "0ed8f27f"
   },
   "source": [
    "**Задание 3. Выведите основную информацию о датафрейме с помощью метода `info()`.**"
   ]
  },
  {
   "cell_type": "code",
   "execution_count": 3,
   "id": "ab3f863b",
   "metadata": {
    "deletable": false,
    "id": "ab3f863b",
    "outputId": "15376089-8dad-46c9-b520-c05248d43158"
   },
   "outputs": [
    {
     "name": "stdout",
     "output_type": "stream",
     "text": [
      "<class 'pandas.core.frame.DataFrame'>\n",
      "RangeIndex: 21525 entries, 0 to 21524\n",
      "Data columns (total 12 columns):\n",
      " #   Column            Non-Null Count  Dtype  \n",
      "---  ------            --------------  -----  \n",
      " 0   children          21525 non-null  int64  \n",
      " 1   days_employed     19351 non-null  float64\n",
      " 2   dob_years         21525 non-null  int64  \n",
      " 3   education         21525 non-null  object \n",
      " 4   education_id      21525 non-null  int64  \n",
      " 5   family_status     21525 non-null  object \n",
      " 6   family_status_id  21525 non-null  int64  \n",
      " 7   gender            21525 non-null  object \n",
      " 8   income_type       21525 non-null  object \n",
      " 9   debt              21525 non-null  int64  \n",
      " 10  total_income      19351 non-null  float64\n",
      " 11  purpose           21525 non-null  object \n",
      "dtypes: float64(2), int64(5), object(5)\n",
      "memory usage: 2.0+ MB\n"
     ]
    }
   ],
   "source": [
    "data.info()"
   ]
  },
  {
   "cell_type": "markdown",
   "id": "60e3e22d",
   "metadata": {
    "deletable": false,
    "editable": false,
    "id": "60e3e22d"
   },
   "source": [
    "## Предобработка данных"
   ]
  },
  {
   "cell_type": "markdown",
   "id": "03dc170c",
   "metadata": {
    "deletable": false,
    "editable": false,
    "id": "03dc170c"
   },
   "source": [
    "### Удаление пропусков"
   ]
  },
  {
   "cell_type": "markdown",
   "id": "a4f54eef",
   "metadata": {
    "deletable": false,
    "editable": false,
    "id": "a4f54eef"
   },
   "source": [
    "**Задание 4. Выведите количество пропущенных значений для каждого столбца. Используйте комбинацию двух методов.**"
   ]
  },
  {
   "cell_type": "code",
   "execution_count": 4,
   "id": "2dc372b2",
   "metadata": {
    "deletable": false,
    "id": "2dc372b2",
    "outputId": "81f4d817-781c-465c-ed15-91ce4446810d"
   },
   "outputs": [
    {
     "data": {
      "text/plain": [
       "children               0\n",
       "days_employed       2174\n",
       "dob_years              0\n",
       "education              0\n",
       "education_id           0\n",
       "family_status          0\n",
       "family_status_id       0\n",
       "gender                 0\n",
       "income_type            0\n",
       "debt                   0\n",
       "total_income        2174\n",
       "purpose                0\n",
       "dtype: int64"
      ]
     },
     "execution_count": 4,
     "metadata": {},
     "output_type": "execute_result"
    }
   ],
   "source": [
    "data.isna().sum()"
   ]
  },
  {
   "cell_type": "markdown",
   "id": "14f011b1",
   "metadata": {
    "deletable": false,
    "editable": false,
    "id": "14f011b1"
   },
   "source": [
    "**Задание 5. В двух столбцах есть пропущенные значения. Один из них — `days_employed`. Пропуски в этом столбце вы обработаете на следующем этапе. Другой столбец с пропущенными значениями — `total_income` — хранит данные о доходах. На сумму дохода сильнее всего влияет тип занятости, поэтому заполнить пропуски в этом столбце нужно медианным значением по каждому типу из столбца `income_type`. Например, у человека с типом занятости `сотрудник` пропуск в столбце `total_income` должен быть заполнен медианным доходом среди всех записей с тем же типом.**"
   ]
  },
  {
   "cell_type": "code",
   "execution_count": 5,
   "id": "bdabfb6e",
   "metadata": {
    "deletable": false,
    "id": "bdabfb6e"
   },
   "outputs": [],
   "source": [
    "for t in data['income_type'].unique():\n",
    "    data.loc[(data['income_type'] == t) & (data['total_income'].isna()), 'total_income'] = \\\n",
    "    data.loc[(data['income_type'] == t), 'total_income'].median()"
   ]
  },
  {
   "cell_type": "markdown",
   "id": "5be34059",
   "metadata": {
    "deletable": false,
    "editable": false,
    "id": "5be34059"
   },
   "source": [
    "### Обработка аномальных значений"
   ]
  },
  {
   "cell_type": "markdown",
   "id": "a87606cb",
   "metadata": {
    "deletable": false,
    "editable": false,
    "id": "a87606cb"
   },
   "source": [
    "**Задание 6. В данных могут встречаться артефакты (аномалии) — значения, которые не отражают действительность и появились по какой-то ошибке. таким артефактом будет отрицательное количество дней трудового стажа в столбце `days_employed`. Для реальных данных это нормально. Обработайте значения в этом столбце: замените все отрицательные значения положительными с помощью метода `abs()`.**"
   ]
  },
  {
   "cell_type": "code",
   "execution_count": 6,
   "id": "020c46cc",
   "metadata": {
    "deletable": false,
    "id": "020c46cc"
   },
   "outputs": [],
   "source": [
    "data['days_employed'] = data['days_employed'].abs()"
   ]
  },
  {
   "cell_type": "markdown",
   "id": "45538a3a",
   "metadata": {
    "deletable": false,
    "editable": false,
    "id": "45538a3a"
   },
   "source": [
    "**Задание 7. Для каждого типа занятости выведите медианное значение трудового стажа `days_employed` в днях.**"
   ]
  },
  {
   "cell_type": "code",
   "execution_count": 7,
   "id": "cd3e6328",
   "metadata": {
    "deletable": false,
    "id": "cd3e6328",
    "outputId": "801ef80e-522b-4668-f34e-565af7432bcf"
   },
   "outputs": [
    {
     "data": {
      "text/plain": [
       "income_type\n",
       "безработный        366413.652744\n",
       "в декрете            3296.759962\n",
       "госслужащий          2689.368353\n",
       "компаньон            1547.382223\n",
       "пенсионер          365213.306266\n",
       "предприниматель       520.848083\n",
       "сотрудник            1574.202821\n",
       "студент               578.751554\n",
       "Name: days_employed, dtype: float64"
      ]
     },
     "execution_count": 7,
     "metadata": {},
     "output_type": "execute_result"
    }
   ],
   "source": [
    "data.groupby('income_type')['days_employed'].agg('median')"
   ]
  },
  {
   "cell_type": "markdown",
   "id": "90c5f058",
   "metadata": {
    "deletable": false,
    "editable": false,
    "id": "90c5f058"
   },
   "source": [
    "У двух типов (безработные и пенсионеры) получатся аномально большие значения. Исправить такие значения сложно, поэтому оставьте их как есть."
   ]
  },
  {
   "cell_type": "markdown",
   "id": "9652e50d",
   "metadata": {
    "deletable": false,
    "editable": false,
    "id": "9652e50d"
   },
   "source": [
    "**Задание 8. Выведите перечень уникальных значений столбца `children`.**"
   ]
  },
  {
   "cell_type": "code",
   "execution_count": 8,
   "id": "dbb37b8e",
   "metadata": {
    "deletable": false,
    "id": "dbb37b8e",
    "outputId": "6975b15c-7f95-4697-d16d-a0c79b657b03"
   },
   "outputs": [
    {
     "data": {
      "text/plain": [
       "array([ 1,  0,  3,  2, -1,  4, 20,  5])"
      ]
     },
     "execution_count": 8,
     "metadata": {},
     "output_type": "execute_result"
    }
   ],
   "source": [
    "data['children'].unique()"
   ]
  },
  {
   "cell_type": "markdown",
   "id": "2b8b0715",
   "metadata": {
    "deletable": false,
    "editable": false,
    "id": "2b8b0715"
   },
   "source": [
    "**Задание 9. В столбце `children` есть два аномальных значения. Удалите строки, в которых встречаются такие аномальные значения из датафрейма `data`.**"
   ]
  },
  {
   "cell_type": "code",
   "execution_count": 9,
   "id": "20009df8",
   "metadata": {
    "deletable": false,
    "id": "20009df8"
   },
   "outputs": [],
   "source": [
    "data = data[(data['children'] != -1) & (data['children'] != 20)]"
   ]
  },
  {
   "cell_type": "markdown",
   "id": "8c6ac9f1",
   "metadata": {
    "deletable": false,
    "editable": false,
    "id": "8c6ac9f1"
   },
   "source": [
    "**Задание 10. Ещё раз выведите перечень уникальных значений столбца `children`, чтобы убедиться, что артефакты удалены.**"
   ]
  },
  {
   "cell_type": "code",
   "execution_count": 10,
   "id": "07337b81",
   "metadata": {
    "deletable": false,
    "id": "07337b81",
    "outputId": "b2097101-d49d-44d9-901b-32a65c9463d1"
   },
   "outputs": [
    {
     "data": {
      "text/plain": [
       "array([1, 0, 3, 2, 4, 5])"
      ]
     },
     "execution_count": 10,
     "metadata": {},
     "output_type": "execute_result"
    }
   ],
   "source": [
    "data['children'].unique()"
   ]
  },
  {
   "cell_type": "markdown",
   "id": "ee3f52d4",
   "metadata": {
    "deletable": false,
    "editable": false,
    "id": "ee3f52d4"
   },
   "source": [
    "### Удаление пропусков (продолжение)"
   ]
  },
  {
   "cell_type": "markdown",
   "id": "a700b0e4",
   "metadata": {
    "deletable": false,
    "editable": false,
    "id": "a700b0e4"
   },
   "source": [
    "**Задание 11. Заполните пропуски в столбце `days_employed` медианными значениями по каждого типа занятости `income_type`.**"
   ]
  },
  {
   "cell_type": "code",
   "execution_count": 11,
   "id": "61946b83",
   "metadata": {
    "deletable": false,
    "id": "61946b83"
   },
   "outputs": [],
   "source": [
    "for t in data['income_type'].unique():\n",
    "    data.loc[(data['income_type'] == t) & (data['days_employed'].isna()), 'days_employed'] = \\\n",
    "    data.loc[(data['income_type'] == t), 'days_employed'].median()"
   ]
  },
  {
   "cell_type": "markdown",
   "id": "550dcd9b",
   "metadata": {
    "deletable": false,
    "editable": false,
    "id": "550dcd9b"
   },
   "source": [
    "**Задание 12. Убедитесь, что все пропуски заполнены. Проверьте себя и ещё раз выведите количество пропущенных значений для каждого столбца с помощью двух методов.**"
   ]
  },
  {
   "cell_type": "code",
   "execution_count": 12,
   "id": "937c7014",
   "metadata": {
    "deletable": false,
    "id": "937c7014",
    "outputId": "8da1e4e1-358e-4e87-98c9-f261bce0a7b2"
   },
   "outputs": [
    {
     "data": {
      "text/plain": [
       "children            0\n",
       "days_employed       0\n",
       "dob_years           0\n",
       "education           0\n",
       "education_id        0\n",
       "family_status       0\n",
       "family_status_id    0\n",
       "gender              0\n",
       "income_type         0\n",
       "debt                0\n",
       "total_income        0\n",
       "purpose             0\n",
       "dtype: int64"
      ]
     },
     "execution_count": 12,
     "metadata": {},
     "output_type": "execute_result"
    }
   ],
   "source": [
    "data.isna().sum()"
   ]
  },
  {
   "cell_type": "markdown",
   "id": "d522e295",
   "metadata": {
    "deletable": false,
    "editable": false,
    "id": "d522e295"
   },
   "source": [
    "### Изменение типов данных"
   ]
  },
  {
   "cell_type": "markdown",
   "id": "c229c581",
   "metadata": {
    "deletable": false,
    "editable": false,
    "id": "c229c581"
   },
   "source": [
    "**Задание 13. Замените вещественный тип данных в столбце `total_income` на целочисленный с помощью метода `astype()`.**"
   ]
  },
  {
   "cell_type": "code",
   "execution_count": 13,
   "id": "31036462",
   "metadata": {
    "deletable": false,
    "id": "31036462"
   },
   "outputs": [],
   "source": [
    "data['total_income'] = data['total_income'].astype(int)"
   ]
  },
  {
   "cell_type": "markdown",
   "id": "b8e3d1d9",
   "metadata": {
    "deletable": false,
    "editable": false,
    "id": "b8e3d1d9"
   },
   "source": [
    "### Обработка дубликатов"
   ]
  },
  {
   "cell_type": "markdown",
   "id": "9be53c49",
   "metadata": {
    "deletable": false,
    "editable": false,
    "id": "9be53c49"
   },
   "source": [
    "**Задание 14. Обработайте неявные дубликаты в столбце `education`. В этом столбце есть одни и те же значения, но записанные по-разному: с использованием заглавных и строчных букв. Приведите их к нижнему регистру.**"
   ]
  },
  {
   "cell_type": "code",
   "execution_count": 14,
   "id": "d89e73e1",
   "metadata": {
    "deletable": false,
    "id": "d89e73e1"
   },
   "outputs": [],
   "source": [
    "data['education'] = data['education'].str.lower()"
   ]
  },
  {
   "cell_type": "markdown",
   "id": "01d4500e",
   "metadata": {
    "deletable": false,
    "editable": false,
    "id": "01d4500e"
   },
   "source": [
    "**Задание 15. Выведите на экран количество строк-дубликатов в данных. Если такие строки присутствуют, удалите их.**"
   ]
  },
  {
   "cell_type": "code",
   "execution_count": 15,
   "id": "e10efb23",
   "metadata": {
    "deletable": false,
    "id": "e10efb23",
    "outputId": "9684deba-1934-42d1-99e1-cda61740f822"
   },
   "outputs": [
    {
     "data": {
      "text/plain": [
       "71"
      ]
     },
     "execution_count": 15,
     "metadata": {},
     "output_type": "execute_result"
    }
   ],
   "source": [
    "data.duplicated().sum()"
   ]
  },
  {
   "cell_type": "code",
   "execution_count": 16,
   "id": "df853f20",
   "metadata": {
    "deletable": false,
    "id": "df853f20"
   },
   "outputs": [],
   "source": [
    "data = data.drop_duplicates()"
   ]
  },
  {
   "cell_type": "markdown",
   "id": "627be38f",
   "metadata": {
    "deletable": false,
    "editable": false,
    "id": "627be38f"
   },
   "source": [
    "### Категоризация данных"
   ]
  },
  {
   "cell_type": "markdown",
   "id": "4684c3e0",
   "metadata": {
    "deletable": false,
    "editable": false,
    "id": "4684c3e0"
   },
   "source": [
    "**Задание 16. На основании диапазонов, указанных ниже, создайте в датафрейме `data` столбец `total_income_category` с категориями:**\n",
    "\n",
    "- 0–30000 — `'E'`;\n",
    "- 30001–50000 — `'D'`;\n",
    "- 50001–200000 — `'C'`;\n",
    "- 200001–1000000 — `'B'`;\n",
    "- 1000001 и выше — `'A'`.\n",
    "\n",
    "\n",
    "**Например, кредитополучателю с доходом 25000 нужно назначить категорию `'E'`, а клиенту, получающему 235000, — `'B'`. Используйте собственную функцию с именем `categorize_income()` и метод `apply()`.**"
   ]
  },
  {
   "cell_type": "code",
   "execution_count": 17,
   "id": "78965238",
   "metadata": {
    "deletable": false,
    "id": "78965238"
   },
   "outputs": [],
   "source": [
    "def categorize_income(income):\n",
    "    try:\n",
    "        if 0 <= income <= 30000:\n",
    "            return 'E'\n",
    "        elif 30001 <= income <= 50000:\n",
    "            return 'D'\n",
    "        elif 50001 <= income <= 200000:\n",
    "            return 'C'\n",
    "        elif 200001 <= income <= 1000000:\n",
    "            return 'B'\n",
    "        elif income >= 1000001:\n",
    "            return 'A'\n",
    "    except:\n",
    "        pass"
   ]
  },
  {
   "cell_type": "code",
   "execution_count": 18,
   "id": "0980ada1",
   "metadata": {
    "deletable": false,
    "id": "0980ada1"
   },
   "outputs": [],
   "source": [
    "data['total_income_category'] = data['total_income'].apply(categorize_income)"
   ]
  },
  {
   "cell_type": "markdown",
   "id": "9917bba0",
   "metadata": {
    "deletable": false,
    "editable": false,
    "id": "9917bba0"
   },
   "source": [
    "**Задание 17. Выведите на экран перечень уникальных целей взятия кредита из столбца `purpose`.**"
   ]
  },
  {
   "cell_type": "code",
   "execution_count": 19,
   "id": "ee07b65e",
   "metadata": {
    "deletable": false,
    "id": "ee07b65e",
    "outputId": "673c12d9-7d7e-4ae0-9812-c622c89dd244"
   },
   "outputs": [
    {
     "data": {
      "text/plain": [
       "array(['покупка жилья', 'приобретение автомобиля',\n",
       "       'дополнительное образование', 'сыграть свадьбу',\n",
       "       'операции с жильем', 'образование', 'на проведение свадьбы',\n",
       "       'покупка жилья для семьи', 'покупка недвижимости',\n",
       "       'покупка коммерческой недвижимости', 'покупка жилой недвижимости',\n",
       "       'строительство собственной недвижимости', 'недвижимость',\n",
       "       'строительство недвижимости', 'на покупку подержанного автомобиля',\n",
       "       'на покупку своего автомобиля',\n",
       "       'операции с коммерческой недвижимостью',\n",
       "       'строительство жилой недвижимости', 'жилье',\n",
       "       'операции со своей недвижимостью', 'автомобили',\n",
       "       'заняться образованием', 'сделка с подержанным автомобилем',\n",
       "       'получение образования', 'автомобиль', 'свадьба',\n",
       "       'получение дополнительного образования', 'покупка своего жилья',\n",
       "       'операции с недвижимостью', 'получение высшего образования',\n",
       "       'свой автомобиль', 'сделка с автомобилем',\n",
       "       'профильное образование', 'высшее образование',\n",
       "       'покупка жилья для сдачи', 'на покупку автомобиля', 'ремонт жилью',\n",
       "       'заняться высшим образованием'], dtype=object)"
      ]
     },
     "execution_count": 19,
     "metadata": {},
     "output_type": "execute_result"
    }
   ],
   "source": [
    "data['purpose'].unique()"
   ]
  },
  {
   "cell_type": "markdown",
   "id": "52b79d56",
   "metadata": {
    "deletable": false,
    "editable": false,
    "id": "52b79d56"
   },
   "source": [
    "**Задание 18. Создайте функцию, которая на основании данных из столбца `purpose` сформирует новый столбец `purpose_category`, в который войдут следующие категории:**\n",
    "\n",
    "- `'операции с автомобилем'`,\n",
    "- `'операции с недвижимостью'`,\n",
    "- `'проведение свадьбы'`,\n",
    "- `'получение образования'`.\n",
    "\n",
    "**Например, если в столбце `purpose` находится подстрока `'на покупку автомобиля'`, то в столбце `purpose_category` должна появиться строка `'операции с автомобилем'`.**\n",
    "\n",
    "**Используйте собственную функцию с именем `categorize_purpose()` и метод `apply()`. Изучите данные в столбце `purpose` и определите, какие подстроки помогут вам правильно определить категорию.**"
   ]
  },
  {
   "cell_type": "code",
   "execution_count": 20,
   "id": "be41da5d",
   "metadata": {
    "deletable": false,
    "id": "be41da5d"
   },
   "outputs": [],
   "source": [
    "def categorize_purpose(row):\n",
    "    try:\n",
    "        if 'автом' in row:\n",
    "            return 'операции с автомобилем'\n",
    "        elif 'жил' in row or 'недвиж' in row:\n",
    "            return 'операции с недвижимостью'\n",
    "        elif 'свад' in row:\n",
    "            return 'проведение свадьбы'\n",
    "        elif 'образов' in row:\n",
    "            return 'получение образования'\n",
    "    except:\n",
    "        return 'нет категории'"
   ]
  },
  {
   "cell_type": "code",
   "execution_count": 21,
   "id": "94c4a19a",
   "metadata": {
    "deletable": false,
    "id": "94c4a19a"
   },
   "outputs": [],
   "source": [
    "data['purpose_category'] = data['purpose'].apply(categorize_purpose)"
   ]
  },
  {
   "cell_type": "markdown",
   "id": "3d596c34",
   "metadata": {
    "deletable": false,
    "editable": false,
    "id": "3d596c34"
   },
   "source": [
    "### Шаг 3. Исследуйте данные и ответьте на вопросы"
   ]
  },
  {
   "cell_type": "markdown",
   "id": "39f60492",
   "metadata": {},
   "source": [
    " <div class=\"alert alert-success\">\n",
    "<h3> Комментарий ревьюера ✔️<a class=\"tocSkip\"> </h3>\n",
    "\n",
    "Чтобы не приходилось несколько раз выполнять одну и ту же операцию, можно автоматизировать процесс вывода сводных таблиц с помощью пользовательской функции. Например, такой:\n",
    "\n",
    " ```py\n",
    "def p_table_create(category):\n",
    "  table = data.groupby(category)['debt'].agg(['count', 'sum', 'mean'])\\\n",
    "    .sort_values(by = 'mean', ascending = False)  \n",
    "  table['mean'] = table['mean'].apply(lambda x: \"{0:.2%}\".format(x))\n",
    "  return table\n",
    "```\n",
    "    \n",
    "</div>"
   ]
  },
  {
   "cell_type": "markdown",
   "id": "648db036",
   "metadata": {
    "deletable": false,
    "editable": false,
    "id": "648db036"
   },
   "source": [
    "#### 3.1 Есть ли зависимость между количеством детей и возвратом кредита в срок?"
   ]
  },
  {
   "cell_type": "markdown",
   "id": "b57dc6e2",
   "metadata": {},
   "source": [
    "#### Для этого сопоставим людей с детьми, с людьми у которых детей нет, и сравним кто возвращает кредиты быстрее."
   ]
  },
  {
   "cell_type": "code",
   "execution_count": 57,
   "id": "7fcff25e",
   "metadata": {
    "deletable": false,
    "id": "7fcff25e"
   },
   "outputs": [],
   "source": [
    "pivot_table_c = data.pivot_table(index='children', columns='debt', values='total_income', aggfunc='count') # создаём сводную таблицу\n",
    "\n",
    "pivot_table_c.columns = ['in_time', 'not_in_time'] # переименовываем колонки для удобства\n",
    "\n",
    "pivot_table_c = pivot_table_c.fillna(0) #заполним NaN нулями(если есть NaN)"
   ]
  },
  {
   "cell_type": "code",
   "execution_count": 55,
   "id": "c87f9c84",
   "metadata": {},
   "outputs": [
    {
     "data": {
      "text/html": [
       "<div>\n",
       "<style scoped>\n",
       "    .dataframe tbody tr th:only-of-type {\n",
       "        vertical-align: middle;\n",
       "    }\n",
       "\n",
       "    .dataframe tbody tr th {\n",
       "        vertical-align: top;\n",
       "    }\n",
       "\n",
       "    .dataframe thead th {\n",
       "        text-align: right;\n",
       "    }\n",
       "</style>\n",
       "<table border=\"1\" class=\"dataframe\">\n",
       "  <thead>\n",
       "    <tr style=\"text-align: right;\">\n",
       "      <th></th>\n",
       "      <th>total_loans</th>\n",
       "      <th>in_time</th>\n",
       "      <th>not_in_time</th>\n",
       "      <th>percent_in_time</th>\n",
       "    </tr>\n",
       "    <tr>\n",
       "      <th>children</th>\n",
       "      <th></th>\n",
       "      <th></th>\n",
       "      <th></th>\n",
       "      <th></th>\n",
       "    </tr>\n",
       "  </thead>\n",
       "  <tbody>\n",
       "    <tr>\n",
       "      <th>0</th>\n",
       "      <td>14091.0</td>\n",
       "      <td>13028.0</td>\n",
       "      <td>1063.0</td>\n",
       "      <td>92.456178</td>\n",
       "    </tr>\n",
       "    <tr>\n",
       "      <th>1</th>\n",
       "      <td>4808.0</td>\n",
       "      <td>4364.0</td>\n",
       "      <td>444.0</td>\n",
       "      <td>90.765391</td>\n",
       "    </tr>\n",
       "    <tr>\n",
       "      <th>2</th>\n",
       "      <td>2052.0</td>\n",
       "      <td>1858.0</td>\n",
       "      <td>194.0</td>\n",
       "      <td>90.545809</td>\n",
       "    </tr>\n",
       "    <tr>\n",
       "      <th>3</th>\n",
       "      <td>330.0</td>\n",
       "      <td>303.0</td>\n",
       "      <td>27.0</td>\n",
       "      <td>91.818182</td>\n",
       "    </tr>\n",
       "    <tr>\n",
       "      <th>4</th>\n",
       "      <td>41.0</td>\n",
       "      <td>37.0</td>\n",
       "      <td>4.0</td>\n",
       "      <td>90.243902</td>\n",
       "    </tr>\n",
       "    <tr>\n",
       "      <th>5</th>\n",
       "      <td>9.0</td>\n",
       "      <td>9.0</td>\n",
       "      <td>0.0</td>\n",
       "      <td>100.000000</td>\n",
       "    </tr>\n",
       "  </tbody>\n",
       "</table>\n",
       "</div>"
      ],
      "text/plain": [
       "          total_loans  in_time  not_in_time  percent_in_time\n",
       "children                                                    \n",
       "0             14091.0  13028.0       1063.0        92.456178\n",
       "1              4808.0   4364.0        444.0        90.765391\n",
       "2              2052.0   1858.0        194.0        90.545809\n",
       "3               330.0    303.0         27.0        91.818182\n",
       "4                41.0     37.0          4.0        90.243902\n",
       "5                 9.0      9.0          0.0       100.000000"
      ]
     },
     "execution_count": 55,
     "metadata": {},
     "output_type": "execute_result"
    }
   ],
   "source": [
    "total_people_loans = pivot_table_c['in_time'] + pivot_table_c['not_in_time'] # считаем общее число кредитов\n",
    "\n",
    "pivot_table_c.insert(0, 'total_loans', total_people_debts) # добавим колонку с общим числом займов\n",
    "\n",
    "pivot_table_c['percent_in_time'] = (pivot_table_c['in_time'] / total_people_debts) * 100 # считаем процент тех людeй, кто возвращает кредит в срок и добавляем столбец в таблицу \n",
    "\n",
    "pivot_table_c # выводим результат на экран"
   ]
  },
  {
   "cell_type": "markdown",
   "id": "f2ae50e8",
   "metadata": {},
   "source": [
    "### Вычислим средний процент возвращенных во время кредитов, отбросив людей без детей и с 5-ю детьми, так как у людей с 5-ю детьми всего 9 кредитов и у нас отсутствовали данные о просрочках, что может также означать что просрочки имеются, но по каким-то причинам отсутствуют, что может повлиять на все вычисления целиком.\n"
   ]
  },
  {
   "cell_type": "code",
   "execution_count": 24,
   "id": "3bb8bcf6",
   "metadata": {},
   "outputs": [
    {
     "name": "stdout",
     "output_type": "stream",
     "text": [
      "Люди с детьми, в среднем, возвращают в срок 90.84% кредитов\n"
     ]
    }
   ],
   "source": [
    "filtered_pivot_table_с = pivot_table_c.loc[1:4] # отфильтруем значения людей с детьми, и людей с 5-ю детьми\n",
    "\n",
    "with_children_avg = filtered_pivot_table_с['percent_in_time'].mean() # средний процент возвращенных в срок кредитов, людьми с детьми\n",
    "\n",
    "print(f\"Люди с детьми, в среднем, возвращают в срок {round(with_children_avg, 2)}% кредитов\") # выводим результат на экран"
   ]
  },
  {
   "cell_type": "code",
   "execution_count": 25,
   "id": "baa80195",
   "metadata": {},
   "outputs": [
    {
     "name": "stdout",
     "output_type": "stream",
     "text": [
      "Люди с детьми возвращают кредиты в срок на 1.6% реже, чем без детей\n"
     ]
    }
   ],
   "source": [
    "relation = pivot_table_c.loc[0, 'percent_in_time'] - with_children_avg # разница между людьми без детей и с детьми, возвращающими кредит в срок.\n",
    "\n",
    "print(f\"Люди с детьми возвращают кредиты в срок на {round(relation, 1)}% реже, чем без детей\") # выводим результат на экран"
   ]
  },
  {
   "cell_type": "markdown",
   "id": "2eb9088e",
   "metadata": {
    "deletable": false,
    "id": "2eb9088e"
   },
   "source": [
    "**Вывод:** Исходя из получившейся сводной таблицы, а также исходя из подсчетов, видно что в среднем, люди с детьми выплачивают кредиты в срок на **1.6%** **реже** чем без детей, что отвечает на вопрос, поставленный в задаче(зависимость есть). Рекомендуется провести дополнительное исследование для определения значимости данной информации при формировании скоринговой системы.\n"
   ]
  },
  {
   "cell_type": "markdown",
   "id": "16779898",
   "metadata": {},
   "source": [
    " <div class=\"alert alert-success\">\n",
    "<h3> Комментарий ревьюера ✔️<a class=\"tocSkip\"> </h3>\n",
    "\n",
    "У тебя получилась отличная сводная таблица со всеми необходимыми данными.\n",
    "\n",
    " Вывод верный. Здорово, что обращаешь внимание на размеры категорий клиентов. Так можно быть уверенным, что выводы объективны\n",
    "\n",
    " Можно также сделать расчёты с помощью нескольких функций по одному или нескольким столбцам.\n",
    "    \n",
    "Примеры:\n",
    "    \n",
    "* data.groupby('column1')['column2'].agg(['count', 'mean', 'sum'])\n",
    "    \n",
    "* data.groupby('column1').agg({'column1' : 'count', 'column2' : 'mean'})\n",
    "    \n",
    "* data.pivot_table(index = 'column1' , values = 'column2', aggfunc=['count', 'mean', 'sum'])\n",
    "</div>"
   ]
  },
  {
   "cell_type": "markdown",
   "id": "74c9b3a7",
   "metadata": {
    "deletable": false,
    "editable": false,
    "id": "74c9b3a7"
   },
   "source": [
    "#### 3.2 Есть ли зависимость между семейным положением и возвратом кредита в срок?"
   ]
  },
  {
   "cell_type": "markdown",
   "id": "21c33112",
   "metadata": {},
   "source": [
    "#### Для этого создадим сводную таблицу, и сопоставим разные семейные статусы с \"контрольной группой\", "
   ]
  },
  {
   "cell_type": "code",
   "execution_count": 46,
   "id": "8098ab3b",
   "metadata": {
    "deletable": false,
    "id": "8098ab3b"
   },
   "outputs": [
    {
     "data": {
      "text/html": [
       "<div>\n",
       "<style scoped>\n",
       "    .dataframe tbody tr th:only-of-type {\n",
       "        vertical-align: middle;\n",
       "    }\n",
       "\n",
       "    .dataframe tbody tr th {\n",
       "        vertical-align: top;\n",
       "    }\n",
       "\n",
       "    .dataframe thead th {\n",
       "        text-align: right;\n",
       "    }\n",
       "</style>\n",
       "<table border=\"1\" class=\"dataframe\">\n",
       "  <thead>\n",
       "    <tr style=\"text-align: right;\">\n",
       "      <th></th>\n",
       "      <th>total_loans</th>\n",
       "      <th>in_time</th>\n",
       "      <th>not_in_time</th>\n",
       "    </tr>\n",
       "    <tr>\n",
       "      <th>family_status</th>\n",
       "      <th></th>\n",
       "      <th></th>\n",
       "      <th></th>\n",
       "    </tr>\n",
       "  </thead>\n",
       "  <tbody>\n",
       "    <tr>\n",
       "      <th>женат / замужем</th>\n",
       "      <td>12261</td>\n",
       "      <td>11334</td>\n",
       "      <td>927</td>\n",
       "    </tr>\n",
       "    <tr>\n",
       "      <th>гражданский брак</th>\n",
       "      <td>4134</td>\n",
       "      <td>3749</td>\n",
       "      <td>385</td>\n",
       "    </tr>\n",
       "    <tr>\n",
       "      <th>Не женат / не замужем</th>\n",
       "      <td>2796</td>\n",
       "      <td>2523</td>\n",
       "      <td>273</td>\n",
       "    </tr>\n",
       "    <tr>\n",
       "      <th>в разводе</th>\n",
       "      <td>1189</td>\n",
       "      <td>1105</td>\n",
       "      <td>84</td>\n",
       "    </tr>\n",
       "    <tr>\n",
       "      <th>вдовец / вдова</th>\n",
       "      <td>951</td>\n",
       "      <td>888</td>\n",
       "      <td>63</td>\n",
       "    </tr>\n",
       "  </tbody>\n",
       "</table>\n",
       "</div>"
      ],
      "text/plain": [
       "                       total_loans  in_time  not_in_time\n",
       "family_status                                           \n",
       "женат / замужем              12261    11334          927\n",
       "гражданский брак              4134     3749          385\n",
       "Не женат / не замужем         2796     2523          273\n",
       "в разводе                     1189     1105           84\n",
       "вдовец / вдова                 951      888           63"
      ]
     },
     "execution_count": 46,
     "metadata": {},
     "output_type": "execute_result"
    }
   ],
   "source": [
    "pivot_table_family = data.pivot_table(index='family_status', columns='debt', values='total_income', aggfunc='count') # создаём сводную таблицу\n",
    "\n",
    "pivot_table_family.columns = ['in_time', 'not_in_time'] # переименовываем колонки для удобства\n",
    "pivot_table_family = pivot_table_family.sort_values(by='in_time', ascending=False) # сортируем значения по убыванию для удобства и сохраняем получившуюся таблицу\n",
    "\n",
    "total_loans_family = pivot_table_family['in_time'] + pivot_table_family['not_in_time'] # сохраняем общее число займов.\n",
    "pivot_table_family.insert(0, 'total_loans', total_loans) # вставим колонку с общим кол-вом займов вначало таблицы \n",
    "\n",
    "pivot_table_family # выводим таблицу на экран"
   ]
  },
  {
   "cell_type": "code",
   "execution_count": 48,
   "id": "5a7d69d9",
   "metadata": {},
   "outputs": [
    {
     "data": {
      "text/html": [
       "<div>\n",
       "<style scoped>\n",
       "    .dataframe tbody tr th:only-of-type {\n",
       "        vertical-align: middle;\n",
       "    }\n",
       "\n",
       "    .dataframe tbody tr th {\n",
       "        vertical-align: top;\n",
       "    }\n",
       "\n",
       "    .dataframe thead th {\n",
       "        text-align: right;\n",
       "    }\n",
       "</style>\n",
       "<table border=\"1\" class=\"dataframe\">\n",
       "  <thead>\n",
       "    <tr style=\"text-align: right;\">\n",
       "      <th></th>\n",
       "      <th>total_loans</th>\n",
       "      <th>in_time</th>\n",
       "      <th>not_in_time</th>\n",
       "      <th>percent_in_time</th>\n",
       "    </tr>\n",
       "    <tr>\n",
       "      <th>family_status</th>\n",
       "      <th></th>\n",
       "      <th></th>\n",
       "      <th></th>\n",
       "      <th></th>\n",
       "    </tr>\n",
       "  </thead>\n",
       "  <tbody>\n",
       "    <tr>\n",
       "      <th>Не женат / не замужем</th>\n",
       "      <td>2796</td>\n",
       "      <td>2523</td>\n",
       "      <td>273</td>\n",
       "      <td>90.236052</td>\n",
       "    </tr>\n",
       "    <tr>\n",
       "      <th>гражданский брак</th>\n",
       "      <td>4134</td>\n",
       "      <td>3749</td>\n",
       "      <td>385</td>\n",
       "      <td>90.686986</td>\n",
       "    </tr>\n",
       "    <tr>\n",
       "      <th>женат / замужем</th>\n",
       "      <td>12261</td>\n",
       "      <td>11334</td>\n",
       "      <td>927</td>\n",
       "      <td>92.439442</td>\n",
       "    </tr>\n",
       "    <tr>\n",
       "      <th>в разводе</th>\n",
       "      <td>1189</td>\n",
       "      <td>1105</td>\n",
       "      <td>84</td>\n",
       "      <td>92.935240</td>\n",
       "    </tr>\n",
       "    <tr>\n",
       "      <th>вдовец / вдова</th>\n",
       "      <td>951</td>\n",
       "      <td>888</td>\n",
       "      <td>63</td>\n",
       "      <td>93.375394</td>\n",
       "    </tr>\n",
       "  </tbody>\n",
       "</table>\n",
       "</div>"
      ],
      "text/plain": [
       "                       total_loans  in_time  not_in_time  percent_in_time\n",
       "family_status                                                            \n",
       "Не женат / не замужем         2796     2523          273        90.236052\n",
       "гражданский брак              4134     3749          385        90.686986\n",
       "женат / замужем              12261    11334          927        92.439442\n",
       "в разводе                     1189     1105           84        92.935240\n",
       "вдовец / вдова                 951      888           63        93.375394"
      ]
     },
     "execution_count": 48,
     "metadata": {},
     "output_type": "execute_result"
    }
   ],
   "source": [
    "pivot_table_family['percent_in_time'] = pivot_table_family['in_time'] / total_loans_family * 100 # считаем процент возвращенных в срок кредитов\n",
    "pivot_table_family = pivot_table_family.sort_values(by='percent_in_time', ascending=True) # сортируем значения по проценту возврата кредита в срок, по возрастанию\n",
    "\n",
    "pivot_table_family # выводим результат на экран D"
   ]
  },
  {
   "cell_type": "markdown",
   "id": "13c5d884",
   "metadata": {},
   "source": [
    "#### Здесь предлагаем сравнить разные группы между собой, для более наглядного представления."
   ]
  },
  {
   "cell_type": "code",
   "execution_count": 49,
   "id": "a30cc1b4",
   "metadata": {},
   "outputs": [
    {
     "name": "stdout",
     "output_type": "stream",
     "text": [
      "Люди состоящие или бывшие в браке, в среднем, возвращают кредиты в срок 92.36% случаев\n"
     ]
    }
   ],
   "source": [
    "# посчитаем средний процент возвращенных кредитов в группах. Сравним людей, которые никогда не вступали в брак, со всеми остальными. \n",
    "f\n",
    "iltered_family_table = pivot_table_family[1:5] # отфильтруем таблицу, включив в неё людей кто состоит в браке или когда-то в нём состоял.\n",
    "\n",
    "avg_family_percent = filtered_family_table['percent_in_time'].mean() # вычисляем среднее значение возвращенных в срок кредитов среди людей состоящих или бывших в браке.\n",
    "\n",
    "print(f\"Люди состоящие или бывшие в браке, в среднем, возвращают кредиты в срок {round(avg_family_percent, 2)}% случаев\") # выводит результат на экран"
   ]
  },
  {
   "cell_type": "markdown",
   "id": "015572c2",
   "metadata": {},
   "source": [
    "#### Как мы можем видеть по расчетам, люди, состоящие или бывшие в браке, в среднем, возвращают кредиты в срок 92.36% случаев"
   ]
  },
  {
   "cell_type": "markdown",
   "id": "009667f7",
   "metadata": {},
   "source": [
    "<div class=\"alert alert-warning\">\n",
    "    <h3> Комментарий ревьюера ⚠️<a class=\"tocSkip\"> </h3>\n",
    "\n",
    "Все выводы и мысли по проекту принято выносить в ячейки маркдаун. Комментарии в ячейках с кодом предназначены для описания работы именно кода.\n",
    "\n",
    "</div>"
   ]
  },
  {
   "cell_type": "code",
   "execution_count": 50,
   "id": "c541c45e",
   "metadata": {},
   "outputs": [
    {
     "name": "stdout",
     "output_type": "stream",
     "text": [
      "Люди никода не состоящие в браке, возвращают кредиты в срок реже на 2.12%, чем в среднем , люди, состоящие или бывшие в браке\n"
     ]
    }
   ],
   "source": [
    "family_status_relation = avg_family_percent - pivot_table_family.loc['Не женат / не замужем', 'percent_in_time'] # вычислим разницу между между людьми состоявшими в браке и не никогда не состоявших в браке.\n",
    "\n",
    "print(f\"Люди никода не состоящие в браке, возвращают кредиты в срок реже на {round(family_status_relation, 2)}%, чем в среднем , люди, состоящие или бывшие в браке\") # выведем результат на экран"
   ]
  },
  {
   "cell_type": "markdown",
   "id": "c389ca63",
   "metadata": {
    "deletable": false,
    "id": "c389ca63"
   },
   "source": [
    "**Вывод:** Исходя из представленных расчетов, зависимость между семейным положением и возвратом кредита в срок существует, и в нашем случае, люди никода не состоящие в браке, возвращают кредиты в срок реже на **2.12%**, чем в среднем , люди, состоящие или бывшие в браке. "
   ]
  },
  {
   "cell_type": "markdown",
   "id": "bbbb0c84",
   "metadata": {},
   "source": [
    "<div class=\"alert alert-success\">\n",
    "<h3> Комментарий ревьюера ✔️<a class=\"tocSkip\"> </h3>\n",
    "\n",
    " С выводом согласен, тебе верно удалось определить главный признак, по которому можно разделить все группы на 2 категории. 👍\n",
    "    \n",
    " Если захочешь округлить значения столбца до нужного количества знаков после запятой, можно воспользоваться функций .round().\n",
    "</div>"
   ]
  },
  {
   "cell_type": "markdown",
   "id": "9529de68",
   "metadata": {
    "deletable": false,
    "editable": false,
    "id": "9529de68"
   },
   "source": [
    "#### 3.3 Есть ли зависимость между уровнем дохода и возвратом кредита в срок?"
   ]
  },
  {
   "cell_type": "code",
   "execution_count": 54,
   "id": "8787f44a",
   "metadata": {
    "deletable": false,
    "id": "8787f44a"
   },
   "outputs": [
    {
     "data": {
      "text/html": [
       "<div>\n",
       "<style scoped>\n",
       "    .dataframe tbody tr th:only-of-type {\n",
       "        vertical-align: middle;\n",
       "    }\n",
       "\n",
       "    .dataframe tbody tr th {\n",
       "        vertical-align: top;\n",
       "    }\n",
       "\n",
       "    .dataframe thead th {\n",
       "        text-align: right;\n",
       "    }\n",
       "</style>\n",
       "<table border=\"1\" class=\"dataframe\">\n",
       "  <thead>\n",
       "    <tr style=\"text-align: right;\">\n",
       "      <th></th>\n",
       "      <th>total_loans</th>\n",
       "      <th>in_time</th>\n",
       "      <th>not_in_time</th>\n",
       "      <th>median_salary</th>\n",
       "    </tr>\n",
       "    <tr>\n",
       "      <th>total_income_category</th>\n",
       "      <th></th>\n",
       "      <th></th>\n",
       "      <th></th>\n",
       "      <th></th>\n",
       "    </tr>\n",
       "  </thead>\n",
       "  <tbody>\n",
       "    <tr>\n",
       "      <th>A</th>\n",
       "      <td>25</td>\n",
       "      <td>23</td>\n",
       "      <td>2</td>\n",
       "      <td>1223042</td>\n",
       "    </tr>\n",
       "    <tr>\n",
       "      <th>B</th>\n",
       "      <td>5014</td>\n",
       "      <td>4660</td>\n",
       "      <td>354</td>\n",
       "      <td>257558</td>\n",
       "    </tr>\n",
       "    <tr>\n",
       "      <th>C</th>\n",
       "      <td>15921</td>\n",
       "      <td>14568</td>\n",
       "      <td>1353</td>\n",
       "      <td>130355</td>\n",
       "    </tr>\n",
       "    <tr>\n",
       "      <th>D</th>\n",
       "      <td>349</td>\n",
       "      <td>328</td>\n",
       "      <td>21</td>\n",
       "      <td>43929</td>\n",
       "    </tr>\n",
       "    <tr>\n",
       "      <th>E</th>\n",
       "      <td>22</td>\n",
       "      <td>20</td>\n",
       "      <td>2</td>\n",
       "      <td>26431</td>\n",
       "    </tr>\n",
       "  </tbody>\n",
       "</table>\n",
       "</div>"
      ],
      "text/plain": [
       "                       total_loans  in_time  not_in_time  median_salary\n",
       "total_income_category                                                  \n",
       "A                               25       23            2        1223042\n",
       "B                             5014     4660          354         257558\n",
       "C                            15921    14568         1353         130355\n",
       "D                              349      328           21          43929\n",
       "E                               22       20            2          26431"
      ]
     },
     "execution_count": 54,
     "metadata": {},
     "output_type": "execute_result"
    }
   ],
   "source": [
    "pivot_table_income = data.pivot_table(index='total_income_category', columns='debt', values='total_income', aggfunc='count') # составим сводную таблицу\n",
    "\n",
    "pivot_table_income.columns = [\"in_time\", \"not_in_time\"] # переименуем колонки для удобства\n",
    "pivot_table_income['median_salary'] = data.groupby('total_income_category')['total_income'].median() # добавим столбец, сгруппированый по группе дохода, с рассчитаным медианным уровнем дохода\n",
    "\n",
    "total_loans_income = pivot_table_income['in_time'] + pivot_table_income['not_in_time'] # сохраним общее число займов\n",
    "pivot_table_income.insert(0, 'total_loans', total_loans_income) # вcтавим общее кол-во займов вначало таблицы\n",
    "\n",
    "pivot_table_income # выведем результат на экран"
   ]
  },
  {
   "cell_type": "markdown",
   "id": "f308afd3",
   "metadata": {},
   "source": [
    "#### Мы вычислили медианное значение дохода для каждой группы дохода. Теперь мы можем оценить зависимость от уровня дохода и возвратом кредита в срок. Для этого расситаем процент возвращенных кредитов в срок и сделаем соответствующие выводы."
   ]
  },
  {
   "cell_type": "code",
   "execution_count": 77,
   "id": "d5c131ba",
   "metadata": {},
   "outputs": [
    {
     "data": {
      "text/html": [
       "<div>\n",
       "<style scoped>\n",
       "    .dataframe tbody tr th:only-of-type {\n",
       "        vertical-align: middle;\n",
       "    }\n",
       "\n",
       "    .dataframe tbody tr th {\n",
       "        vertical-align: top;\n",
       "    }\n",
       "\n",
       "    .dataframe thead th {\n",
       "        text-align: right;\n",
       "    }\n",
       "</style>\n",
       "<table border=\"1\" class=\"dataframe\">\n",
       "  <thead>\n",
       "    <tr style=\"text-align: right;\">\n",
       "      <th></th>\n",
       "      <th>total_loans</th>\n",
       "      <th>in_time</th>\n",
       "      <th>not_in_time</th>\n",
       "      <th>median_salary</th>\n",
       "      <th>percent_in_time</th>\n",
       "      <th>percent_not_in_time</th>\n",
       "      <th>loan_share_percent</th>\n",
       "    </tr>\n",
       "    <tr>\n",
       "      <th>total_income_category</th>\n",
       "      <th></th>\n",
       "      <th></th>\n",
       "      <th></th>\n",
       "      <th></th>\n",
       "      <th></th>\n",
       "      <th></th>\n",
       "      <th></th>\n",
       "    </tr>\n",
       "  </thead>\n",
       "  <tbody>\n",
       "    <tr>\n",
       "      <th>A</th>\n",
       "      <td>25</td>\n",
       "      <td>23</td>\n",
       "      <td>2</td>\n",
       "      <td>1223042</td>\n",
       "      <td>92.000000</td>\n",
       "      <td>8.000000</td>\n",
       "      <td>0.12</td>\n",
       "    </tr>\n",
       "    <tr>\n",
       "      <th>B</th>\n",
       "      <td>5014</td>\n",
       "      <td>4660</td>\n",
       "      <td>354</td>\n",
       "      <td>257558</td>\n",
       "      <td>92.939769</td>\n",
       "      <td>7.060231</td>\n",
       "      <td>23.51</td>\n",
       "    </tr>\n",
       "    <tr>\n",
       "      <th>C</th>\n",
       "      <td>15921</td>\n",
       "      <td>14568</td>\n",
       "      <td>1353</td>\n",
       "      <td>130355</td>\n",
       "      <td>91.501790</td>\n",
       "      <td>8.498210</td>\n",
       "      <td>74.64</td>\n",
       "    </tr>\n",
       "    <tr>\n",
       "      <th>D</th>\n",
       "      <td>349</td>\n",
       "      <td>328</td>\n",
       "      <td>21</td>\n",
       "      <td>43929</td>\n",
       "      <td>93.982808</td>\n",
       "      <td>6.017192</td>\n",
       "      <td>1.64</td>\n",
       "    </tr>\n",
       "    <tr>\n",
       "      <th>E</th>\n",
       "      <td>22</td>\n",
       "      <td>20</td>\n",
       "      <td>2</td>\n",
       "      <td>26431</td>\n",
       "      <td>90.909091</td>\n",
       "      <td>9.090909</td>\n",
       "      <td>0.10</td>\n",
       "    </tr>\n",
       "  </tbody>\n",
       "</table>\n",
       "</div>"
      ],
      "text/plain": [
       "                       total_loans  in_time  not_in_time  median_salary  \\\n",
       "total_income_category                                                     \n",
       "A                               25       23            2        1223042   \n",
       "B                             5014     4660          354         257558   \n",
       "C                            15921    14568         1353         130355   \n",
       "D                              349      328           21          43929   \n",
       "E                               22       20            2          26431   \n",
       "\n",
       "                       percent_in_time  percent_not_in_time  \\\n",
       "total_income_category                                         \n",
       "A                            92.000000             8.000000   \n",
       "B                            92.939769             7.060231   \n",
       "C                            91.501790             8.498210   \n",
       "D                            93.982808             6.017192   \n",
       "E                            90.909091             9.090909   \n",
       "\n",
       "                       loan_share_percent  \n",
       "total_income_category                      \n",
       "A                                    0.12  \n",
       "B                                   23.51  \n",
       "C                                   74.64  \n",
       "D                                    1.64  \n",
       "E                                    0.10  "
      ]
     },
     "execution_count": 77,
     "metadata": {},
     "output_type": "execute_result"
    }
   ],
   "source": [
    "pivot_table_income['percent_in_time'] = (pivot_table_income['in_time'] / pivot_table_income['total_loans']) * 100 # процент возвращенных во время кредитов\n",
    "pivot_table_income['percent_not_in_time'] = (pivot_table_income['not_in_time'] / pivot_table_income['total_loans']) * 100 # процент просроченых кредитов\n",
    "\n",
    "total_loans_overall = pivot_table_income['total_loans'].sum() # кол-во всех выданных кредитов\n",
    "pivot_table_income['loan_share_percent'] = round((pivot_table_income['total_loans'] / total_loans_overall) * 100, 2) # доля кредитов для каждой группы, в общем объеме выданных кредитов\n",
    "\n",
    "pivot_table_income # вывод таблицы на экран"
   ]
  },
  {
   "cell_type": "code",
   "execution_count": 78,
   "id": "372773a5",
   "metadata": {},
   "outputs": [
    {
     "data": {
      "text/html": [
       "<div>\n",
       "<style scoped>\n",
       "    .dataframe tbody tr th:only-of-type {\n",
       "        vertical-align: middle;\n",
       "    }\n",
       "\n",
       "    .dataframe tbody tr th {\n",
       "        vertical-align: top;\n",
       "    }\n",
       "\n",
       "    .dataframe thead th {\n",
       "        text-align: right;\n",
       "    }\n",
       "</style>\n",
       "<table border=\"1\" class=\"dataframe\">\n",
       "  <thead>\n",
       "    <tr style=\"text-align: right;\">\n",
       "      <th></th>\n",
       "      <th>median_salary</th>\n",
       "      <th>total_loans</th>\n",
       "      <th>in_time</th>\n",
       "      <th>not_in_time</th>\n",
       "      <th>percent_not_in_time</th>\n",
       "      <th>loan_share_percent</th>\n",
       "    </tr>\n",
       "    <tr>\n",
       "      <th>total_income_category</th>\n",
       "      <th></th>\n",
       "      <th></th>\n",
       "      <th></th>\n",
       "      <th></th>\n",
       "      <th></th>\n",
       "      <th></th>\n",
       "    </tr>\n",
       "  </thead>\n",
       "  <tbody>\n",
       "    <tr>\n",
       "      <th>D</th>\n",
       "      <td>43929</td>\n",
       "      <td>349</td>\n",
       "      <td>328</td>\n",
       "      <td>21</td>\n",
       "      <td>6.017192</td>\n",
       "      <td>1.64</td>\n",
       "    </tr>\n",
       "    <tr>\n",
       "      <th>B</th>\n",
       "      <td>257558</td>\n",
       "      <td>5014</td>\n",
       "      <td>4660</td>\n",
       "      <td>354</td>\n",
       "      <td>7.060231</td>\n",
       "      <td>23.51</td>\n",
       "    </tr>\n",
       "    <tr>\n",
       "      <th>A</th>\n",
       "      <td>1223042</td>\n",
       "      <td>25</td>\n",
       "      <td>23</td>\n",
       "      <td>2</td>\n",
       "      <td>8.000000</td>\n",
       "      <td>0.12</td>\n",
       "    </tr>\n",
       "    <tr>\n",
       "      <th>C</th>\n",
       "      <td>130355</td>\n",
       "      <td>15921</td>\n",
       "      <td>14568</td>\n",
       "      <td>1353</td>\n",
       "      <td>8.498210</td>\n",
       "      <td>74.64</td>\n",
       "    </tr>\n",
       "    <tr>\n",
       "      <th>E</th>\n",
       "      <td>26431</td>\n",
       "      <td>22</td>\n",
       "      <td>20</td>\n",
       "      <td>2</td>\n",
       "      <td>9.090909</td>\n",
       "      <td>0.10</td>\n",
       "    </tr>\n",
       "  </tbody>\n",
       "</table>\n",
       "</div>"
      ],
      "text/plain": [
       "                       median_salary  total_loans  in_time  not_in_time  \\\n",
       "total_income_category                                                     \n",
       "D                              43929          349      328           21   \n",
       "B                             257558         5014     4660          354   \n",
       "A                            1223042           25       23            2   \n",
       "C                             130355        15921    14568         1353   \n",
       "E                              26431           22       20            2   \n",
       "\n",
       "                       percent_not_in_time  loan_share_percent  \n",
       "total_income_category                                           \n",
       "D                                 6.017192                1.64  \n",
       "B                                 7.060231               23.51  \n",
       "A                                 8.000000                0.12  \n",
       "C                                 8.498210               74.64  \n",
       "E                                 9.090909                0.10  "
      ]
     },
     "execution_count": 78,
     "metadata": {},
     "output_type": "execute_result"
    }
   ],
   "source": [
    "summary_table = pivot_table_income[['median_salary', 'total_loans', 'in_time', 'not_in_time', 'percent_not_in_time', 'loan_share_percent']]\n",
    "\n",
    "summary_table = summary_table.sort_values(by='percent_not_in_time', ascending=True)\n",
    "\n",
    "summary_table"
   ]
  },
  {
   "cell_type": "markdown",
   "id": "6dd14b57",
   "metadata": {
    "deletable": false,
    "id": "6dd14b57"
   },
   "source": [
    "**Вывод:** Исходя из расчетов, мы видим что заёмщики, относящиеся к группе **\"D\"** имеют самый низкий процент просроченых кредитов, равный **6%**. Заёмщики, относящиеся к самой многочисленной группе **\"С\"** имеют самое большое количество просрочек, и составляют основную массу заёмщиков, чья доля среди всех занимает почти 75%. Заёмщики в категории **\"Е\"** составляют одну из самых малочисленных групп, которую мы не будем брать в расчёт. Группа \"B\", вторая по объему выданных кредитов, имеет также один из самых низких процентов просроченых кредитов. В это время группа \"А\", с одним из самых высоких доходов, имеет ровно 8 процетов просроченых платежей. Несмотря на то что данная группа малочислена, займы, которые им могут выдаваться, могут быть гораздо больше по объему, нежели чем у других заёмщиков и иметь значительный оборот средств. (Для определения влияния на скоринговую систему следует получить больше данных о средсвах, которые были выданы группе \"А\") \n",
    "\n",
    "*Есть ли зависимость между уровнем дохода и возвратом кредита в срок?* **Да, есть**"
   ]
  },
  {
   "cell_type": "markdown",
   "id": "6e1f4f12",
   "metadata": {},
   "source": [
    "<div class=\"alert alert-success\">\n",
    "<h3> Комментарий ревьюера ✔️<a class=\"tocSkip\"> </h3>\n",
    "\n",
    "Верно. Правильно, что обращаешь внимание на объёмы категорий клиентов. \n",
    "    \n",
    "Факультативно, можно попробовать решить задание альтернативным способом, разделив выборку на равные по объёму части, в данном случае, по столбцу сумм дохода. Для этого можно воспользоваться функцией pd.qcut().\n",
    "    \n",
    "Здесь можно об этом почитать:\n",
    "    \n",
    "* https://pandas.pydata.org/pandas-docs/stable/reference/api/pandas.qcut.html\n",
    "\n",
    "Метод qcut() делит числовой столбец на равные по объёму части на основании квантилей. Квантили — это статистические показатели, которые разделяют набор данных на равные части. Квантили включают квартили (25%, 50% и 75%), децили (каждые 10%) и процентили (каждые 1%). Приведу пример разделения на 3 равных отрезка, находящихся на отметках 33,3% и 66,7%.\n",
    "        \n",
    "    pd.qcut(data['column'], q=3, labels=['one', 'two', 'three'])\n",
    "        \n",
    "Можно не указывать названия отрезков с помощью labels. Тогда названия отрезкам присвоятся в численном виде.\n",
    "</div>"
   ]
  },
  {
   "cell_type": "markdown",
   "id": "1dcc9b12",
   "metadata": {
    "deletable": false,
    "editable": false,
    "id": "1dcc9b12"
   },
   "source": [
    "#### 3.4 Как разные цели кредита влияют на его возврат в срок?"
   ]
  },
  {
   "cell_type": "code",
   "execution_count": 94,
   "id": "c602bc8b",
   "metadata": {
    "deletable": false,
    "id": "c602bc8b"
   },
   "outputs": [
    {
     "data": {
      "text/html": [
       "<div>\n",
       "<style scoped>\n",
       "    .dataframe tbody tr th:only-of-type {\n",
       "        vertical-align: middle;\n",
       "    }\n",
       "\n",
       "    .dataframe tbody tr th {\n",
       "        vertical-align: top;\n",
       "    }\n",
       "\n",
       "    .dataframe thead th {\n",
       "        text-align: right;\n",
       "    }\n",
       "</style>\n",
       "<table border=\"1\" class=\"dataframe\">\n",
       "  <thead>\n",
       "    <tr style=\"text-align: right;\">\n",
       "      <th></th>\n",
       "      <th>total_loans</th>\n",
       "      <th>in_time</th>\n",
       "      <th>not_in_time</th>\n",
       "    </tr>\n",
       "    <tr>\n",
       "      <th>purpose_category</th>\n",
       "      <th></th>\n",
       "      <th></th>\n",
       "      <th></th>\n",
       "    </tr>\n",
       "  </thead>\n",
       "  <tbody>\n",
       "    <tr>\n",
       "      <th>операции с автомобилем</th>\n",
       "      <td>4279</td>\n",
       "      <td>3879</td>\n",
       "      <td>400</td>\n",
       "    </tr>\n",
       "    <tr>\n",
       "      <th>операции с недвижимостью</th>\n",
       "      <td>10751</td>\n",
       "      <td>9971</td>\n",
       "      <td>780</td>\n",
       "    </tr>\n",
       "    <tr>\n",
       "      <th>получение образования</th>\n",
       "      <td>3988</td>\n",
       "      <td>3619</td>\n",
       "      <td>369</td>\n",
       "    </tr>\n",
       "    <tr>\n",
       "      <th>проведение свадьбы</th>\n",
       "      <td>2313</td>\n",
       "      <td>2130</td>\n",
       "      <td>183</td>\n",
       "    </tr>\n",
       "  </tbody>\n",
       "</table>\n",
       "</div>"
      ],
      "text/plain": [
       "                          total_loans  in_time  not_in_time\n",
       "purpose_category                                           \n",
       "операции с автомобилем           4279     3879          400\n",
       "операции с недвижимостью        10751     9971          780\n",
       "получение образования            3988     3619          369\n",
       "проведение свадьбы               2313     2130          183"
      ]
     },
     "execution_count": 94,
     "metadata": {},
     "output_type": "execute_result"
    }
   ],
   "source": [
    "pivot_purpose = data.pivot_table(index='purpose_category', columns='debt', values='total_income', aggfunc='count' ) # Создём сводную таблицу\n",
    "pivot_purpose.columns = ['in_time', 'not_in_time'] # переименовываем колонки для удобства.\n",
    "\n",
    "pivot_purpose.sort_values(by='in_time', ascending=False) # сортируем значения по убыванию\n",
    "total_loans_purpose = pivot_purpose['in_time'] + pivot_purpose['not_in_time'] # сохраняем значение всех выданных займов\n",
    "\n",
    "pivot_purpose.insert(0, 'total_loans', total_loans_purpose) # добавляем колонку с обзим кол-вом займов вначало таблицы\n",
    "pivot_purpose # выводим таблицу на экран"
   ]
  },
  {
   "cell_type": "code",
   "execution_count": 99,
   "id": "a51690ca",
   "metadata": {},
   "outputs": [
    {
     "data": {
      "text/html": [
       "<div>\n",
       "<style scoped>\n",
       "    .dataframe tbody tr th:only-of-type {\n",
       "        vertical-align: middle;\n",
       "    }\n",
       "\n",
       "    .dataframe tbody tr th {\n",
       "        vertical-align: top;\n",
       "    }\n",
       "\n",
       "    .dataframe thead th {\n",
       "        text-align: right;\n",
       "    }\n",
       "</style>\n",
       "<table border=\"1\" class=\"dataframe\">\n",
       "  <thead>\n",
       "    <tr style=\"text-align: right;\">\n",
       "      <th></th>\n",
       "      <th>total_loans</th>\n",
       "      <th>in_time</th>\n",
       "      <th>not_in_time</th>\n",
       "      <th>percent_in_time</th>\n",
       "      <th>percent_not_in_time</th>\n",
       "    </tr>\n",
       "    <tr>\n",
       "      <th>purpose_category</th>\n",
       "      <th></th>\n",
       "      <th></th>\n",
       "      <th></th>\n",
       "      <th></th>\n",
       "      <th></th>\n",
       "    </tr>\n",
       "  </thead>\n",
       "  <tbody>\n",
       "    <tr>\n",
       "      <th>операции с недвижимостью</th>\n",
       "      <td>10751</td>\n",
       "      <td>9971</td>\n",
       "      <td>780</td>\n",
       "      <td>92.744861</td>\n",
       "      <td>7.255139</td>\n",
       "    </tr>\n",
       "    <tr>\n",
       "      <th>проведение свадьбы</th>\n",
       "      <td>2313</td>\n",
       "      <td>2130</td>\n",
       "      <td>183</td>\n",
       "      <td>92.088197</td>\n",
       "      <td>7.911803</td>\n",
       "    </tr>\n",
       "    <tr>\n",
       "      <th>получение образования</th>\n",
       "      <td>3988</td>\n",
       "      <td>3619</td>\n",
       "      <td>369</td>\n",
       "      <td>90.747242</td>\n",
       "      <td>9.252758</td>\n",
       "    </tr>\n",
       "    <tr>\n",
       "      <th>операции с автомобилем</th>\n",
       "      <td>4279</td>\n",
       "      <td>3879</td>\n",
       "      <td>400</td>\n",
       "      <td>90.652022</td>\n",
       "      <td>9.347978</td>\n",
       "    </tr>\n",
       "  </tbody>\n",
       "</table>\n",
       "</div>"
      ],
      "text/plain": [
       "                          total_loans  in_time  not_in_time  percent_in_time  \\\n",
       "purpose_category                                                               \n",
       "операции с недвижимостью        10751     9971          780        92.744861   \n",
       "проведение свадьбы               2313     2130          183        92.088197   \n",
       "получение образования            3988     3619          369        90.747242   \n",
       "операции с автомобилем           4279     3879          400        90.652022   \n",
       "\n",
       "                          percent_not_in_time  \n",
       "purpose_category                               \n",
       "операции с недвижимостью             7.255139  \n",
       "проведение свадьбы                   7.911803  \n",
       "получение образования                9.252758  \n",
       "операции с автомобилем               9.347978  "
      ]
     },
     "execution_count": 99,
     "metadata": {},
     "output_type": "execute_result"
    }
   ],
   "source": [
    "pivot_purpose['percent_in_time'] = (pivot_purpose['in_time'] / pivot_purpose['total_loans']) * 100 # считаем процент кредитов возвращенных в срок\n",
    "pivot_purpose['percent_not_in_time'] = (pivot_purpose['not_in_time'] / pivot_purpose['total_loans']) * 100 # считаем процент просроченых кредитов\n",
    "\n",
    "pivot_purpose.sort_values(by='percent_in_time', ascending=False)"
   ]
  },
  {
   "cell_type": "markdown",
   "id": "cf05ed63",
   "metadata": {
    "deletable": false,
    "id": "cf05ed63"
   },
   "source": [
    "**Вывод:** Чаще всего, заёмщики отдают кредиты в срок **в операциях с недвижимостью** или на проведение **свадебных мероприятия**. Можно предположить что в первом случае, недвижимость очень важна для покрытия базовых потребностей и часто является необходимостью, что мотивирует заёмщиков платить в срок. Во втором случае, можно предположить что суммы займов не сильно существенны, и вероятно, берутся в дополнение к накоплениям. \n",
    "\n",
    "В случае же автокредитования, доля просрочек приближается к 10%. Это может быть обусловлено множеством факторов: от поломки автомобиля, на который был сделан займ, до угона, что очень мильно демотивирует заёмщика, отдавать кредит в срок, за то чем он не может пользоваться.\n",
    "\n",
    "В категории \"получение образования\" также большой процент просрочек. Это также может быть связано со множеством факторов: от сложности программы обучения, до нежелания продолжать учёбу. Эти факторы также могут демотивировать заёмщиков. "
   ]
  },
  {
   "cell_type": "markdown",
   "id": "2b5005ef",
   "metadata": {},
   "source": [
    "<div class=\"alert alert-success\">\n",
    "<h3> Комментарий ревьюера ✔️<a class=\"tocSkip\"> </h3>\n",
    "\n",
    "Вывод верный. Здорово, что стараешься описывать причины, которые могли привести к полученной картине. Для аналитика важно видеть смысл, который стоит за данными.\n",
    "</div>"
   ]
  },
  {
   "cell_type": "markdown",
   "id": "46c1f10b",
   "metadata": {
    "deletable": false,
    "editable": false,
    "id": "46c1f10b"
   },
   "source": [
    "#### 3.5 Приведите возможные причины появления пропусков в исходных данных."
   ]
  },
  {
   "cell_type": "markdown",
   "id": "3697d2a9",
   "metadata": {
    "deletable": false,
    "id": "3697d2a9"
   },
   "source": [
    "*Ответ:* В нашем случае были пропущены значения в колонках \"total_income\"(совокупный доход за месяц) и \"days_employed\"(трудовой стаж). Вероятно, что пропуски в этих данных могли образоваться по следующим причинам:\n",
    "\n",
    "1. Некоторые клиенты могла не предоставить данную информацию, или подтвердить её документально.\n",
    "2. Неправильное заполнение анкет. Клиенты могли допустить ошибки при заполнении заявки на кредит.\n",
    "3. Технические ошибки, которые могли привести к неправильной выгрузке данных. \n"
   ]
  },
  {
   "cell_type": "markdown",
   "id": "1c574504",
   "metadata": {},
   "source": [
    "<div class=\"alert alert-success\">\n",
    "<h3> Комментарий ревьюера ✔️<a class=\"tocSkip\"> </h3>\n",
    "\n",
    "Абсолютно верно. Основные причины пропусков - это технические проблемы и человеческий фактор.\n",
    "</div>"
   ]
  },
  {
   "cell_type": "markdown",
   "id": "3137d257",
   "metadata": {
    "deletable": false,
    "editable": false,
    "id": "3137d257"
   },
   "source": [
    "#### 3.6 Объясните, почему заполнить пропуски медианным значением — лучшее решение для количественных переменных."
   ]
  },
  {
   "cell_type": "markdown",
   "id": "cf40012a",
   "metadata": {
    "deletable": false,
    "id": "cf40012a"
   },
   "source": [
    "*Ответ:* В нашем случае, мы использовали медианное значение в вычислении зарплаты. В таком случае мы невелируем слишком высокие и слишком низкие значения дохода, которые могут помешать дальнейшим расчетам."
   ]
  },
  {
   "cell_type": "markdown",
   "id": "1851fd38",
   "metadata": {},
   "source": [
    "<div class=\"alert alert-success\">\n",
    "<h3> Комментарий ревьюера ✔️<a class=\"tocSkip\"> </h3>\n",
    "\n",
    "Верно, медиана была выбрана именно по причине устойчивости к выбросам\n",
    "</div>"
   ]
  },
  {
   "cell_type": "markdown",
   "id": "57bc304e",
   "metadata": {
    "deletable": false,
    "editable": false,
    "id": "57bc304e"
   },
   "source": [
    "### Шаг 4: общий вывод."
   ]
  },
  {
   "cell_type": "markdown",
   "id": "1ab75d1c",
   "metadata": {
    "deletable": false,
    "id": "1ab75d1c"
   },
   "source": [
    "Мы выявили необходимые зависимости между запрашиваемыми данными. В итоге, мы видим примерный \"портрет\" заёмщиков. Внесение корректировок, основываясь на полученных данных, поможет в более точной настройке скоринговой системы, что в конечном счете **поможет снизить риски** при выдаче новых займов и кредитов, и, соответственно, **увеличить доходность.** Подробнее далее\n",
    "\n",
    "### 1. Предобработка данных\n",
    "\n",
    "Во время первоначального исследования данных, мы обнаружили пропуски в колонках \"total_income\"(совокупный доход за месяц) и \"days_employed\" (трудовой стаж). Вероятно, что пропуски в этих данных могли образоваться по следующим причинам:\n",
    "\n",
    "  А) Некоторые клиенты могла не предоставить данную информацию, или подтвердить её документально.\n",
    "  Б) Неправильное заполнение анкет. Клиенты могли допустить ошибки при заполнении заявки на кредит.\n",
    "  В) Технические ошибки, которые могли привести к неправильной выгрузке данных.\n",
    "\n",
    "Также, нельзя исключить что все три причины влияют на появление пропусков. Рекомендуется провести дополнительные проверки. \n",
    "\n",
    "В исследовании зависимости между количеством детей и возвратом кредита в строк были обнаружены аномальные значения, которые были удалены. Возможно, была допущена ошибка при заполнении анкеты или опечатка, допущенная сотрудником банка.\n",
    "\n",
    "Зарплатные данные были успешно заменены медианными значениями, что позволило избежать резких отклонений в расчетах. \n",
    "\n",
    "Также виднеются разночтения во внесении информации о целях кредита. Судя по всему, в CRM систему данные в это поля вводятся вручную. Рекомендуем автоматизировать поле в которое будет вноситься данная информация с помощью выпадающего списка. Нами было определены следующие цели кредитования:\n",
    "\n",
    "1. Операции с автомобилем\n",
    "2. Операции с недвижимостью\n",
    "3. Проведение свадьбы\n",
    "4. получение образования \n",
    "\n",
    "### 2. Категоризация данных \n",
    "\n",
    "Мы произвели категоризацию заёмщиков по нескольким критериям: \n",
    "\n",
    "1. Количество детей \n",
    "2. Уровень дохода.\n",
    "3. Цели кредитования. \n",
    "4. Семейное положение\n",
    "\n",
    "Категоризация позволила нам находить взаимосвязь между разными факторами. \n",
    "\n",
    "### 3. Цели проекта\n",
    "\n",
    "Нам необходимо было провести анализ данных и ответить на следующие вопросы:\n",
    "\n",
    "1. Есть ли зависимость между количеством детей и возвратом кредита в срок?\n",
    "\t\t\n",
    "**Да, она присутствует**. Также было определено что в среднем, заёмщики с детьми выплачивают кредиты в срок на **1.6%** **реже** чем без детей. \n",
    "\n",
    "2. Есть ли зависимость между семейным положением и возвратом кредита в срок?\n",
    "\t\t\n",
    "Эта зависимость **также присутствует**. Заемщики, никода не состоящие в браке, возвращают кредиты в срок реже на **2.12%**, чем в среднем , заёмщики, состоящие или бывшие в браке. \n",
    "\n",
    "3. Есть ли зависимость между уровнем дохода и возвратом кредита в срок?\n",
    "\t\t\n",
    "**Да, зависимость есть**. Приведу вывод из исследования:\n",
    "\t\t\n",
    "Исходя из расчетов, мы видим что заёмщики, относящиеся к группе **\"D\"** имеют самый низкий процент просроченных кредитов, равный **6%**. Заёмщики, относящиеся к самой многочисленной группе **\"С\"** имеют самое большое количество просрочек, и составляют основную массу заёмщиков, чья доля среди всех занимает почти 75%. Заёмщики в категории **\"Е\"** составляют одну из самых малочисленных групп, которую мы не будем брать в расчёт. Группа \"B\", вторая по объему выданных кредитов, имеет также один из самых низких процентов просроченых кредитов. В это время группа \"А\", с одним из самых высоких доходов, имеет ровно 8 процетов просроченых платежей. Несмотря на то что данная группа малочислена, займы, которые им могут выдаваться, могут быть гораздо больше по объему, нежели чем у других заёмщиков и иметь значительный оборот средств. (Для определения влияния на скоринговую систему следует получить больше данных о средсвах, которые были выданы группе \"А\")\n",
    "\n",
    "4.  Как разные цели кредита влияют на его возврат в срок?\n",
    "\n",
    "\tЧаще всего, в срок ,заёмщики возвращают займы, связанные с **недвижимостью**( 7.25% просрочек ) и свадебным **мероприятиями**( 7.91%  просрочек ). **Получение образования** (9.25% просрочек) и **операции с автомобилем** (9.34% просрочек), возвращаются реже. \n",
    "\n",
    "\t Можно предположить что в первом случае, недвижимость очень важна для покрытия базовых потребностей и часто является необходимостью, что мотивирует заёмщиков платить в срок. Во втором случае, можно предположить что суммы займов не сильно существенны, и вероятно, берутся в дополнение к накоплениям.\n",
    "\n",
    "\tВ случае же автокредитования, доля просрочек приближается к 10%. Это может быть обусловлено множеством факторов: от поломки автомобиля, на который был сделан займ, до угона, что очень сильно демотивирует заёмщика, отдавать кредит в срок, за то чем он не может пользоваться.\n",
    "\n",
    "\tВ категории \"получение образования\" также большой процент просрочек. Это также может быть связано со множеством факторов: от сложности программы обучения, до нежелания продолжать учёбу. Эти факторы также могут демотивировать заёмщиков.\n",
    "\n",
    "\n",
    "### 4. Рекомендации\n",
    "\n",
    "Исходя из проведенного анализа, можно представить следующие рекомендации:\n",
    "\n",
    "1. **Улучшение сбора данных**:\n",
    "\n",
    "\t- Обеспечить более тщательную проверку анкет заемщиков, чтобы минимизировать пропуски и ошибки при вводе данных.\n",
    "\t- Автоматизировать процессы ввода информации о целях кредитования с помощью выпадающих списков и других средств, исключающих ручной ввод.\n",
    "\n",
    "2. **Мониторинг и оценка рисков**:\n",
    "\n",
    "\t- Создать систему регулярного мониторинга и анализа ключевых показателей эффективности (KPI) по различным категориям заемщиков и типам кредитов.\n",
    "\t\n",
    "\n",
    "3. **Адаптация кредитных предложений**:\n",
    "\n",
    "\t- Разработать кредитные предложения в зависимости от целей кредитования. Например, усилить контроль и ужесточить условия для автокредитования и кредитов на образование, где уровень просрочек выше.\n",
    "\t- Предлагать более привлекательные условия для займов, связанных с недвижимостью и свадьбами, где уровень просрочек ниже.\n",
    "\n",
    "Реализация этих рекомендаций поможет улучшить точность и надежность скоринговой системы, что в конечном итоге приведет к **снижению рисков**, повышению **доходности** и укреплению доверия клиентов.\n"
   ]
  },
  {
   "cell_type": "markdown",
   "id": "b14ea4cf",
   "metadata": {},
   "source": [
    "### Предобработка данных"
   ]
  },
  {
   "cell_type": "markdown",
   "id": "972d2415",
   "metadata": {},
   "source": [
    "<div class=\"alert alert-success\">\n",
    "<h3> Комментарий ревьюера v2 ✔️<a class=\"tocSkip\"> </h3>\n",
    "\n",
    "Теперь получился очень хороший структурированный вывод. Все этапы проекта рассмотрены, а категории клиентов учтены. И даны рекомендации для заказчика. Отличная работа!\n",
    "    \n",
    "</div>"
   ]
  },
  {
   "cell_type": "markdown",
   "id": "f0cc1f6f",
   "metadata": {},
   "source": [
    "<div class=\"alert alert-danger\">\n",
    "    <h3> Комментарий ревьюера ❌<a class=\"tocSkip\"> </h3>\n",
    "    \n",
    "Чтобы твою работу заметили и ничего не упустили, важно описывать всё в деталях.\n",
    "        \n",
    "Стоит учитывать, что твой потенциальный руководитель, в первую очередь, обратит внимание на общий вывод. Поэтому важно отразить в нём все основные результаты из всех шагов проекта в числах. И важно описать проблемы, найденные на этапе предобработки, и пути их решения\n",
    "        \n",
    "Можно опираться на такую структуру финального вывода во всех проектах:\n",
    "* предобработка данных с описанием найденных проблем и путей их решения\n",
    "* ответы на цели проекта\n",
    "* рекомендации для заказчика\n",
    "\n",
    "Чтобы лучше понимать, как оформлять комментарии в markdown-ячейках, советую изучить [краткое руководство по Маркдауну](https://paulradzkov.com/2014/markdown_cheatsheet/).\n",
    "\n",
    "</div>"
   ]
  }
 ],
 "metadata": {
  "ExecuteTimeLog": [
   {
    "duration": 50,
    "start_time": "2024-06-28T17:57:44.744Z"
   },
   {
    "duration": 486,
    "start_time": "2024-06-28T17:58:01.624Z"
   },
   {
    "duration": 28,
    "start_time": "2024-06-28T17:58:02.112Z"
   },
   {
    "duration": 144,
    "start_time": "2024-06-28T17:58:02.142Z"
   },
   {
    "duration": 130,
    "start_time": "2024-06-28T17:58:02.287Z"
   },
   {
    "duration": 256,
    "start_time": "2024-06-28T17:58:02.419Z"
   },
   {
    "duration": 50,
    "start_time": "2024-06-28T17:58:02.676Z"
   },
   {
    "duration": 33,
    "start_time": "2024-06-28T17:58:02.728Z"
   },
   {
    "duration": 31,
    "start_time": "2024-06-28T17:58:02.763Z"
   },
   {
    "duration": 46,
    "start_time": "2024-06-28T17:58:02.795Z"
   },
   {
    "duration": 25,
    "start_time": "2024-06-28T17:58:02.843Z"
   },
   {
    "duration": 60,
    "start_time": "2024-06-28T17:58:02.870Z"
   },
   {
    "duration": 11,
    "start_time": "2024-06-28T17:58:02.932Z"
   },
   {
    "duration": 14,
    "start_time": "2024-06-28T17:58:02.944Z"
   },
   {
    "duration": 27,
    "start_time": "2024-06-28T17:58:02.960Z"
   },
   {
    "duration": 88,
    "start_time": "2024-06-28T17:58:02.988Z"
   },
   {
    "duration": 39,
    "start_time": "2024-06-28T17:58:03.078Z"
   },
   {
    "duration": 34,
    "start_time": "2024-06-28T17:58:03.119Z"
   },
   {
    "duration": 38,
    "start_time": "2024-06-28T17:58:03.155Z"
   },
   {
    "duration": 14,
    "start_time": "2024-06-28T17:58:03.195Z"
   },
   {
    "duration": 94,
    "start_time": "2024-06-28T17:58:03.210Z"
   },
   {
    "duration": 33,
    "start_time": "2024-06-28T17:58:03.306Z"
   },
   {
    "duration": 54,
    "start_time": "2024-06-28T17:58:03.341Z"
   },
   {
    "duration": 0,
    "start_time": "2024-06-28T17:58:03.397Z"
   },
   {
    "duration": 0,
    "start_time": "2024-06-28T17:58:03.398Z"
   },
   {
    "duration": 0,
    "start_time": "2024-06-28T17:58:03.399Z"
   },
   {
    "duration": 14,
    "start_time": "2024-06-28T17:58:18.283Z"
   },
   {
    "duration": 8,
    "start_time": "2024-06-28T17:59:53.723Z"
   },
   {
    "duration": 16,
    "start_time": "2024-06-28T18:00:07.808Z"
   },
   {
    "duration": 24,
    "start_time": "2024-06-28T18:01:29.833Z"
   },
   {
    "duration": 18,
    "start_time": "2024-06-28T18:06:47.632Z"
   },
   {
    "duration": 12,
    "start_time": "2024-06-28T18:10:54.397Z"
   },
   {
    "duration": 17,
    "start_time": "2024-06-28T18:11:26.651Z"
   },
   {
    "duration": 14,
    "start_time": "2024-06-28T18:13:13.707Z"
   },
   {
    "duration": 18,
    "start_time": "2024-06-28T18:13:31.335Z"
   },
   {
    "duration": 19,
    "start_time": "2024-06-28T18:16:45.189Z"
   },
   {
    "duration": 23,
    "start_time": "2024-06-28T18:17:43.096Z"
   },
   {
    "duration": 21,
    "start_time": "2024-06-28T18:18:12.119Z"
   },
   {
    "duration": 20,
    "start_time": "2024-06-28T18:19:01.094Z"
   },
   {
    "duration": 21,
    "start_time": "2024-06-28T18:19:09.221Z"
   },
   {
    "duration": 23,
    "start_time": "2024-06-28T18:20:59.839Z"
   },
   {
    "duration": 27,
    "start_time": "2024-06-28T18:24:16.049Z"
   },
   {
    "duration": 22,
    "start_time": "2024-06-28T18:24:53.195Z"
   },
   {
    "duration": 21,
    "start_time": "2024-06-28T18:25:01.013Z"
   },
   {
    "duration": 5,
    "start_time": "2024-06-28T18:35:31.439Z"
   },
   {
    "duration": 6,
    "start_time": "2024-06-28T18:35:40.791Z"
   },
   {
    "duration": 453,
    "start_time": "2024-06-28T18:56:43.059Z"
   },
   {
    "duration": 6,
    "start_time": "2024-06-28T18:57:09.330Z"
   },
   {
    "duration": 7,
    "start_time": "2024-06-28T18:57:46.903Z"
   },
   {
    "duration": 6,
    "start_time": "2024-06-28T18:58:50.792Z"
   },
   {
    "duration": 11,
    "start_time": "2024-06-28T18:59:57.711Z"
   },
   {
    "duration": 950,
    "start_time": "2024-06-28T19:00:04.753Z"
   },
   {
    "duration": 8,
    "start_time": "2024-06-28T19:00:17.127Z"
   },
   {
    "duration": 8,
    "start_time": "2024-06-28T19:00:42.729Z"
   },
   {
    "duration": 5,
    "start_time": "2024-06-28T19:01:22.507Z"
   },
   {
    "duration": 5,
    "start_time": "2024-06-28T19:01:25.577Z"
   },
   {
    "duration": 7,
    "start_time": "2024-06-28T19:01:31.683Z"
   },
   {
    "duration": 6,
    "start_time": "2024-06-28T19:03:21.872Z"
   },
   {
    "duration": 7,
    "start_time": "2024-06-28T19:03:39.261Z"
   },
   {
    "duration": 7,
    "start_time": "2024-06-28T19:26:47.917Z"
   },
   {
    "duration": 8,
    "start_time": "2024-06-28T19:28:49.561Z"
   },
   {
    "duration": 6,
    "start_time": "2024-06-28T19:30:27.755Z"
   },
   {
    "duration": 7,
    "start_time": "2024-06-28T19:35:33.760Z"
   },
   {
    "duration": 14,
    "start_time": "2024-06-28T19:37:21.564Z"
   },
   {
    "duration": 12,
    "start_time": "2024-06-28T19:37:25.264Z"
   },
   {
    "duration": 850,
    "start_time": "2024-06-28T19:39:13.782Z"
   },
   {
    "duration": 5,
    "start_time": "2024-06-28T19:39:29.149Z"
   },
   {
    "duration": 3,
    "start_time": "2024-06-28T19:44:18.653Z"
   },
   {
    "duration": 3,
    "start_time": "2024-06-28T19:44:21.299Z"
   },
   {
    "duration": 9,
    "start_time": "2024-06-28T19:44:32.740Z"
   },
   {
    "duration": 5,
    "start_time": "2024-06-28T19:45:17.430Z"
   },
   {
    "duration": 8,
    "start_time": "2024-06-28T19:45:32.099Z"
   },
   {
    "duration": 6,
    "start_time": "2024-06-28T19:48:31.078Z"
   },
   {
    "duration": 3,
    "start_time": "2024-06-28T19:49:05.885Z"
   },
   {
    "duration": 6,
    "start_time": "2024-06-28T19:49:24.000Z"
   },
   {
    "duration": 3,
    "start_time": "2024-06-28T19:49:43.371Z"
   },
   {
    "duration": 4,
    "start_time": "2024-06-28T19:49:48.510Z"
   },
   {
    "duration": 5,
    "start_time": "2024-06-28T19:49:56.275Z"
   },
   {
    "duration": 5,
    "start_time": "2024-06-28T19:50:45.349Z"
   },
   {
    "duration": 7,
    "start_time": "2024-06-28T19:55:50.274Z"
   },
   {
    "duration": 4,
    "start_time": "2024-06-28T19:56:08.094Z"
   },
   {
    "duration": 7,
    "start_time": "2024-06-28T19:56:33.396Z"
   },
   {
    "duration": 55,
    "start_time": "2024-07-01T09:22:42.533Z"
   },
   {
    "duration": 624,
    "start_time": "2024-07-01T09:22:51.074Z"
   },
   {
    "duration": 23,
    "start_time": "2024-07-01T09:22:51.700Z"
   },
   {
    "duration": 17,
    "start_time": "2024-07-01T09:22:51.724Z"
   },
   {
    "duration": 11,
    "start_time": "2024-07-01T09:22:51.743Z"
   },
   {
    "duration": 48,
    "start_time": "2024-07-01T09:22:51.756Z"
   },
   {
    "duration": 3,
    "start_time": "2024-07-01T09:22:51.806Z"
   },
   {
    "duration": 12,
    "start_time": "2024-07-01T09:22:51.811Z"
   },
   {
    "duration": 8,
    "start_time": "2024-07-01T09:22:51.825Z"
   },
   {
    "duration": 9,
    "start_time": "2024-07-01T09:22:51.834Z"
   },
   {
    "duration": 4,
    "start_time": "2024-07-01T09:22:51.846Z"
   },
   {
    "duration": 62,
    "start_time": "2024-07-01T09:22:51.851Z"
   },
   {
    "duration": 13,
    "start_time": "2024-07-01T09:22:51.915Z"
   },
   {
    "duration": 6,
    "start_time": "2024-07-01T09:22:51.930Z"
   },
   {
    "duration": 13,
    "start_time": "2024-07-01T09:22:51.938Z"
   },
   {
    "duration": 46,
    "start_time": "2024-07-01T09:22:51.952Z"
   },
   {
    "duration": 19,
    "start_time": "2024-07-01T09:22:52.000Z"
   },
   {
    "duration": 4,
    "start_time": "2024-07-01T09:22:52.021Z"
   },
   {
    "duration": 15,
    "start_time": "2024-07-01T09:22:52.028Z"
   },
   {
    "duration": 6,
    "start_time": "2024-07-01T09:22:52.045Z"
   },
   {
    "duration": 29,
    "start_time": "2024-07-01T09:22:52.053Z"
   },
   {
    "duration": 9,
    "start_time": "2024-07-01T09:22:52.084Z"
   },
   {
    "duration": 54,
    "start_time": "2024-07-01T09:22:52.096Z"
   },
   {
    "duration": 11,
    "start_time": "2024-07-01T09:22:52.152Z"
   },
   {
    "duration": 6,
    "start_time": "2024-07-01T09:22:52.165Z"
   },
   {
    "duration": 25,
    "start_time": "2024-07-01T09:22:52.172Z"
   },
   {
    "duration": 31,
    "start_time": "2024-07-01T09:22:52.199Z"
   },
   {
    "duration": 5,
    "start_time": "2024-07-01T09:22:52.232Z"
   },
   {
    "duration": 5,
    "start_time": "2024-07-01T09:22:52.240Z"
   },
   {
    "duration": 14,
    "start_time": "2024-07-01T09:22:57.293Z"
   },
   {
    "duration": 17,
    "start_time": "2024-07-01T09:23:06.347Z"
   },
   {
    "duration": 13,
    "start_time": "2024-07-01T09:23:51.317Z"
   },
   {
    "duration": 18,
    "start_time": "2024-07-01T09:23:59.194Z"
   },
   {
    "duration": 44,
    "start_time": "2024-07-01T09:26:27.407Z"
   },
   {
    "duration": 76,
    "start_time": "2024-07-01T09:26:46.594Z"
   },
   {
    "duration": 22,
    "start_time": "2024-07-01T09:26:54.342Z"
   },
   {
    "duration": 20,
    "start_time": "2024-07-01T09:27:31.718Z"
   },
   {
    "duration": 18,
    "start_time": "2024-07-01T09:27:59.648Z"
   },
   {
    "duration": 1070,
    "start_time": "2024-07-01T09:34:26.897Z"
   },
   {
    "duration": 19,
    "start_time": "2024-07-01T09:34:41.623Z"
   },
   {
    "duration": 26,
    "start_time": "2024-07-01T09:37:14.151Z"
   },
   {
    "duration": 285,
    "start_time": "2024-07-01T09:37:36.117Z"
   },
   {
    "duration": 22,
    "start_time": "2024-07-01T09:37:45.012Z"
   },
   {
    "duration": 17,
    "start_time": "2024-07-01T09:38:16.420Z"
   },
   {
    "duration": 16,
    "start_time": "2024-07-01T09:38:26.648Z"
   },
   {
    "duration": 18,
    "start_time": "2024-07-01T09:43:49.918Z"
   },
   {
    "duration": 48,
    "start_time": "2024-07-02T08:52:52.809Z"
   },
   {
    "duration": 639,
    "start_time": "2024-07-02T08:53:01.849Z"
   },
   {
    "duration": 21,
    "start_time": "2024-07-02T08:53:02.490Z"
   },
   {
    "duration": 186,
    "start_time": "2024-07-02T08:53:02.512Z"
   },
   {
    "duration": 141,
    "start_time": "2024-07-02T08:53:02.699Z"
   },
   {
    "duration": 31,
    "start_time": "2024-07-02T08:53:02.842Z"
   },
   {
    "duration": 4,
    "start_time": "2024-07-02T08:53:02.875Z"
   },
   {
    "duration": 49,
    "start_time": "2024-07-02T08:53:02.880Z"
   },
   {
    "duration": 21,
    "start_time": "2024-07-02T08:53:02.931Z"
   },
   {
    "duration": 22,
    "start_time": "2024-07-02T08:53:02.953Z"
   },
   {
    "duration": 9,
    "start_time": "2024-07-02T08:53:02.978Z"
   },
   {
    "duration": 50,
    "start_time": "2024-07-02T08:53:02.988Z"
   },
   {
    "duration": 8,
    "start_time": "2024-07-02T08:53:03.040Z"
   },
   {
    "duration": 14,
    "start_time": "2024-07-02T08:53:03.049Z"
   },
   {
    "duration": 22,
    "start_time": "2024-07-02T08:53:03.064Z"
   },
   {
    "duration": 33,
    "start_time": "2024-07-02T08:53:03.088Z"
   },
   {
    "duration": 17,
    "start_time": "2024-07-02T08:53:03.122Z"
   },
   {
    "duration": 10,
    "start_time": "2024-07-02T08:53:03.140Z"
   },
   {
    "duration": 45,
    "start_time": "2024-07-02T08:53:03.152Z"
   },
   {
    "duration": 23,
    "start_time": "2024-07-02T08:53:03.198Z"
   },
   {
    "duration": 6,
    "start_time": "2024-07-02T08:53:03.223Z"
   },
   {
    "duration": 23,
    "start_time": "2024-07-02T08:53:03.230Z"
   },
   {
    "duration": 16,
    "start_time": "2024-07-02T08:53:03.254Z"
   },
   {
    "duration": 15,
    "start_time": "2024-07-02T08:53:03.272Z"
   },
   {
    "duration": 22,
    "start_time": "2024-07-02T08:53:03.288Z"
   },
   {
    "duration": 68,
    "start_time": "2024-07-02T08:53:03.312Z"
   },
   {
    "duration": 93,
    "start_time": "2024-07-02T08:53:03.381Z"
   },
   {
    "duration": 0,
    "start_time": "2024-07-02T08:53:03.476Z"
   },
   {
    "duration": 0,
    "start_time": "2024-07-02T08:53:03.477Z"
   },
   {
    "duration": 24,
    "start_time": "2024-07-02T08:53:27.506Z"
   },
   {
    "duration": 19,
    "start_time": "2024-07-02T09:01:32.003Z"
   },
   {
    "duration": 5,
    "start_time": "2024-07-02T09:56:04.002Z"
   },
   {
    "duration": 8,
    "start_time": "2024-07-02T09:56:19.940Z"
   },
   {
    "duration": 6,
    "start_time": "2024-07-02T09:58:47.797Z"
   },
   {
    "duration": 9,
    "start_time": "2024-07-02T09:59:05.028Z"
   },
   {
    "duration": 8,
    "start_time": "2024-07-02T09:59:47.826Z"
   },
   {
    "duration": 3,
    "start_time": "2024-07-02T12:27:41.701Z"
   },
   {
    "duration": 7,
    "start_time": "2024-07-02T12:27:53.761Z"
   },
   {
    "duration": 7,
    "start_time": "2024-07-02T12:28:01.366Z"
   },
   {
    "duration": 4,
    "start_time": "2024-07-02T12:29:17.551Z"
   },
   {
    "duration": 4,
    "start_time": "2024-07-02T12:29:24.682Z"
   },
   {
    "duration": 822,
    "start_time": "2024-07-02T12:37:47.140Z"
   },
   {
    "duration": 878,
    "start_time": "2024-07-02T12:38:48.948Z"
   },
   {
    "duration": 860,
    "start_time": "2024-07-02T12:39:06.896Z"
   },
   {
    "duration": 832,
    "start_time": "2024-07-02T12:39:41.195Z"
   },
   {
    "duration": 984,
    "start_time": "2024-07-02T12:40:03.657Z"
   },
   {
    "duration": 1050,
    "start_time": "2024-07-02T12:40:46.656Z"
   },
   {
    "duration": 9,
    "start_time": "2024-07-02T12:46:54.038Z"
   },
   {
    "duration": 1066,
    "start_time": "2024-07-02T12:47:10.754Z"
   },
   {
    "duration": 1173,
    "start_time": "2024-07-02T12:47:44.694Z"
   },
   {
    "duration": 4,
    "start_time": "2024-07-02T12:47:54.541Z"
   },
   {
    "duration": 5,
    "start_time": "2024-07-02T12:51:56.576Z"
   },
   {
    "duration": 63,
    "start_time": "2024-07-02T13:00:42.382Z"
   },
   {
    "duration": 4,
    "start_time": "2024-07-02T13:00:56.642Z"
   },
   {
    "duration": 3,
    "start_time": "2024-07-02T13:01:09.480Z"
   },
   {
    "duration": 3,
    "start_time": "2024-07-02T13:01:49.759Z"
   },
   {
    "duration": 3,
    "start_time": "2024-07-02T13:02:06.214Z"
   },
   {
    "duration": 4,
    "start_time": "2024-07-02T13:02:12.884Z"
   },
   {
    "duration": 3,
    "start_time": "2024-07-02T13:03:17.332Z"
   },
   {
    "duration": 3,
    "start_time": "2024-07-02T13:04:42.525Z"
   },
   {
    "duration": 4,
    "start_time": "2024-07-02T13:13:14.497Z"
   },
   {
    "duration": 3,
    "start_time": "2024-07-02T13:15:41.690Z"
   },
   {
    "duration": 4,
    "start_time": "2024-07-02T13:19:24.831Z"
   },
   {
    "duration": 4,
    "start_time": "2024-07-02T14:04:19.559Z"
   },
   {
    "duration": 5,
    "start_time": "2024-07-02T14:23:37.020Z"
   },
   {
    "duration": 3,
    "start_time": "2024-07-02T14:23:51.068Z"
   },
   {
    "duration": 4,
    "start_time": "2024-07-02T14:24:45.644Z"
   },
   {
    "duration": 4,
    "start_time": "2024-07-02T14:24:49.435Z"
   },
   {
    "duration": 12,
    "start_time": "2024-07-02T14:41:13.167Z"
   },
   {
    "duration": 14,
    "start_time": "2024-07-02T14:41:22.369Z"
   },
   {
    "duration": 15,
    "start_time": "2024-07-02T14:43:56.355Z"
   },
   {
    "duration": 222,
    "start_time": "2024-07-02T14:44:41.485Z"
   },
   {
    "duration": 17,
    "start_time": "2024-07-02T14:44:57.038Z"
   },
   {
    "duration": 13,
    "start_time": "2024-07-02T14:46:00.666Z"
   },
   {
    "duration": 12,
    "start_time": "2024-07-02T14:46:04.527Z"
   },
   {
    "duration": 16,
    "start_time": "2024-07-02T14:46:13.456Z"
   },
   {
    "duration": 153,
    "start_time": "2024-07-02T15:33:38.149Z"
   },
   {
    "duration": 15,
    "start_time": "2024-07-02T15:33:38.303Z"
   },
   {
    "duration": 18,
    "start_time": "2024-07-02T15:33:38.319Z"
   },
   {
    "duration": 15,
    "start_time": "2024-07-02T15:33:38.338Z"
   },
   {
    "duration": 31,
    "start_time": "2024-07-02T15:33:38.355Z"
   },
   {
    "duration": 3,
    "start_time": "2024-07-02T15:33:38.390Z"
   },
   {
    "duration": 15,
    "start_time": "2024-07-02T15:33:38.395Z"
   },
   {
    "duration": 9,
    "start_time": "2024-07-02T15:33:38.411Z"
   },
   {
    "duration": 6,
    "start_time": "2024-07-02T15:33:38.421Z"
   },
   {
    "duration": 4,
    "start_time": "2024-07-02T15:33:38.428Z"
   },
   {
    "duration": 56,
    "start_time": "2024-07-02T15:33:38.434Z"
   },
   {
    "duration": 39,
    "start_time": "2024-07-02T15:33:38.492Z"
   },
   {
    "duration": 3,
    "start_time": "2024-07-02T15:33:38.533Z"
   },
   {
    "duration": 12,
    "start_time": "2024-07-02T15:33:38.539Z"
   },
   {
    "duration": 21,
    "start_time": "2024-07-02T15:33:38.553Z"
   },
   {
    "duration": 16,
    "start_time": "2024-07-02T15:33:38.576Z"
   },
   {
    "duration": 20,
    "start_time": "2024-07-02T15:33:38.594Z"
   },
   {
    "duration": 54,
    "start_time": "2024-07-02T15:33:38.616Z"
   },
   {
    "duration": 6,
    "start_time": "2024-07-02T15:33:38.672Z"
   },
   {
    "duration": 4,
    "start_time": "2024-07-02T15:33:38.679Z"
   },
   {
    "duration": 22,
    "start_time": "2024-07-02T15:33:38.684Z"
   },
   {
    "duration": 840,
    "start_time": "2024-07-02T15:33:38.707Z"
   },
   {
    "duration": 0,
    "start_time": "2024-07-02T15:33:39.548Z"
   },
   {
    "duration": 0,
    "start_time": "2024-07-02T15:33:39.549Z"
   },
   {
    "duration": 0,
    "start_time": "2024-07-02T15:33:39.550Z"
   },
   {
    "duration": 0,
    "start_time": "2024-07-02T15:33:39.551Z"
   },
   {
    "duration": 0,
    "start_time": "2024-07-02T15:33:39.552Z"
   },
   {
    "duration": 0,
    "start_time": "2024-07-02T15:33:39.553Z"
   },
   {
    "duration": 0,
    "start_time": "2024-07-02T15:33:39.555Z"
   },
   {
    "duration": 0,
    "start_time": "2024-07-02T15:33:39.556Z"
   },
   {
    "duration": 0,
    "start_time": "2024-07-02T15:33:39.558Z"
   },
   {
    "duration": 80,
    "start_time": "2024-07-02T15:34:15.002Z"
   },
   {
    "duration": 14,
    "start_time": "2024-07-02T15:34:15.084Z"
   },
   {
    "duration": 56,
    "start_time": "2024-07-02T15:34:15.100Z"
   },
   {
    "duration": 28,
    "start_time": "2024-07-02T15:34:15.158Z"
   },
   {
    "duration": 35,
    "start_time": "2024-07-02T15:34:15.188Z"
   },
   {
    "duration": 3,
    "start_time": "2024-07-02T15:34:15.225Z"
   },
   {
    "duration": 28,
    "start_time": "2024-07-02T15:34:15.229Z"
   },
   {
    "duration": 4,
    "start_time": "2024-07-02T15:34:15.258Z"
   },
   {
    "duration": 30,
    "start_time": "2024-07-02T15:34:15.263Z"
   },
   {
    "duration": 33,
    "start_time": "2024-07-02T15:34:15.294Z"
   },
   {
    "duration": 30,
    "start_time": "2024-07-02T15:34:15.328Z"
   },
   {
    "duration": 8,
    "start_time": "2024-07-02T15:34:15.360Z"
   },
   {
    "duration": 17,
    "start_time": "2024-07-02T15:34:15.370Z"
   },
   {
    "duration": 9,
    "start_time": "2024-07-02T15:34:15.390Z"
   },
   {
    "duration": 28,
    "start_time": "2024-07-02T15:34:15.400Z"
   },
   {
    "duration": 21,
    "start_time": "2024-07-02T15:34:15.430Z"
   },
   {
    "duration": 11,
    "start_time": "2024-07-02T15:34:15.452Z"
   },
   {
    "duration": 21,
    "start_time": "2024-07-02T15:34:15.464Z"
   },
   {
    "duration": 9,
    "start_time": "2024-07-02T15:34:15.486Z"
   },
   {
    "duration": 5,
    "start_time": "2024-07-02T15:34:15.496Z"
   },
   {
    "duration": 14,
    "start_time": "2024-07-02T15:34:15.503Z"
   },
   {
    "duration": 879,
    "start_time": "2024-07-02T15:34:15.518Z"
   },
   {
    "duration": 0,
    "start_time": "2024-07-02T15:34:16.399Z"
   },
   {
    "duration": 0,
    "start_time": "2024-07-02T15:34:16.400Z"
   },
   {
    "duration": 0,
    "start_time": "2024-07-02T15:34:16.402Z"
   },
   {
    "duration": 0,
    "start_time": "2024-07-02T15:34:16.404Z"
   },
   {
    "duration": 0,
    "start_time": "2024-07-02T15:34:16.405Z"
   },
   {
    "duration": 0,
    "start_time": "2024-07-02T15:34:16.406Z"
   },
   {
    "duration": 0,
    "start_time": "2024-07-02T15:34:16.407Z"
   },
   {
    "duration": 0,
    "start_time": "2024-07-02T15:34:16.409Z"
   },
   {
    "duration": 0,
    "start_time": "2024-07-02T15:34:16.410Z"
   },
   {
    "duration": 18,
    "start_time": "2024-07-02T15:34:48.359Z"
   },
   {
    "duration": 80,
    "start_time": "2024-07-02T15:35:10.384Z"
   },
   {
    "duration": 14,
    "start_time": "2024-07-02T15:35:10.467Z"
   },
   {
    "duration": 57,
    "start_time": "2024-07-02T15:35:10.482Z"
   },
   {
    "duration": 10,
    "start_time": "2024-07-02T15:35:10.541Z"
   },
   {
    "duration": 30,
    "start_time": "2024-07-02T15:35:10.553Z"
   },
   {
    "duration": 3,
    "start_time": "2024-07-02T15:35:10.584Z"
   },
   {
    "duration": 13,
    "start_time": "2024-07-02T15:35:10.589Z"
   },
   {
    "duration": 68,
    "start_time": "2024-07-02T15:35:10.603Z"
   },
   {
    "duration": 5,
    "start_time": "2024-07-02T15:35:10.672Z"
   },
   {
    "duration": 4,
    "start_time": "2024-07-02T15:35:10.679Z"
   },
   {
    "duration": 35,
    "start_time": "2024-07-02T15:35:10.684Z"
   },
   {
    "duration": 10,
    "start_time": "2024-07-02T15:35:10.722Z"
   },
   {
    "duration": 17,
    "start_time": "2024-07-02T15:35:10.733Z"
   },
   {
    "duration": 67,
    "start_time": "2024-07-02T15:35:10.753Z"
   },
   {
    "duration": 28,
    "start_time": "2024-07-02T15:35:10.822Z"
   },
   {
    "duration": 29,
    "start_time": "2024-07-02T15:35:10.851Z"
   },
   {
    "duration": 3,
    "start_time": "2024-07-02T15:35:10.882Z"
   },
   {
    "duration": 26,
    "start_time": "2024-07-02T15:35:10.887Z"
   },
   {
    "duration": 17,
    "start_time": "2024-07-02T15:35:10.915Z"
   },
   {
    "duration": 12,
    "start_time": "2024-07-02T15:35:10.933Z"
   },
   {
    "duration": 21,
    "start_time": "2024-07-02T15:35:10.946Z"
   },
   {
    "duration": 25,
    "start_time": "2024-07-02T15:35:10.968Z"
   },
   {
    "duration": 0,
    "start_time": "2024-07-02T15:35:10.994Z"
   },
   {
    "duration": 0,
    "start_time": "2024-07-02T15:35:10.995Z"
   },
   {
    "duration": 0,
    "start_time": "2024-07-02T15:35:10.996Z"
   },
   {
    "duration": 0,
    "start_time": "2024-07-02T15:35:10.997Z"
   },
   {
    "duration": 0,
    "start_time": "2024-07-02T15:35:10.998Z"
   },
   {
    "duration": 0,
    "start_time": "2024-07-02T15:35:10.999Z"
   },
   {
    "duration": 0,
    "start_time": "2024-07-02T15:35:11.000Z"
   },
   {
    "duration": 0,
    "start_time": "2024-07-02T15:35:11.001Z"
   },
   {
    "duration": 0,
    "start_time": "2024-07-02T15:35:11.002Z"
   },
   {
    "duration": 17,
    "start_time": "2024-07-02T15:35:39.753Z"
   },
   {
    "duration": 11,
    "start_time": "2024-07-02T15:35:51.098Z"
   },
   {
    "duration": 79,
    "start_time": "2024-07-02T15:35:56.125Z"
   },
   {
    "duration": 14,
    "start_time": "2024-07-02T15:35:56.206Z"
   },
   {
    "duration": 14,
    "start_time": "2024-07-02T15:35:56.222Z"
   },
   {
    "duration": 19,
    "start_time": "2024-07-02T15:35:56.237Z"
   },
   {
    "duration": 43,
    "start_time": "2024-07-02T15:35:56.258Z"
   },
   {
    "duration": 4,
    "start_time": "2024-07-02T15:35:56.302Z"
   },
   {
    "duration": 11,
    "start_time": "2024-07-02T15:35:56.307Z"
   },
   {
    "duration": 4,
    "start_time": "2024-07-02T15:35:56.320Z"
   },
   {
    "duration": 9,
    "start_time": "2024-07-02T15:35:56.325Z"
   },
   {
    "duration": 8,
    "start_time": "2024-07-02T15:35:56.335Z"
   },
   {
    "duration": 75,
    "start_time": "2024-07-02T15:35:56.344Z"
   },
   {
    "duration": 15,
    "start_time": "2024-07-02T15:35:56.421Z"
   },
   {
    "duration": 8,
    "start_time": "2024-07-02T15:35:56.438Z"
   },
   {
    "duration": 18,
    "start_time": "2024-07-02T15:35:56.449Z"
   },
   {
    "duration": 59,
    "start_time": "2024-07-02T15:35:56.469Z"
   },
   {
    "duration": 37,
    "start_time": "2024-07-02T15:35:56.530Z"
   },
   {
    "duration": 5,
    "start_time": "2024-07-02T15:35:56.568Z"
   },
   {
    "duration": 26,
    "start_time": "2024-07-02T15:35:56.575Z"
   },
   {
    "duration": 7,
    "start_time": "2024-07-02T15:35:56.603Z"
   },
   {
    "duration": 76,
    "start_time": "2024-07-02T15:35:56.612Z"
   },
   {
    "duration": 20,
    "start_time": "2024-07-02T15:35:56.690Z"
   },
   {
    "duration": 17,
    "start_time": "2024-07-02T15:35:56.712Z"
   },
   {
    "duration": 16,
    "start_time": "2024-07-02T15:35:56.731Z"
   },
   {
    "duration": 90,
    "start_time": "2024-07-02T15:35:56.748Z"
   },
   {
    "duration": 25,
    "start_time": "2024-07-02T15:35:56.841Z"
   },
   {
    "duration": 43,
    "start_time": "2024-07-02T15:35:56.868Z"
   },
   {
    "duration": 39,
    "start_time": "2024-07-02T15:35:56.913Z"
   },
   {
    "duration": 14,
    "start_time": "2024-07-02T15:35:56.955Z"
   },
   {
    "duration": 6,
    "start_time": "2024-07-02T15:35:56.971Z"
   },
   {
    "duration": 55,
    "start_time": "2024-07-02T15:35:56.979Z"
   },
   {
    "duration": 24,
    "start_time": "2024-07-02T15:35:57.036Z"
   },
   {
    "duration": 568,
    "start_time": "2024-07-03T10:43:43.058Z"
   },
   {
    "duration": 21,
    "start_time": "2024-07-03T10:43:43.628Z"
   },
   {
    "duration": 15,
    "start_time": "2024-07-03T10:43:43.651Z"
   },
   {
    "duration": 9,
    "start_time": "2024-07-03T10:43:43.668Z"
   },
   {
    "duration": 49,
    "start_time": "2024-07-03T10:43:43.679Z"
   },
   {
    "duration": 8,
    "start_time": "2024-07-03T10:43:43.730Z"
   },
   {
    "duration": 25,
    "start_time": "2024-07-03T10:43:43.740Z"
   },
   {
    "duration": 10,
    "start_time": "2024-07-03T10:43:43.766Z"
   },
   {
    "duration": 36,
    "start_time": "2024-07-03T10:43:43.777Z"
   },
   {
    "duration": 11,
    "start_time": "2024-07-03T10:43:43.816Z"
   },
   {
    "duration": 52,
    "start_time": "2024-07-03T10:43:43.828Z"
   },
   {
    "duration": 11,
    "start_time": "2024-07-03T10:43:43.881Z"
   },
   {
    "duration": 14,
    "start_time": "2024-07-03T10:43:43.894Z"
   },
   {
    "duration": 17,
    "start_time": "2024-07-03T10:43:43.910Z"
   },
   {
    "duration": 31,
    "start_time": "2024-07-03T10:43:43.928Z"
   },
   {
    "duration": 17,
    "start_time": "2024-07-03T10:43:43.961Z"
   },
   {
    "duration": 4,
    "start_time": "2024-07-03T10:43:43.979Z"
   },
   {
    "duration": 14,
    "start_time": "2024-07-03T10:43:43.984Z"
   },
   {
    "duration": 32,
    "start_time": "2024-07-03T10:43:44.000Z"
   },
   {
    "duration": 66,
    "start_time": "2024-07-03T10:43:44.034Z"
   },
   {
    "duration": 41,
    "start_time": "2024-07-03T10:43:44.102Z"
   },
   {
    "duration": 15,
    "start_time": "2024-07-03T10:43:44.144Z"
   },
   {
    "duration": 9,
    "start_time": "2024-07-03T10:43:44.161Z"
   },
   {
    "duration": 4,
    "start_time": "2024-07-03T10:43:44.171Z"
   },
   {
    "duration": 17,
    "start_time": "2024-07-03T10:43:44.176Z"
   },
   {
    "duration": 32,
    "start_time": "2024-07-03T10:43:44.194Z"
   },
   {
    "duration": 10,
    "start_time": "2024-07-03T10:43:44.228Z"
   },
   {
    "duration": 4,
    "start_time": "2024-07-03T10:43:44.241Z"
   },
   {
    "duration": 4,
    "start_time": "2024-07-03T10:43:44.247Z"
   },
   {
    "duration": 18,
    "start_time": "2024-07-03T10:43:44.253Z"
   },
   {
    "duration": 7,
    "start_time": "2024-07-03T10:43:44.272Z"
   },
   {
    "duration": 80,
    "start_time": "2024-07-03T11:44:21.562Z"
   },
   {
    "duration": 30,
    "start_time": "2024-07-03T11:44:35.512Z"
   },
   {
    "duration": 27,
    "start_time": "2024-07-03T11:44:59.242Z"
   },
   {
    "duration": 23,
    "start_time": "2024-07-03T11:45:22.675Z"
   },
   {
    "duration": 20,
    "start_time": "2024-07-03T11:45:32.836Z"
   },
   {
    "duration": 24,
    "start_time": "2024-07-03T11:45:41.007Z"
   },
   {
    "duration": 25,
    "start_time": "2024-07-03T11:46:09.312Z"
   },
   {
    "duration": 29,
    "start_time": "2024-07-03T11:46:19.778Z"
   },
   {
    "duration": 19,
    "start_time": "2024-07-03T12:39:18.746Z"
   },
   {
    "duration": 48,
    "start_time": "2024-07-04T12:52:46.695Z"
   },
   {
    "duration": 672,
    "start_time": "2024-07-04T12:52:58.833Z"
   },
   {
    "duration": 23,
    "start_time": "2024-07-04T12:52:59.506Z"
   },
   {
    "duration": 62,
    "start_time": "2024-07-04T12:52:59.531Z"
   },
   {
    "duration": 16,
    "start_time": "2024-07-04T12:52:59.596Z"
   },
   {
    "duration": 34,
    "start_time": "2024-07-04T12:52:59.614Z"
   },
   {
    "duration": 3,
    "start_time": "2024-07-04T12:52:59.650Z"
   },
   {
    "duration": 30,
    "start_time": "2024-07-04T12:52:59.654Z"
   },
   {
    "duration": 4,
    "start_time": "2024-07-04T12:52:59.685Z"
   },
   {
    "duration": 12,
    "start_time": "2024-07-04T12:52:59.690Z"
   },
   {
    "duration": 4,
    "start_time": "2024-07-04T12:52:59.706Z"
   },
   {
    "duration": 34,
    "start_time": "2024-07-04T12:52:59.712Z"
   },
   {
    "duration": 11,
    "start_time": "2024-07-04T12:52:59.747Z"
   },
   {
    "duration": 5,
    "start_time": "2024-07-04T12:52:59.759Z"
   },
   {
    "duration": 33,
    "start_time": "2024-07-04T12:52:59.765Z"
   },
   {
    "duration": 47,
    "start_time": "2024-07-04T12:52:59.799Z"
   },
   {
    "duration": 17,
    "start_time": "2024-07-04T12:52:59.847Z"
   },
   {
    "duration": 3,
    "start_time": "2024-07-04T12:52:59.866Z"
   },
   {
    "duration": 13,
    "start_time": "2024-07-04T12:52:59.871Z"
   },
   {
    "duration": 6,
    "start_time": "2024-07-04T12:52:59.885Z"
   },
   {
    "duration": 3,
    "start_time": "2024-07-04T12:52:59.892Z"
   },
   {
    "duration": 10,
    "start_time": "2024-07-04T12:52:59.897Z"
   },
   {
    "duration": 18,
    "start_time": "2024-07-04T12:52:59.908Z"
   },
   {
    "duration": 9,
    "start_time": "2024-07-04T12:52:59.928Z"
   },
   {
    "duration": 6,
    "start_time": "2024-07-04T12:52:59.939Z"
   },
   {
    "duration": 5,
    "start_time": "2024-07-04T12:52:59.946Z"
   },
   {
    "duration": 48,
    "start_time": "2024-07-04T12:52:59.953Z"
   },
   {
    "duration": 12,
    "start_time": "2024-07-04T12:53:00.003Z"
   },
   {
    "duration": 72,
    "start_time": "2024-07-04T12:53:00.019Z"
   },
   {
    "duration": 45,
    "start_time": "2024-07-04T12:53:00.093Z"
   },
   {
    "duration": 117,
    "start_time": "2024-07-04T12:53:00.140Z"
   },
   {
    "duration": 38,
    "start_time": "2024-07-04T12:53:00.259Z"
   },
   {
    "duration": 616,
    "start_time": "2024-07-05T08:29:46.200Z"
   },
   {
    "duration": 23,
    "start_time": "2024-07-05T08:29:46.819Z"
   },
   {
    "duration": 29,
    "start_time": "2024-07-05T08:29:46.844Z"
   },
   {
    "duration": 11,
    "start_time": "2024-07-05T08:29:46.874Z"
   },
   {
    "duration": 34,
    "start_time": "2024-07-05T08:29:46.887Z"
   },
   {
    "duration": 4,
    "start_time": "2024-07-05T08:29:46.922Z"
   },
   {
    "duration": 9,
    "start_time": "2024-07-05T08:29:46.927Z"
   },
   {
    "duration": 4,
    "start_time": "2024-07-05T08:29:46.965Z"
   },
   {
    "duration": 8,
    "start_time": "2024-07-05T08:29:46.971Z"
   },
   {
    "duration": 4,
    "start_time": "2024-07-05T08:29:46.981Z"
   },
   {
    "duration": 47,
    "start_time": "2024-07-05T08:29:46.987Z"
   },
   {
    "duration": 37,
    "start_time": "2024-07-05T08:29:47.036Z"
   },
   {
    "duration": 4,
    "start_time": "2024-07-05T08:29:47.074Z"
   },
   {
    "duration": 12,
    "start_time": "2024-07-05T08:29:47.080Z"
   },
   {
    "duration": 20,
    "start_time": "2024-07-05T08:29:47.094Z"
   },
   {
    "duration": 17,
    "start_time": "2024-07-05T08:29:47.115Z"
   },
   {
    "duration": 4,
    "start_time": "2024-07-05T08:29:47.165Z"
   },
   {
    "duration": 16,
    "start_time": "2024-07-05T08:29:47.171Z"
   },
   {
    "duration": 7,
    "start_time": "2024-07-05T08:29:47.189Z"
   },
   {
    "duration": 4,
    "start_time": "2024-07-05T08:29:47.198Z"
   },
   {
    "duration": 13,
    "start_time": "2024-07-05T08:29:47.204Z"
   },
   {
    "duration": 15,
    "start_time": "2024-07-05T08:29:47.219Z"
   },
   {
    "duration": 10,
    "start_time": "2024-07-05T08:29:47.264Z"
   },
   {
    "duration": 7,
    "start_time": "2024-07-05T08:29:47.276Z"
   },
   {
    "duration": 4,
    "start_time": "2024-07-05T08:29:47.285Z"
   },
   {
    "duration": 20,
    "start_time": "2024-07-05T08:29:47.291Z"
   },
   {
    "duration": 12,
    "start_time": "2024-07-05T08:29:47.313Z"
   },
   {
    "duration": 6,
    "start_time": "2024-07-05T08:29:47.327Z"
   },
   {
    "duration": 5,
    "start_time": "2024-07-05T08:29:47.366Z"
   },
   {
    "duration": 32,
    "start_time": "2024-07-05T08:29:47.372Z"
   },
   {
    "duration": 4,
    "start_time": "2024-07-05T08:29:47.406Z"
   },
   {
    "duration": 343,
    "start_time": "2024-07-05T08:30:31.323Z"
   },
   {
    "duration": 266,
    "start_time": "2024-07-05T08:31:36.976Z"
   },
   {
    "duration": 20,
    "start_time": "2024-07-05T08:31:52.974Z"
   },
   {
    "duration": 28,
    "start_time": "2024-07-05T08:33:20.924Z"
   },
   {
    "duration": 21,
    "start_time": "2024-07-05T08:37:56.660Z"
   },
   {
    "duration": 1198,
    "start_time": "2024-07-05T08:38:09.900Z"
   },
   {
    "duration": 21,
    "start_time": "2024-07-05T08:38:35.370Z"
   },
   {
    "duration": 21,
    "start_time": "2024-07-05T08:55:59.453Z"
   },
   {
    "duration": 10,
    "start_time": "2024-07-05T08:56:12.464Z"
   },
   {
    "duration": 20,
    "start_time": "2024-07-05T08:59:23.890Z"
   },
   {
    "duration": 21,
    "start_time": "2024-07-05T08:59:37.249Z"
   },
   {
    "duration": 14,
    "start_time": "2024-07-05T08:59:43.926Z"
   },
   {
    "duration": 21,
    "start_time": "2024-07-05T09:15:49.541Z"
   },
   {
    "duration": 12,
    "start_time": "2024-07-05T09:22:48.873Z"
   },
   {
    "duration": 21,
    "start_time": "2024-07-05T09:28:46.828Z"
   },
   {
    "duration": 1041,
    "start_time": "2024-07-05T09:29:04.979Z"
   },
   {
    "duration": 11,
    "start_time": "2024-07-05T09:30:15.663Z"
   },
   {
    "duration": 4,
    "start_time": "2024-07-05T09:30:20.689Z"
   },
   {
    "duration": 3,
    "start_time": "2024-07-05T09:30:27.369Z"
   },
   {
    "duration": 21,
    "start_time": "2024-07-05T09:33:10.474Z"
   },
   {
    "duration": 24,
    "start_time": "2024-07-05T09:34:12.093Z"
   },
   {
    "duration": 25,
    "start_time": "2024-07-05T09:35:00.408Z"
   },
   {
    "duration": 35,
    "start_time": "2024-07-05T09:35:50.970Z"
   },
   {
    "duration": 12,
    "start_time": "2024-07-05T09:41:20.649Z"
   },
   {
    "duration": 27,
    "start_time": "2024-07-05T09:44:11.098Z"
   },
   {
    "duration": 14,
    "start_time": "2024-07-05T09:44:27.413Z"
   },
   {
    "duration": 4,
    "start_time": "2024-07-05T09:50:45.433Z"
   },
   {
    "duration": 9,
    "start_time": "2024-07-05T09:50:52.648Z"
   },
   {
    "duration": 9,
    "start_time": "2024-07-05T09:55:27.383Z"
   },
   {
    "duration": 5,
    "start_time": "2024-07-05T09:57:32.733Z"
   },
   {
    "duration": 11,
    "start_time": "2024-07-05T09:57:42.613Z"
   },
   {
    "duration": 11,
    "start_time": "2024-07-05T09:58:06.283Z"
   },
   {
    "duration": 12,
    "start_time": "2024-07-05T10:00:11.752Z"
   },
   {
    "duration": 4,
    "start_time": "2024-07-05T10:00:27.970Z"
   },
   {
    "duration": 10,
    "start_time": "2024-07-05T10:00:41.524Z"
   },
   {
    "duration": 6,
    "start_time": "2024-07-05T10:02:16.633Z"
   },
   {
    "duration": 11,
    "start_time": "2024-07-05T10:02:26.803Z"
   },
   {
    "duration": 9,
    "start_time": "2024-07-05T10:04:11.953Z"
   },
   {
    "duration": 10,
    "start_time": "2024-07-05T10:04:58.133Z"
   },
   {
    "duration": 10,
    "start_time": "2024-07-05T10:05:52.951Z"
   },
   {
    "duration": 12,
    "start_time": "2024-07-05T10:14:40.925Z"
   },
   {
    "duration": 12,
    "start_time": "2024-07-05T10:14:52.870Z"
   },
   {
    "duration": 7,
    "start_time": "2024-07-05T10:15:00.037Z"
   },
   {
    "duration": 6,
    "start_time": "2024-07-05T10:15:35.132Z"
   },
   {
    "duration": 13,
    "start_time": "2024-07-05T10:15:42.412Z"
   },
   {
    "duration": 13,
    "start_time": "2024-07-05T10:16:26.599Z"
   },
   {
    "duration": 11,
    "start_time": "2024-07-05T10:17:15.919Z"
   },
   {
    "duration": 64,
    "start_time": "2024-07-05T11:22:37.495Z"
   },
   {
    "duration": 10,
    "start_time": "2024-07-05T11:22:45.011Z"
   },
   {
    "duration": 16,
    "start_time": "2024-07-05T11:22:52.543Z"
   },
   {
    "duration": 23,
    "start_time": "2024-07-05T11:23:04.740Z"
   },
   {
    "duration": 17,
    "start_time": "2024-07-05T11:27:16.150Z"
   },
   {
    "duration": 19,
    "start_time": "2024-07-05T11:28:59.046Z"
   },
   {
    "duration": 18,
    "start_time": "2024-07-05T11:29:12.688Z"
   },
   {
    "duration": 15,
    "start_time": "2024-07-05T11:29:31.156Z"
   },
   {
    "duration": 14,
    "start_time": "2024-07-05T11:29:34.341Z"
   },
   {
    "duration": 22,
    "start_time": "2024-07-05T11:29:41.828Z"
   },
   {
    "duration": 18,
    "start_time": "2024-07-05T11:30:24.667Z"
   },
   {
    "duration": 19,
    "start_time": "2024-07-05T11:30:33.336Z"
   },
   {
    "duration": 18,
    "start_time": "2024-07-05T11:33:11.241Z"
   },
   {
    "duration": 76,
    "start_time": "2024-07-05T11:44:54.547Z"
   },
   {
    "duration": 20,
    "start_time": "2024-07-05T11:45:01.119Z"
   },
   {
    "duration": 19,
    "start_time": "2024-07-05T11:53:47.023Z"
   },
   {
    "duration": 5,
    "start_time": "2024-07-05T11:56:49.306Z"
   },
   {
    "duration": 9,
    "start_time": "2024-07-05T11:56:57.581Z"
   },
   {
    "duration": 11,
    "start_time": "2024-07-05T11:57:39.641Z"
   },
   {
    "duration": 11,
    "start_time": "2024-07-05T11:59:45.599Z"
   },
   {
    "duration": 12,
    "start_time": "2024-07-05T11:59:52.098Z"
   },
   {
    "duration": 72,
    "start_time": "2024-07-07T19:43:49.069Z"
   }
  ],
  "colab": {
   "provenance": []
  },
  "kernelspec": {
   "display_name": "Python 3 (ipykernel)",
   "language": "python",
   "name": "python3"
  },
  "language_info": {
   "codemirror_mode": {
    "name": "ipython",
    "version": 3
   },
   "file_extension": ".py",
   "mimetype": "text/x-python",
   "name": "python",
   "nbconvert_exporter": "python",
   "pygments_lexer": "ipython3",
   "version": "3.9.5"
  },
  "toc": {
   "base_numbering": 1,
   "nav_menu": {},
   "number_sections": true,
   "sideBar": true,
   "skip_h1_title": true,
   "title_cell": "Table of Contents",
   "title_sidebar": "Contents",
   "toc_cell": false,
   "toc_position": {},
   "toc_section_display": true,
   "toc_window_display": false
  }
 },
 "nbformat": 4,
 "nbformat_minor": 5
}
