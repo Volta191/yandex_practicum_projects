{
 "cells": [
  {
   "cell_type": "markdown",
   "id": "ecc23dfb",
   "metadata": {},
   "source": [
    "<div style=\"border:solid Chocolate 2px; padding: 40px\">\n",
    "\n",
    "Владимир привет, меня зовут Станислав, и я буду проверять твой проект. Предлагаю общаться на «ты», но если это неудобно - дай знать, и мы перейдем на «вы».\n",
    "Это учебный проект и здесь не стоит бояться делать ошибки, я хочу поделиться своим опытом и помочь тебе стать аналитиком данных.\n",
    "Уже выполнена большая работа над проектом, давай сделаем его еще лучше. Ниже ты найдешь мои комментарии - пожалуйста, не перемещай, не изменяй и не удаляй их. Я буду использовать цветовую разметку:\n",
    "\n",
    "<div class=\"alert alert-danger\">\n",
    "❌ <b>Комментарий с замечанием ревьюера:</b> Так выделены самые важные замечания. Как только ты их исправишь проект будет принят. </div>\n",
    "\n",
    "<div class=\"alert alert-warning\">\n",
    "⚠️  <b>Комментарий с небольшим замечанием или советом ревьюера:</b> Так выделены небольшие замечания или советы. \n",
    "</div>\n",
    "\n",
    "<div class=\"alert alert-success\">\n",
    "✔️ <b>Комментарий с комплиментом ревьюера:</b> Так я выделяю все остальные комментарии.</div>\n",
    "\n",
    "Давай работать над проектом в диалоге: если ты что-то меняешь в проекте или отвечаешь на мои комментарии — пиши об этом.\n",
    "Мне будет легче отследить изменения, если ты выделишь свои комментарии:\n",
    "<div class=\"alert alert-info\"> <b>🎓 Комментарий студента:</b> Например, вот так.</div>\n",
    "Всё это поможет выполнить повторную проверку твоего проекта оперативнее.\n",
    "</div>\n",
    "\n"
   ]
  },
  {
   "cell_type": "markdown",
   "id": "5683ec78",
   "metadata": {},
   "source": [
    "<div class=\"alert alert-warning\">\n",
    "⚠️  <b>Комментарий с небольшим замечанием или советом ревьюера:</b>\n",
    "\n",
    "Для того, чтобы сразу понять, о чем проект, в начале лучше добавить:\n",
    "    \n",
    "- краткое описание проекта;\n",
    "\n",
    "- описание данных;\n",
    "\n",
    "- план работы;\n",
    "\n",
    "- цель проекта;\n",
    "    \n",
    "- заголовок.\n",
    "\n",
    "</div>\n",
    "\n"
   ]
  },
  {
   "cell_type": "code",
   "execution_count": 1,
   "id": "fc7efa54",
   "metadata": {},
   "outputs": [],
   "source": [
    "import os\n",
    "import pandas as pd\n",
    "import numpy as np\n",
    "\n",
    "from sqlalchemy import create_engine"
   ]
  },
  {
   "cell_type": "code",
   "execution_count": 2,
   "id": "0017f8e7",
   "metadata": {},
   "outputs": [],
   "source": [
    "path_to_db_local = 'telecomm_csi.db'\n",
    "path_to_db_platform = '/datasets/telecomm_csi.db'\n",
    "path_to_db = None\n",
    "\n",
    "if os.path.exists(path_to_db_local):\n",
    "    path_to_db = path_to_db_local\n",
    "elif os.path.exists(path_to_db_platform):\n",
    "    path_to_db = path_to_db_platform\n",
    "else:\n",
    "    raise Exception('Файл с базой данных SQLite не найден!')\n",
    "\n",
    "if path_to_db:\n",
    "    engine = create_engine(f'sqlite:///{path_to_db}', echo=False)"
   ]
  },
  {
   "cell_type": "code",
   "execution_count": 3,
   "id": "84ebad43",
   "metadata": {},
   "outputs": [],
   "source": [
    "query = \"\"\"\n",
    "SELECT \n",
    "    u.user_id,\n",
    "    u.lt_day,\n",
    "    CASE WHEN u.lt_day <= 365 THEN 'Yes' ELSE 'No' END AS is_new,\n",
    "    u.age,\n",
    "    CASE WHEN u.gender_segment = 1 THEN 'Female' ELSE 'Male' END AS gender_segment,\n",
    "    u.os_name,\n",
    "    u.cpe_type_name,\n",
    "    loc.country,\n",
    "    loc.city,\n",
    "    age_seg.title AS age_segment,\n",
    "    traf_seg.title AS traffic_segment,\n",
    "    life_seg.title AS lifetime_segment,\n",
    "    u.nps_score,\n",
    "    CASE \n",
    "        WHEN u.nps_score >= 9 THEN 'Promoter'\n",
    "        WHEN u.nps_score BETWEEN 7 AND 8 THEN 'Passive'\n",
    "        ELSE 'Detractor'\n",
    "    END AS nps_group\n",
    "FROM \n",
    "    user u\n",
    "JOIN \n",
    "    location loc ON u.location_id = loc.location_id\n",
    "JOIN \n",
    "    age_segment age_seg ON u.age_gr_id = age_seg.age_gr_id\n",
    "JOIN \n",
    "    traffic_segment traf_seg ON u.tr_gr_id = traf_seg.tr_gr_id\n",
    "JOIN \n",
    "    lifetime_segment life_seg ON u.lt_gr_id = life_seg.lt_gr_id;\n",
    "\"\"\""
   ]
  },
  {
   "cell_type": "code",
   "execution_count": 4,
   "id": "3965faf2",
   "metadata": {},
   "outputs": [
    {
     "data": {
      "text/html": [
       "<div>\n",
       "<style scoped>\n",
       "    .dataframe tbody tr th:only-of-type {\n",
       "        vertical-align: middle;\n",
       "    }\n",
       "\n",
       "    .dataframe tbody tr th {\n",
       "        vertical-align: top;\n",
       "    }\n",
       "\n",
       "    .dataframe thead th {\n",
       "        text-align: right;\n",
       "    }\n",
       "</style>\n",
       "<table border=\"1\" class=\"dataframe\">\n",
       "  <thead>\n",
       "    <tr style=\"text-align: right;\">\n",
       "      <th></th>\n",
       "      <th>user_id</th>\n",
       "      <th>lt_day</th>\n",
       "      <th>is_new</th>\n",
       "      <th>age</th>\n",
       "      <th>gender_segment</th>\n",
       "      <th>os_name</th>\n",
       "      <th>cpe_type_name</th>\n",
       "      <th>country</th>\n",
       "      <th>city</th>\n",
       "      <th>age_segment</th>\n",
       "      <th>traffic_segment</th>\n",
       "      <th>lifetime_segment</th>\n",
       "      <th>nps_score</th>\n",
       "      <th>nps_group</th>\n",
       "    </tr>\n",
       "  </thead>\n",
       "  <tbody>\n",
       "    <tr>\n",
       "      <th>0</th>\n",
       "      <td>A001A2</td>\n",
       "      <td>2320</td>\n",
       "      <td>No</td>\n",
       "      <td>45.0</td>\n",
       "      <td>Female</td>\n",
       "      <td>ANDROID</td>\n",
       "      <td>SMARTPHONE</td>\n",
       "      <td>Россия</td>\n",
       "      <td>Уфа</td>\n",
       "      <td>05 45-54</td>\n",
       "      <td>04 1-5</td>\n",
       "      <td>08 36+</td>\n",
       "      <td>10</td>\n",
       "      <td>Promoter</td>\n",
       "    </tr>\n",
       "    <tr>\n",
       "      <th>1</th>\n",
       "      <td>A001WF</td>\n",
       "      <td>2344</td>\n",
       "      <td>No</td>\n",
       "      <td>53.0</td>\n",
       "      <td>Male</td>\n",
       "      <td>ANDROID</td>\n",
       "      <td>SMARTPHONE</td>\n",
       "      <td>Россия</td>\n",
       "      <td>Киров</td>\n",
       "      <td>05 45-54</td>\n",
       "      <td>04 1-5</td>\n",
       "      <td>08 36+</td>\n",
       "      <td>10</td>\n",
       "      <td>Promoter</td>\n",
       "    </tr>\n",
       "    <tr>\n",
       "      <th>2</th>\n",
       "      <td>A003Q7</td>\n",
       "      <td>467</td>\n",
       "      <td>No</td>\n",
       "      <td>57.0</td>\n",
       "      <td>Male</td>\n",
       "      <td>ANDROID</td>\n",
       "      <td>SMARTPHONE</td>\n",
       "      <td>Россия</td>\n",
       "      <td>Москва</td>\n",
       "      <td>06 55-64</td>\n",
       "      <td>08 20-25</td>\n",
       "      <td>06 13-24</td>\n",
       "      <td>10</td>\n",
       "      <td>Promoter</td>\n",
       "    </tr>\n",
       "  </tbody>\n",
       "</table>\n",
       "</div>"
      ],
      "text/plain": [
       "  user_id  lt_day is_new   age gender_segment  os_name cpe_type_name country  \\\n",
       "0  A001A2    2320     No  45.0         Female  ANDROID    SMARTPHONE  Россия   \n",
       "1  A001WF    2344     No  53.0           Male  ANDROID    SMARTPHONE  Россия   \n",
       "2  A003Q7     467     No  57.0           Male  ANDROID    SMARTPHONE  Россия   \n",
       "\n",
       "     city age_segment traffic_segment lifetime_segment  nps_score nps_group  \n",
       "0     Уфа    05 45-54          04 1-5           08 36+         10  Promoter  \n",
       "1   Киров    05 45-54          04 1-5           08 36+         10  Promoter  \n",
       "2  Москва    06 55-64        08 20-25         06 13-24         10  Promoter  "
      ]
     },
     "execution_count": 4,
     "metadata": {},
     "output_type": "execute_result"
    }
   ],
   "source": [
    "df = pd.read_sql(query, engine)\n",
    "df.head(3)"
   ]
  },
  {
   "cell_type": "code",
   "execution_count": 5,
   "id": "9db04858",
   "metadata": {},
   "outputs": [],
   "source": [
    "df.to_csv('telecomm_csi_tableau.csv', index=False)"
   ]
  },
  {
   "cell_type": "markdown",
   "id": "04018c4a",
   "metadata": {},
   "source": [
    "<div class=\"alert alert-success\">\n",
    "✔️ <b>Комментарий с комплиментом ревьюера:</b> \n",
    "\n",
    "Данные выгружены корректно, молодец. \n",
    "    \n",
    "Можно вывести более полную статистику по датафрейму, применив describe() и info().\n",
    "\n",
    "</div>\n"
   ]
  },
  {
   "cell_type": "markdown",
   "id": "72f0bf18",
   "metadata": {},
   "source": [
    "Ссылка на Дашборд: https://public.tableau.com/app/profile/vladimir.b2021/viz/2_NPS_17313492173420/Dashboard"
   ]
  },
  {
   "cell_type": "markdown",
   "id": "1b1f5ad5",
   "metadata": {},
   "source": [
    "<div class=\"alert alert-success\">\n",
    "✔️ <b>Комментарий с комплиментом ревьюера по Дашборду:</b>\n",
    "\n",
    "    \n",
    "Отличный анализ данных, добавлены графики по основным категориям: полу, возрасту, городам, выведено соотношение новых и старых пользователей, описаны сторонники, трафик.\n",
    "    \n",
    "\n",
    "    \n",
    "Добавлен подробный анализ NPS по нескольким разрезам.\n",
    "\n",
    "Если тебе интересна тема визуализации и ты хочешь улучшить свои навыки советую прочитать эти советы: https://nastengraph.substack.com/p/dataviz-101-key-principles-for-crafting\n",
    "\n",
    "Хочу также поделиться дополнительным материалом, он бесплатный, но объемный(может уйти несколько месяцев):\n",
    "\n",
    "•\tОбучение Tableau с нуля за 6 недель. https://tableau.pro/m00\n",
    "\n",
    "•\tУглубление навыков работы с Tableau и изучение продвинутых аспектов визуализации данных. За 8 недель. https://tableau.pro/8steps\n",
    "\n",
    "•\t3 способа визуализировать воронки продаж в Tableau https://analytikaplus.ru/3-sposoba-vizualizirovat-voronki-prodazh-v-tableau/\n",
    "\n",
    "</div>\n"
   ]
  },
  {
   "cell_type": "markdown",
   "id": "8d786c3a",
   "metadata": {},
   "source": [
    "\n",
    "<div class=\"alert alert-danger\">\n",
    "❌ <b>Комментарий с замечанием ревьюера по Дашборду:</b> \n",
    "\n",
    "Есть только одно замечание, которое необходимо исправить:    \n",
    "\n",
    "  \n",
    "- добавь, пожалуйста, функцию Action для графиков, эта функция позволить анализировать данные в разных разрезах или добавь фильтры (по возрасту, полу, городу, по периоду пользования - lifetime), они упростят работу и сделают дашборд более интерактивным, лучше сделать фильтр выпадающим списком. Эти две функции дублируют друг друга, ты можешь оставить ту, с которой тебе удобнее работать\n",
    "\n",
    "</div>\n",
    "\n"
   ]
  },
  {
   "cell_type": "markdown",
   "id": "34ad1182",
   "metadata": {},
   "source": [
    "<div class=\"alert alert-info\"> <b>🎓 Комментарий студента:</b> Добавил фильтры. Проверил их работоспособность. Дашборд обновил! Он доступен по первоначальной ссылке. </div>"
   ]
  },
  {
   "cell_type": "markdown",
   "id": "e7d6ba6c",
   "metadata": {},
   "source": [
    "<div class=\"alert alert-success\">\n",
    "✔️ <b>Комментарий с комплиментом ревьюера по Дашборду в2:</b>\n",
    "\n",
    "    \n",
    "Отлично, спасибо за доработку дашборда"
   ]
  },
  {
   "cell_type": "markdown",
   "id": "3171cd5b",
   "metadata": {},
   "source": [
    "Ссылка на презентацию: https://drive.google.com/file/d/110Q3VWTm2OSFxi9XGE2MuJblRCpGZbRY/view?usp=sharing"
   ]
  },
  {
   "cell_type": "markdown",
   "id": "853b8a58",
   "metadata": {},
   "source": [
    "<div class=\"alert alert-success\">\n",
    "✔️ <b>Комментарий с комплиментом ревьюера:</b> \n",
    "\n",
    "Отличные выводы"
   ]
  },
  {
   "cell_type": "code",
   "execution_count": null,
   "id": "c3c51e63",
   "metadata": {},
   "outputs": [],
   "source": []
  }
 ],
 "metadata": {
  "ExecuteTimeLog": [
   {
    "duration": 552,
    "start_time": "2024-11-11T09:59:49.916Z"
   },
   {
    "duration": 83,
    "start_time": "2024-11-11T09:59:50.470Z"
   },
   {
    "duration": 4,
    "start_time": "2024-11-11T09:59:50.555Z"
   },
   {
    "duration": 5850,
    "start_time": "2024-11-11T09:59:50.560Z"
   },
   {
    "duration": 4623,
    "start_time": "2024-11-11T09:59:56.412Z"
   }
  ],
  "kernelspec": {
   "display_name": "Python 3 (ipykernel)",
   "language": "python",
   "name": "python3"
  },
  "language_info": {
   "codemirror_mode": {
    "name": "ipython",
    "version": 3
   },
   "file_extension": ".py",
   "mimetype": "text/x-python",
   "name": "python",
   "nbconvert_exporter": "python",
   "pygments_lexer": "ipython3",
   "version": "3.9.5"
  },
  "toc": {
   "base_numbering": 1,
   "nav_menu": {},
   "number_sections": true,
   "sideBar": true,
   "skip_h1_title": true,
   "title_cell": "Table of Contents",
   "title_sidebar": "Contents",
   "toc_cell": false,
   "toc_position": {},
   "toc_section_display": true,
   "toc_window_display": false
  }
 },
 "nbformat": 4,
 "nbformat_minor": 5
}
